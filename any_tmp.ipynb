{
 "cells": [
  {
   "cell_type": "code",
   "execution_count": 1,
   "id": "juvenile-voice",
   "metadata": {},
   "outputs": [],
   "source": [
    "import numpy as np\n",
    "import pandas as pd\n",
    "import sympy as sym\n",
    "from matplotlib import pyplot as plt"
   ]
  },
  {
   "cell_type": "code",
   "execution_count": 2,
   "id": "exceptional-property",
   "metadata": {},
   "outputs": [
    {
     "name": "stdout",
     "output_type": "stream",
     "text": [
      "\n",
      "solution:\n"
     ]
    },
    {
     "data": {
      "text/plain": [
       "{x: -sqrt(3)*sqrt(-b/a)/3, y: -sqrt(3)*sqrt(-b/a)/3}"
      ]
     },
     "metadata": {},
     "output_type": "display_data"
    },
    {
     "name": "stdout",
     "output_type": "stream",
     "text": [
      "A*C-B**2:\n"
     ]
    },
    {
     "data": {
      "text/latex": [
       "$\\displaystyle 12 a^{2} \\left(- \\frac{b}{a}\\right)$"
      ],
      "text/plain": [
       "12*a**2*(-b/a)"
      ]
     },
     "metadata": {},
     "output_type": "display_data"
    },
    {
     "name": "stdout",
     "output_type": "stream",
     "text": [
      "\n",
      "solution:\n"
     ]
    },
    {
     "data": {
      "text/plain": [
       "{x: -sqrt(3)*sqrt(-b/a)/3, y: sqrt(3)*sqrt(-b/a)/3}"
      ]
     },
     "metadata": {},
     "output_type": "display_data"
    },
    {
     "name": "stdout",
     "output_type": "stream",
     "text": [
      "A*C-B**2:\n"
     ]
    },
    {
     "data": {
      "text/latex": [
       "$\\displaystyle - 12 a^{2} \\left(- \\frac{b}{a}\\right)$"
      ],
      "text/plain": [
       "-12*a**2*(-b/a)"
      ]
     },
     "metadata": {},
     "output_type": "display_data"
    },
    {
     "name": "stdout",
     "output_type": "stream",
     "text": [
      "\n",
      "solution:\n"
     ]
    },
    {
     "data": {
      "text/plain": [
       "{x: sqrt(3)*sqrt(-b/a)/3, y: -sqrt(3)*sqrt(-b/a)/3}"
      ]
     },
     "metadata": {},
     "output_type": "display_data"
    },
    {
     "name": "stdout",
     "output_type": "stream",
     "text": [
      "A*C-B**2:\n"
     ]
    },
    {
     "data": {
      "text/latex": [
       "$\\displaystyle - 12 a^{2} \\left(- \\frac{b}{a}\\right)$"
      ],
      "text/plain": [
       "-12*a**2*(-b/a)"
      ]
     },
     "metadata": {},
     "output_type": "display_data"
    },
    {
     "name": "stdout",
     "output_type": "stream",
     "text": [
      "\n",
      "solution:\n"
     ]
    },
    {
     "data": {
      "text/plain": [
       "{x: sqrt(3)*sqrt(-b/a)/3, y: sqrt(3)*sqrt(-b/a)/3}"
      ]
     },
     "metadata": {},
     "output_type": "display_data"
    },
    {
     "name": "stdout",
     "output_type": "stream",
     "text": [
      "A*C-B**2:\n"
     ]
    },
    {
     "data": {
      "text/latex": [
       "$\\displaystyle 12 a^{2} \\left(- \\frac{b}{a}\\right)$"
      ],
      "text/plain": [
       "12*a**2*(-b/a)"
      ]
     },
     "metadata": {},
     "output_type": "display_data"
    }
   ],
   "source": [
    "from sympy.solvers import solve\n",
    "from sympy.abc import x\n",
    "from IPython.display import display\n",
    "\n",
    "def find_extremums(func, a1, a2):\n",
    "    dfda1 = func.diff(a1)\n",
    "    dfda2 = func.diff(a2)\n",
    "    \n",
    "    A = func.diff(a1, a1)\n",
    "    B = func.diff(a1, a2)\n",
    "    C = func.diff(a2, a2)\n",
    "    AC_B2 = sym.simplify(A*C-B**2)\n",
    "    \n",
    "    points = solve([dfda1, dfda2], [a1, a2], dict=True)\n",
    "    for point in points:\n",
    "        print()\n",
    "        print(\"solution:\")\n",
    "        display(point)\n",
    "        print(\"A*C-B**2:\")\n",
    "        display(AC_B2.subs([(a1, point[a1]),(a2, point[a2])]))\n",
    "    \n",
    "    \n",
    "x, y, a, b, c = sym.symbols(\"x y a b c\")\n",
    "find_extremums(a*x**3 + b*x + c + a*y**3 + b*y + c, x, y)"
   ]
  },
  {
   "cell_type": "code",
   "execution_count": 45,
   "id": "treated-melbourne",
   "metadata": {},
   "outputs": [
    {
     "data": {
      "text/latex": [
       "$\\displaystyle - J \\sin{\\left(\\theta_{1} - \\theta_{2} \\right)} + t_{1} \\left(- H M_{1} \\sin{\\left(\\phi - \\theta_{1} \\right)} + K_{u1} \\sin{\\left(2 \\theta_{1} \\right)} - 2 \\pi M_{1}^{2} \\sin{\\left(2 \\theta_{1} \\right)}\\right)$"
      ],
      "text/plain": [
       "-J*sin(theta1 - theta2) + t1*(-H*M1*sin(phi - theta1) + K_u1*sin(2*theta1) - 2*pi*M1**2*sin(2*theta1))"
      ]
     },
     "metadata": {},
     "output_type": "display_data"
    },
    {
     "data": {
      "text/latex": [
       "$\\displaystyle J \\sin{\\left(\\theta_{1} - \\theta_{2} \\right)} + t_{2} \\left(- H M_{2} \\sin{\\left(\\phi - \\theta_{2} \\right)} + 2 K_{u2} \\sin{\\left(\\theta_{2} \\right)} \\cos{\\left(\\theta_{2} \\right)} - 4 \\pi M_{2}^{2} \\sin{\\left(\\theta_{2} \\right)} \\cos{\\left(\\theta_{2} \\right)}\\right)$"
      ],
      "text/plain": [
       "J*sin(theta1 - theta2) + t2*(-H*M2*sin(phi - theta2) + 2*K_u2*sin(theta2)*cos(theta2) - 4*pi*M2**2*sin(theta2)*cos(theta2))"
      ]
     },
     "metadata": {},
     "output_type": "display_data"
    }
   ],
   "source": [
    "from sympy import symbols\n",
    "from sympy.solvers import solve\n",
    "\n",
    "M1, M2, H = symbols(\"M1 M2 H\", complex=True)\n",
    "tet1, tet2, phi = symbols(\"theta1 theta2 phi\", complex=False)\n",
    "Ku1, Ku2, J = symbols(\"K_u1 K_u2 J\", complex=False)\n",
    "t1, t2 = symbols(\"t1 t2\", complex=False)\n",
    "\n",
    "Ev1 = \\\n",
    "    -H*M1*sym.cos(phi - tet1) + \\\n",
    "    2*sym.pi*(M1**2)*(sym.cos(tet1)**2) + \\\n",
    "    Ku1*(sym.sin(tet1)**2)\n",
    "\n",
    "Ev2 = \\\n",
    "    -H*M2*sym.cos(tet2 - phi) + \\\n",
    "    2*sym.pi*(M2**2)*(sym.cos(tet2)**2) + \\\n",
    "    Ku2*(sym.sin(tet2)**2)\n",
    "\n",
    "Es = J*sym.cos(tet2 - tet1) + t1*Ev1 + t2*Ev2\n",
    "\n",
    "display(sym.trigsimp(Es.diff(tet1)))\n",
    "display(Es.diff(tet2))\n",
    "\n",
    "#solve([\n",
    "#    sym.trigsimp(Es.diff(tet1))\n",
    "#], [tet1], simplify=False, implicit=True)"
   ]
  },
  {
   "cell_type": "code",
   "execution_count": 49,
   "id": "central-hawaii",
   "metadata": {},
   "outputs": [
    {
     "data": {
      "text/plain": [
       "[-I, I]"
      ]
     },
     "execution_count": 49,
     "metadata": {},
     "output_type": "execute_result"
    }
   ],
   "source": [
    "solve(M1**2*M2 + M2, M1, implicit=False)"
   ]
  }
 ],
 "metadata": {
  "kernelspec": {
   "display_name": "Python 3",
   "language": "python",
   "name": "python3"
  },
  "language_info": {
   "codemirror_mode": {
    "name": "ipython",
    "version": 3
   },
   "file_extension": ".py",
   "mimetype": "text/x-python",
   "name": "python",
   "nbconvert_exporter": "python",
   "pygments_lexer": "ipython3",
   "version": "3.8.5"
  }
 },
 "nbformat": 4,
 "nbformat_minor": 5
}
