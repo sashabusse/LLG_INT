{
 "cells": [
  {
   "cell_type": "code",
   "execution_count": 58,
   "id": "juvenile-voice",
   "metadata": {},
   "outputs": [],
   "source": [
    "import numpy as np\n",
    "import pandas as pd\n",
    "import sympy as sym\n",
    "from sympy import symbols, simplify, trigsimp, expand\n",
    "from matplotlib import pyplot as plt"
   ]
  },
  {
   "cell_type": "code",
   "execution_count": 55,
   "id": "toxic-teddy",
   "metadata": {},
   "outputs": [
    {
     "data": {
      "text/latex": [
       "$\\displaystyle \\frac{H \\left(H \\cos{\\left(\\theta_{H} - \\theta_{M} \\right)} - 2 H_{k1} \\sin^{2}{\\left(\\theta_{M} \\right)} + H_{k1}\\right) \\sin{\\left(\\theta_{H} \\right)}}{\\sin{\\left(\\theta_{M} \\right)}}$"
      ],
      "text/plain": [
       "H*(H*cos(theta_H - theta_M) - 2*H_k1*sin(theta_M)**2 + H_k1)*sin(theta_H)/sin(theta_M)"
      ]
     },
     "metadata": {},
     "output_type": "display_data"
    }
   ],
   "source": [
    "H, Htet, Hphi = symbols(\"H theta_H phi_H\")\n",
    "Ms, Mtet, Mphi = symbols(\"Ms theta_M phi_M\")\n",
    "A, Ku2, g = symbols(\"A K_u2 gamma\")\n",
    "Hk1, Hk2 = symbols(\"H_k1 H_k2\")\n",
    "\n",
    "\n",
    "E = -Ms*H*(sym.sin(Htet)*sym.sin(Mtet)*sym.cos(Hphi-Mphi) + \\\n",
    "           sym.cos(Htet)*sym.cos(Mtet)) + \\\n",
    "            A*(sym.sin(Mtet)**2) + \\\n",
    "            Ku2*(sym.sin(Mtet)**4)\n",
    "\n",
    "Etp = E.diff(Mtet).diff(Mphi)\n",
    "Ett = E.diff(Mtet).diff(Mtet)\n",
    "Epp = E.diff(Mphi).diff(Mphi)\n",
    "\n",
    "f2 = (1/(Ms*sym.sin(Mtet)))**2 * (Ett*Epp - Etp**2)\n",
    "\n",
    "#subs for PMA\n",
    "f2 = f2.subs({Hphi: 0, Mphi: 0})\n",
    "f2 = f2.subs({Ku2: Ms*Hk2/4})\n",
    "f2 = f2.subs({A: Ms*(Hk1-Hk2)/2})\n",
    "f2 = f2.subs({Hk2: 0})\n",
    "#subs for in-plane\n",
    "#f2 = f2.subs({Htet: sym.pi/2, Mtet: sym.pi/2})\n",
    "\n",
    "\n",
    "f2 = sym.simplify(f2)\n",
    "display(f2)\n"
   ]
  },
  {
   "cell_type": "code",
   "execution_count": 61,
   "id": "blank-range",
   "metadata": {},
   "outputs": [
    {
     "data": {
      "text/latex": [
       "$\\displaystyle - 2 A \\sin^{2}{\\left(\\theta_{M} \\right)} + 2 A \\cos^{2}{\\left(\\theta_{M} \\right)} - H Ms \\left(- \\sin{\\left(\\theta_{H} \\right)} \\sin{\\left(\\theta_{M} \\right)} \\cos{\\left(\\phi_{H} - \\phi_{M} \\right)} - \\cos{\\left(\\theta_{H} \\right)} \\cos{\\left(\\theta_{M} \\right)}\\right) - 4 K_{u2} \\sin^{4}{\\left(\\theta_{M} \\right)} + 12 K_{u2} \\sin^{2}{\\left(\\theta_{M} \\right)} \\cos^{2}{\\left(\\theta_{M} \\right)}$"
      ],
      "text/plain": [
       "-2*A*sin(theta_M)**2 + 2*A*cos(theta_M)**2 - H*Ms*(-sin(theta_H)*sin(theta_M)*cos(phi_H - phi_M) - cos(theta_H)*cos(theta_M)) - 4*K_u2*sin(theta_M)**4 + 12*K_u2*sin(theta_M)**2*cos(theta_M)**2"
      ]
     },
     "metadata": {},
     "output_type": "display_data"
    },
    {
     "data": {
      "text/latex": [
       "$\\displaystyle H Ms \\sin{\\left(\\theta_{H} \\right)} \\sin{\\left(\\theta_{M} \\right)} \\cos{\\left(\\phi_{H} - \\phi_{M} \\right)}$"
      ],
      "text/plain": [
       "H*Ms*sin(theta_H)*sin(theta_M)*cos(phi_H - phi_M)"
      ]
     },
     "metadata": {},
     "output_type": "display_data"
    },
    {
     "data": {
      "text/latex": [
       "$\\displaystyle - H Ms \\sin{\\left(\\theta_{H} \\right)} \\sin{\\left(\\phi_{H} - \\phi_{M} \\right)} \\cos{\\left(\\theta_{M} \\right)}$"
      ],
      "text/plain": [
       "-H*Ms*sin(theta_H)*sin(phi_H - phi_M)*cos(theta_M)"
      ]
     },
     "metadata": {},
     "output_type": "display_data"
    }
   ],
   "source": [
    "display(Ett)\n",
    "display(Epp)\n",
    "display(Etp)\n"
   ]
  },
  {
   "cell_type": "code",
   "execution_count": 71,
   "id": "cloudy-detroit",
   "metadata": {},
   "outputs": [
    {
     "data": {
      "text/latex": [
       "$\\displaystyle H Ms \\left(- 4 A \\sin^{2}{\\left(\\theta_{M} \\right)} + 2 A + H Ms \\sin{\\left(\\theta_{H} \\right)} \\sin{\\left(\\theta_{M} \\right)} + H Ms \\cos{\\left(\\theta_{H} \\right)} \\cos{\\left(\\theta_{M} \\right)} - 16 K_{u2} \\sin^{4}{\\left(\\theta_{M} \\right)} + 12 K_{u2} \\sin^{2}{\\left(\\theta_{M} \\right)}\\right) \\sin{\\left(\\theta_{H} \\right)} \\sin{\\left(\\theta_{M} \\right)}$"
      ],
      "text/plain": [
       "H*Ms*(-4*A*sin(theta_M)**2 + 2*A + H*Ms*sin(theta_H)*sin(theta_M) + H*Ms*cos(theta_H)*cos(theta_M) - 16*K_u2*sin(theta_M)**4 + 12*K_u2*sin(theta_M)**2)*sin(theta_H)*sin(theta_M)"
      ]
     },
     "metadata": {},
     "output_type": "display_data"
    }
   ],
   "source": [
    "display(simplify(Epp*Ett).subs({Hphi: 0, Mphi: 0}))"
   ]
  },
  {
   "cell_type": "code",
   "execution_count": 75,
   "id": "missing-indicator",
   "metadata": {},
   "outputs": [
    {
     "data": {
      "text/latex": [
       "$\\displaystyle - H \\left(\\sin{\\left(\\theta_{H} \\right)} \\cos{\\left(\\theta_{M} \\right)} - \\sin{\\left(\\theta_{M} \\right)} \\cos{\\left(\\theta_{H} \\right)}\\right) + H_{k1} \\sin{\\left(\\theta_{M} \\right)} \\cos{\\left(\\theta_{M} \\right)}$"
      ],
      "text/plain": [
       "-H*(sin(theta_H)*cos(theta_M) - sin(theta_M)*cos(theta_H)) + H_k1*sin(theta_M)*cos(theta_M)"
      ]
     },
     "metadata": {},
     "output_type": "display_data"
    }
   ],
   "source": [
    "tmp = E.diff(Mtet).simplify()\n",
    "\n",
    "tmp = tmp.subs({Hphi: 0, Mphi: 0})\n",
    "tmp = tmp.subs({Ku2: Ms*Hk2/4})\n",
    "tmp = tmp.subs({A: Ms*(Hk1-Hk2)/2})\n",
    "tmp = tmp.subs({Hk2: 0})\n",
    "\n",
    "display(sym.expand_trig(simplify(tmp/Ms)))"
   ]
  },
  {
   "cell_type": "code",
   "execution_count": 74,
   "id": "executive-crisis",
   "metadata": {},
   "outputs": [
    {
     "data": {
      "text/latex": [
       "$\\displaystyle 0$"
      ],
      "text/plain": [
       "0"
      ]
     },
     "metadata": {},
     "output_type": "display_data"
    }
   ],
   "source": [
    "tmp = E.diff(Mphi).simplify()/Ms\n",
    "tmp = tmp.subs({Hphi: 0, Mphi: 0})\n",
    "display(tmp)"
   ]
  },
  {
   "cell_type": "code",
   "execution_count": 50,
   "id": "olive-purple",
   "metadata": {},
   "outputs": [
    {
     "data": {
      "text/latex": [
       "$\\displaystyle H^{2} \\left(\\sin{\\left(\\theta_{H} \\right)} \\sin{\\left(\\theta_{M} \\right)} + \\cos{\\left(\\theta_{H} \\right)} \\cos{\\left(\\theta_{M} \\right)}\\right)^{2} + H H_{k1} \\left(\\sin{\\left(\\theta_{H} \\right)} \\sin{\\left(\\theta_{M} \\right)} + \\cos{\\left(\\theta_{H} \\right)} \\cos{\\left(\\theta_{M} \\right)}\\right) \\cos^{2}{\\left(\\theta_{M} \\right)} + \\frac{H H_{k2} \\left(\\sin{\\left(\\theta_{H} \\right)} \\sin{\\left(\\theta_{M} \\right)} + \\cos{\\left(\\theta_{H} \\right)} \\cos{\\left(\\theta_{M} \\right)}\\right) \\left(2 \\cos^{2}{\\left(\\theta_{M} \\right)} - 1\\right)}{2} - \\frac{H H_{k2} \\left(\\sin{\\left(\\theta_{H} \\right)} \\sin{\\left(\\theta_{M} \\right)} + \\cos{\\left(\\theta_{H} \\right)} \\cos{\\left(\\theta_{M} \\right)}\\right) \\left(8 \\cos^{4}{\\left(\\theta_{M} \\right)} - 8 \\cos^{2}{\\left(\\theta_{M} \\right)} + 1\\right)}{2} - H H_{k2} \\left(\\sin{\\left(\\theta_{H} \\right)} \\sin{\\left(\\theta_{M} \\right)} + \\cos{\\left(\\theta_{H} \\right)} \\cos{\\left(\\theta_{M} \\right)}\\right) \\cos^{4}{\\left(\\theta_{M} \\right)} + \\frac{H_{k1} H_{k2} \\left(2 \\cos^{2}{\\left(\\theta_{M} \\right)} - 1\\right) \\cos^{2}{\\left(\\theta_{M} \\right)}}{2} - \\frac{H_{k1} H_{k2} \\left(8 \\cos^{4}{\\left(\\theta_{M} \\right)} - 8 \\cos^{2}{\\left(\\theta_{M} \\right)} + 1\\right) \\cos^{2}{\\left(\\theta_{M} \\right)}}{2} - \\frac{H_{k2}^{2} \\left(2 \\cos^{2}{\\left(\\theta_{M} \\right)} - 1\\right) \\cos^{4}{\\left(\\theta_{M} \\right)}}{2} + \\frac{H_{k2}^{2} \\left(8 \\cos^{4}{\\left(\\theta_{M} \\right)} - 8 \\cos^{2}{\\left(\\theta_{M} \\right)} + 1\\right) \\cos^{4}{\\left(\\theta_{M} \\right)}}{2}$"
      ],
      "text/plain": [
       "H**2*(sin(theta_H)*sin(theta_M) + cos(theta_H)*cos(theta_M))**2 + H*H_k1*(sin(theta_H)*sin(theta_M) + cos(theta_H)*cos(theta_M))*cos(theta_M)**2 + H*H_k2*(sin(theta_H)*sin(theta_M) + cos(theta_H)*cos(theta_M))*(2*cos(theta_M)**2 - 1)/2 - H*H_k2*(sin(theta_H)*sin(theta_M) + cos(theta_H)*cos(theta_M))*(8*cos(theta_M)**4 - 8*cos(theta_M)**2 + 1)/2 - H*H_k2*(sin(theta_H)*sin(theta_M) + cos(theta_H)*cos(theta_M))*cos(theta_M)**4 + H_k1*H_k2*(2*cos(theta_M)**2 - 1)*cos(theta_M)**2/2 - H_k1*H_k2*(8*cos(theta_M)**4 - 8*cos(theta_M)**2 + 1)*cos(theta_M)**2/2 - H_k2**2*(2*cos(theta_M)**2 - 1)*cos(theta_M)**4/2 + H_k2**2*(8*cos(theta_M)**4 - 8*cos(theta_M)**2 + 1)*cos(theta_M)**4/2"
      ]
     },
     "metadata": {},
     "output_type": "display_data"
    }
   ],
   "source": [
    "H1 = H*sym.cos(Mtet-Htet) + Hk1*(sym.cos(Mtet)**2) - Hk2*(sym.cos(Mtet)**4)\n",
    "H2 = H*sym.cos(Mtet-Htet) + Hk2*(sym.cos(2*Mtet)) - sym.Rational(1,2)*Hk2*(sym.cos(2*Mtet) + sym.cos(4*Mtet))\n",
    "#display(H1)\n",
    "#display(H2)\n",
    "\n",
    "\n",
    "f22 = sym.expand_trig((H1*H2).expand())\n",
    "display(f22)"
   ]
  },
  {
   "cell_type": "code",
   "execution_count": 52,
   "id": "breeding-tunisia",
   "metadata": {},
   "outputs": [
    {
     "data": {
      "text/latex": [
       "$\\displaystyle - H^{2} \\left(\\sin{\\left(\\theta_{H} \\right)} \\sin{\\left(\\theta_{M} \\right)} + \\cos{\\left(\\theta_{H} \\right)} \\cos{\\left(\\theta_{M} \\right)}\\right)^{2} + H^{2} \\sin^{2}{\\left(\\theta_{H} \\right)} + \\frac{H^{2} \\sin{\\left(\\theta_{H} \\right)} \\cos{\\left(\\theta_{H} \\right)} \\cos{\\left(\\theta_{M} \\right)}}{\\sin{\\left(\\theta_{M} \\right)}} - H H_{k1} \\left(\\sin{\\left(\\theta_{H} \\right)} \\sin{\\left(\\theta_{M} \\right)} + \\cos{\\left(\\theta_{H} \\right)} \\cos{\\left(\\theta_{M} \\right)}\\right) \\cos^{2}{\\left(\\theta_{M} \\right)} - H H_{k1} \\sin{\\left(\\theta_{H} \\right)} \\sin{\\left(\\theta_{M} \\right)} + \\frac{H H_{k1} \\sin{\\left(\\theta_{H} \\right)} \\cos^{2}{\\left(\\theta_{M} \\right)}}{\\sin{\\left(\\theta_{M} \\right)}} - \\frac{H H_{k2} \\left(\\sin{\\left(\\theta_{H} \\right)} \\sin{\\left(\\theta_{M} \\right)} + \\cos{\\left(\\theta_{H} \\right)} \\cos{\\left(\\theta_{M} \\right)}\\right) \\left(2 \\cos^{2}{\\left(\\theta_{M} \\right)} - 1\\right)}{2} + \\frac{H H_{k2} \\left(\\sin{\\left(\\theta_{H} \\right)} \\sin{\\left(\\theta_{M} \\right)} + \\cos{\\left(\\theta_{H} \\right)} \\cos{\\left(\\theta_{M} \\right)}\\right) \\left(8 \\cos^{4}{\\left(\\theta_{M} \\right)} - 8 \\cos^{2}{\\left(\\theta_{M} \\right)} + 1\\right)}{2} + H H_{k2} \\left(\\sin{\\left(\\theta_{H} \\right)} \\sin{\\left(\\theta_{M} \\right)} + \\cos{\\left(\\theta_{H} \\right)} \\cos{\\left(\\theta_{M} \\right)}\\right) \\cos^{4}{\\left(\\theta_{M} \\right)} - H H_{k2} \\sin{\\left(\\theta_{H} \\right)} \\sin^{3}{\\left(\\theta_{M} \\right)} + 3 H H_{k2} \\sin{\\left(\\theta_{H} \\right)} \\sin{\\left(\\theta_{M} \\right)} \\cos^{2}{\\left(\\theta_{M} \\right)} + H H_{k2} \\sin{\\left(\\theta_{H} \\right)} \\sin{\\left(\\theta_{M} \\right)} - \\frac{H H_{k2} \\sin{\\left(\\theta_{H} \\right)} \\cos^{2}{\\left(\\theta_{M} \\right)}}{\\sin{\\left(\\theta_{M} \\right)}} - \\frac{H_{k1} H_{k2} \\left(2 \\cos^{2}{\\left(\\theta_{M} \\right)} - 1\\right) \\cos^{2}{\\left(\\theta_{M} \\right)}}{2} + \\frac{H_{k1} H_{k2} \\left(8 \\cos^{4}{\\left(\\theta_{M} \\right)} - 8 \\cos^{2}{\\left(\\theta_{M} \\right)} + 1\\right) \\cos^{2}{\\left(\\theta_{M} \\right)}}{2} + \\frac{H_{k2}^{2} \\left(2 \\cos^{2}{\\left(\\theta_{M} \\right)} - 1\\right) \\cos^{4}{\\left(\\theta_{M} \\right)}}{2} - \\frac{H_{k2}^{2} \\left(8 \\cos^{4}{\\left(\\theta_{M} \\right)} - 8 \\cos^{2}{\\left(\\theta_{M} \\right)} + 1\\right) \\cos^{4}{\\left(\\theta_{M} \\right)}}{2}$"
      ],
      "text/plain": [
       "-H**2*(sin(theta_H)*sin(theta_M) + cos(theta_H)*cos(theta_M))**2 + H**2*sin(theta_H)**2 + H**2*sin(theta_H)*cos(theta_H)*cos(theta_M)/sin(theta_M) - H*H_k1*(sin(theta_H)*sin(theta_M) + cos(theta_H)*cos(theta_M))*cos(theta_M)**2 - H*H_k1*sin(theta_H)*sin(theta_M) + H*H_k1*sin(theta_H)*cos(theta_M)**2/sin(theta_M) - H*H_k2*(sin(theta_H)*sin(theta_M) + cos(theta_H)*cos(theta_M))*(2*cos(theta_M)**2 - 1)/2 + H*H_k2*(sin(theta_H)*sin(theta_M) + cos(theta_H)*cos(theta_M))*(8*cos(theta_M)**4 - 8*cos(theta_M)**2 + 1)/2 + H*H_k2*(sin(theta_H)*sin(theta_M) + cos(theta_H)*cos(theta_M))*cos(theta_M)**4 - H*H_k2*sin(theta_H)*sin(theta_M)**3 + 3*H*H_k2*sin(theta_H)*sin(theta_M)*cos(theta_M)**2 + H*H_k2*sin(theta_H)*sin(theta_M) - H*H_k2*sin(theta_H)*cos(theta_M)**2/sin(theta_M) - H_k1*H_k2*(2*cos(theta_M)**2 - 1)*cos(theta_M)**2/2 + H_k1*H_k2*(8*cos(theta_M)**4 - 8*cos(theta_M)**2 + 1)*cos(theta_M)**2/2 + H_k2**2*(2*cos(theta_M)**2 - 1)*cos(theta_M)**4/2 - H_k2**2*(8*cos(theta_M)**4 - 8*cos(theta_M)**2 + 1)*cos(theta_M)**4/2"
      ]
     },
     "metadata": {},
     "output_type": "display_data"
    }
   ],
   "source": [
    "E.diff()"
   ]
  },
  {
   "cell_type": "code",
   "execution_count": null,
   "id": "noble-spell",
   "metadata": {},
   "outputs": [],
   "source": []
  }
 ],
 "metadata": {
  "kernelspec": {
   "display_name": "Python 3",
   "language": "python",
   "name": "python3"
  },
  "language_info": {
   "codemirror_mode": {
    "name": "ipython",
    "version": 3
   },
   "file_extension": ".py",
   "mimetype": "text/x-python",
   "name": "python",
   "nbconvert_exporter": "python",
   "pygments_lexer": "ipython3",
   "version": "3.8.5"
  }
 },
 "nbformat": 4,
 "nbformat_minor": 5
}
