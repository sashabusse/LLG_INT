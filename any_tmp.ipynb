{
 "cells": [
  {
   "cell_type": "code",
   "execution_count": 216,
   "id": "alone-authentication",
   "metadata": {},
   "outputs": [],
   "source": [
    "import numpy as np\n",
    "import pandas as pd\n",
    "import sympy as sym\n",
    "from sympy import symbols, simplify, trigsimp, expand\n",
    "from matplotlib import pyplot as plt\n",
    "\n",
    "\n",
    "from Calculation.geometry_util import pol2cart, cart2pol, r_ort, tet_ort, phi_ort\n",
    "from Calculation.material import StaticMaterial, Material, LayeredFilm, Hk2KuJ, print_Hext_parameters"
   ]
  },
  {
   "cell_type": "code",
   "execution_count": 217,
   "id": "dimensional-updating",
   "metadata": {},
   "outputs": [],
   "source": [
    "H = symbols(\"H\", real=True, positive=True)\n",
    "Htet, Hphi = symbols(\"theta_H phi_H\", real=True)\n",
    "Ms = symbols(\"Ms\", real=True, positive=True)\n",
    "Mtet = symbols(\"theta_M1 theta_M2\", real=True)\n",
    "Mphi = symbols(\"phi_M1 phi_M2\", real=True)\n",
    "A, Ku2, gamma, alpha = symbols(\"A K_u2 gamma alpha\", real=True, positive=True)\n",
    "J = symbols(\"J\", real=True)\n",
    "Hk1, Hk2, H2k = symbols(\"H_k1 H_k2 H2_k\", real=True, positive=True)\n",
    "t = symbols(\"t\", real=True, positive=True)"
   ]
  },
  {
   "cell_type": "code",
   "execution_count": 218,
   "id": "robust-pottery",
   "metadata": {},
   "outputs": [],
   "source": [
    "Ev1 = -Ms * H * (sym.sin(Htet) * sym.sin(Mtet[0]) * sym.cos(Hphi - Mphi[0]) +\n",
    "                 sym.cos(Htet) * sym.cos(Mtet[0])) + \\\n",
    "      A * (sym.sin(Mtet[0]) ** 2) + \\\n",
    "      Ku2 * (sym.sin(Mtet[0]) ** 4)\n",
    "\n",
    "Ev2 = -Ms * H * (sym.sin(Htet) * sym.sin(Mtet[1]) * sym.cos(Hphi - Mphi[1]) +\n",
    "                 sym.cos(Htet) * sym.cos(Mtet[1])) + \\\n",
    "      A * (sym.sin(Mtet[1]) ** 2) + \\\n",
    "      Ku2 * (sym.sin(Mtet[1]) ** 4)\n",
    "\n",
    "Es = t * Ev1 + t * Ev2 + \\\n",
    "     J * (sym.sin(Mtet[0]) * sym.sin(Mtet[1]) * sym.cos(Mphi[1] - Mphi[0]) +\n",
    "          sym.cos(Mtet[0]) * sym.cos(Mtet[1]))"
   ]
  },
  {
   "cell_type": "code",
   "execution_count": 235,
   "id": "naval-sellers",
   "metadata": {},
   "outputs": [],
   "source": [
    "sys_mat = np.zeros((4,4), dtype=sym.Add)\n",
    "\n",
    "sys_vars = [Mtet[0], Mphi[0], Mtet[1], Mphi[1]]\n",
    "diff_vars = [Mphi[0], Mtet[0], Mphi[1], Mtet[1]]\n",
    "for i in range(4):\n",
    "    for j in range(4):\n",
    "        sys_mat[i][j] = (gamma / Ms) * (1 / t) * Es.diff(diff_vars[i], sys_vars[j])\n",
    "        if i%2==1:\n",
    "            sys_mat[i][j] = -sys_mat[i][j]\n",
    "\n",
    "lamb = symbols(\"lambda\", complex=True)\n",
    "w_sym = symbols(\"w\", real=True)\n",
    "\n",
    "for i in range(2):\n",
    "    sys_mat[i][i] += lamb*sym.sin(Mtet[0])\n",
    "    \n",
    "for i in range(2, 4):\n",
    "    sys_mat[i][i] += lamb*sym.sin(Mtet[1])\n",
    "\n",
    "sys_mat = sym.Matrix(sys_mat)\n",
    "\n",
    "# subs for PMA\n",
    "sys_mat = sys_mat.subs({\n",
    "    Hphi: 0, Mphi[0]: 0, Mphi[1]: 0\n",
    "})\n",
    "#subs for Hks\n",
    "sys_mat = sys_mat.subs({\n",
    "    Ku2: Ms * Hk2 / 4,\n",
    "    A: Ms * (Hk1 - Hk2) / 2,\n",
    "    J: (t / 2) * Ms * (H2k - Hk1)\n",
    "})\n",
    "#subs fow w\n",
    "sys_mat = sys_mat.subs({\n",
    "    lamb: sym.I*w_sym\n",
    "})\n",
    "#subs for our H-in-plane problem\n",
    "sys_mat = sys_mat.subs({\n",
    "    Htet: sym.pi/2,\n",
    "    Mtet[1]: -Mtet[0]#,\n",
    "    #H2k: Hk1\n",
    "})\n",
    "\n",
    "sys_mat.simplify()"
   ]
  },
  {
   "cell_type": "code",
   "execution_count": 236,
   "id": "aggressive-palmer",
   "metadata": {},
   "outputs": [
    {
     "data": {
      "text/latex": [
       "$\\displaystyle \\left[\\begin{matrix}i w \\sin{\\left(\\theta_{M1} \\right)} & \\frac{\\gamma \\left(2 H + \\left(H_{2 k} - H_{k1}\\right) \\sin{\\left(\\theta_{M1} \\right)}\\right) \\sin{\\left(\\theta_{M1} \\right)}}{2} & 0 & \\frac{\\gamma \\left(- H_{2 k} + H_{k1}\\right) \\sin^{2}{\\left(\\theta_{M1} \\right)}}{2}\\\\\\frac{\\gamma \\left(- 2 H \\sin{\\left(\\theta_{M1} \\right)} - 2 H_{2 k} \\sin^{2}{\\left(\\theta_{M1} \\right)} + H_{2 k} + 6 H_{k1} \\sin^{2}{\\left(\\theta_{M1} \\right)} - 3 H_{k1} + 8 H_{k2} \\sin^{4}{\\left(\\theta_{M1} \\right)} - 10 H_{k2} \\sin^{2}{\\left(\\theta_{M1} \\right)} + 2 H_{k2}\\right)}{2} & i w \\sin{\\left(\\theta_{M1} \\right)} & - \\frac{\\gamma \\left(H_{2 k} - H_{k1}\\right) \\cos{\\left(2 \\theta_{M1} \\right)}}{2} & 0\\\\0 & \\frac{\\gamma \\left(- H_{2 k} + H_{k1}\\right) \\sin^{2}{\\left(\\theta_{M1} \\right)}}{2} & - i w \\sin{\\left(\\theta_{M1} \\right)} & - \\frac{\\gamma \\left(2 H - \\left(H_{2 k} - H_{k1}\\right) \\sin{\\left(\\theta_{M1} \\right)}\\right) \\sin{\\left(\\theta_{M1} \\right)}}{2}\\\\- \\frac{\\gamma \\left(H_{2 k} - H_{k1}\\right) \\cos{\\left(2 \\theta_{M1} \\right)}}{2} & 0 & \\frac{\\gamma \\left(2 H \\sin{\\left(\\theta_{M1} \\right)} - 2 H_{2 k} \\sin^{2}{\\left(\\theta_{M1} \\right)} + H_{2 k} + 6 H_{k1} \\sin^{2}{\\left(\\theta_{M1} \\right)} - 3 H_{k1} + 8 H_{k2} \\sin^{4}{\\left(\\theta_{M1} \\right)} - 10 H_{k2} \\sin^{2}{\\left(\\theta_{M1} \\right)} + 2 H_{k2}\\right)}{2} & - i w \\sin{\\left(\\theta_{M1} \\right)}\\end{matrix}\\right]$"
      ],
      "text/plain": [
       "Matrix([\n",
       "[                                                                                                                                             I*w*sin(theta_M1), gamma*(2*H + (H2_k - H_k1)*sin(theta_M1))*sin(theta_M1)/2,                                                                                                                                                             0,                    gamma*(-H2_k + H_k1)*sin(theta_M1)**2/2],\n",
       "[gamma*(-2*H*sin(theta_M1) - 2*H2_k*sin(theta_M1)**2 + H2_k + 6*H_k1*sin(theta_M1)**2 - 3*H_k1 + 8*H_k2*sin(theta_M1)**4 - 10*H_k2*sin(theta_M1)**2 + 2*H_k2)/2,                                         I*w*sin(theta_M1),                                                                                                                        -gamma*(H2_k - H_k1)*cos(2*theta_M1)/2,                                                          0],\n",
       "[                                                                                                                                                             0,                   gamma*(-H2_k + H_k1)*sin(theta_M1)**2/2,                                                                                                                                            -I*w*sin(theta_M1), -gamma*(2*H - (H2_k - H_k1)*sin(theta_M1))*sin(theta_M1)/2],\n",
       "[                                                                                                                        -gamma*(H2_k - H_k1)*cos(2*theta_M1)/2,                                                         0, gamma*(2*H*sin(theta_M1) - 2*H2_k*sin(theta_M1)**2 + H2_k + 6*H_k1*sin(theta_M1)**2 - 3*H_k1 + 8*H_k2*sin(theta_M1)**4 - 10*H_k2*sin(theta_M1)**2 + 2*H_k2)/2,                                         -I*w*sin(theta_M1)]])"
      ]
     },
     "execution_count": 236,
     "metadata": {},
     "output_type": "execute_result"
    }
   ],
   "source": [
    "sys_mat"
   ]
  },
  {
   "cell_type": "code",
   "execution_count": 237,
   "id": "arranged-consciousness",
   "metadata": {},
   "outputs": [],
   "source": [
    "sys_det = sys_mat.det(method='berkowitz')"
   ]
  },
  {
   "cell_type": "code",
   "execution_count": 238,
   "id": "forbidden-istanbul",
   "metadata": {},
   "outputs": [],
   "source": [
    "sys_det_collected = sym.collect(sym.expand(sys_det), w_sym)\n",
    "pows = []\n",
    "for i in range(5):\n",
    "    pows.append(sys_det_collected.coeff(w_sym, i))"
   ]
  },
  {
   "cell_type": "code",
   "execution_count": 240,
   "id": "painted-background",
   "metadata": {},
   "outputs": [
    {
     "data": {
      "text/latex": [
       "$\\displaystyle \\sin^{4}{\\left(\\theta_{M1} \\right)}$"
      ],
      "text/plain": [
       "sin(theta_M1)**4"
      ]
     },
     "execution_count": 240,
     "metadata": {},
     "output_type": "execute_result"
    }
   ],
   "source": [
    "p4 = pows[4]\n",
    "p4"
   ]
  },
  {
   "cell_type": "code",
   "execution_count": 242,
   "id": "cross-chance",
   "metadata": {},
   "outputs": [
    {
     "data": {
      "text/latex": [
       "$\\displaystyle 0$"
      ],
      "text/plain": [
       "0"
      ]
     },
     "execution_count": 242,
     "metadata": {},
     "output_type": "execute_result"
    }
   ],
   "source": [
    "pows[3]"
   ]
  },
  {
   "cell_type": "code",
   "execution_count": 243,
   "id": "activated-current",
   "metadata": {},
   "outputs": [
    {
     "data": {
      "text/latex": [
       "$\\displaystyle \\gamma^{2} \\left(- 2 H^{2} + 2 H_{2 k} H_{k1} \\sin^{2}{\\left(\\theta_{M1} \\right)} - H_{2 k} H_{k1} + 4 H_{2 k} H_{k2} \\sin^{4}{\\left(\\theta_{M1} \\right)} - 5 H_{2 k} H_{k2} \\sin^{2}{\\left(\\theta_{M1} \\right)} + H_{2 k} H_{k2} - 2 H_{k1}^{2} \\sin^{2}{\\left(\\theta_{M1} \\right)} + H_{k1}^{2} - 4 H_{k1} H_{k2} \\sin^{4}{\\left(\\theta_{M1} \\right)} + 5 H_{k1} H_{k2} \\sin^{2}{\\left(\\theta_{M1} \\right)} - H_{k1} H_{k2}\\right) \\sin^{4}{\\left(\\theta_{M1} \\right)}$"
      ],
      "text/plain": [
       "gamma**2*(-2*H**2 + 2*H2_k*H_k1*sin(theta_M1)**2 - H2_k*H_k1 + 4*H2_k*H_k2*sin(theta_M1)**4 - 5*H2_k*H_k2*sin(theta_M1)**2 + H2_k*H_k2 - 2*H_k1**2*sin(theta_M1)**2 + H_k1**2 - 4*H_k1*H_k2*sin(theta_M1)**4 + 5*H_k1*H_k2*sin(theta_M1)**2 - H_k1*H_k2)*sin(theta_M1)**4"
      ]
     },
     "execution_count": 243,
     "metadata": {},
     "output_type": "execute_result"
    }
   ],
   "source": [
    "p2 = sym.collect(pows[2], gamma)\n",
    "p2 = sym.expand(sym.expand_trig(p2))\n",
    "p2 = simplify(sym.trigsimp(sym.factor(p2)))\n",
    "p2"
   ]
  },
  {
   "cell_type": "code",
   "execution_count": 244,
   "id": "blind-japanese",
   "metadata": {},
   "outputs": [
    {
     "data": {
      "text/latex": [
       "$\\displaystyle 0$"
      ],
      "text/plain": [
       "0"
      ]
     },
     "execution_count": 244,
     "metadata": {},
     "output_type": "execute_result"
    }
   ],
   "source": [
    "pows[1]"
   ]
  },
  {
   "cell_type": "code",
   "execution_count": 247,
   "id": "complex-crime",
   "metadata": {},
   "outputs": [
    {
     "data": {
      "text/latex": [
       "$\\displaystyle H^{2} \\gamma^{4} \\left(H^{2} \\sin^{2}{\\left(\\theta_{M1} \\right)} + 4 H_{2 k} H_{k1} \\sin^{4}{\\left(\\theta_{M1} \\right)} - 4 H_{2 k} H_{k1} \\sin^{2}{\\left(\\theta_{M1} \\right)} + H_{2 k} H_{k1} + 8 H_{2 k} H_{k2} \\sin^{6}{\\left(\\theta_{M1} \\right)} - 14 H_{2 k} H_{k2} \\sin^{4}{\\left(\\theta_{M1} \\right)} + 7 H_{2 k} H_{k2} \\sin^{2}{\\left(\\theta_{M1} \\right)} - H_{2 k} H_{k2} - 8 H_{k1}^{2} \\sin^{4}{\\left(\\theta_{M1} \\right)} + 8 H_{k1}^{2} \\sin^{2}{\\left(\\theta_{M1} \\right)} - 2 H_{k1}^{2} - 24 H_{k1} H_{k2} \\sin^{6}{\\left(\\theta_{M1} \\right)} + 42 H_{k1} H_{k2} \\sin^{4}{\\left(\\theta_{M1} \\right)} - 21 H_{k1} H_{k2} \\sin^{2}{\\left(\\theta_{M1} \\right)} + 3 H_{k1} H_{k2} - 16 H_{k2}^{2} \\sin^{8}{\\left(\\theta_{M1} \\right)} + 40 H_{k2}^{2} \\sin^{6}{\\left(\\theta_{M1} \\right)} - 33 H_{k2}^{2} \\sin^{4}{\\left(\\theta_{M1} \\right)} + 10 H_{k2}^{2} \\sin^{2}{\\left(\\theta_{M1} \\right)} - H_{k2}^{2}\\right) \\sin^{2}{\\left(\\theta_{M1} \\right)}$"
      ],
      "text/plain": [
       "H**2*gamma**4*(H**2*sin(theta_M1)**2 + 4*H2_k*H_k1*sin(theta_M1)**4 - 4*H2_k*H_k1*sin(theta_M1)**2 + H2_k*H_k1 + 8*H2_k*H_k2*sin(theta_M1)**6 - 14*H2_k*H_k2*sin(theta_M1)**4 + 7*H2_k*H_k2*sin(theta_M1)**2 - H2_k*H_k2 - 8*H_k1**2*sin(theta_M1)**4 + 8*H_k1**2*sin(theta_M1)**2 - 2*H_k1**2 - 24*H_k1*H_k2*sin(theta_M1)**6 + 42*H_k1*H_k2*sin(theta_M1)**4 - 21*H_k1*H_k2*sin(theta_M1)**2 + 3*H_k1*H_k2 - 16*H_k2**2*sin(theta_M1)**8 + 40*H_k2**2*sin(theta_M1)**6 - 33*H_k2**2*sin(theta_M1)**4 + 10*H_k2**2*sin(theta_M1)**2 - H_k2**2)*sin(theta_M1)**2"
      ]
     },
     "execution_count": 247,
     "metadata": {},
     "output_type": "execute_result"
    }
   ],
   "source": [
    "p0 = sym.collect(pows[0], [gamma])\n",
    "p0 = sym.expand(sym.expand_trig(p0))\n",
    "p0 = sym.trigsimp(sym.factor(p0))\n",
    "p0"
   ]
  },
  {
   "cell_type": "code",
   "execution_count": 248,
   "id": "incorporated-dance",
   "metadata": {},
   "outputs": [],
   "source": [
    "p0_sym, p1_sym, p2_sym, p3_sym, p4_sym = symbols(\"p_0 p_1 p_2 p_3 p_4\", real=True)\n",
    "p_syms = [p0_sym, p1_sym, p2_sym, p3_sym, p4_sym]\n",
    "\n",
    "w_sol = sym.solve(p4_sym*(w_sym**4) - p2_sym*(w_sym**2) + p0_sym, w_sym)\n",
    "\n",
    "for i in range(4):\n",
    "    w_sol[i] = w_sol[i].subs({\n",
    "        p4_sym: p4,\n",
    "        p2_sym: p2,\n",
    "        p0_sym: p0\n",
    "    })"
   ]
  },
  {
   "cell_type": "code",
   "execution_count": 251,
   "id": "antique-bennett",
   "metadata": {},
   "outputs": [
    {
     "data": {
      "text/latex": [
       "$\\displaystyle \\frac{\\sqrt{2} \\sqrt{\\gamma^{2} \\left(- 2 H^{2} + 2 H_{2 k} H_{k1} \\sin^{2}{\\left(\\theta_{M1} \\right)} - H_{2 k} H_{k1} + 4 H_{2 k} H_{k2} \\sin^{4}{\\left(\\theta_{M1} \\right)} - 5 H_{2 k} H_{k2} \\sin^{2}{\\left(\\theta_{M1} \\right)} + H_{2 k} H_{k2} - 2 H_{k1}^{2} \\sin^{2}{\\left(\\theta_{M1} \\right)} + H_{k1}^{2} - 4 H_{k1} H_{k2} \\sin^{4}{\\left(\\theta_{M1} \\right)} + 5 H_{k1} H_{k2} \\sin^{2}{\\left(\\theta_{M1} \\right)} - H_{k1} H_{k2}\\right) - \\frac{\\sqrt{- 4 H^{2} \\gamma^{4} \\left(H^{2} \\sin^{2}{\\left(\\theta_{M1} \\right)} + 4 H_{2 k} H_{k1} \\sin^{4}{\\left(\\theta_{M1} \\right)} - 4 H_{2 k} H_{k1} \\sin^{2}{\\left(\\theta_{M1} \\right)} + H_{2 k} H_{k1} + 8 H_{2 k} H_{k2} \\sin^{6}{\\left(\\theta_{M1} \\right)} - 14 H_{2 k} H_{k2} \\sin^{4}{\\left(\\theta_{M1} \\right)} + 7 H_{2 k} H_{k2} \\sin^{2}{\\left(\\theta_{M1} \\right)} - H_{2 k} H_{k2} - 8 H_{k1}^{2} \\sin^{4}{\\left(\\theta_{M1} \\right)} + 8 H_{k1}^{2} \\sin^{2}{\\left(\\theta_{M1} \\right)} - 2 H_{k1}^{2} - 24 H_{k1} H_{k2} \\sin^{6}{\\left(\\theta_{M1} \\right)} + 42 H_{k1} H_{k2} \\sin^{4}{\\left(\\theta_{M1} \\right)} - 21 H_{k1} H_{k2} \\sin^{2}{\\left(\\theta_{M1} \\right)} + 3 H_{k1} H_{k2} - 16 H_{k2}^{2} \\sin^{8}{\\left(\\theta_{M1} \\right)} + 40 H_{k2}^{2} \\sin^{6}{\\left(\\theta_{M1} \\right)} - 33 H_{k2}^{2} \\sin^{4}{\\left(\\theta_{M1} \\right)} + 10 H_{k2}^{2} \\sin^{2}{\\left(\\theta_{M1} \\right)} - H_{k2}^{2}\\right) \\sin^{6}{\\left(\\theta_{M1} \\right)} + \\gamma^{4} \\left(- 2 H^{2} + 2 H_{2 k} H_{k1} \\sin^{2}{\\left(\\theta_{M1} \\right)} - H_{2 k} H_{k1} + 4 H_{2 k} H_{k2} \\sin^{4}{\\left(\\theta_{M1} \\right)} - 5 H_{2 k} H_{k2} \\sin^{2}{\\left(\\theta_{M1} \\right)} + H_{2 k} H_{k2} - 2 H_{k1}^{2} \\sin^{2}{\\left(\\theta_{M1} \\right)} + H_{k1}^{2} - 4 H_{k1} H_{k2} \\sin^{4}{\\left(\\theta_{M1} \\right)} + 5 H_{k1} H_{k2} \\sin^{2}{\\left(\\theta_{M1} \\right)} - H_{k1} H_{k2}\\right)^{2} \\sin^{8}{\\left(\\theta_{M1} \\right)}}}{\\sin^{4}{\\left(\\theta_{M1} \\right)}}}}{2}$"
      ],
      "text/plain": [
       "sqrt(2)*sqrt(gamma**2*(-2*H**2 + 2*H2_k*H_k1*sin(theta_M1)**2 - H2_k*H_k1 + 4*H2_k*H_k2*sin(theta_M1)**4 - 5*H2_k*H_k2*sin(theta_M1)**2 + H2_k*H_k2 - 2*H_k1**2*sin(theta_M1)**2 + H_k1**2 - 4*H_k1*H_k2*sin(theta_M1)**4 + 5*H_k1*H_k2*sin(theta_M1)**2 - H_k1*H_k2) - sqrt(-4*H**2*gamma**4*(H**2*sin(theta_M1)**2 + 4*H2_k*H_k1*sin(theta_M1)**4 - 4*H2_k*H_k1*sin(theta_M1)**2 + H2_k*H_k1 + 8*H2_k*H_k2*sin(theta_M1)**6 - 14*H2_k*H_k2*sin(theta_M1)**4 + 7*H2_k*H_k2*sin(theta_M1)**2 - H2_k*H_k2 - 8*H_k1**2*sin(theta_M1)**4 + 8*H_k1**2*sin(theta_M1)**2 - 2*H_k1**2 - 24*H_k1*H_k2*sin(theta_M1)**6 + 42*H_k1*H_k2*sin(theta_M1)**4 - 21*H_k1*H_k2*sin(theta_M1)**2 + 3*H_k1*H_k2 - 16*H_k2**2*sin(theta_M1)**8 + 40*H_k2**2*sin(theta_M1)**6 - 33*H_k2**2*sin(theta_M1)**4 + 10*H_k2**2*sin(theta_M1)**2 - H_k2**2)*sin(theta_M1)**6 + gamma**4*(-2*H**2 + 2*H2_k*H_k1*sin(theta_M1)**2 - H2_k*H_k1 + 4*H2_k*H_k2*sin(theta_M1)**4 - 5*H2_k*H_k2*sin(theta_M1)**2 + H2_k*H_k2 - 2*H_k1**2*sin(theta_M1)**2 + H_k1**2 - 4*H_k1*H_k2*sin(theta_M1)**4 + 5*H_k1*H_k2*sin(theta_M1)**2 - H_k1*H_k2)**2*sin(theta_M1)**8)/sin(theta_M1)**4)/2"
      ]
     },
     "execution_count": 251,
     "metadata": {},
     "output_type": "execute_result"
    }
   ],
   "source": [
    "w_sol[1]"
   ]
  },
  {
   "cell_type": "code",
   "execution_count": 258,
   "id": "gentle-comedy",
   "metadata": {},
   "outputs": [],
   "source": [
    "st_state_res = sym.solve((sym.sin(Mtet[0])**3)*4*Ku2+sym.sin(Mtet[0])*2*(A+J)-H*Ms, sym.sin(Mtet[0]), cubic=True, exclude=(Ku2,A,J,H,Ms))"
   ]
  },
  {
   "cell_type": "code",
   "execution_count": 259,
   "id": "refined-license",
   "metadata": {},
   "outputs": [
    {
     "data": {
      "text/latex": [
       "$\\displaystyle \\sqrt[3]{\\frac{H Ms}{8 K_{u2}} + \\sqrt{\\frac{H^{2} Ms^{2}}{64 K_{u2}^{2}} + \\frac{\\left(A + J\\right)^{3}}{216 K_{u2}^{3}}}} - \\frac{A + J}{6 K_{u2} \\sqrt[3]{\\frac{H Ms}{8 K_{u2}} + \\sqrt{\\frac{H^{2} Ms^{2}}{64 K_{u2}^{2}} + \\frac{\\left(A + J\\right)^{3}}{216 K_{u2}^{3}}}}}$"
      ],
      "text/plain": [
       "(H*Ms/(8*K_u2) + sqrt(H**2*Ms**2/(64*K_u2**2) + (A + J)**3/(216*K_u2**3)))**(1/3) - (A + J)/(6*K_u2*(H*Ms/(8*K_u2) + sqrt(H**2*Ms**2/(64*K_u2**2) + (A + J)**3/(216*K_u2**3)))**(1/3))"
      ]
     },
     "execution_count": 259,
     "metadata": {},
     "output_type": "execute_result"
    }
   ],
   "source": [
    "st_state_res[2]"
   ]
  },
  {
   "cell_type": "code",
   "execution_count": 265,
   "id": "minute-consent",
   "metadata": {},
   "outputs": [
    {
     "data": {
      "text/latex": [
       "$\\displaystyle \\frac{\\sqrt{2} \\sqrt{- \\frac{648 H^{2} \\gamma^{2} \\left(\\frac{A}{K_{u2} \\sqrt[3]{\\frac{H Ms}{8 K_{u2}} + \\sqrt{\\frac{A^{3}}{216 K_{u2}^{3}} + \\frac{A^{2} J}{72 K_{u2}^{3}} + \\frac{A J^{2}}{72 K_{u2}^{3}} + \\frac{H^{2} Ms^{2}}{64 K_{u2}^{2}} + \\frac{J^{3}}{216 K_{u2}^{3}}}}} + \\frac{J}{K_{u2} \\sqrt[3]{\\frac{H Ms}{8 K_{u2}} + \\sqrt{\\frac{A^{3}}{216 K_{u2}^{3}} + \\frac{A^{2} J}{72 K_{u2}^{3}} + \\frac{A J^{2}}{72 K_{u2}^{3}} + \\frac{H^{2} Ms^{2}}{64 K_{u2}^{2}} + \\frac{J^{3}}{216 K_{u2}^{3}}}}} - 6 \\sqrt[3]{\\frac{H Ms}{8 K_{u2}} + \\sqrt{\\frac{A^{3}}{216 K_{u2}^{3}} + \\frac{A^{2} J}{72 K_{u2}^{3}} + \\frac{A J^{2}}{72 K_{u2}^{3}} + \\frac{H^{2} Ms^{2}}{64 K_{u2}^{2}} + \\frac{J^{3}}{216 K_{u2}^{3}}}}\\right)^{4} - 18 H_{2 k} H_{k1} \\gamma^{2} \\left(\\frac{A}{K_{u2} \\sqrt[3]{\\frac{H Ms}{8 K_{u2}} + \\sqrt{\\frac{H^{2} Ms^{2}}{64 K_{u2}^{2}} + \\frac{\\left(A + J\\right)^{3}}{216 K_{u2}^{3}}}}} + \\frac{J}{K_{u2} \\sqrt[3]{\\frac{H Ms}{8 K_{u2}} + \\sqrt{\\frac{H^{2} Ms^{2}}{64 K_{u2}^{2}} + \\frac{\\left(A + J\\right)^{3}}{216 K_{u2}^{3}}}}} - 6 \\sqrt[3]{\\frac{H Ms}{8 K_{u2}} + \\sqrt{\\frac{H^{2} Ms^{2}}{64 K_{u2}^{2}} + \\frac{\\left(A + J\\right)^{3}}{216 K_{u2}^{3}}}}\\right)^{2} \\left(\\frac{A}{K_{u2} \\sqrt[3]{\\frac{H Ms}{8 K_{u2}} + \\sqrt{\\frac{A^{3}}{216 K_{u2}^{3}} + \\frac{A^{2} J}{72 K_{u2}^{3}} + \\frac{A J^{2}}{72 K_{u2}^{3}} + \\frac{H^{2} Ms^{2}}{64 K_{u2}^{2}} + \\frac{J^{3}}{216 K_{u2}^{3}}}}} + \\frac{J}{K_{u2} \\sqrt[3]{\\frac{H Ms}{8 K_{u2}} + \\sqrt{\\frac{A^{3}}{216 K_{u2}^{3}} + \\frac{A^{2} J}{72 K_{u2}^{3}} + \\frac{A J^{2}}{72 K_{u2}^{3}} + \\frac{H^{2} Ms^{2}}{64 K_{u2}^{2}} + \\frac{J^{3}}{216 K_{u2}^{3}}}}} - 6 \\sqrt[3]{\\frac{H Ms}{8 K_{u2}} + \\sqrt{\\frac{A^{3}}{216 K_{u2}^{3}} + \\frac{A^{2} J}{72 K_{u2}^{3}} + \\frac{A J^{2}}{72 K_{u2}^{3}} + \\frac{H^{2} Ms^{2}}{64 K_{u2}^{2}} + \\frac{J^{3}}{216 K_{u2}^{3}}}}\\right)^{4} + 324 H_{2 k} H_{k1} \\gamma^{2} \\left(\\frac{A}{K_{u2} \\sqrt[3]{\\frac{H Ms}{8 K_{u2}} + \\sqrt{\\frac{A^{3}}{216 K_{u2}^{3}} + \\frac{A^{2} J}{72 K_{u2}^{3}} + \\frac{A J^{2}}{72 K_{u2}^{3}} + \\frac{H^{2} Ms^{2}}{64 K_{u2}^{2}} + \\frac{J^{3}}{216 K_{u2}^{3}}}}} + \\frac{J}{K_{u2} \\sqrt[3]{\\frac{H Ms}{8 K_{u2}} + \\sqrt{\\frac{A^{3}}{216 K_{u2}^{3}} + \\frac{A^{2} J}{72 K_{u2}^{3}} + \\frac{A J^{2}}{72 K_{u2}^{3}} + \\frac{H^{2} Ms^{2}}{64 K_{u2}^{2}} + \\frac{J^{3}}{216 K_{u2}^{3}}}}} - 6 \\sqrt[3]{\\frac{H Ms}{8 K_{u2}} + \\sqrt{\\frac{A^{3}}{216 K_{u2}^{3}} + \\frac{A^{2} J}{72 K_{u2}^{3}} + \\frac{A J^{2}}{72 K_{u2}^{3}} + \\frac{H^{2} Ms^{2}}{64 K_{u2}^{2}} + \\frac{J^{3}}{216 K_{u2}^{3}}}}\\right)^{4} - H_{2 k} H_{k2} \\gamma^{2} \\left(\\frac{A}{K_{u2} \\sqrt[3]{\\frac{H Ms}{8 K_{u2}} + \\sqrt{\\frac{H^{2} Ms^{2}}{64 K_{u2}^{2}} + \\frac{\\left(A + J\\right)^{3}}{216 K_{u2}^{3}}}}} + \\frac{J}{K_{u2} \\sqrt[3]{\\frac{H Ms}{8 K_{u2}} + \\sqrt{\\frac{H^{2} Ms^{2}}{64 K_{u2}^{2}} + \\frac{\\left(A + J\\right)^{3}}{216 K_{u2}^{3}}}}} - 6 \\sqrt[3]{\\frac{H Ms}{8 K_{u2}} + \\sqrt{\\frac{H^{2} Ms^{2}}{64 K_{u2}^{2}} + \\frac{\\left(A + J\\right)^{3}}{216 K_{u2}^{3}}}}\\right)^{4} \\left(\\frac{A}{K_{u2} \\sqrt[3]{\\frac{H Ms}{8 K_{u2}} + \\sqrt{\\frac{A^{3}}{216 K_{u2}^{3}} + \\frac{A^{2} J}{72 K_{u2}^{3}} + \\frac{A J^{2}}{72 K_{u2}^{3}} + \\frac{H^{2} Ms^{2}}{64 K_{u2}^{2}} + \\frac{J^{3}}{216 K_{u2}^{3}}}}} + \\frac{J}{K_{u2} \\sqrt[3]{\\frac{H Ms}{8 K_{u2}} + \\sqrt{\\frac{A^{3}}{216 K_{u2}^{3}} + \\frac{A^{2} J}{72 K_{u2}^{3}} + \\frac{A J^{2}}{72 K_{u2}^{3}} + \\frac{H^{2} Ms^{2}}{64 K_{u2}^{2}} + \\frac{J^{3}}{216 K_{u2}^{3}}}}} - 6 \\sqrt[3]{\\frac{H Ms}{8 K_{u2}} + \\sqrt{\\frac{A^{3}}{216 K_{u2}^{3}} + \\frac{A^{2} J}{72 K_{u2}^{3}} + \\frac{A J^{2}}{72 K_{u2}^{3}} + \\frac{H^{2} Ms^{2}}{64 K_{u2}^{2}} + \\frac{J^{3}}{216 K_{u2}^{3}}}}\\right)^{4} + 45 H_{2 k} H_{k2} \\gamma^{2} \\left(\\frac{A}{K_{u2} \\sqrt[3]{\\frac{H Ms}{8 K_{u2}} + \\sqrt{\\frac{H^{2} Ms^{2}}{64 K_{u2}^{2}} + \\frac{\\left(A + J\\right)^{3}}{216 K_{u2}^{3}}}}} + \\frac{J}{K_{u2} \\sqrt[3]{\\frac{H Ms}{8 K_{u2}} + \\sqrt{\\frac{H^{2} Ms^{2}}{64 K_{u2}^{2}} + \\frac{\\left(A + J\\right)^{3}}{216 K_{u2}^{3}}}}} - 6 \\sqrt[3]{\\frac{H Ms}{8 K_{u2}} + \\sqrt{\\frac{H^{2} Ms^{2}}{64 K_{u2}^{2}} + \\frac{\\left(A + J\\right)^{3}}{216 K_{u2}^{3}}}}\\right)^{2} \\left(\\frac{A}{K_{u2} \\sqrt[3]{\\frac{H Ms}{8 K_{u2}} + \\sqrt{\\frac{A^{3}}{216 K_{u2}^{3}} + \\frac{A^{2} J}{72 K_{u2}^{3}} + \\frac{A J^{2}}{72 K_{u2}^{3}} + \\frac{H^{2} Ms^{2}}{64 K_{u2}^{2}} + \\frac{J^{3}}{216 K_{u2}^{3}}}}} + \\frac{J}{K_{u2} \\sqrt[3]{\\frac{H Ms}{8 K_{u2}} + \\sqrt{\\frac{A^{3}}{216 K_{u2}^{3}} + \\frac{A^{2} J}{72 K_{u2}^{3}} + \\frac{A J^{2}}{72 K_{u2}^{3}} + \\frac{H^{2} Ms^{2}}{64 K_{u2}^{2}} + \\frac{J^{3}}{216 K_{u2}^{3}}}}} - 6 \\sqrt[3]{\\frac{H Ms}{8 K_{u2}} + \\sqrt{\\frac{A^{3}}{216 K_{u2}^{3}} + \\frac{A^{2} J}{72 K_{u2}^{3}} + \\frac{A J^{2}}{72 K_{u2}^{3}} + \\frac{H^{2} Ms^{2}}{64 K_{u2}^{2}} + \\frac{J^{3}}{216 K_{u2}^{3}}}}\\right)^{4} - 324 H_{2 k} H_{k2} \\gamma^{2} \\left(\\frac{A}{K_{u2} \\sqrt[3]{\\frac{H Ms}{8 K_{u2}} + \\sqrt{\\frac{A^{3}}{216 K_{u2}^{3}} + \\frac{A^{2} J}{72 K_{u2}^{3}} + \\frac{A J^{2}}{72 K_{u2}^{3}} + \\frac{H^{2} Ms^{2}}{64 K_{u2}^{2}} + \\frac{J^{3}}{216 K_{u2}^{3}}}}} + \\frac{J}{K_{u2} \\sqrt[3]{\\frac{H Ms}{8 K_{u2}} + \\sqrt{\\frac{A^{3}}{216 K_{u2}^{3}} + \\frac{A^{2} J}{72 K_{u2}^{3}} + \\frac{A J^{2}}{72 K_{u2}^{3}} + \\frac{H^{2} Ms^{2}}{64 K_{u2}^{2}} + \\frac{J^{3}}{216 K_{u2}^{3}}}}} - 6 \\sqrt[3]{\\frac{H Ms}{8 K_{u2}} + \\sqrt{\\frac{A^{3}}{216 K_{u2}^{3}} + \\frac{A^{2} J}{72 K_{u2}^{3}} + \\frac{A J^{2}}{72 K_{u2}^{3}} + \\frac{H^{2} Ms^{2}}{64 K_{u2}^{2}} + \\frac{J^{3}}{216 K_{u2}^{3}}}}\\right)^{4} + 18 H_{k1}^{2} \\gamma^{2} \\left(\\frac{A}{K_{u2} \\sqrt[3]{\\frac{H Ms}{8 K_{u2}} + \\sqrt{\\frac{H^{2} Ms^{2}}{64 K_{u2}^{2}} + \\frac{\\left(A + J\\right)^{3}}{216 K_{u2}^{3}}}}} + \\frac{J}{K_{u2} \\sqrt[3]{\\frac{H Ms}{8 K_{u2}} + \\sqrt{\\frac{H^{2} Ms^{2}}{64 K_{u2}^{2}} + \\frac{\\left(A + J\\right)^{3}}{216 K_{u2}^{3}}}}} - 6 \\sqrt[3]{\\frac{H Ms}{8 K_{u2}} + \\sqrt{\\frac{H^{2} Ms^{2}}{64 K_{u2}^{2}} + \\frac{\\left(A + J\\right)^{3}}{216 K_{u2}^{3}}}}\\right)^{2} \\left(\\frac{A}{K_{u2} \\sqrt[3]{\\frac{H Ms}{8 K_{u2}} + \\sqrt{\\frac{A^{3}}{216 K_{u2}^{3}} + \\frac{A^{2} J}{72 K_{u2}^{3}} + \\frac{A J^{2}}{72 K_{u2}^{3}} + \\frac{H^{2} Ms^{2}}{64 K_{u2}^{2}} + \\frac{J^{3}}{216 K_{u2}^{3}}}}} + \\frac{J}{K_{u2} \\sqrt[3]{\\frac{H Ms}{8 K_{u2}} + \\sqrt{\\frac{A^{3}}{216 K_{u2}^{3}} + \\frac{A^{2} J}{72 K_{u2}^{3}} + \\frac{A J^{2}}{72 K_{u2}^{3}} + \\frac{H^{2} Ms^{2}}{64 K_{u2}^{2}} + \\frac{J^{3}}{216 K_{u2}^{3}}}}} - 6 \\sqrt[3]{\\frac{H Ms}{8 K_{u2}} + \\sqrt{\\frac{A^{3}}{216 K_{u2}^{3}} + \\frac{A^{2} J}{72 K_{u2}^{3}} + \\frac{A J^{2}}{72 K_{u2}^{3}} + \\frac{H^{2} Ms^{2}}{64 K_{u2}^{2}} + \\frac{J^{3}}{216 K_{u2}^{3}}}}\\right)^{4} - 324 H_{k1}^{2} \\gamma^{2} \\left(\\frac{A}{K_{u2} \\sqrt[3]{\\frac{H Ms}{8 K_{u2}} + \\sqrt{\\frac{A^{3}}{216 K_{u2}^{3}} + \\frac{A^{2} J}{72 K_{u2}^{3}} + \\frac{A J^{2}}{72 K_{u2}^{3}} + \\frac{H^{2} Ms^{2}}{64 K_{u2}^{2}} + \\frac{J^{3}}{216 K_{u2}^{3}}}}} + \\frac{J}{K_{u2} \\sqrt[3]{\\frac{H Ms}{8 K_{u2}} + \\sqrt{\\frac{A^{3}}{216 K_{u2}^{3}} + \\frac{A^{2} J}{72 K_{u2}^{3}} + \\frac{A J^{2}}{72 K_{u2}^{3}} + \\frac{H^{2} Ms^{2}}{64 K_{u2}^{2}} + \\frac{J^{3}}{216 K_{u2}^{3}}}}} - 6 \\sqrt[3]{\\frac{H Ms}{8 K_{u2}} + \\sqrt{\\frac{A^{3}}{216 K_{u2}^{3}} + \\frac{A^{2} J}{72 K_{u2}^{3}} + \\frac{A J^{2}}{72 K_{u2}^{3}} + \\frac{H^{2} Ms^{2}}{64 K_{u2}^{2}} + \\frac{J^{3}}{216 K_{u2}^{3}}}}\\right)^{4} + H_{k1} H_{k2} \\gamma^{2} \\left(\\frac{A}{K_{u2} \\sqrt[3]{\\frac{H Ms}{8 K_{u2}} + \\sqrt{\\frac{H^{2} Ms^{2}}{64 K_{u2}^{2}} + \\frac{\\left(A + J\\right)^{3}}{216 K_{u2}^{3}}}}} + \\frac{J}{K_{u2} \\sqrt[3]{\\frac{H Ms}{8 K_{u2}} + \\sqrt{\\frac{H^{2} Ms^{2}}{64 K_{u2}^{2}} + \\frac{\\left(A + J\\right)^{3}}{216 K_{u2}^{3}}}}} - 6 \\sqrt[3]{\\frac{H Ms}{8 K_{u2}} + \\sqrt{\\frac{H^{2} Ms^{2}}{64 K_{u2}^{2}} + \\frac{\\left(A + J\\right)^{3}}{216 K_{u2}^{3}}}}\\right)^{4} \\left(\\frac{A}{K_{u2} \\sqrt[3]{\\frac{H Ms}{8 K_{u2}} + \\sqrt{\\frac{A^{3}}{216 K_{u2}^{3}} + \\frac{A^{2} J}{72 K_{u2}^{3}} + \\frac{A J^{2}}{72 K_{u2}^{3}} + \\frac{H^{2} Ms^{2}}{64 K_{u2}^{2}} + \\frac{J^{3}}{216 K_{u2}^{3}}}}} + \\frac{J}{K_{u2} \\sqrt[3]{\\frac{H Ms}{8 K_{u2}} + \\sqrt{\\frac{A^{3}}{216 K_{u2}^{3}} + \\frac{A^{2} J}{72 K_{u2}^{3}} + \\frac{A J^{2}}{72 K_{u2}^{3}} + \\frac{H^{2} Ms^{2}}{64 K_{u2}^{2}} + \\frac{J^{3}}{216 K_{u2}^{3}}}}} - 6 \\sqrt[3]{\\frac{H Ms}{8 K_{u2}} + \\sqrt{\\frac{A^{3}}{216 K_{u2}^{3}} + \\frac{A^{2} J}{72 K_{u2}^{3}} + \\frac{A J^{2}}{72 K_{u2}^{3}} + \\frac{H^{2} Ms^{2}}{64 K_{u2}^{2}} + \\frac{J^{3}}{216 K_{u2}^{3}}}}\\right)^{4} - 45 H_{k1} H_{k2} \\gamma^{2} \\left(\\frac{A}{K_{u2} \\sqrt[3]{\\frac{H Ms}{8 K_{u2}} + \\sqrt{\\frac{H^{2} Ms^{2}}{64 K_{u2}^{2}} + \\frac{\\left(A + J\\right)^{3}}{216 K_{u2}^{3}}}}} + \\frac{J}{K_{u2} \\sqrt[3]{\\frac{H Ms}{8 K_{u2}} + \\sqrt{\\frac{H^{2} Ms^{2}}{64 K_{u2}^{2}} + \\frac{\\left(A + J\\right)^{3}}{216 K_{u2}^{3}}}}} - 6 \\sqrt[3]{\\frac{H Ms}{8 K_{u2}} + \\sqrt{\\frac{H^{2} Ms^{2}}{64 K_{u2}^{2}} + \\frac{\\left(A + J\\right)^{3}}{216 K_{u2}^{3}}}}\\right)^{2} \\left(\\frac{A}{K_{u2} \\sqrt[3]{\\frac{H Ms}{8 K_{u2}} + \\sqrt{\\frac{A^{3}}{216 K_{u2}^{3}} + \\frac{A^{2} J}{72 K_{u2}^{3}} + \\frac{A J^{2}}{72 K_{u2}^{3}} + \\frac{H^{2} Ms^{2}}{64 K_{u2}^{2}} + \\frac{J^{3}}{216 K_{u2}^{3}}}}} + \\frac{J}{K_{u2} \\sqrt[3]{\\frac{H Ms}{8 K_{u2}} + \\sqrt{\\frac{A^{3}}{216 K_{u2}^{3}} + \\frac{A^{2} J}{72 K_{u2}^{3}} + \\frac{A J^{2}}{72 K_{u2}^{3}} + \\frac{H^{2} Ms^{2}}{64 K_{u2}^{2}} + \\frac{J^{3}}{216 K_{u2}^{3}}}}} - 6 \\sqrt[3]{\\frac{H Ms}{8 K_{u2}} + \\sqrt{\\frac{A^{3}}{216 K_{u2}^{3}} + \\frac{A^{2} J}{72 K_{u2}^{3}} + \\frac{A J^{2}}{72 K_{u2}^{3}} + \\frac{H^{2} Ms^{2}}{64 K_{u2}^{2}} + \\frac{J^{3}}{216 K_{u2}^{3}}}}\\right)^{4} + 324 H_{k1} H_{k2} \\gamma^{2} \\left(\\frac{A}{K_{u2} \\sqrt[3]{\\frac{H Ms}{8 K_{u2}} + \\sqrt{\\frac{A^{3}}{216 K_{u2}^{3}} + \\frac{A^{2} J}{72 K_{u2}^{3}} + \\frac{A J^{2}}{72 K_{u2}^{3}} + \\frac{H^{2} Ms^{2}}{64 K_{u2}^{2}} + \\frac{J^{3}}{216 K_{u2}^{3}}}}} + \\frac{J}{K_{u2} \\sqrt[3]{\\frac{H Ms}{8 K_{u2}} + \\sqrt{\\frac{A^{3}}{216 K_{u2}^{3}} + \\frac{A^{2} J}{72 K_{u2}^{3}} + \\frac{A J^{2}}{72 K_{u2}^{3}} + \\frac{H^{2} Ms^{2}}{64 K_{u2}^{2}} + \\frac{J^{3}}{216 K_{u2}^{3}}}}} - 6 \\sqrt[3]{\\frac{H Ms}{8 K_{u2}} + \\sqrt{\\frac{A^{3}}{216 K_{u2}^{3}} + \\frac{A^{2} J}{72 K_{u2}^{3}} + \\frac{A J^{2}}{72 K_{u2}^{3}} + \\frac{H^{2} Ms^{2}}{64 K_{u2}^{2}} + \\frac{J^{3}}{216 K_{u2}^{3}}}}\\right)^{4} + 419904 \\sqrt{- 4 H^{4} \\gamma^{4} \\left(\\frac{A}{6 K_{u2} \\sqrt[3]{\\frac{H Ms}{8 K_{u2}} + \\sqrt{\\frac{H^{2} Ms^{2}}{64 K_{u2}^{2}} + \\frac{\\left(A + J\\right)^{3}}{216 K_{u2}^{3}}}}} + \\frac{J}{6 K_{u2} \\sqrt[3]{\\frac{H Ms}{8 K_{u2}} + \\sqrt{\\frac{H^{2} Ms^{2}}{64 K_{u2}^{2}} + \\frac{\\left(A + J\\right)^{3}}{216 K_{u2}^{3}}}}} - \\sqrt[3]{\\frac{H Ms}{8 K_{u2}} + \\sqrt{\\frac{H^{2} Ms^{2}}{64 K_{u2}^{2}} + \\frac{\\left(A + J\\right)^{3}}{216 K_{u2}^{3}}}}\\right)^{8} - 16 H^{2} H_{2 k} H_{k1} \\gamma^{4} \\left(\\frac{A}{6 K_{u2} \\sqrt[3]{\\frac{H Ms}{8 K_{u2}} + \\sqrt{\\frac{H^{2} Ms^{2}}{64 K_{u2}^{2}} + \\frac{\\left(A + J\\right)^{3}}{216 K_{u2}^{3}}}}} + \\frac{J}{6 K_{u2} \\sqrt[3]{\\frac{H Ms}{8 K_{u2}} + \\sqrt{\\frac{H^{2} Ms^{2}}{64 K_{u2}^{2}} + \\frac{\\left(A + J\\right)^{3}}{216 K_{u2}^{3}}}}} - \\sqrt[3]{\\frac{H Ms}{8 K_{u2}} + \\sqrt{\\frac{H^{2} Ms^{2}}{64 K_{u2}^{2}} + \\frac{\\left(A + J\\right)^{3}}{216 K_{u2}^{3}}}}\\right)^{10} + 16 H^{2} H_{2 k} H_{k1} \\gamma^{4} \\left(\\frac{A}{6 K_{u2} \\sqrt[3]{\\frac{H Ms}{8 K_{u2}} + \\sqrt{\\frac{H^{2} Ms^{2}}{64 K_{u2}^{2}} + \\frac{\\left(A + J\\right)^{3}}{216 K_{u2}^{3}}}}} + \\frac{J}{6 K_{u2} \\sqrt[3]{\\frac{H Ms}{8 K_{u2}} + \\sqrt{\\frac{H^{2} Ms^{2}}{64 K_{u2}^{2}} + \\frac{\\left(A + J\\right)^{3}}{216 K_{u2}^{3}}}}} - \\sqrt[3]{\\frac{H Ms}{8 K_{u2}} + \\sqrt{\\frac{H^{2} Ms^{2}}{64 K_{u2}^{2}} + \\frac{\\left(A + J\\right)^{3}}{216 K_{u2}^{3}}}}\\right)^{8} - 4 H^{2} H_{2 k} H_{k1} \\gamma^{4} \\left(\\frac{A}{6 K_{u2} \\sqrt[3]{\\frac{H Ms}{8 K_{u2}} + \\sqrt{\\frac{H^{2} Ms^{2}}{64 K_{u2}^{2}} + \\frac{\\left(A + J\\right)^{3}}{216 K_{u2}^{3}}}}} + \\frac{J}{6 K_{u2} \\sqrt[3]{\\frac{H Ms}{8 K_{u2}} + \\sqrt{\\frac{H^{2} Ms^{2}}{64 K_{u2}^{2}} + \\frac{\\left(A + J\\right)^{3}}{216 K_{u2}^{3}}}}} - \\sqrt[3]{\\frac{H Ms}{8 K_{u2}} + \\sqrt{\\frac{H^{2} Ms^{2}}{64 K_{u2}^{2}} + \\frac{\\left(A + J\\right)^{3}}{216 K_{u2}^{3}}}}\\right)^{6} - 32 H^{2} H_{2 k} H_{k2} \\gamma^{4} \\left(\\frac{A}{6 K_{u2} \\sqrt[3]{\\frac{H Ms}{8 K_{u2}} + \\sqrt{\\frac{H^{2} Ms^{2}}{64 K_{u2}^{2}} + \\frac{\\left(A + J\\right)^{3}}{216 K_{u2}^{3}}}}} + \\frac{J}{6 K_{u2} \\sqrt[3]{\\frac{H Ms}{8 K_{u2}} + \\sqrt{\\frac{H^{2} Ms^{2}}{64 K_{u2}^{2}} + \\frac{\\left(A + J\\right)^{3}}{216 K_{u2}^{3}}}}} - \\sqrt[3]{\\frac{H Ms}{8 K_{u2}} + \\sqrt{\\frac{H^{2} Ms^{2}}{64 K_{u2}^{2}} + \\frac{\\left(A + J\\right)^{3}}{216 K_{u2}^{3}}}}\\right)^{12} + 56 H^{2} H_{2 k} H_{k2} \\gamma^{4} \\left(\\frac{A}{6 K_{u2} \\sqrt[3]{\\frac{H Ms}{8 K_{u2}} + \\sqrt{\\frac{H^{2} Ms^{2}}{64 K_{u2}^{2}} + \\frac{\\left(A + J\\right)^{3}}{216 K_{u2}^{3}}}}} + \\frac{J}{6 K_{u2} \\sqrt[3]{\\frac{H Ms}{8 K_{u2}} + \\sqrt{\\frac{H^{2} Ms^{2}}{64 K_{u2}^{2}} + \\frac{\\left(A + J\\right)^{3}}{216 K_{u2}^{3}}}}} - \\sqrt[3]{\\frac{H Ms}{8 K_{u2}} + \\sqrt{\\frac{H^{2} Ms^{2}}{64 K_{u2}^{2}} + \\frac{\\left(A + J\\right)^{3}}{216 K_{u2}^{3}}}}\\right)^{10} - 28 H^{2} H_{2 k} H_{k2} \\gamma^{4} \\left(\\frac{A}{6 K_{u2} \\sqrt[3]{\\frac{H Ms}{8 K_{u2}} + \\sqrt{\\frac{H^{2} Ms^{2}}{64 K_{u2}^{2}} + \\frac{\\left(A + J\\right)^{3}}{216 K_{u2}^{3}}}}} + \\frac{J}{6 K_{u2} \\sqrt[3]{\\frac{H Ms}{8 K_{u2}} + \\sqrt{\\frac{H^{2} Ms^{2}}{64 K_{u2}^{2}} + \\frac{\\left(A + J\\right)^{3}}{216 K_{u2}^{3}}}}} - \\sqrt[3]{\\frac{H Ms}{8 K_{u2}} + \\sqrt{\\frac{H^{2} Ms^{2}}{64 K_{u2}^{2}} + \\frac{\\left(A + J\\right)^{3}}{216 K_{u2}^{3}}}}\\right)^{8} + 4 H^{2} H_{2 k} H_{k2} \\gamma^{4} \\left(\\frac{A}{6 K_{u2} \\sqrt[3]{\\frac{H Ms}{8 K_{u2}} + \\sqrt{\\frac{H^{2} Ms^{2}}{64 K_{u2}^{2}} + \\frac{\\left(A + J\\right)^{3}}{216 K_{u2}^{3}}}}} + \\frac{J}{6 K_{u2} \\sqrt[3]{\\frac{H Ms}{8 K_{u2}} + \\sqrt{\\frac{H^{2} Ms^{2}}{64 K_{u2}^{2}} + \\frac{\\left(A + J\\right)^{3}}{216 K_{u2}^{3}}}}} - \\sqrt[3]{\\frac{H Ms}{8 K_{u2}} + \\sqrt{\\frac{H^{2} Ms^{2}}{64 K_{u2}^{2}} + \\frac{\\left(A + J\\right)^{3}}{216 K_{u2}^{3}}}}\\right)^{6} + 32 H^{2} H_{k1}^{2} \\gamma^{4} \\left(\\frac{A}{6 K_{u2} \\sqrt[3]{\\frac{H Ms}{8 K_{u2}} + \\sqrt{\\frac{H^{2} Ms^{2}}{64 K_{u2}^{2}} + \\frac{\\left(A + J\\right)^{3}}{216 K_{u2}^{3}}}}} + \\frac{J}{6 K_{u2} \\sqrt[3]{\\frac{H Ms}{8 K_{u2}} + \\sqrt{\\frac{H^{2} Ms^{2}}{64 K_{u2}^{2}} + \\frac{\\left(A + J\\right)^{3}}{216 K_{u2}^{3}}}}} - \\sqrt[3]{\\frac{H Ms}{8 K_{u2}} + \\sqrt{\\frac{H^{2} Ms^{2}}{64 K_{u2}^{2}} + \\frac{\\left(A + J\\right)^{3}}{216 K_{u2}^{3}}}}\\right)^{10} - 32 H^{2} H_{k1}^{2} \\gamma^{4} \\left(\\frac{A}{6 K_{u2} \\sqrt[3]{\\frac{H Ms}{8 K_{u2}} + \\sqrt{\\frac{H^{2} Ms^{2}}{64 K_{u2}^{2}} + \\frac{\\left(A + J\\right)^{3}}{216 K_{u2}^{3}}}}} + \\frac{J}{6 K_{u2} \\sqrt[3]{\\frac{H Ms}{8 K_{u2}} + \\sqrt{\\frac{H^{2} Ms^{2}}{64 K_{u2}^{2}} + \\frac{\\left(A + J\\right)^{3}}{216 K_{u2}^{3}}}}} - \\sqrt[3]{\\frac{H Ms}{8 K_{u2}} + \\sqrt{\\frac{H^{2} Ms^{2}}{64 K_{u2}^{2}} + \\frac{\\left(A + J\\right)^{3}}{216 K_{u2}^{3}}}}\\right)^{8} + 8 H^{2} H_{k1}^{2} \\gamma^{4} \\left(\\frac{A}{6 K_{u2} \\sqrt[3]{\\frac{H Ms}{8 K_{u2}} + \\sqrt{\\frac{H^{2} Ms^{2}}{64 K_{u2}^{2}} + \\frac{\\left(A + J\\right)^{3}}{216 K_{u2}^{3}}}}} + \\frac{J}{6 K_{u2} \\sqrt[3]{\\frac{H Ms}{8 K_{u2}} + \\sqrt{\\frac{H^{2} Ms^{2}}{64 K_{u2}^{2}} + \\frac{\\left(A + J\\right)^{3}}{216 K_{u2}^{3}}}}} - \\sqrt[3]{\\frac{H Ms}{8 K_{u2}} + \\sqrt{\\frac{H^{2} Ms^{2}}{64 K_{u2}^{2}} + \\frac{\\left(A + J\\right)^{3}}{216 K_{u2}^{3}}}}\\right)^{6} + 96 H^{2} H_{k1} H_{k2} \\gamma^{4} \\left(\\frac{A}{6 K_{u2} \\sqrt[3]{\\frac{H Ms}{8 K_{u2}} + \\sqrt{\\frac{H^{2} Ms^{2}}{64 K_{u2}^{2}} + \\frac{\\left(A + J\\right)^{3}}{216 K_{u2}^{3}}}}} + \\frac{J}{6 K_{u2} \\sqrt[3]{\\frac{H Ms}{8 K_{u2}} + \\sqrt{\\frac{H^{2} Ms^{2}}{64 K_{u2}^{2}} + \\frac{\\left(A + J\\right)^{3}}{216 K_{u2}^{3}}}}} - \\sqrt[3]{\\frac{H Ms}{8 K_{u2}} + \\sqrt{\\frac{H^{2} Ms^{2}}{64 K_{u2}^{2}} + \\frac{\\left(A + J\\right)^{3}}{216 K_{u2}^{3}}}}\\right)^{12} - 168 H^{2} H_{k1} H_{k2} \\gamma^{4} \\left(\\frac{A}{6 K_{u2} \\sqrt[3]{\\frac{H Ms}{8 K_{u2}} + \\sqrt{\\frac{H^{2} Ms^{2}}{64 K_{u2}^{2}} + \\frac{\\left(A + J\\right)^{3}}{216 K_{u2}^{3}}}}} + \\frac{J}{6 K_{u2} \\sqrt[3]{\\frac{H Ms}{8 K_{u2}} + \\sqrt{\\frac{H^{2} Ms^{2}}{64 K_{u2}^{2}} + \\frac{\\left(A + J\\right)^{3}}{216 K_{u2}^{3}}}}} - \\sqrt[3]{\\frac{H Ms}{8 K_{u2}} + \\sqrt{\\frac{H^{2} Ms^{2}}{64 K_{u2}^{2}} + \\frac{\\left(A + J\\right)^{3}}{216 K_{u2}^{3}}}}\\right)^{10} + 84 H^{2} H_{k1} H_{k2} \\gamma^{4} \\left(\\frac{A}{6 K_{u2} \\sqrt[3]{\\frac{H Ms}{8 K_{u2}} + \\sqrt{\\frac{H^{2} Ms^{2}}{64 K_{u2}^{2}} + \\frac{\\left(A + J\\right)^{3}}{216 K_{u2}^{3}}}}} + \\frac{J}{6 K_{u2} \\sqrt[3]{\\frac{H Ms}{8 K_{u2}} + \\sqrt{\\frac{H^{2} Ms^{2}}{64 K_{u2}^{2}} + \\frac{\\left(A + J\\right)^{3}}{216 K_{u2}^{3}}}}} - \\sqrt[3]{\\frac{H Ms}{8 K_{u2}} + \\sqrt{\\frac{H^{2} Ms^{2}}{64 K_{u2}^{2}} + \\frac{\\left(A + J\\right)^{3}}{216 K_{u2}^{3}}}}\\right)^{8} - 12 H^{2} H_{k1} H_{k2} \\gamma^{4} \\left(\\frac{A}{6 K_{u2} \\sqrt[3]{\\frac{H Ms}{8 K_{u2}} + \\sqrt{\\frac{H^{2} Ms^{2}}{64 K_{u2}^{2}} + \\frac{\\left(A + J\\right)^{3}}{216 K_{u2}^{3}}}}} + \\frac{J}{6 K_{u2} \\sqrt[3]{\\frac{H Ms}{8 K_{u2}} + \\sqrt{\\frac{H^{2} Ms^{2}}{64 K_{u2}^{2}} + \\frac{\\left(A + J\\right)^{3}}{216 K_{u2}^{3}}}}} - \\sqrt[3]{\\frac{H Ms}{8 K_{u2}} + \\sqrt{\\frac{H^{2} Ms^{2}}{64 K_{u2}^{2}} + \\frac{\\left(A + J\\right)^{3}}{216 K_{u2}^{3}}}}\\right)^{6} + 64 H^{2} H_{k2}^{2} \\gamma^{4} \\left(\\frac{A}{6 K_{u2} \\sqrt[3]{\\frac{H Ms}{8 K_{u2}} + \\sqrt{\\frac{H^{2} Ms^{2}}{64 K_{u2}^{2}} + \\frac{\\left(A + J\\right)^{3}}{216 K_{u2}^{3}}}}} + \\frac{J}{6 K_{u2} \\sqrt[3]{\\frac{H Ms}{8 K_{u2}} + \\sqrt{\\frac{H^{2} Ms^{2}}{64 K_{u2}^{2}} + \\frac{\\left(A + J\\right)^{3}}{216 K_{u2}^{3}}}}} - \\sqrt[3]{\\frac{H Ms}{8 K_{u2}} + \\sqrt{\\frac{H^{2} Ms^{2}}{64 K_{u2}^{2}} + \\frac{\\left(A + J\\right)^{3}}{216 K_{u2}^{3}}}}\\right)^{14} - 160 H^{2} H_{k2}^{2} \\gamma^{4} \\left(\\frac{A}{6 K_{u2} \\sqrt[3]{\\frac{H Ms}{8 K_{u2}} + \\sqrt{\\frac{H^{2} Ms^{2}}{64 K_{u2}^{2}} + \\frac{\\left(A + J\\right)^{3}}{216 K_{u2}^{3}}}}} + \\frac{J}{6 K_{u2} \\sqrt[3]{\\frac{H Ms}{8 K_{u2}} + \\sqrt{\\frac{H^{2} Ms^{2}}{64 K_{u2}^{2}} + \\frac{\\left(A + J\\right)^{3}}{216 K_{u2}^{3}}}}} - \\sqrt[3]{\\frac{H Ms}{8 K_{u2}} + \\sqrt{\\frac{H^{2} Ms^{2}}{64 K_{u2}^{2}} + \\frac{\\left(A + J\\right)^{3}}{216 K_{u2}^{3}}}}\\right)^{12} + 132 H^{2} H_{k2}^{2} \\gamma^{4} \\left(\\frac{A}{6 K_{u2} \\sqrt[3]{\\frac{H Ms}{8 K_{u2}} + \\sqrt{\\frac{H^{2} Ms^{2}}{64 K_{u2}^{2}} + \\frac{\\left(A + J\\right)^{3}}{216 K_{u2}^{3}}}}} + \\frac{J}{6 K_{u2} \\sqrt[3]{\\frac{H Ms}{8 K_{u2}} + \\sqrt{\\frac{H^{2} Ms^{2}}{64 K_{u2}^{2}} + \\frac{\\left(A + J\\right)^{3}}{216 K_{u2}^{3}}}}} - \\sqrt[3]{\\frac{H Ms}{8 K_{u2}} + \\sqrt{\\frac{H^{2} Ms^{2}}{64 K_{u2}^{2}} + \\frac{\\left(A + J\\right)^{3}}{216 K_{u2}^{3}}}}\\right)^{10} - 40 H^{2} H_{k2}^{2} \\gamma^{4} \\left(\\frac{A}{6 K_{u2} \\sqrt[3]{\\frac{H Ms}{8 K_{u2}} + \\sqrt{\\frac{H^{2} Ms^{2}}{64 K_{u2}^{2}} + \\frac{\\left(A + J\\right)^{3}}{216 K_{u2}^{3}}}}} + \\frac{J}{6 K_{u2} \\sqrt[3]{\\frac{H Ms}{8 K_{u2}} + \\sqrt{\\frac{H^{2} Ms^{2}}{64 K_{u2}^{2}} + \\frac{\\left(A + J\\right)^{3}}{216 K_{u2}^{3}}}}} - \\sqrt[3]{\\frac{H Ms}{8 K_{u2}} + \\sqrt{\\frac{H^{2} Ms^{2}}{64 K_{u2}^{2}} + \\frac{\\left(A + J\\right)^{3}}{216 K_{u2}^{3}}}}\\right)^{8} + 4 H^{2} H_{k2}^{2} \\gamma^{4} \\left(\\frac{A}{6 K_{u2} \\sqrt[3]{\\frac{H Ms}{8 K_{u2}} + \\sqrt{\\frac{H^{2} Ms^{2}}{64 K_{u2}^{2}} + \\frac{\\left(A + J\\right)^{3}}{216 K_{u2}^{3}}}}} + \\frac{J}{6 K_{u2} \\sqrt[3]{\\frac{H Ms}{8 K_{u2}} + \\sqrt{\\frac{H^{2} Ms^{2}}{64 K_{u2}^{2}} + \\frac{\\left(A + J\\right)^{3}}{216 K_{u2}^{3}}}}} - \\sqrt[3]{\\frac{H Ms}{8 K_{u2}} + \\sqrt{\\frac{H^{2} Ms^{2}}{64 K_{u2}^{2}} + \\frac{\\left(A + J\\right)^{3}}{216 K_{u2}^{3}}}}\\right)^{6} + \\gamma^{4} \\left(\\frac{A}{6 K_{u2} \\sqrt[3]{\\frac{H Ms}{8 K_{u2}} + \\sqrt{\\frac{H^{2} Ms^{2}}{64 K_{u2}^{2}} + \\frac{\\left(A + J\\right)^{3}}{216 K_{u2}^{3}}}}} + \\frac{J}{6 K_{u2} \\sqrt[3]{\\frac{H Ms}{8 K_{u2}} + \\sqrt{\\frac{H^{2} Ms^{2}}{64 K_{u2}^{2}} + \\frac{\\left(A + J\\right)^{3}}{216 K_{u2}^{3}}}}} - \\sqrt[3]{\\frac{H Ms}{8 K_{u2}} + \\sqrt{\\frac{H^{2} Ms^{2}}{64 K_{u2}^{2}} + \\frac{\\left(A + J\\right)^{3}}{216 K_{u2}^{3}}}}\\right)^{8} \\left(2 H^{2} - 2 H_{2 k} H_{k1} \\left(- \\frac{A}{6 K_{u2} \\sqrt[3]{\\frac{H Ms}{8 K_{u2}} + \\sqrt{\\frac{H^{2} Ms^{2}}{64 K_{u2}^{2}} + \\frac{\\left(A + J\\right)^{3}}{216 K_{u2}^{3}}}}} - \\frac{J}{6 K_{u2} \\sqrt[3]{\\frac{H Ms}{8 K_{u2}} + \\sqrt{\\frac{H^{2} Ms^{2}}{64 K_{u2}^{2}} + \\frac{\\left(A + J\\right)^{3}}{216 K_{u2}^{3}}}}} + \\sqrt[3]{\\frac{H Ms}{8 K_{u2}} + \\sqrt{\\frac{H^{2} Ms^{2}}{64 K_{u2}^{2}} + \\frac{\\left(A + J\\right)^{3}}{216 K_{u2}^{3}}}}\\right)^{2} + H_{2 k} H_{k1} - 4 H_{2 k} H_{k2} \\left(- \\frac{A}{6 K_{u2} \\sqrt[3]{\\frac{H Ms}{8 K_{u2}} + \\sqrt{\\frac{H^{2} Ms^{2}}{64 K_{u2}^{2}} + \\frac{\\left(A + J\\right)^{3}}{216 K_{u2}^{3}}}}} - \\frac{J}{6 K_{u2} \\sqrt[3]{\\frac{H Ms}{8 K_{u2}} + \\sqrt{\\frac{H^{2} Ms^{2}}{64 K_{u2}^{2}} + \\frac{\\left(A + J\\right)^{3}}{216 K_{u2}^{3}}}}} + \\sqrt[3]{\\frac{H Ms}{8 K_{u2}} + \\sqrt{\\frac{H^{2} Ms^{2}}{64 K_{u2}^{2}} + \\frac{\\left(A + J\\right)^{3}}{216 K_{u2}^{3}}}}\\right)^{4} + 5 H_{2 k} H_{k2} \\left(- \\frac{A}{6 K_{u2} \\sqrt[3]{\\frac{H Ms}{8 K_{u2}} + \\sqrt{\\frac{H^{2} Ms^{2}}{64 K_{u2}^{2}} + \\frac{\\left(A + J\\right)^{3}}{216 K_{u2}^{3}}}}} - \\frac{J}{6 K_{u2} \\sqrt[3]{\\frac{H Ms}{8 K_{u2}} + \\sqrt{\\frac{H^{2} Ms^{2}}{64 K_{u2}^{2}} + \\frac{\\left(A + J\\right)^{3}}{216 K_{u2}^{3}}}}} + \\sqrt[3]{\\frac{H Ms}{8 K_{u2}} + \\sqrt{\\frac{H^{2} Ms^{2}}{64 K_{u2}^{2}} + \\frac{\\left(A + J\\right)^{3}}{216 K_{u2}^{3}}}}\\right)^{2} - H_{2 k} H_{k2} + 2 H_{k1}^{2} \\left(- \\frac{A}{6 K_{u2} \\sqrt[3]{\\frac{H Ms}{8 K_{u2}} + \\sqrt{\\frac{H^{2} Ms^{2}}{64 K_{u2}^{2}} + \\frac{\\left(A + J\\right)^{3}}{216 K_{u2}^{3}}}}} - \\frac{J}{6 K_{u2} \\sqrt[3]{\\frac{H Ms}{8 K_{u2}} + \\sqrt{\\frac{H^{2} Ms^{2}}{64 K_{u2}^{2}} + \\frac{\\left(A + J\\right)^{3}}{216 K_{u2}^{3}}}}} + \\sqrt[3]{\\frac{H Ms}{8 K_{u2}} + \\sqrt{\\frac{H^{2} Ms^{2}}{64 K_{u2}^{2}} + \\frac{\\left(A + J\\right)^{3}}{216 K_{u2}^{3}}}}\\right)^{2} - H_{k1}^{2} + 4 H_{k1} H_{k2} \\left(- \\frac{A}{6 K_{u2} \\sqrt[3]{\\frac{H Ms}{8 K_{u2}} + \\sqrt{\\frac{H^{2} Ms^{2}}{64 K_{u2}^{2}} + \\frac{\\left(A + J\\right)^{3}}{216 K_{u2}^{3}}}}} - \\frac{J}{6 K_{u2} \\sqrt[3]{\\frac{H Ms}{8 K_{u2}} + \\sqrt{\\frac{H^{2} Ms^{2}}{64 K_{u2}^{2}} + \\frac{\\left(A + J\\right)^{3}}{216 K_{u2}^{3}}}}} + \\sqrt[3]{\\frac{H Ms}{8 K_{u2}} + \\sqrt{\\frac{H^{2} Ms^{2}}{64 K_{u2}^{2}} + \\frac{\\left(A + J\\right)^{3}}{216 K_{u2}^{3}}}}\\right)^{4} - 5 H_{k1} H_{k2} \\left(- \\frac{A}{6 K_{u2} \\sqrt[3]{\\frac{H Ms}{8 K_{u2}} + \\sqrt{\\frac{H^{2} Ms^{2}}{64 K_{u2}^{2}} + \\frac{\\left(A + J\\right)^{3}}{216 K_{u2}^{3}}}}} - \\frac{J}{6 K_{u2} \\sqrt[3]{\\frac{H Ms}{8 K_{u2}} + \\sqrt{\\frac{H^{2} Ms^{2}}{64 K_{u2}^{2}} + \\frac{\\left(A + J\\right)^{3}}{216 K_{u2}^{3}}}}} + \\sqrt[3]{\\frac{H Ms}{8 K_{u2}} + \\sqrt{\\frac{H^{2} Ms^{2}}{64 K_{u2}^{2}} + \\frac{\\left(A + J\\right)^{3}}{216 K_{u2}^{3}}}}\\right)^{2} + H_{k1} H_{k2}\\right)^{2}}}{\\left(\\frac{A}{K_{u2} \\sqrt[3]{\\frac{H Ms}{8 K_{u2}} + \\sqrt{\\frac{A^{3}}{216 K_{u2}^{3}} + \\frac{A^{2} J}{72 K_{u2}^{3}} + \\frac{A J^{2}}{72 K_{u2}^{3}} + \\frac{H^{2} Ms^{2}}{64 K_{u2}^{2}} + \\frac{J^{3}}{216 K_{u2}^{3}}}}} + \\frac{J}{K_{u2} \\sqrt[3]{\\frac{H Ms}{8 K_{u2}} + \\sqrt{\\frac{A^{3}}{216 K_{u2}^{3}} + \\frac{A^{2} J}{72 K_{u2}^{3}} + \\frac{A J^{2}}{72 K_{u2}^{3}} + \\frac{H^{2} Ms^{2}}{64 K_{u2}^{2}} + \\frac{J^{3}}{216 K_{u2}^{3}}}}} - 6 \\sqrt[3]{\\frac{H Ms}{8 K_{u2}} + \\sqrt{\\frac{A^{3}}{216 K_{u2}^{3}} + \\frac{A^{2} J}{72 K_{u2}^{3}} + \\frac{A J^{2}}{72 K_{u2}^{3}} + \\frac{H^{2} Ms^{2}}{64 K_{u2}^{2}} + \\frac{J^{3}}{216 K_{u2}^{3}}}}\\right)^{4}}}}{36}$"
      ],
      "text/plain": [
       "sqrt(2)*sqrt(-(648*H**2*gamma**2*(A/(K_u2*(H*Ms/(8*K_u2) + sqrt(A**3/(216*K_u2**3) + A**2*J/(72*K_u2**3) + A*J**2/(72*K_u2**3) + H**2*Ms**2/(64*K_u2**2) + J**3/(216*K_u2**3)))**(1/3)) + J/(K_u2*(H*Ms/(8*K_u2) + sqrt(A**3/(216*K_u2**3) + A**2*J/(72*K_u2**3) + A*J**2/(72*K_u2**3) + H**2*Ms**2/(64*K_u2**2) + J**3/(216*K_u2**3)))**(1/3)) - 6*(H*Ms/(8*K_u2) + sqrt(A**3/(216*K_u2**3) + A**2*J/(72*K_u2**3) + A*J**2/(72*K_u2**3) + H**2*Ms**2/(64*K_u2**2) + J**3/(216*K_u2**3)))**(1/3))**4 - 18*H2_k*H_k1*gamma**2*(A/(K_u2*(H*Ms/(8*K_u2) + sqrt(H**2*Ms**2/(64*K_u2**2) + (A + J)**3/(216*K_u2**3)))**(1/3)) + J/(K_u2*(H*Ms/(8*K_u2) + sqrt(H**2*Ms**2/(64*K_u2**2) + (A + J)**3/(216*K_u2**3)))**(1/3)) - 6*(H*Ms/(8*K_u2) + sqrt(H**2*Ms**2/(64*K_u2**2) + (A + J)**3/(216*K_u2**3)))**(1/3))**2*(A/(K_u2*(H*Ms/(8*K_u2) + sqrt(A**3/(216*K_u2**3) + A**2*J/(72*K_u2**3) + A*J**2/(72*K_u2**3) + H**2*Ms**2/(64*K_u2**2) + J**3/(216*K_u2**3)))**(1/3)) + J/(K_u2*(H*Ms/(8*K_u2) + sqrt(A**3/(216*K_u2**3) + A**2*J/(72*K_u2**3) + A*J**2/(72*K_u2**3) + H**2*Ms**2/(64*K_u2**2) + J**3/(216*K_u2**3)))**(1/3)) - 6*(H*Ms/(8*K_u2) + sqrt(A**3/(216*K_u2**3) + A**2*J/(72*K_u2**3) + A*J**2/(72*K_u2**3) + H**2*Ms**2/(64*K_u2**2) + J**3/(216*K_u2**3)))**(1/3))**4 + 324*H2_k*H_k1*gamma**2*(A/(K_u2*(H*Ms/(8*K_u2) + sqrt(A**3/(216*K_u2**3) + A**2*J/(72*K_u2**3) + A*J**2/(72*K_u2**3) + H**2*Ms**2/(64*K_u2**2) + J**3/(216*K_u2**3)))**(1/3)) + J/(K_u2*(H*Ms/(8*K_u2) + sqrt(A**3/(216*K_u2**3) + A**2*J/(72*K_u2**3) + A*J**2/(72*K_u2**3) + H**2*Ms**2/(64*K_u2**2) + J**3/(216*K_u2**3)))**(1/3)) - 6*(H*Ms/(8*K_u2) + sqrt(A**3/(216*K_u2**3) + A**2*J/(72*K_u2**3) + A*J**2/(72*K_u2**3) + H**2*Ms**2/(64*K_u2**2) + J**3/(216*K_u2**3)))**(1/3))**4 - H2_k*H_k2*gamma**2*(A/(K_u2*(H*Ms/(8*K_u2) + sqrt(H**2*Ms**2/(64*K_u2**2) + (A + J)**3/(216*K_u2**3)))**(1/3)) + J/(K_u2*(H*Ms/(8*K_u2) + sqrt(H**2*Ms**2/(64*K_u2**2) + (A + J)**3/(216*K_u2**3)))**(1/3)) - 6*(H*Ms/(8*K_u2) + sqrt(H**2*Ms**2/(64*K_u2**2) + (A + J)**3/(216*K_u2**3)))**(1/3))**4*(A/(K_u2*(H*Ms/(8*K_u2) + sqrt(A**3/(216*K_u2**3) + A**2*J/(72*K_u2**3) + A*J**2/(72*K_u2**3) + H**2*Ms**2/(64*K_u2**2) + J**3/(216*K_u2**3)))**(1/3)) + J/(K_u2*(H*Ms/(8*K_u2) + sqrt(A**3/(216*K_u2**3) + A**2*J/(72*K_u2**3) + A*J**2/(72*K_u2**3) + H**2*Ms**2/(64*K_u2**2) + J**3/(216*K_u2**3)))**(1/3)) - 6*(H*Ms/(8*K_u2) + sqrt(A**3/(216*K_u2**3) + A**2*J/(72*K_u2**3) + A*J**2/(72*K_u2**3) + H**2*Ms**2/(64*K_u2**2) + J**3/(216*K_u2**3)))**(1/3))**4 + 45*H2_k*H_k2*gamma**2*(A/(K_u2*(H*Ms/(8*K_u2) + sqrt(H**2*Ms**2/(64*K_u2**2) + (A + J)**3/(216*K_u2**3)))**(1/3)) + J/(K_u2*(H*Ms/(8*K_u2) + sqrt(H**2*Ms**2/(64*K_u2**2) + (A + J)**3/(216*K_u2**3)))**(1/3)) - 6*(H*Ms/(8*K_u2) + sqrt(H**2*Ms**2/(64*K_u2**2) + (A + J)**3/(216*K_u2**3)))**(1/3))**2*(A/(K_u2*(H*Ms/(8*K_u2) + sqrt(A**3/(216*K_u2**3) + A**2*J/(72*K_u2**3) + A*J**2/(72*K_u2**3) + H**2*Ms**2/(64*K_u2**2) + J**3/(216*K_u2**3)))**(1/3)) + J/(K_u2*(H*Ms/(8*K_u2) + sqrt(A**3/(216*K_u2**3) + A**2*J/(72*K_u2**3) + A*J**2/(72*K_u2**3) + H**2*Ms**2/(64*K_u2**2) + J**3/(216*K_u2**3)))**(1/3)) - 6*(H*Ms/(8*K_u2) + sqrt(A**3/(216*K_u2**3) + A**2*J/(72*K_u2**3) + A*J**2/(72*K_u2**3) + H**2*Ms**2/(64*K_u2**2) + J**3/(216*K_u2**3)))**(1/3))**4 - 324*H2_k*H_k2*gamma**2*(A/(K_u2*(H*Ms/(8*K_u2) + sqrt(A**3/(216*K_u2**3) + A**2*J/(72*K_u2**3) + A*J**2/(72*K_u2**3) + H**2*Ms**2/(64*K_u2**2) + J**3/(216*K_u2**3)))**(1/3)) + J/(K_u2*(H*Ms/(8*K_u2) + sqrt(A**3/(216*K_u2**3) + A**2*J/(72*K_u2**3) + A*J**2/(72*K_u2**3) + H**2*Ms**2/(64*K_u2**2) + J**3/(216*K_u2**3)))**(1/3)) - 6*(H*Ms/(8*K_u2) + sqrt(A**3/(216*K_u2**3) + A**2*J/(72*K_u2**3) + A*J**2/(72*K_u2**3) + H**2*Ms**2/(64*K_u2**2) + J**3/(216*K_u2**3)))**(1/3))**4 + 18*H_k1**2*gamma**2*(A/(K_u2*(H*Ms/(8*K_u2) + sqrt(H**2*Ms**2/(64*K_u2**2) + (A + J)**3/(216*K_u2**3)))**(1/3)) + J/(K_u2*(H*Ms/(8*K_u2) + sqrt(H**2*Ms**2/(64*K_u2**2) + (A + J)**3/(216*K_u2**3)))**(1/3)) - 6*(H*Ms/(8*K_u2) + sqrt(H**2*Ms**2/(64*K_u2**2) + (A + J)**3/(216*K_u2**3)))**(1/3))**2*(A/(K_u2*(H*Ms/(8*K_u2) + sqrt(A**3/(216*K_u2**3) + A**2*J/(72*K_u2**3) + A*J**2/(72*K_u2**3) + H**2*Ms**2/(64*K_u2**2) + J**3/(216*K_u2**3)))**(1/3)) + J/(K_u2*(H*Ms/(8*K_u2) + sqrt(A**3/(216*K_u2**3) + A**2*J/(72*K_u2**3) + A*J**2/(72*K_u2**3) + H**2*Ms**2/(64*K_u2**2) + J**3/(216*K_u2**3)))**(1/3)) - 6*(H*Ms/(8*K_u2) + sqrt(A**3/(216*K_u2**3) + A**2*J/(72*K_u2**3) + A*J**2/(72*K_u2**3) + H**2*Ms**2/(64*K_u2**2) + J**3/(216*K_u2**3)))**(1/3))**4 - 324*H_k1**2*gamma**2*(A/(K_u2*(H*Ms/(8*K_u2) + sqrt(A**3/(216*K_u2**3) + A**2*J/(72*K_u2**3) + A*J**2/(72*K_u2**3) + H**2*Ms**2/(64*K_u2**2) + J**3/(216*K_u2**3)))**(1/3)) + J/(K_u2*(H*Ms/(8*K_u2) + sqrt(A**3/(216*K_u2**3) + A**2*J/(72*K_u2**3) + A*J**2/(72*K_u2**3) + H**2*Ms**2/(64*K_u2**2) + J**3/(216*K_u2**3)))**(1/3)) - 6*(H*Ms/(8*K_u2) + sqrt(A**3/(216*K_u2**3) + A**2*J/(72*K_u2**3) + A*J**2/(72*K_u2**3) + H**2*Ms**2/(64*K_u2**2) + J**3/(216*K_u2**3)))**(1/3))**4 + H_k1*H_k2*gamma**2*(A/(K_u2*(H*Ms/(8*K_u2) + sqrt(H**2*Ms**2/(64*K_u2**2) + (A + J)**3/(216*K_u2**3)))**(1/3)) + J/(K_u2*(H*Ms/(8*K_u2) + sqrt(H**2*Ms**2/(64*K_u2**2) + (A + J)**3/(216*K_u2**3)))**(1/3)) - 6*(H*Ms/(8*K_u2) + sqrt(H**2*Ms**2/(64*K_u2**2) + (A + J)**3/(216*K_u2**3)))**(1/3))**4*(A/(K_u2*(H*Ms/(8*K_u2) + sqrt(A**3/(216*K_u2**3) + A**2*J/(72*K_u2**3) + A*J**2/(72*K_u2**3) + H**2*Ms**2/(64*K_u2**2) + J**3/(216*K_u2**3)))**(1/3)) + J/(K_u2*(H*Ms/(8*K_u2) + sqrt(A**3/(216*K_u2**3) + A**2*J/(72*K_u2**3) + A*J**2/(72*K_u2**3) + H**2*Ms**2/(64*K_u2**2) + J**3/(216*K_u2**3)))**(1/3)) - 6*(H*Ms/(8*K_u2) + sqrt(A**3/(216*K_u2**3) + A**2*J/(72*K_u2**3) + A*J**2/(72*K_u2**3) + H**2*Ms**2/(64*K_u2**2) + J**3/(216*K_u2**3)))**(1/3))**4 - 45*H_k1*H_k2*gamma**2*(A/(K_u2*(H*Ms/(8*K_u2) + sqrt(H**2*Ms**2/(64*K_u2**2) + (A + J)**3/(216*K_u2**3)))**(1/3)) + J/(K_u2*(H*Ms/(8*K_u2) + sqrt(H**2*Ms**2/(64*K_u2**2) + (A + J)**3/(216*K_u2**3)))**(1/3)) - 6*(H*Ms/(8*K_u2) + sqrt(H**2*Ms**2/(64*K_u2**2) + (A + J)**3/(216*K_u2**3)))**(1/3))**2*(A/(K_u2*(H*Ms/(8*K_u2) + sqrt(A**3/(216*K_u2**3) + A**2*J/(72*K_u2**3) + A*J**2/(72*K_u2**3) + H**2*Ms**2/(64*K_u2**2) + J**3/(216*K_u2**3)))**(1/3)) + J/(K_u2*(H*Ms/(8*K_u2) + sqrt(A**3/(216*K_u2**3) + A**2*J/(72*K_u2**3) + A*J**2/(72*K_u2**3) + H**2*Ms**2/(64*K_u2**2) + J**3/(216*K_u2**3)))**(1/3)) - 6*(H*Ms/(8*K_u2) + sqrt(A**3/(216*K_u2**3) + A**2*J/(72*K_u2**3) + A*J**2/(72*K_u2**3) + H**2*Ms**2/(64*K_u2**2) + J**3/(216*K_u2**3)))**(1/3))**4 + 324*H_k1*H_k2*gamma**2*(A/(K_u2*(H*Ms/(8*K_u2) + sqrt(A**3/(216*K_u2**3) + A**2*J/(72*K_u2**3) + A*J**2/(72*K_u2**3) + H**2*Ms**2/(64*K_u2**2) + J**3/(216*K_u2**3)))**(1/3)) + J/(K_u2*(H*Ms/(8*K_u2) + sqrt(A**3/(216*K_u2**3) + A**2*J/(72*K_u2**3) + A*J**2/(72*K_u2**3) + H**2*Ms**2/(64*K_u2**2) + J**3/(216*K_u2**3)))**(1/3)) - 6*(H*Ms/(8*K_u2) + sqrt(A**3/(216*K_u2**3) + A**2*J/(72*K_u2**3) + A*J**2/(72*K_u2**3) + H**2*Ms**2/(64*K_u2**2) + J**3/(216*K_u2**3)))**(1/3))**4 + 419904*sqrt(-4*H**4*gamma**4*(A/(6*K_u2*(H*Ms/(8*K_u2) + sqrt(H**2*Ms**2/(64*K_u2**2) + (A + J)**3/(216*K_u2**3)))**(1/3)) + J/(6*K_u2*(H*Ms/(8*K_u2) + sqrt(H**2*Ms**2/(64*K_u2**2) + (A + J)**3/(216*K_u2**3)))**(1/3)) - (H*Ms/(8*K_u2) + sqrt(H**2*Ms**2/(64*K_u2**2) + (A + J)**3/(216*K_u2**3)))**(1/3))**8 - 16*H**2*H2_k*H_k1*gamma**4*(A/(6*K_u2*(H*Ms/(8*K_u2) + sqrt(H**2*Ms**2/(64*K_u2**2) + (A + J)**3/(216*K_u2**3)))**(1/3)) + J/(6*K_u2*(H*Ms/(8*K_u2) + sqrt(H**2*Ms**2/(64*K_u2**2) + (A + J)**3/(216*K_u2**3)))**(1/3)) - (H*Ms/(8*K_u2) + sqrt(H**2*Ms**2/(64*K_u2**2) + (A + J)**3/(216*K_u2**3)))**(1/3))**10 + 16*H**2*H2_k*H_k1*gamma**4*(A/(6*K_u2*(H*Ms/(8*K_u2) + sqrt(H**2*Ms**2/(64*K_u2**2) + (A + J)**3/(216*K_u2**3)))**(1/3)) + J/(6*K_u2*(H*Ms/(8*K_u2) + sqrt(H**2*Ms**2/(64*K_u2**2) + (A + J)**3/(216*K_u2**3)))**(1/3)) - (H*Ms/(8*K_u2) + sqrt(H**2*Ms**2/(64*K_u2**2) + (A + J)**3/(216*K_u2**3)))**(1/3))**8 - 4*H**2*H2_k*H_k1*gamma**4*(A/(6*K_u2*(H*Ms/(8*K_u2) + sqrt(H**2*Ms**2/(64*K_u2**2) + (A + J)**3/(216*K_u2**3)))**(1/3)) + J/(6*K_u2*(H*Ms/(8*K_u2) + sqrt(H**2*Ms**2/(64*K_u2**2) + (A + J)**3/(216*K_u2**3)))**(1/3)) - (H*Ms/(8*K_u2) + sqrt(H**2*Ms**2/(64*K_u2**2) + (A + J)**3/(216*K_u2**3)))**(1/3))**6 - 32*H**2*H2_k*H_k2*gamma**4*(A/(6*K_u2*(H*Ms/(8*K_u2) + sqrt(H**2*Ms**2/(64*K_u2**2) + (A + J)**3/(216*K_u2**3)))**(1/3)) + J/(6*K_u2*(H*Ms/(8*K_u2) + sqrt(H**2*Ms**2/(64*K_u2**2) + (A + J)**3/(216*K_u2**3)))**(1/3)) - (H*Ms/(8*K_u2) + sqrt(H**2*Ms**2/(64*K_u2**2) + (A + J)**3/(216*K_u2**3)))**(1/3))**12 + 56*H**2*H2_k*H_k2*gamma**4*(A/(6*K_u2*(H*Ms/(8*K_u2) + sqrt(H**2*Ms**2/(64*K_u2**2) + (A + J)**3/(216*K_u2**3)))**(1/3)) + J/(6*K_u2*(H*Ms/(8*K_u2) + sqrt(H**2*Ms**2/(64*K_u2**2) + (A + J)**3/(216*K_u2**3)))**(1/3)) - (H*Ms/(8*K_u2) + sqrt(H**2*Ms**2/(64*K_u2**2) + (A + J)**3/(216*K_u2**3)))**(1/3))**10 - 28*H**2*H2_k*H_k2*gamma**4*(A/(6*K_u2*(H*Ms/(8*K_u2) + sqrt(H**2*Ms**2/(64*K_u2**2) + (A + J)**3/(216*K_u2**3)))**(1/3)) + J/(6*K_u2*(H*Ms/(8*K_u2) + sqrt(H**2*Ms**2/(64*K_u2**2) + (A + J)**3/(216*K_u2**3)))**(1/3)) - (H*Ms/(8*K_u2) + sqrt(H**2*Ms**2/(64*K_u2**2) + (A + J)**3/(216*K_u2**3)))**(1/3))**8 + 4*H**2*H2_k*H_k2*gamma**4*(A/(6*K_u2*(H*Ms/(8*K_u2) + sqrt(H**2*Ms**2/(64*K_u2**2) + (A + J)**3/(216*K_u2**3)))**(1/3)) + J/(6*K_u2*(H*Ms/(8*K_u2) + sqrt(H**2*Ms**2/(64*K_u2**2) + (A + J)**3/(216*K_u2**3)))**(1/3)) - (H*Ms/(8*K_u2) + sqrt(H**2*Ms**2/(64*K_u2**2) + (A + J)**3/(216*K_u2**3)))**(1/3))**6 + 32*H**2*H_k1**2*gamma**4*(A/(6*K_u2*(H*Ms/(8*K_u2) + sqrt(H**2*Ms**2/(64*K_u2**2) + (A + J)**3/(216*K_u2**3)))**(1/3)) + J/(6*K_u2*(H*Ms/(8*K_u2) + sqrt(H**2*Ms**2/(64*K_u2**2) + (A + J)**3/(216*K_u2**3)))**(1/3)) - (H*Ms/(8*K_u2) + sqrt(H**2*Ms**2/(64*K_u2**2) + (A + J)**3/(216*K_u2**3)))**(1/3))**10 - 32*H**2*H_k1**2*gamma**4*(A/(6*K_u2*(H*Ms/(8*K_u2) + sqrt(H**2*Ms**2/(64*K_u2**2) + (A + J)**3/(216*K_u2**3)))**(1/3)) + J/(6*K_u2*(H*Ms/(8*K_u2) + sqrt(H**2*Ms**2/(64*K_u2**2) + (A + J)**3/(216*K_u2**3)))**(1/3)) - (H*Ms/(8*K_u2) + sqrt(H**2*Ms**2/(64*K_u2**2) + (A + J)**3/(216*K_u2**3)))**(1/3))**8 + 8*H**2*H_k1**2*gamma**4*(A/(6*K_u2*(H*Ms/(8*K_u2) + sqrt(H**2*Ms**2/(64*K_u2**2) + (A + J)**3/(216*K_u2**3)))**(1/3)) + J/(6*K_u2*(H*Ms/(8*K_u2) + sqrt(H**2*Ms**2/(64*K_u2**2) + (A + J)**3/(216*K_u2**3)))**(1/3)) - (H*Ms/(8*K_u2) + sqrt(H**2*Ms**2/(64*K_u2**2) + (A + J)**3/(216*K_u2**3)))**(1/3))**6 + 96*H**2*H_k1*H_k2*gamma**4*(A/(6*K_u2*(H*Ms/(8*K_u2) + sqrt(H**2*Ms**2/(64*K_u2**2) + (A + J)**3/(216*K_u2**3)))**(1/3)) + J/(6*K_u2*(H*Ms/(8*K_u2) + sqrt(H**2*Ms**2/(64*K_u2**2) + (A + J)**3/(216*K_u2**3)))**(1/3)) - (H*Ms/(8*K_u2) + sqrt(H**2*Ms**2/(64*K_u2**2) + (A + J)**3/(216*K_u2**3)))**(1/3))**12 - 168*H**2*H_k1*H_k2*gamma**4*(A/(6*K_u2*(H*Ms/(8*K_u2) + sqrt(H**2*Ms**2/(64*K_u2**2) + (A + J)**3/(216*K_u2**3)))**(1/3)) + J/(6*K_u2*(H*Ms/(8*K_u2) + sqrt(H**2*Ms**2/(64*K_u2**2) + (A + J)**3/(216*K_u2**3)))**(1/3)) - (H*Ms/(8*K_u2) + sqrt(H**2*Ms**2/(64*K_u2**2) + (A + J)**3/(216*K_u2**3)))**(1/3))**10 + 84*H**2*H_k1*H_k2*gamma**4*(A/(6*K_u2*(H*Ms/(8*K_u2) + sqrt(H**2*Ms**2/(64*K_u2**2) + (A + J)**3/(216*K_u2**3)))**(1/3)) + J/(6*K_u2*(H*Ms/(8*K_u2) + sqrt(H**2*Ms**2/(64*K_u2**2) + (A + J)**3/(216*K_u2**3)))**(1/3)) - (H*Ms/(8*K_u2) + sqrt(H**2*Ms**2/(64*K_u2**2) + (A + J)**3/(216*K_u2**3)))**(1/3))**8 - 12*H**2*H_k1*H_k2*gamma**4*(A/(6*K_u2*(H*Ms/(8*K_u2) + sqrt(H**2*Ms**2/(64*K_u2**2) + (A + J)**3/(216*K_u2**3)))**(1/3)) + J/(6*K_u2*(H*Ms/(8*K_u2) + sqrt(H**2*Ms**2/(64*K_u2**2) + (A + J)**3/(216*K_u2**3)))**(1/3)) - (H*Ms/(8*K_u2) + sqrt(H**2*Ms**2/(64*K_u2**2) + (A + J)**3/(216*K_u2**3)))**(1/3))**6 + 64*H**2*H_k2**2*gamma**4*(A/(6*K_u2*(H*Ms/(8*K_u2) + sqrt(H**2*Ms**2/(64*K_u2**2) + (A + J)**3/(216*K_u2**3)))**(1/3)) + J/(6*K_u2*(H*Ms/(8*K_u2) + sqrt(H**2*Ms**2/(64*K_u2**2) + (A + J)**3/(216*K_u2**3)))**(1/3)) - (H*Ms/(8*K_u2) + sqrt(H**2*Ms**2/(64*K_u2**2) + (A + J)**3/(216*K_u2**3)))**(1/3))**14 - 160*H**2*H_k2**2*gamma**4*(A/(6*K_u2*(H*Ms/(8*K_u2) + sqrt(H**2*Ms**2/(64*K_u2**2) + (A + J)**3/(216*K_u2**3)))**(1/3)) + J/(6*K_u2*(H*Ms/(8*K_u2) + sqrt(H**2*Ms**2/(64*K_u2**2) + (A + J)**3/(216*K_u2**3)))**(1/3)) - (H*Ms/(8*K_u2) + sqrt(H**2*Ms**2/(64*K_u2**2) + (A + J)**3/(216*K_u2**3)))**(1/3))**12 + 132*H**2*H_k2**2*gamma**4*(A/(6*K_u2*(H*Ms/(8*K_u2) + sqrt(H**2*Ms**2/(64*K_u2**2) + (A + J)**3/(216*K_u2**3)))**(1/3)) + J/(6*K_u2*(H*Ms/(8*K_u2) + sqrt(H**2*Ms**2/(64*K_u2**2) + (A + J)**3/(216*K_u2**3)))**(1/3)) - (H*Ms/(8*K_u2) + sqrt(H**2*Ms**2/(64*K_u2**2) + (A + J)**3/(216*K_u2**3)))**(1/3))**10 - 40*H**2*H_k2**2*gamma**4*(A/(6*K_u2*(H*Ms/(8*K_u2) + sqrt(H**2*Ms**2/(64*K_u2**2) + (A + J)**3/(216*K_u2**3)))**(1/3)) + J/(6*K_u2*(H*Ms/(8*K_u2) + sqrt(H**2*Ms**2/(64*K_u2**2) + (A + J)**3/(216*K_u2**3)))**(1/3)) - (H*Ms/(8*K_u2) + sqrt(H**2*Ms**2/(64*K_u2**2) + (A + J)**3/(216*K_u2**3)))**(1/3))**8 + 4*H**2*H_k2**2*gamma**4*(A/(6*K_u2*(H*Ms/(8*K_u2) + sqrt(H**2*Ms**2/(64*K_u2**2) + (A + J)**3/(216*K_u2**3)))**(1/3)) + J/(6*K_u2*(H*Ms/(8*K_u2) + sqrt(H**2*Ms**2/(64*K_u2**2) + (A + J)**3/(216*K_u2**3)))**(1/3)) - (H*Ms/(8*K_u2) + sqrt(H**2*Ms**2/(64*K_u2**2) + (A + J)**3/(216*K_u2**3)))**(1/3))**6 + gamma**4*(A/(6*K_u2*(H*Ms/(8*K_u2) + sqrt(H**2*Ms**2/(64*K_u2**2) + (A + J)**3/(216*K_u2**3)))**(1/3)) + J/(6*K_u2*(H*Ms/(8*K_u2) + sqrt(H**2*Ms**2/(64*K_u2**2) + (A + J)**3/(216*K_u2**3)))**(1/3)) - (H*Ms/(8*K_u2) + sqrt(H**2*Ms**2/(64*K_u2**2) + (A + J)**3/(216*K_u2**3)))**(1/3))**8*(2*H**2 - 2*H2_k*H_k1*(-A/(6*K_u2*(H*Ms/(8*K_u2) + sqrt(H**2*Ms**2/(64*K_u2**2) + (A + J)**3/(216*K_u2**3)))**(1/3)) - J/(6*K_u2*(H*Ms/(8*K_u2) + sqrt(H**2*Ms**2/(64*K_u2**2) + (A + J)**3/(216*K_u2**3)))**(1/3)) + (H*Ms/(8*K_u2) + sqrt(H**2*Ms**2/(64*K_u2**2) + (A + J)**3/(216*K_u2**3)))**(1/3))**2 + H2_k*H_k1 - 4*H2_k*H_k2*(-A/(6*K_u2*(H*Ms/(8*K_u2) + sqrt(H**2*Ms**2/(64*K_u2**2) + (A + J)**3/(216*K_u2**3)))**(1/3)) - J/(6*K_u2*(H*Ms/(8*K_u2) + sqrt(H**2*Ms**2/(64*K_u2**2) + (A + J)**3/(216*K_u2**3)))**(1/3)) + (H*Ms/(8*K_u2) + sqrt(H**2*Ms**2/(64*K_u2**2) + (A + J)**3/(216*K_u2**3)))**(1/3))**4 + 5*H2_k*H_k2*(-A/(6*K_u2*(H*Ms/(8*K_u2) + sqrt(H**2*Ms**2/(64*K_u2**2) + (A + J)**3/(216*K_u2**3)))**(1/3)) - J/(6*K_u2*(H*Ms/(8*K_u2) + sqrt(H**2*Ms**2/(64*K_u2**2) + (A + J)**3/(216*K_u2**3)))**(1/3)) + (H*Ms/(8*K_u2) + sqrt(H**2*Ms**2/(64*K_u2**2) + (A + J)**3/(216*K_u2**3)))**(1/3))**2 - H2_k*H_k2 + 2*H_k1**2*(-A/(6*K_u2*(H*Ms/(8*K_u2) + sqrt(H**2*Ms**2/(64*K_u2**2) + (A + J)**3/(216*K_u2**3)))**(1/3)) - J/(6*K_u2*(H*Ms/(8*K_u2) + sqrt(H**2*Ms**2/(64*K_u2**2) + (A + J)**3/(216*K_u2**3)))**(1/3)) + (H*Ms/(8*K_u2) + sqrt(H**2*Ms**2/(64*K_u2**2) + (A + J)**3/(216*K_u2**3)))**(1/3))**2 - H_k1**2 + 4*H_k1*H_k2*(-A/(6*K_u2*(H*Ms/(8*K_u2) + sqrt(H**2*Ms**2/(64*K_u2**2) + (A + J)**3/(216*K_u2**3)))**(1/3)) - J/(6*K_u2*(H*Ms/(8*K_u2) + sqrt(H**2*Ms**2/(64*K_u2**2) + (A + J)**3/(216*K_u2**3)))**(1/3)) + (H*Ms/(8*K_u2) + sqrt(H**2*Ms**2/(64*K_u2**2) + (A + J)**3/(216*K_u2**3)))**(1/3))**4 - 5*H_k1*H_k2*(-A/(6*K_u2*(H*Ms/(8*K_u2) + sqrt(H**2*Ms**2/(64*K_u2**2) + (A + J)**3/(216*K_u2**3)))**(1/3)) - J/(6*K_u2*(H*Ms/(8*K_u2) + sqrt(H**2*Ms**2/(64*K_u2**2) + (A + J)**3/(216*K_u2**3)))**(1/3)) + (H*Ms/(8*K_u2) + sqrt(H**2*Ms**2/(64*K_u2**2) + (A + J)**3/(216*K_u2**3)))**(1/3))**2 + H_k1*H_k2)**2))/(A/(K_u2*(H*Ms/(8*K_u2) + sqrt(A**3/(216*K_u2**3) + A**2*J/(72*K_u2**3) + A*J**2/(72*K_u2**3) + H**2*Ms**2/(64*K_u2**2) + J**3/(216*K_u2**3)))**(1/3)) + J/(K_u2*(H*Ms/(8*K_u2) + sqrt(A**3/(216*K_u2**3) + A**2*J/(72*K_u2**3) + A*J**2/(72*K_u2**3) + H**2*Ms**2/(64*K_u2**2) + J**3/(216*K_u2**3)))**(1/3)) - 6*(H*Ms/(8*K_u2) + sqrt(A**3/(216*K_u2**3) + A**2*J/(72*K_u2**3) + A*J**2/(72*K_u2**3) + H**2*Ms**2/(64*K_u2**2) + J**3/(216*K_u2**3)))**(1/3))**4)/36"
      ]
     },
     "execution_count": 265,
     "metadata": {},
     "output_type": "execute_result"
    }
   ],
   "source": [
    "sym.radsimp(w_sol[1].subs({sym.sin(Mtet[0]): st_state_res[2]}))"
   ]
  },
  {
   "cell_type": "code",
   "execution_count": 252,
   "id": "metric-clinic",
   "metadata": {},
   "outputs": [
    {
     "ename": "KeyboardInterrupt",
     "evalue": "",
     "output_type": "error",
     "traceback": [
      "\u001b[1;31m---------------------------------------------------------------------------\u001b[0m",
      "\u001b[1;31mKeyboardInterrupt\u001b[0m                         Traceback (most recent call last)",
      "\u001b[1;32m<ipython-input-252-1e0606c9a05f>\u001b[0m in \u001b[0;36m<module>\u001b[1;34m\u001b[0m\n\u001b[0;32m      7\u001b[0m \u001b[1;31m#    Ms: 620\u001b[0m\u001b[1;33m\u001b[0m\u001b[1;33m\u001b[0m\u001b[1;33m\u001b[0m\u001b[0m\n\u001b[0;32m      8\u001b[0m \u001b[1;31m#})\u001b[0m\u001b[1;33m\u001b[0m\u001b[1;33m\u001b[0m\u001b[1;33m\u001b[0m\u001b[0m\n\u001b[1;32m----> 9\u001b[1;33m \u001b[0mres\u001b[0m \u001b[1;33m=\u001b[0m \u001b[0msym\u001b[0m\u001b[1;33m.\u001b[0m\u001b[0mlinsolve\u001b[0m\u001b[1;33m(\u001b[0m\u001b[1;33m(\u001b[0m\u001b[0msys_mat\u001b[0m\u001b[1;33m,\u001b[0m \u001b[0msym\u001b[0m\u001b[1;33m.\u001b[0m\u001b[0mMatrix\u001b[0m\u001b[1;33m(\u001b[0m\u001b[1;33m[\u001b[0m\u001b[1;33m[\u001b[0m\u001b[1;36m0\u001b[0m\u001b[1;33m]\u001b[0m\u001b[1;33m,\u001b[0m\u001b[1;33m[\u001b[0m\u001b[1;36m0\u001b[0m\u001b[1;33m]\u001b[0m\u001b[1;33m,\u001b[0m\u001b[1;33m[\u001b[0m\u001b[1;36m0\u001b[0m\u001b[1;33m]\u001b[0m\u001b[1;33m,\u001b[0m\u001b[1;33m[\u001b[0m\u001b[1;36m0\u001b[0m\u001b[1;33m]\u001b[0m\u001b[1;33m]\u001b[0m\u001b[1;33m)\u001b[0m\u001b[1;33m)\u001b[0m\u001b[1;33m,\u001b[0m \u001b[1;33m[\u001b[0m\u001b[0mtet1\u001b[0m\u001b[1;33m,\u001b[0m \u001b[0mphi1\u001b[0m\u001b[1;33m,\u001b[0m \u001b[0mtet2\u001b[0m\u001b[1;33m,\u001b[0m \u001b[0mphi2\u001b[0m\u001b[1;33m]\u001b[0m\u001b[1;33m)\u001b[0m\u001b[1;33m\u001b[0m\u001b[1;33m\u001b[0m\u001b[0m\n\u001b[0m\u001b[0;32m     10\u001b[0m \u001b[0mres\u001b[0m\u001b[1;33m\u001b[0m\u001b[1;33m\u001b[0m\u001b[0m\n",
      "\u001b[1;32mc:\\users\\sasha\\appdata\\local\\programs\\python\\python38\\lib\\site-packages\\sympy\\solvers\\solveset.py\u001b[0m in \u001b[0;36mlinsolve\u001b[1;34m(system, *symbols)\u001b[0m\n\u001b[0;32m   2690\u001b[0m \u001b[1;33m\u001b[0m\u001b[0m\n\u001b[0;32m   2691\u001b[0m     \u001b[0meqs\u001b[0m\u001b[1;33m,\u001b[0m \u001b[0mring\u001b[0m \u001b[1;33m=\u001b[0m \u001b[0msympy_eqs_to_ring\u001b[0m\u001b[1;33m(\u001b[0m\u001b[0meqs\u001b[0m\u001b[1;33m,\u001b[0m \u001b[0msymbols\u001b[0m\u001b[1;33m)\u001b[0m\u001b[1;33m\u001b[0m\u001b[1;33m\u001b[0m\u001b[0m\n\u001b[1;32m-> 2692\u001b[1;33m     \u001b[0msol\u001b[0m \u001b[1;33m=\u001b[0m \u001b[0msolve_lin_sys\u001b[0m\u001b[1;33m(\u001b[0m\u001b[0meqs\u001b[0m\u001b[1;33m,\u001b[0m \u001b[0mring\u001b[0m\u001b[1;33m,\u001b[0m \u001b[0m_raw\u001b[0m\u001b[1;33m=\u001b[0m\u001b[1;32mFalse\u001b[0m\u001b[1;33m)\u001b[0m\u001b[1;33m\u001b[0m\u001b[1;33m\u001b[0m\u001b[0m\n\u001b[0m\u001b[0;32m   2693\u001b[0m     \u001b[1;32mif\u001b[0m \u001b[0msol\u001b[0m \u001b[1;32mis\u001b[0m \u001b[1;32mNone\u001b[0m\u001b[1;33m:\u001b[0m\u001b[1;33m\u001b[0m\u001b[1;33m\u001b[0m\u001b[0m\n\u001b[0;32m   2694\u001b[0m         \u001b[1;32mreturn\u001b[0m \u001b[0mS\u001b[0m\u001b[1;33m.\u001b[0m\u001b[0mEmptySet\u001b[0m\u001b[1;33m\u001b[0m\u001b[1;33m\u001b[0m\u001b[0m\n",
      "\u001b[1;32mc:\\users\\sasha\\appdata\\local\\programs\\python\\python38\\lib\\site-packages\\sympy\\polys\\solvers.py\u001b[0m in \u001b[0;36msolve_lin_sys\u001b[1;34m(eqs, ring, _raw)\u001b[0m\n\u001b[0;32m    225\u001b[0m         \u001b[0meqs_coeffs\u001b[0m\u001b[1;33m.\u001b[0m\u001b[0mappend\u001b[0m\u001b[1;33m(\u001b[0m\u001b[0meq_coeffs\u001b[0m\u001b[1;33m)\u001b[0m\u001b[1;33m\u001b[0m\u001b[1;33m\u001b[0m\u001b[0m\n\u001b[0;32m    226\u001b[0m \u001b[1;33m\u001b[0m\u001b[0m\n\u001b[1;32m--> 227\u001b[1;33m     \u001b[0mresult\u001b[0m \u001b[1;33m=\u001b[0m \u001b[0m_solve_lin_sys\u001b[0m\u001b[1;33m(\u001b[0m\u001b[0meqs_coeffs\u001b[0m\u001b[1;33m,\u001b[0m \u001b[0meqs_rhs\u001b[0m\u001b[1;33m,\u001b[0m \u001b[0mring\u001b[0m\u001b[1;33m)\u001b[0m\u001b[1;33m\u001b[0m\u001b[1;33m\u001b[0m\u001b[0m\n\u001b[0m\u001b[0;32m    228\u001b[0m \u001b[1;33m\u001b[0m\u001b[0m\n\u001b[0;32m    229\u001b[0m     \u001b[1;32mif\u001b[0m \u001b[0mresult\u001b[0m \u001b[1;32mis\u001b[0m \u001b[1;32mnot\u001b[0m \u001b[1;32mNone\u001b[0m \u001b[1;32mand\u001b[0m \u001b[0mas_expr\u001b[0m\u001b[1;33m:\u001b[0m\u001b[1;33m\u001b[0m\u001b[1;33m\u001b[0m\u001b[0m\n",
      "\u001b[1;32mc:\\users\\sasha\\appdata\\local\\programs\\python\\python38\\lib\\site-packages\\sympy\\polys\\solvers.py\u001b[0m in \u001b[0;36m_solve_lin_sys\u001b[1;34m(eqs_coeffs, eqs_rhs, ring)\u001b[0m\n\u001b[0;32m    303\u001b[0m     \u001b[0msol\u001b[0m \u001b[1;33m=\u001b[0m \u001b[1;33m{\u001b[0m\u001b[1;33m}\u001b[0m\u001b[1;33m\u001b[0m\u001b[1;33m\u001b[0m\u001b[0m\n\u001b[0;32m    304\u001b[0m     \u001b[1;32mfor\u001b[0m \u001b[0msubsystem\u001b[0m \u001b[1;32min\u001b[0m \u001b[0msubsystems\u001b[0m\u001b[1;33m:\u001b[0m\u001b[1;33m\u001b[0m\u001b[1;33m\u001b[0m\u001b[0m\n\u001b[1;32m--> 305\u001b[1;33m         \u001b[0msubsol\u001b[0m \u001b[1;33m=\u001b[0m \u001b[0m_solve_lin_sys_component\u001b[0m\u001b[1;33m(\u001b[0m\u001b[0msubsystem\u001b[0m\u001b[1;33m[\u001b[0m\u001b[1;36m0\u001b[0m\u001b[1;33m]\u001b[0m\u001b[1;33m,\u001b[0m \u001b[0msubsystem\u001b[0m\u001b[1;33m[\u001b[0m\u001b[1;36m1\u001b[0m\u001b[1;33m]\u001b[0m\u001b[1;33m,\u001b[0m \u001b[0mring\u001b[0m\u001b[1;33m)\u001b[0m\u001b[1;33m\u001b[0m\u001b[1;33m\u001b[0m\u001b[0m\n\u001b[0m\u001b[0;32m    306\u001b[0m         \u001b[1;32mif\u001b[0m \u001b[0msubsol\u001b[0m \u001b[1;32mis\u001b[0m \u001b[1;32mNone\u001b[0m\u001b[1;33m:\u001b[0m\u001b[1;33m\u001b[0m\u001b[1;33m\u001b[0m\u001b[0m\n\u001b[0;32m    307\u001b[0m             \u001b[1;32mreturn\u001b[0m \u001b[1;32mNone\u001b[0m\u001b[1;33m\u001b[0m\u001b[1;33m\u001b[0m\u001b[0m\n",
      "\u001b[1;32mc:\\users\\sasha\\appdata\\local\\programs\\python\\python38\\lib\\site-packages\\sympy\\polys\\solvers.py\u001b[0m in \u001b[0;36m_solve_lin_sys_component\u001b[1;34m(eqs_coeffs, eqs_rhs, ring)\u001b[0m\n\u001b[0;32m    351\u001b[0m \u001b[1;33m\u001b[0m\u001b[0m\n\u001b[0;32m    352\u001b[0m     \u001b[1;31m# solve by row-reduction\u001b[0m\u001b[1;33m\u001b[0m\u001b[1;33m\u001b[0m\u001b[1;33m\u001b[0m\u001b[0m\n\u001b[1;32m--> 353\u001b[1;33m     \u001b[0mechelon\u001b[0m\u001b[1;33m,\u001b[0m \u001b[0mpivots\u001b[0m \u001b[1;33m=\u001b[0m \u001b[0mmatrix\u001b[0m\u001b[1;33m.\u001b[0m\u001b[0mrref\u001b[0m\u001b[1;33m(\u001b[0m\u001b[1;33m)\u001b[0m\u001b[1;33m\u001b[0m\u001b[1;33m\u001b[0m\u001b[0m\n\u001b[0m\u001b[0;32m    354\u001b[0m \u001b[1;33m\u001b[0m\u001b[0m\n\u001b[0;32m    355\u001b[0m     \u001b[1;31m# construct the returnable form of the solutions\u001b[0m\u001b[1;33m\u001b[0m\u001b[1;33m\u001b[0m\u001b[1;33m\u001b[0m\u001b[0m\n",
      "\u001b[1;32mc:\\users\\sasha\\appdata\\local\\programs\\python\\python38\\lib\\site-packages\\sympy\\polys\\domainmatrix.py\u001b[0m in \u001b[0;36mrref\u001b[1;34m(self)\u001b[0m\n\u001b[0;32m    607\u001b[0m         \u001b[1;32mif\u001b[0m \u001b[1;32mnot\u001b[0m \u001b[0mself\u001b[0m\u001b[1;33m.\u001b[0m\u001b[0mdomain\u001b[0m\u001b[1;33m.\u001b[0m\u001b[0mis_Field\u001b[0m\u001b[1;33m:\u001b[0m\u001b[1;33m\u001b[0m\u001b[1;33m\u001b[0m\u001b[0m\n\u001b[0;32m    608\u001b[0m             \u001b[1;32mraise\u001b[0m \u001b[0mValueError\u001b[0m\u001b[1;33m(\u001b[0m\u001b[1;34m'Not a field'\u001b[0m\u001b[1;33m)\u001b[0m\u001b[1;33m\u001b[0m\u001b[1;33m\u001b[0m\u001b[0m\n\u001b[1;32m--> 609\u001b[1;33m         \u001b[0mrref_ddm\u001b[0m\u001b[1;33m,\u001b[0m \u001b[0mpivots\u001b[0m \u001b[1;33m=\u001b[0m \u001b[0mself\u001b[0m\u001b[1;33m.\u001b[0m\u001b[0mrep\u001b[0m\u001b[1;33m.\u001b[0m\u001b[0mrref\u001b[0m\u001b[1;33m(\u001b[0m\u001b[1;33m)\u001b[0m\u001b[1;33m\u001b[0m\u001b[1;33m\u001b[0m\u001b[0m\n\u001b[0m\u001b[0;32m    610\u001b[0m         \u001b[1;32mreturn\u001b[0m \u001b[0mself\u001b[0m\u001b[1;33m.\u001b[0m\u001b[0mfrom_ddm\u001b[0m\u001b[1;33m(\u001b[0m\u001b[0mrref_ddm\u001b[0m\u001b[1;33m)\u001b[0m\u001b[1;33m,\u001b[0m \u001b[0mtuple\u001b[0m\u001b[1;33m(\u001b[0m\u001b[0mpivots\u001b[0m\u001b[1;33m)\u001b[0m\u001b[1;33m\u001b[0m\u001b[1;33m\u001b[0m\u001b[0m\n\u001b[0;32m    611\u001b[0m \u001b[1;33m\u001b[0m\u001b[0m\n",
      "\u001b[1;32mc:\\users\\sasha\\appdata\\local\\programs\\python\\python38\\lib\\site-packages\\sympy\\polys\\domainmatrix.py\u001b[0m in \u001b[0;36mrref\u001b[1;34m(a)\u001b[0m\n\u001b[0;32m    139\u001b[0m         \u001b[1;34m\"\"\"Reduced-row echelon form of a and list of pivots\"\"\"\u001b[0m\u001b[1;33m\u001b[0m\u001b[1;33m\u001b[0m\u001b[0m\n\u001b[0;32m    140\u001b[0m         \u001b[0mb\u001b[0m \u001b[1;33m=\u001b[0m \u001b[0ma\u001b[0m\u001b[1;33m.\u001b[0m\u001b[0mcopy\u001b[0m\u001b[1;33m(\u001b[0m\u001b[1;33m)\u001b[0m\u001b[1;33m\u001b[0m\u001b[1;33m\u001b[0m\u001b[0m\n\u001b[1;32m--> 141\u001b[1;33m         \u001b[0mpivots\u001b[0m \u001b[1;33m=\u001b[0m \u001b[0mddm_irref\u001b[0m\u001b[1;33m(\u001b[0m\u001b[0mb\u001b[0m\u001b[1;33m)\u001b[0m\u001b[1;33m\u001b[0m\u001b[1;33m\u001b[0m\u001b[0m\n\u001b[0m\u001b[0;32m    142\u001b[0m         \u001b[1;32mreturn\u001b[0m \u001b[0mb\u001b[0m\u001b[1;33m,\u001b[0m \u001b[0mpivots\u001b[0m\u001b[1;33m\u001b[0m\u001b[1;33m\u001b[0m\u001b[0m\n\u001b[0;32m    143\u001b[0m \u001b[1;33m\u001b[0m\u001b[0m\n",
      "\u001b[1;32mc:\\users\\sasha\\appdata\\local\\programs\\python\\python38\\lib\\site-packages\\sympy\\polys\\domainmatrix.py\u001b[0m in \u001b[0;36mddm_irref\u001b[1;34m(a)\u001b[0m\n\u001b[0;32m    264\u001b[0m             \u001b[0mak\u001b[0m\u001b[1;33m[\u001b[0m\u001b[0mj\u001b[0m\u001b[1;33m]\u001b[0m \u001b[1;33m-=\u001b[0m \u001b[0makj\u001b[0m \u001b[1;31m# ak[j] = zero\u001b[0m\u001b[1;33m\u001b[0m\u001b[1;33m\u001b[0m\u001b[0m\n\u001b[0;32m    265\u001b[0m             \u001b[1;32mfor\u001b[0m \u001b[0ml\u001b[0m \u001b[1;32min\u001b[0m \u001b[0mrange\u001b[0m\u001b[1;33m(\u001b[0m\u001b[0mj\u001b[0m\u001b[1;33m+\u001b[0m\u001b[1;36m1\u001b[0m\u001b[1;33m,\u001b[0m \u001b[0mn\u001b[0m\u001b[1;33m)\u001b[0m\u001b[1;33m:\u001b[0m\u001b[1;33m\u001b[0m\u001b[1;33m\u001b[0m\u001b[0m\n\u001b[1;32m--> 266\u001b[1;33m                 \u001b[0mak\u001b[0m\u001b[1;33m[\u001b[0m\u001b[0ml\u001b[0m\u001b[1;33m]\u001b[0m \u001b[1;33m-=\u001b[0m \u001b[0makj\u001b[0m \u001b[1;33m*\u001b[0m \u001b[0mai\u001b[0m\u001b[1;33m[\u001b[0m\u001b[0ml\u001b[0m\u001b[1;33m]\u001b[0m\u001b[1;33m\u001b[0m\u001b[1;33m\u001b[0m\u001b[0m\n\u001b[0m\u001b[0;32m    267\u001b[0m \u001b[1;33m\u001b[0m\u001b[0m\n\u001b[0;32m    268\u001b[0m         \u001b[1;31m# next row\u001b[0m\u001b[1;33m\u001b[0m\u001b[1;33m\u001b[0m\u001b[1;33m\u001b[0m\u001b[0m\n",
      "\u001b[1;32mc:\\users\\sasha\\appdata\\local\\programs\\python\\python38\\lib\\site-packages\\sympy\\polys\\domains\\expressiondomain.py\u001b[0m in \u001b[0;36m__mul__\u001b[1;34m(f, g)\u001b[0m\n\u001b[0;32m     88\u001b[0m \u001b[1;33m\u001b[0m\u001b[0m\n\u001b[0;32m     89\u001b[0m             \u001b[1;32mif\u001b[0m \u001b[0mg\u001b[0m \u001b[1;32mis\u001b[0m \u001b[1;32mnot\u001b[0m \u001b[1;32mNone\u001b[0m\u001b[1;33m:\u001b[0m\u001b[1;33m\u001b[0m\u001b[1;33m\u001b[0m\u001b[0m\n\u001b[1;32m---> 90\u001b[1;33m                 \u001b[1;32mreturn\u001b[0m \u001b[0mf\u001b[0m\u001b[1;33m.\u001b[0m\u001b[0msimplify\u001b[0m\u001b[1;33m(\u001b[0m\u001b[0mf\u001b[0m\u001b[1;33m.\u001b[0m\u001b[0mex\u001b[0m\u001b[1;33m*\u001b[0m\u001b[0mg\u001b[0m\u001b[1;33m.\u001b[0m\u001b[0mex\u001b[0m\u001b[1;33m)\u001b[0m\u001b[1;33m\u001b[0m\u001b[1;33m\u001b[0m\u001b[0m\n\u001b[0m\u001b[0;32m     91\u001b[0m             \u001b[1;32melse\u001b[0m\u001b[1;33m:\u001b[0m\u001b[1;33m\u001b[0m\u001b[1;33m\u001b[0m\u001b[0m\n\u001b[0;32m     92\u001b[0m                 \u001b[1;32mreturn\u001b[0m \u001b[0mNotImplemented\u001b[0m\u001b[1;33m\u001b[0m\u001b[1;33m\u001b[0m\u001b[0m\n",
      "\u001b[1;32mc:\\users\\sasha\\appdata\\local\\programs\\python\\python38\\lib\\site-packages\\sympy\\polys\\domains\\expressiondomain.py\u001b[0m in \u001b[0;36msimplify\u001b[1;34m(f, ex)\u001b[0m\n\u001b[0;32m     48\u001b[0m \u001b[1;33m\u001b[0m\u001b[0m\n\u001b[0;32m     49\u001b[0m         \u001b[1;32mdef\u001b[0m \u001b[0msimplify\u001b[0m\u001b[1;33m(\u001b[0m\u001b[0mf\u001b[0m\u001b[1;33m,\u001b[0m \u001b[0mex\u001b[0m\u001b[1;33m)\u001b[0m\u001b[1;33m:\u001b[0m\u001b[1;33m\u001b[0m\u001b[1;33m\u001b[0m\u001b[0m\n\u001b[1;32m---> 50\u001b[1;33m             \u001b[1;32mreturn\u001b[0m \u001b[0mf\u001b[0m\u001b[1;33m.\u001b[0m\u001b[0m__class__\u001b[0m\u001b[1;33m(\u001b[0m\u001b[0mex\u001b[0m\u001b[1;33m.\u001b[0m\u001b[0mcancel\u001b[0m\u001b[1;33m(\u001b[0m\u001b[1;33m)\u001b[0m\u001b[1;33m.\u001b[0m\u001b[0mexpand\u001b[0m\u001b[1;33m(\u001b[0m\u001b[1;33m**\u001b[0m\u001b[0meflags\u001b[0m\u001b[1;33m)\u001b[0m\u001b[1;33m)\u001b[0m\u001b[1;33m\u001b[0m\u001b[1;33m\u001b[0m\u001b[0m\n\u001b[0m\u001b[0;32m     51\u001b[0m \u001b[1;33m\u001b[0m\u001b[0m\n\u001b[0;32m     52\u001b[0m         \u001b[1;32mdef\u001b[0m \u001b[0m__abs__\u001b[0m\u001b[1;33m(\u001b[0m\u001b[0mf\u001b[0m\u001b[1;33m)\u001b[0m\u001b[1;33m:\u001b[0m\u001b[1;33m\u001b[0m\u001b[1;33m\u001b[0m\u001b[0m\n",
      "\u001b[1;32mc:\\users\\sasha\\appdata\\local\\programs\\python\\python38\\lib\\site-packages\\sympy\\core\\expr.py\u001b[0m in \u001b[0;36mcancel\u001b[1;34m(self, *gens, **args)\u001b[0m\n\u001b[0;32m   3682\u001b[0m         \u001b[1;34m\"\"\"See the cancel function in sympy.polys\"\"\"\u001b[0m\u001b[1;33m\u001b[0m\u001b[1;33m\u001b[0m\u001b[0m\n\u001b[0;32m   3683\u001b[0m         \u001b[1;32mfrom\u001b[0m \u001b[0msympy\u001b[0m\u001b[1;33m.\u001b[0m\u001b[0mpolys\u001b[0m \u001b[1;32mimport\u001b[0m \u001b[0mcancel\u001b[0m\u001b[1;33m\u001b[0m\u001b[1;33m\u001b[0m\u001b[0m\n\u001b[1;32m-> 3684\u001b[1;33m         \u001b[1;32mreturn\u001b[0m \u001b[0mcancel\u001b[0m\u001b[1;33m(\u001b[0m\u001b[0mself\u001b[0m\u001b[1;33m,\u001b[0m \u001b[1;33m*\u001b[0m\u001b[0mgens\u001b[0m\u001b[1;33m,\u001b[0m \u001b[1;33m**\u001b[0m\u001b[0margs\u001b[0m\u001b[1;33m)\u001b[0m\u001b[1;33m\u001b[0m\u001b[1;33m\u001b[0m\u001b[0m\n\u001b[0m\u001b[0;32m   3685\u001b[0m \u001b[1;33m\u001b[0m\u001b[0m\n\u001b[0;32m   3686\u001b[0m     \u001b[1;32mdef\u001b[0m \u001b[0minvert\u001b[0m\u001b[1;33m(\u001b[0m\u001b[0mself\u001b[0m\u001b[1;33m,\u001b[0m \u001b[0mg\u001b[0m\u001b[1;33m,\u001b[0m \u001b[1;33m*\u001b[0m\u001b[0mgens\u001b[0m\u001b[1;33m,\u001b[0m \u001b[1;33m**\u001b[0m\u001b[0margs\u001b[0m\u001b[1;33m)\u001b[0m\u001b[1;33m:\u001b[0m\u001b[1;33m\u001b[0m\u001b[1;33m\u001b[0m\u001b[0m\n",
      "\u001b[1;32mc:\\users\\sasha\\appdata\\local\\programs\\python\\python38\\lib\\site-packages\\sympy\\polys\\polytools.py\u001b[0m in \u001b[0;36mcancel\u001b[1;34m(f, *gens, **args)\u001b[0m\n\u001b[0;32m   6715\u001b[0m             \u001b[1;32mreturn\u001b[0m \u001b[0mf\u001b[0m\u001b[1;33m.\u001b[0m\u001b[0mxreplace\u001b[0m\u001b[1;33m(\u001b[0m\u001b[0mdict\u001b[0m\u001b[1;33m(\u001b[0m\u001b[0mreps\u001b[0m\u001b[1;33m)\u001b[0m\u001b[1;33m)\u001b[0m\u001b[1;33m\u001b[0m\u001b[1;33m\u001b[0m\u001b[0m\n\u001b[0;32m   6716\u001b[0m \u001b[1;33m\u001b[0m\u001b[0m\n\u001b[1;32m-> 6717\u001b[1;33m     \u001b[0mc\u001b[0m\u001b[1;33m,\u001b[0m \u001b[1;33m(\u001b[0m\u001b[0mP\u001b[0m\u001b[1;33m,\u001b[0m \u001b[0mQ\u001b[0m\u001b[1;33m)\u001b[0m \u001b[1;33m=\u001b[0m \u001b[1;36m1\u001b[0m\u001b[1;33m,\u001b[0m \u001b[0mF\u001b[0m\u001b[1;33m.\u001b[0m\u001b[0mcancel\u001b[0m\u001b[1;33m(\u001b[0m\u001b[0mG\u001b[0m\u001b[1;33m)\u001b[0m\u001b[1;33m\u001b[0m\u001b[1;33m\u001b[0m\u001b[0m\n\u001b[0m\u001b[0;32m   6718\u001b[0m     \u001b[1;32mif\u001b[0m \u001b[0mopt\u001b[0m\u001b[1;33m.\u001b[0m\u001b[0mget\u001b[0m\u001b[1;33m(\u001b[0m\u001b[1;34m'polys'\u001b[0m\u001b[1;33m,\u001b[0m \u001b[1;32mFalse\u001b[0m\u001b[1;33m)\u001b[0m \u001b[1;32mand\u001b[0m \u001b[1;32mnot\u001b[0m \u001b[1;34m'gens'\u001b[0m \u001b[1;32min\u001b[0m \u001b[0mopt\u001b[0m\u001b[1;33m:\u001b[0m\u001b[1;33m\u001b[0m\u001b[1;33m\u001b[0m\u001b[0m\n\u001b[0;32m   6719\u001b[0m         \u001b[0mopt\u001b[0m\u001b[1;33m[\u001b[0m\u001b[1;34m'gens'\u001b[0m\u001b[1;33m]\u001b[0m \u001b[1;33m=\u001b[0m \u001b[0mR\u001b[0m\u001b[1;33m.\u001b[0m\u001b[0msymbols\u001b[0m\u001b[1;33m\u001b[0m\u001b[1;33m\u001b[0m\u001b[0m\n",
      "\u001b[1;32mc:\\users\\sasha\\appdata\\local\\programs\\python\\python38\\lib\\site-packages\\sympy\\polys\\rings.py\u001b[0m in \u001b[0;36mcancel\u001b[1;34m(self, g)\u001b[0m\n\u001b[0;32m   2215\u001b[0m \u001b[1;33m\u001b[0m\u001b[0m\n\u001b[0;32m   2216\u001b[0m         \u001b[1;32mif\u001b[0m \u001b[1;32mnot\u001b[0m \u001b[1;33m(\u001b[0m\u001b[0mdomain\u001b[0m\u001b[1;33m.\u001b[0m\u001b[0mis_Field\u001b[0m \u001b[1;32mand\u001b[0m \u001b[0mdomain\u001b[0m\u001b[1;33m.\u001b[0m\u001b[0mhas_assoc_Ring\u001b[0m\u001b[1;33m)\u001b[0m\u001b[1;33m:\u001b[0m\u001b[1;33m\u001b[0m\u001b[1;33m\u001b[0m\u001b[0m\n\u001b[1;32m-> 2217\u001b[1;33m             \u001b[0m_\u001b[0m\u001b[1;33m,\u001b[0m \u001b[0mp\u001b[0m\u001b[1;33m,\u001b[0m \u001b[0mq\u001b[0m \u001b[1;33m=\u001b[0m \u001b[0mf\u001b[0m\u001b[1;33m.\u001b[0m\u001b[0mcofactors\u001b[0m\u001b[1;33m(\u001b[0m\u001b[0mg\u001b[0m\u001b[1;33m)\u001b[0m\u001b[1;33m\u001b[0m\u001b[1;33m\u001b[0m\u001b[0m\n\u001b[0m\u001b[0;32m   2218\u001b[0m \u001b[1;33m\u001b[0m\u001b[0m\n\u001b[0;32m   2219\u001b[0m             \u001b[1;32mif\u001b[0m \u001b[0mq\u001b[0m\u001b[1;33m.\u001b[0m\u001b[0mis_negative\u001b[0m\u001b[1;33m:\u001b[0m\u001b[1;33m\u001b[0m\u001b[1;33m\u001b[0m\u001b[0m\n",
      "\u001b[1;32mc:\\users\\sasha\\appdata\\local\\programs\\python\\python38\\lib\\site-packages\\sympy\\polys\\rings.py\u001b[0m in \u001b[0;36mcofactors\u001b[1;34m(f, g)\u001b[0m\n\u001b[0;32m   2131\u001b[0m \u001b[1;33m\u001b[0m\u001b[0m\n\u001b[0;32m   2132\u001b[0m         \u001b[0mJ\u001b[0m\u001b[1;33m,\u001b[0m \u001b[1;33m(\u001b[0m\u001b[0mf\u001b[0m\u001b[1;33m,\u001b[0m \u001b[0mg\u001b[0m\u001b[1;33m)\u001b[0m \u001b[1;33m=\u001b[0m \u001b[0mf\u001b[0m\u001b[1;33m.\u001b[0m\u001b[0mdeflate\u001b[0m\u001b[1;33m(\u001b[0m\u001b[0mg\u001b[0m\u001b[1;33m)\u001b[0m\u001b[1;33m\u001b[0m\u001b[1;33m\u001b[0m\u001b[0m\n\u001b[1;32m-> 2133\u001b[1;33m         \u001b[0mh\u001b[0m\u001b[1;33m,\u001b[0m \u001b[0mcff\u001b[0m\u001b[1;33m,\u001b[0m \u001b[0mcfg\u001b[0m \u001b[1;33m=\u001b[0m \u001b[0mf\u001b[0m\u001b[1;33m.\u001b[0m\u001b[0m_gcd\u001b[0m\u001b[1;33m(\u001b[0m\u001b[0mg\u001b[0m\u001b[1;33m)\u001b[0m\u001b[1;33m\u001b[0m\u001b[1;33m\u001b[0m\u001b[0m\n\u001b[0m\u001b[0;32m   2134\u001b[0m \u001b[1;33m\u001b[0m\u001b[0m\n\u001b[0;32m   2135\u001b[0m         \u001b[1;32mreturn\u001b[0m \u001b[1;33m(\u001b[0m\u001b[0mh\u001b[0m\u001b[1;33m.\u001b[0m\u001b[0minflate\u001b[0m\u001b[1;33m(\u001b[0m\u001b[0mJ\u001b[0m\u001b[1;33m)\u001b[0m\u001b[1;33m,\u001b[0m \u001b[0mcff\u001b[0m\u001b[1;33m.\u001b[0m\u001b[0minflate\u001b[0m\u001b[1;33m(\u001b[0m\u001b[0mJ\u001b[0m\u001b[1;33m)\u001b[0m\u001b[1;33m,\u001b[0m \u001b[0mcfg\u001b[0m\u001b[1;33m.\u001b[0m\u001b[0minflate\u001b[0m\u001b[1;33m(\u001b[0m\u001b[0mJ\u001b[0m\u001b[1;33m)\u001b[0m\u001b[1;33m)\u001b[0m\u001b[1;33m\u001b[0m\u001b[1;33m\u001b[0m\u001b[0m\n",
      "\u001b[1;32mc:\\users\\sasha\\appdata\\local\\programs\\python\\python38\\lib\\site-packages\\sympy\\polys\\rings.py\u001b[0m in \u001b[0;36m_gcd\u001b[1;34m(f, g)\u001b[0m\n\u001b[0;32m   2166\u001b[0m             \u001b[1;32mreturn\u001b[0m \u001b[0mf\u001b[0m\u001b[1;33m.\u001b[0m\u001b[0m_gcd_ZZ\u001b[0m\u001b[1;33m(\u001b[0m\u001b[0mg\u001b[0m\u001b[1;33m)\u001b[0m\u001b[1;33m\u001b[0m\u001b[1;33m\u001b[0m\u001b[0m\n\u001b[0;32m   2167\u001b[0m         \u001b[1;32melse\u001b[0m\u001b[1;33m:\u001b[0m \u001b[1;31m# TODO: don't use dense representation (port PRS algorithms)\u001b[0m\u001b[1;33m\u001b[0m\u001b[1;33m\u001b[0m\u001b[0m\n\u001b[1;32m-> 2168\u001b[1;33m             \u001b[1;32mreturn\u001b[0m \u001b[0mring\u001b[0m\u001b[1;33m.\u001b[0m\u001b[0mdmp_inner_gcd\u001b[0m\u001b[1;33m(\u001b[0m\u001b[0mf\u001b[0m\u001b[1;33m,\u001b[0m \u001b[0mg\u001b[0m\u001b[1;33m)\u001b[0m\u001b[1;33m\u001b[0m\u001b[1;33m\u001b[0m\u001b[0m\n\u001b[0m\u001b[0;32m   2169\u001b[0m \u001b[1;33m\u001b[0m\u001b[0m\n\u001b[0;32m   2170\u001b[0m     \u001b[1;32mdef\u001b[0m \u001b[0m_gcd_ZZ\u001b[0m\u001b[1;33m(\u001b[0m\u001b[0mf\u001b[0m\u001b[1;33m,\u001b[0m \u001b[0mg\u001b[0m\u001b[1;33m)\u001b[0m\u001b[1;33m:\u001b[0m\u001b[1;33m\u001b[0m\u001b[1;33m\u001b[0m\u001b[0m\n",
      "\u001b[1;32mc:\\users\\sasha\\appdata\\local\\programs\\python\\python38\\lib\\site-packages\\sympy\\polys\\compatibility.py\u001b[0m in \u001b[0;36mdmp_inner_gcd\u001b[1;34m(self, f, g)\u001b[0m\n\u001b[0;32m    654\u001b[0m         \u001b[1;32mreturn\u001b[0m \u001b[1;33m(\u001b[0m\u001b[0mself\u001b[0m\u001b[1;33m.\u001b[0m\u001b[0mfrom_dense\u001b[0m\u001b[1;33m(\u001b[0m\u001b[0mH\u001b[0m\u001b[1;33m)\u001b[0m\u001b[1;33m,\u001b[0m \u001b[0mself\u001b[0m\u001b[1;33m.\u001b[0m\u001b[0mfrom_dense\u001b[0m\u001b[1;33m(\u001b[0m\u001b[0mF\u001b[0m\u001b[1;33m)\u001b[0m\u001b[1;33m,\u001b[0m \u001b[0mself\u001b[0m\u001b[1;33m.\u001b[0m\u001b[0mfrom_dense\u001b[0m\u001b[1;33m(\u001b[0m\u001b[0mG\u001b[0m\u001b[1;33m)\u001b[0m\u001b[1;33m)\u001b[0m\u001b[1;33m\u001b[0m\u001b[1;33m\u001b[0m\u001b[0m\n\u001b[0;32m    655\u001b[0m     \u001b[1;32mdef\u001b[0m \u001b[0mdmp_inner_gcd\u001b[0m\u001b[1;33m(\u001b[0m\u001b[0mself\u001b[0m\u001b[1;33m,\u001b[0m \u001b[0mf\u001b[0m\u001b[1;33m,\u001b[0m \u001b[0mg\u001b[0m\u001b[1;33m)\u001b[0m\u001b[1;33m:\u001b[0m\u001b[1;33m\u001b[0m\u001b[1;33m\u001b[0m\u001b[0m\n\u001b[1;32m--> 656\u001b[1;33m         \u001b[0mH\u001b[0m\u001b[1;33m,\u001b[0m \u001b[0mF\u001b[0m\u001b[1;33m,\u001b[0m \u001b[0mG\u001b[0m \u001b[1;33m=\u001b[0m \u001b[0mdmp_inner_gcd\u001b[0m\u001b[1;33m(\u001b[0m\u001b[0mself\u001b[0m\u001b[1;33m.\u001b[0m\u001b[0mto_dense\u001b[0m\u001b[1;33m(\u001b[0m\u001b[0mf\u001b[0m\u001b[1;33m)\u001b[0m\u001b[1;33m,\u001b[0m \u001b[0mself\u001b[0m\u001b[1;33m.\u001b[0m\u001b[0mto_dense\u001b[0m\u001b[1;33m(\u001b[0m\u001b[0mg\u001b[0m\u001b[1;33m)\u001b[0m\u001b[1;33m,\u001b[0m \u001b[0mself\u001b[0m\u001b[1;33m.\u001b[0m\u001b[0mngens\u001b[0m\u001b[1;33m-\u001b[0m\u001b[1;36m1\u001b[0m\u001b[1;33m,\u001b[0m \u001b[0mself\u001b[0m\u001b[1;33m.\u001b[0m\u001b[0mdomain\u001b[0m\u001b[1;33m)\u001b[0m\u001b[1;33m\u001b[0m\u001b[1;33m\u001b[0m\u001b[0m\n\u001b[0m\u001b[0;32m    657\u001b[0m         \u001b[1;32mreturn\u001b[0m \u001b[1;33m(\u001b[0m\u001b[0mself\u001b[0m\u001b[1;33m.\u001b[0m\u001b[0mfrom_dense\u001b[0m\u001b[1;33m(\u001b[0m\u001b[0mH\u001b[0m\u001b[1;33m)\u001b[0m\u001b[1;33m,\u001b[0m \u001b[0mself\u001b[0m\u001b[1;33m.\u001b[0m\u001b[0mfrom_dense\u001b[0m\u001b[1;33m(\u001b[0m\u001b[0mF\u001b[0m\u001b[1;33m)\u001b[0m\u001b[1;33m,\u001b[0m \u001b[0mself\u001b[0m\u001b[1;33m.\u001b[0m\u001b[0mfrom_dense\u001b[0m\u001b[1;33m(\u001b[0m\u001b[0mG\u001b[0m\u001b[1;33m)\u001b[0m\u001b[1;33m)\u001b[0m\u001b[1;33m\u001b[0m\u001b[1;33m\u001b[0m\u001b[0m\n\u001b[0;32m    658\u001b[0m     \u001b[1;32mdef\u001b[0m \u001b[0mdup_gcd\u001b[0m\u001b[1;33m(\u001b[0m\u001b[0mself\u001b[0m\u001b[1;33m,\u001b[0m \u001b[0mf\u001b[0m\u001b[1;33m,\u001b[0m \u001b[0mg\u001b[0m\u001b[1;33m)\u001b[0m\u001b[1;33m:\u001b[0m\u001b[1;33m\u001b[0m\u001b[1;33m\u001b[0m\u001b[0m\n",
      "\u001b[1;32mc:\\users\\sasha\\appdata\\local\\programs\\python\\python38\\lib\\site-packages\\sympy\\polys\\euclidtools.py\u001b[0m in \u001b[0;36mdmp_inner_gcd\u001b[1;34m(f, g, u, K)\u001b[0m\n\u001b[0;32m   1582\u001b[0m \u001b[1;33m\u001b[0m\u001b[0m\n\u001b[0;32m   1583\u001b[0m     \u001b[0mJ\u001b[0m\u001b[1;33m,\u001b[0m \u001b[1;33m(\u001b[0m\u001b[0mf\u001b[0m\u001b[1;33m,\u001b[0m \u001b[0mg\u001b[0m\u001b[1;33m)\u001b[0m \u001b[1;33m=\u001b[0m \u001b[0mdmp_multi_deflate\u001b[0m\u001b[1;33m(\u001b[0m\u001b[1;33m(\u001b[0m\u001b[0mf\u001b[0m\u001b[1;33m,\u001b[0m \u001b[0mg\u001b[0m\u001b[1;33m)\u001b[0m\u001b[1;33m,\u001b[0m \u001b[0mu\u001b[0m\u001b[1;33m,\u001b[0m \u001b[0mK\u001b[0m\u001b[1;33m)\u001b[0m\u001b[1;33m\u001b[0m\u001b[1;33m\u001b[0m\u001b[0m\n\u001b[1;32m-> 1584\u001b[1;33m     \u001b[0mh\u001b[0m\u001b[1;33m,\u001b[0m \u001b[0mcff\u001b[0m\u001b[1;33m,\u001b[0m \u001b[0mcfg\u001b[0m \u001b[1;33m=\u001b[0m \u001b[0m_dmp_inner_gcd\u001b[0m\u001b[1;33m(\u001b[0m\u001b[0mf\u001b[0m\u001b[1;33m,\u001b[0m \u001b[0mg\u001b[0m\u001b[1;33m,\u001b[0m \u001b[0mu\u001b[0m\u001b[1;33m,\u001b[0m \u001b[0mK\u001b[0m\u001b[1;33m)\u001b[0m\u001b[1;33m\u001b[0m\u001b[1;33m\u001b[0m\u001b[0m\n\u001b[0m\u001b[0;32m   1585\u001b[0m \u001b[1;33m\u001b[0m\u001b[0m\n\u001b[0;32m   1586\u001b[0m     return (dmp_inflate(h, J, u, K),\n",
      "\u001b[1;32mc:\\users\\sasha\\appdata\\local\\programs\\python\\python38\\lib\\site-packages\\sympy\\polys\\euclidtools.py\u001b[0m in \u001b[0;36m_dmp_inner_gcd\u001b[1;34m(f, g, u, K)\u001b[0m\n\u001b[0;32m   1555\u001b[0m                 \u001b[1;32mpass\u001b[0m\u001b[1;33m\u001b[0m\u001b[1;33m\u001b[0m\u001b[0m\n\u001b[0;32m   1556\u001b[0m \u001b[1;33m\u001b[0m\u001b[0m\n\u001b[1;32m-> 1557\u001b[1;33m         \u001b[1;32mreturn\u001b[0m \u001b[0mdmp_rr_prs_gcd\u001b[0m\u001b[1;33m(\u001b[0m\u001b[0mf\u001b[0m\u001b[1;33m,\u001b[0m \u001b[0mg\u001b[0m\u001b[1;33m,\u001b[0m \u001b[0mu\u001b[0m\u001b[1;33m,\u001b[0m \u001b[0mK\u001b[0m\u001b[1;33m)\u001b[0m\u001b[1;33m\u001b[0m\u001b[1;33m\u001b[0m\u001b[0m\n\u001b[0m\u001b[0;32m   1558\u001b[0m \u001b[1;33m\u001b[0m\u001b[0m\n\u001b[0;32m   1559\u001b[0m \u001b[1;33m\u001b[0m\u001b[0m\n",
      "\u001b[1;32mc:\\users\\sasha\\appdata\\local\\programs\\python\\python38\\lib\\site-packages\\sympy\\polys\\euclidtools.py\u001b[0m in \u001b[0;36mdmp_rr_prs_gcd\u001b[1;34m(f, g, u, K)\u001b[0m\n\u001b[0;32m   1066\u001b[0m     \u001b[0mgc\u001b[0m\u001b[1;33m,\u001b[0m \u001b[0mG\u001b[0m \u001b[1;33m=\u001b[0m \u001b[0mdmp_primitive\u001b[0m\u001b[1;33m(\u001b[0m\u001b[0mg\u001b[0m\u001b[1;33m,\u001b[0m \u001b[0mu\u001b[0m\u001b[1;33m,\u001b[0m \u001b[0mK\u001b[0m\u001b[1;33m)\u001b[0m\u001b[1;33m\u001b[0m\u001b[1;33m\u001b[0m\u001b[0m\n\u001b[0;32m   1067\u001b[0m \u001b[1;33m\u001b[0m\u001b[0m\n\u001b[1;32m-> 1068\u001b[1;33m     \u001b[0mh\u001b[0m \u001b[1;33m=\u001b[0m \u001b[0mdmp_subresultants\u001b[0m\u001b[1;33m(\u001b[0m\u001b[0mF\u001b[0m\u001b[1;33m,\u001b[0m \u001b[0mG\u001b[0m\u001b[1;33m,\u001b[0m \u001b[0mu\u001b[0m\u001b[1;33m,\u001b[0m \u001b[0mK\u001b[0m\u001b[1;33m)\u001b[0m\u001b[1;33m[\u001b[0m\u001b[1;33m-\u001b[0m\u001b[1;36m1\u001b[0m\u001b[1;33m]\u001b[0m\u001b[1;33m\u001b[0m\u001b[1;33m\u001b[0m\u001b[0m\n\u001b[0m\u001b[0;32m   1069\u001b[0m     \u001b[0mc\u001b[0m\u001b[1;33m,\u001b[0m \u001b[0m_\u001b[0m\u001b[1;33m,\u001b[0m \u001b[0m_\u001b[0m \u001b[1;33m=\u001b[0m \u001b[0mdmp_rr_prs_gcd\u001b[0m\u001b[1;33m(\u001b[0m\u001b[0mfc\u001b[0m\u001b[1;33m,\u001b[0m \u001b[0mgc\u001b[0m\u001b[1;33m,\u001b[0m \u001b[0mu\u001b[0m \u001b[1;33m-\u001b[0m \u001b[1;36m1\u001b[0m\u001b[1;33m,\u001b[0m \u001b[0mK\u001b[0m\u001b[1;33m)\u001b[0m\u001b[1;33m\u001b[0m\u001b[1;33m\u001b[0m\u001b[0m\n\u001b[0;32m   1070\u001b[0m \u001b[1;33m\u001b[0m\u001b[0m\n",
      "\u001b[1;32mc:\\users\\sasha\\appdata\\local\\programs\\python\\python38\\lib\\site-packages\\sympy\\polys\\euclidtools.py\u001b[0m in \u001b[0;36mdmp_subresultants\u001b[1;34m(f, g, u, K)\u001b[0m\n\u001b[0;32m    548\u001b[0m \u001b[1;33m\u001b[0m\u001b[0m\n\u001b[0;32m    549\u001b[0m     \"\"\"\n\u001b[1;32m--> 550\u001b[1;33m     \u001b[1;32mreturn\u001b[0m \u001b[0mdmp_inner_subresultants\u001b[0m\u001b[1;33m(\u001b[0m\u001b[0mf\u001b[0m\u001b[1;33m,\u001b[0m \u001b[0mg\u001b[0m\u001b[1;33m,\u001b[0m \u001b[0mu\u001b[0m\u001b[1;33m,\u001b[0m \u001b[0mK\u001b[0m\u001b[1;33m)\u001b[0m\u001b[1;33m[\u001b[0m\u001b[1;36m0\u001b[0m\u001b[1;33m]\u001b[0m\u001b[1;33m\u001b[0m\u001b[1;33m\u001b[0m\u001b[0m\n\u001b[0m\u001b[0;32m    551\u001b[0m \u001b[1;33m\u001b[0m\u001b[0m\n\u001b[0;32m    552\u001b[0m \u001b[1;33m\u001b[0m\u001b[0m\n",
      "\u001b[1;32mc:\\users\\sasha\\appdata\\local\\programs\\python\\python38\\lib\\site-packages\\sympy\\polys\\euclidtools.py\u001b[0m in \u001b[0;36mdmp_inner_subresultants\u001b[1;34m(f, g, u, K)\u001b[0m\n\u001b[0;32m    511\u001b[0m                     dmp_pow(c, d, v, K), v, K)\n\u001b[0;32m    512\u001b[0m \u001b[1;33m\u001b[0m\u001b[0m\n\u001b[1;32m--> 513\u001b[1;33m         \u001b[0mh\u001b[0m \u001b[1;33m=\u001b[0m \u001b[0mdmp_prem\u001b[0m\u001b[1;33m(\u001b[0m\u001b[0mf\u001b[0m\u001b[1;33m,\u001b[0m \u001b[0mg\u001b[0m\u001b[1;33m,\u001b[0m \u001b[0mu\u001b[0m\u001b[1;33m,\u001b[0m \u001b[0mK\u001b[0m\u001b[1;33m)\u001b[0m\u001b[1;33m\u001b[0m\u001b[1;33m\u001b[0m\u001b[0m\n\u001b[0m\u001b[0;32m    514\u001b[0m         \u001b[0mh\u001b[0m \u001b[1;33m=\u001b[0m \u001b[1;33m[\u001b[0m \u001b[0mdmp_quo\u001b[0m\u001b[1;33m(\u001b[0m\u001b[0mch\u001b[0m\u001b[1;33m,\u001b[0m \u001b[0mb\u001b[0m\u001b[1;33m,\u001b[0m \u001b[0mv\u001b[0m\u001b[1;33m,\u001b[0m \u001b[0mK\u001b[0m\u001b[1;33m)\u001b[0m \u001b[1;32mfor\u001b[0m \u001b[0mch\u001b[0m \u001b[1;32min\u001b[0m \u001b[0mh\u001b[0m \u001b[1;33m]\u001b[0m\u001b[1;33m\u001b[0m\u001b[1;33m\u001b[0m\u001b[0m\n\u001b[0;32m    515\u001b[0m \u001b[1;33m\u001b[0m\u001b[0m\n",
      "\u001b[1;32mc:\\users\\sasha\\appdata\\local\\programs\\python\\python38\\lib\\site-packages\\sympy\\polys\\densearith.py\u001b[0m in \u001b[0;36mdmp_prem\u001b[1;34m(f, g, u, K)\u001b[0m\n\u001b[0;32m   1235\u001b[0m         \u001b[0mj\u001b[0m\u001b[1;33m,\u001b[0m \u001b[0mN\u001b[0m \u001b[1;33m=\u001b[0m \u001b[0mdr\u001b[0m \u001b[1;33m-\u001b[0m \u001b[0mdg\u001b[0m\u001b[1;33m,\u001b[0m \u001b[0mN\u001b[0m \u001b[1;33m-\u001b[0m \u001b[1;36m1\u001b[0m\u001b[1;33m\u001b[0m\u001b[1;33m\u001b[0m\u001b[0m\n\u001b[0;32m   1236\u001b[0m \u001b[1;33m\u001b[0m\u001b[0m\n\u001b[1;32m-> 1237\u001b[1;33m         \u001b[0mR\u001b[0m \u001b[1;33m=\u001b[0m \u001b[0mdmp_mul_term\u001b[0m\u001b[1;33m(\u001b[0m\u001b[0mr\u001b[0m\u001b[1;33m,\u001b[0m \u001b[0mlc_g\u001b[0m\u001b[1;33m,\u001b[0m \u001b[1;36m0\u001b[0m\u001b[1;33m,\u001b[0m \u001b[0mu\u001b[0m\u001b[1;33m,\u001b[0m \u001b[0mK\u001b[0m\u001b[1;33m)\u001b[0m\u001b[1;33m\u001b[0m\u001b[1;33m\u001b[0m\u001b[0m\n\u001b[0m\u001b[0;32m   1238\u001b[0m         \u001b[0mG\u001b[0m \u001b[1;33m=\u001b[0m \u001b[0mdmp_mul_term\u001b[0m\u001b[1;33m(\u001b[0m\u001b[0mg\u001b[0m\u001b[1;33m,\u001b[0m \u001b[0mlc_r\u001b[0m\u001b[1;33m,\u001b[0m \u001b[0mj\u001b[0m\u001b[1;33m,\u001b[0m \u001b[0mu\u001b[0m\u001b[1;33m,\u001b[0m \u001b[0mK\u001b[0m\u001b[1;33m)\u001b[0m\u001b[1;33m\u001b[0m\u001b[1;33m\u001b[0m\u001b[0m\n\u001b[0;32m   1239\u001b[0m         \u001b[0mr\u001b[0m \u001b[1;33m=\u001b[0m \u001b[0mdmp_sub\u001b[0m\u001b[1;33m(\u001b[0m\u001b[0mR\u001b[0m\u001b[1;33m,\u001b[0m \u001b[0mG\u001b[0m\u001b[1;33m,\u001b[0m \u001b[0mu\u001b[0m\u001b[1;33m,\u001b[0m \u001b[0mK\u001b[0m\u001b[1;33m)\u001b[0m\u001b[1;33m\u001b[0m\u001b[1;33m\u001b[0m\u001b[0m\n",
      "\u001b[1;32mc:\\users\\sasha\\appdata\\local\\programs\\python\\python38\\lib\\site-packages\\sympy\\polys\\densearith.py\u001b[0m in \u001b[0;36mdmp_mul_term\u001b[1;34m(f, c, i, u, K)\u001b[0m\n\u001b[0;32m    182\u001b[0m         \u001b[1;32mreturn\u001b[0m \u001b[0mdmp_zero\u001b[0m\u001b[1;33m(\u001b[0m\u001b[0mu\u001b[0m\u001b[1;33m)\u001b[0m\u001b[1;33m\u001b[0m\u001b[1;33m\u001b[0m\u001b[0m\n\u001b[0;32m    183\u001b[0m     \u001b[1;32melse\u001b[0m\u001b[1;33m:\u001b[0m\u001b[1;33m\u001b[0m\u001b[1;33m\u001b[0m\u001b[0m\n\u001b[1;32m--> 184\u001b[1;33m         \u001b[1;32mreturn\u001b[0m \u001b[1;33m[\u001b[0m \u001b[0mdmp_mul\u001b[0m\u001b[1;33m(\u001b[0m\u001b[0mcf\u001b[0m\u001b[1;33m,\u001b[0m \u001b[0mc\u001b[0m\u001b[1;33m,\u001b[0m \u001b[0mv\u001b[0m\u001b[1;33m,\u001b[0m \u001b[0mK\u001b[0m\u001b[1;33m)\u001b[0m \u001b[1;32mfor\u001b[0m \u001b[0mcf\u001b[0m \u001b[1;32min\u001b[0m \u001b[0mf\u001b[0m \u001b[1;33m]\u001b[0m \u001b[1;33m+\u001b[0m \u001b[0mdmp_zeros\u001b[0m\u001b[1;33m(\u001b[0m\u001b[0mi\u001b[0m\u001b[1;33m,\u001b[0m \u001b[0mv\u001b[0m\u001b[1;33m,\u001b[0m \u001b[0mK\u001b[0m\u001b[1;33m)\u001b[0m\u001b[1;33m\u001b[0m\u001b[1;33m\u001b[0m\u001b[0m\n\u001b[0m\u001b[0;32m    185\u001b[0m \u001b[1;33m\u001b[0m\u001b[0m\n\u001b[0;32m    186\u001b[0m \u001b[1;33m\u001b[0m\u001b[0m\n",
      "\u001b[1;32mc:\\users\\sasha\\appdata\\local\\programs\\python\\python38\\lib\\site-packages\\sympy\\polys\\densearith.py\u001b[0m in \u001b[0;36m<listcomp>\u001b[1;34m(.0)\u001b[0m\n\u001b[0;32m    182\u001b[0m         \u001b[1;32mreturn\u001b[0m \u001b[0mdmp_zero\u001b[0m\u001b[1;33m(\u001b[0m\u001b[0mu\u001b[0m\u001b[1;33m)\u001b[0m\u001b[1;33m\u001b[0m\u001b[1;33m\u001b[0m\u001b[0m\n\u001b[0;32m    183\u001b[0m     \u001b[1;32melse\u001b[0m\u001b[1;33m:\u001b[0m\u001b[1;33m\u001b[0m\u001b[1;33m\u001b[0m\u001b[0m\n\u001b[1;32m--> 184\u001b[1;33m         \u001b[1;32mreturn\u001b[0m \u001b[1;33m[\u001b[0m \u001b[0mdmp_mul\u001b[0m\u001b[1;33m(\u001b[0m\u001b[0mcf\u001b[0m\u001b[1;33m,\u001b[0m \u001b[0mc\u001b[0m\u001b[1;33m,\u001b[0m \u001b[0mv\u001b[0m\u001b[1;33m,\u001b[0m \u001b[0mK\u001b[0m\u001b[1;33m)\u001b[0m \u001b[1;32mfor\u001b[0m \u001b[0mcf\u001b[0m \u001b[1;32min\u001b[0m \u001b[0mf\u001b[0m \u001b[1;33m]\u001b[0m \u001b[1;33m+\u001b[0m \u001b[0mdmp_zeros\u001b[0m\u001b[1;33m(\u001b[0m\u001b[0mi\u001b[0m\u001b[1;33m,\u001b[0m \u001b[0mv\u001b[0m\u001b[1;33m,\u001b[0m \u001b[0mK\u001b[0m\u001b[1;33m)\u001b[0m\u001b[1;33m\u001b[0m\u001b[1;33m\u001b[0m\u001b[0m\n\u001b[0m\u001b[0;32m    185\u001b[0m \u001b[1;33m\u001b[0m\u001b[0m\n\u001b[0;32m    186\u001b[0m \u001b[1;33m\u001b[0m\u001b[0m\n",
      "\u001b[1;32mc:\\users\\sasha\\appdata\\local\\programs\\python\\python38\\lib\\site-packages\\sympy\\polys\\densearith.py\u001b[0m in \u001b[0;36mdmp_mul\u001b[1;34m(f, g, u, K)\u001b[0m\n\u001b[0;32m    826\u001b[0m \u001b[1;33m\u001b[0m\u001b[0m\n\u001b[0;32m    827\u001b[0m         \u001b[1;32mfor\u001b[0m \u001b[0mj\u001b[0m \u001b[1;32min\u001b[0m \u001b[0mrange\u001b[0m\u001b[1;33m(\u001b[0m\u001b[0mmax\u001b[0m\u001b[1;33m(\u001b[0m\u001b[1;36m0\u001b[0m\u001b[1;33m,\u001b[0m \u001b[0mi\u001b[0m \u001b[1;33m-\u001b[0m \u001b[0mdg\u001b[0m\u001b[1;33m)\u001b[0m\u001b[1;33m,\u001b[0m \u001b[0mmin\u001b[0m\u001b[1;33m(\u001b[0m\u001b[0mdf\u001b[0m\u001b[1;33m,\u001b[0m \u001b[0mi\u001b[0m\u001b[1;33m)\u001b[0m \u001b[1;33m+\u001b[0m \u001b[1;36m1\u001b[0m\u001b[1;33m)\u001b[0m\u001b[1;33m:\u001b[0m\u001b[1;33m\u001b[0m\u001b[1;33m\u001b[0m\u001b[0m\n\u001b[1;32m--> 828\u001b[1;33m             \u001b[0mcoeff\u001b[0m \u001b[1;33m=\u001b[0m \u001b[0mdmp_add\u001b[0m\u001b[1;33m(\u001b[0m\u001b[0mcoeff\u001b[0m\u001b[1;33m,\u001b[0m \u001b[0mdmp_mul\u001b[0m\u001b[1;33m(\u001b[0m\u001b[0mf\u001b[0m\u001b[1;33m[\u001b[0m\u001b[0mj\u001b[0m\u001b[1;33m]\u001b[0m\u001b[1;33m,\u001b[0m \u001b[0mg\u001b[0m\u001b[1;33m[\u001b[0m\u001b[0mi\u001b[0m \u001b[1;33m-\u001b[0m \u001b[0mj\u001b[0m\u001b[1;33m]\u001b[0m\u001b[1;33m,\u001b[0m \u001b[0mv\u001b[0m\u001b[1;33m,\u001b[0m \u001b[0mK\u001b[0m\u001b[1;33m)\u001b[0m\u001b[1;33m,\u001b[0m \u001b[0mv\u001b[0m\u001b[1;33m,\u001b[0m \u001b[0mK\u001b[0m\u001b[1;33m)\u001b[0m\u001b[1;33m\u001b[0m\u001b[1;33m\u001b[0m\u001b[0m\n\u001b[0m\u001b[0;32m    829\u001b[0m \u001b[1;33m\u001b[0m\u001b[0m\n\u001b[0;32m    830\u001b[0m         \u001b[0mh\u001b[0m\u001b[1;33m.\u001b[0m\u001b[0mappend\u001b[0m\u001b[1;33m(\u001b[0m\u001b[0mcoeff\u001b[0m\u001b[1;33m)\u001b[0m\u001b[1;33m\u001b[0m\u001b[1;33m\u001b[0m\u001b[0m\n",
      "\u001b[1;32mc:\\users\\sasha\\appdata\\local\\programs\\python\\python38\\lib\\site-packages\\sympy\\polys\\densearith.py\u001b[0m in \u001b[0;36mdmp_mul\u001b[1;34m(f, g, u, K)\u001b[0m\n\u001b[0;32m    826\u001b[0m \u001b[1;33m\u001b[0m\u001b[0m\n\u001b[0;32m    827\u001b[0m         \u001b[1;32mfor\u001b[0m \u001b[0mj\u001b[0m \u001b[1;32min\u001b[0m \u001b[0mrange\u001b[0m\u001b[1;33m(\u001b[0m\u001b[0mmax\u001b[0m\u001b[1;33m(\u001b[0m\u001b[1;36m0\u001b[0m\u001b[1;33m,\u001b[0m \u001b[0mi\u001b[0m \u001b[1;33m-\u001b[0m \u001b[0mdg\u001b[0m\u001b[1;33m)\u001b[0m\u001b[1;33m,\u001b[0m \u001b[0mmin\u001b[0m\u001b[1;33m(\u001b[0m\u001b[0mdf\u001b[0m\u001b[1;33m,\u001b[0m \u001b[0mi\u001b[0m\u001b[1;33m)\u001b[0m \u001b[1;33m+\u001b[0m \u001b[1;36m1\u001b[0m\u001b[1;33m)\u001b[0m\u001b[1;33m:\u001b[0m\u001b[1;33m\u001b[0m\u001b[1;33m\u001b[0m\u001b[0m\n\u001b[1;32m--> 828\u001b[1;33m             \u001b[0mcoeff\u001b[0m \u001b[1;33m=\u001b[0m \u001b[0mdmp_add\u001b[0m\u001b[1;33m(\u001b[0m\u001b[0mcoeff\u001b[0m\u001b[1;33m,\u001b[0m \u001b[0mdmp_mul\u001b[0m\u001b[1;33m(\u001b[0m\u001b[0mf\u001b[0m\u001b[1;33m[\u001b[0m\u001b[0mj\u001b[0m\u001b[1;33m]\u001b[0m\u001b[1;33m,\u001b[0m \u001b[0mg\u001b[0m\u001b[1;33m[\u001b[0m\u001b[0mi\u001b[0m \u001b[1;33m-\u001b[0m \u001b[0mj\u001b[0m\u001b[1;33m]\u001b[0m\u001b[1;33m,\u001b[0m \u001b[0mv\u001b[0m\u001b[1;33m,\u001b[0m \u001b[0mK\u001b[0m\u001b[1;33m)\u001b[0m\u001b[1;33m,\u001b[0m \u001b[0mv\u001b[0m\u001b[1;33m,\u001b[0m \u001b[0mK\u001b[0m\u001b[1;33m)\u001b[0m\u001b[1;33m\u001b[0m\u001b[1;33m\u001b[0m\u001b[0m\n\u001b[0m\u001b[0;32m    829\u001b[0m \u001b[1;33m\u001b[0m\u001b[0m\n\u001b[0;32m    830\u001b[0m         \u001b[0mh\u001b[0m\u001b[1;33m.\u001b[0m\u001b[0mappend\u001b[0m\u001b[1;33m(\u001b[0m\u001b[0mcoeff\u001b[0m\u001b[1;33m)\u001b[0m\u001b[1;33m\u001b[0m\u001b[1;33m\u001b[0m\u001b[0m\n",
      "\u001b[1;32mc:\\users\\sasha\\appdata\\local\\programs\\python\\python38\\lib\\site-packages\\sympy\\polys\\densearith.py\u001b[0m in \u001b[0;36mdmp_mul\u001b[1;34m(f, g, u, K)\u001b[0m\n\u001b[0;32m    826\u001b[0m \u001b[1;33m\u001b[0m\u001b[0m\n\u001b[0;32m    827\u001b[0m         \u001b[1;32mfor\u001b[0m \u001b[0mj\u001b[0m \u001b[1;32min\u001b[0m \u001b[0mrange\u001b[0m\u001b[1;33m(\u001b[0m\u001b[0mmax\u001b[0m\u001b[1;33m(\u001b[0m\u001b[1;36m0\u001b[0m\u001b[1;33m,\u001b[0m \u001b[0mi\u001b[0m \u001b[1;33m-\u001b[0m \u001b[0mdg\u001b[0m\u001b[1;33m)\u001b[0m\u001b[1;33m,\u001b[0m \u001b[0mmin\u001b[0m\u001b[1;33m(\u001b[0m\u001b[0mdf\u001b[0m\u001b[1;33m,\u001b[0m \u001b[0mi\u001b[0m\u001b[1;33m)\u001b[0m \u001b[1;33m+\u001b[0m \u001b[1;36m1\u001b[0m\u001b[1;33m)\u001b[0m\u001b[1;33m:\u001b[0m\u001b[1;33m\u001b[0m\u001b[1;33m\u001b[0m\u001b[0m\n\u001b[1;32m--> 828\u001b[1;33m             \u001b[0mcoeff\u001b[0m \u001b[1;33m=\u001b[0m \u001b[0mdmp_add\u001b[0m\u001b[1;33m(\u001b[0m\u001b[0mcoeff\u001b[0m\u001b[1;33m,\u001b[0m \u001b[0mdmp_mul\u001b[0m\u001b[1;33m(\u001b[0m\u001b[0mf\u001b[0m\u001b[1;33m[\u001b[0m\u001b[0mj\u001b[0m\u001b[1;33m]\u001b[0m\u001b[1;33m,\u001b[0m \u001b[0mg\u001b[0m\u001b[1;33m[\u001b[0m\u001b[0mi\u001b[0m \u001b[1;33m-\u001b[0m \u001b[0mj\u001b[0m\u001b[1;33m]\u001b[0m\u001b[1;33m,\u001b[0m \u001b[0mv\u001b[0m\u001b[1;33m,\u001b[0m \u001b[0mK\u001b[0m\u001b[1;33m)\u001b[0m\u001b[1;33m,\u001b[0m \u001b[0mv\u001b[0m\u001b[1;33m,\u001b[0m \u001b[0mK\u001b[0m\u001b[1;33m)\u001b[0m\u001b[1;33m\u001b[0m\u001b[1;33m\u001b[0m\u001b[0m\n\u001b[0m\u001b[0;32m    829\u001b[0m \u001b[1;33m\u001b[0m\u001b[0m\n\u001b[0;32m    830\u001b[0m         \u001b[0mh\u001b[0m\u001b[1;33m.\u001b[0m\u001b[0mappend\u001b[0m\u001b[1;33m(\u001b[0m\u001b[0mcoeff\u001b[0m\u001b[1;33m)\u001b[0m\u001b[1;33m\u001b[0m\u001b[1;33m\u001b[0m\u001b[0m\n",
      "\u001b[1;32mc:\\users\\sasha\\appdata\\local\\programs\\python\\python38\\lib\\site-packages\\sympy\\polys\\densearith.py\u001b[0m in \u001b[0;36mdmp_mul\u001b[1;34m(f, g, u, K)\u001b[0m\n\u001b[0;32m    826\u001b[0m \u001b[1;33m\u001b[0m\u001b[0m\n\u001b[0;32m    827\u001b[0m         \u001b[1;32mfor\u001b[0m \u001b[0mj\u001b[0m \u001b[1;32min\u001b[0m \u001b[0mrange\u001b[0m\u001b[1;33m(\u001b[0m\u001b[0mmax\u001b[0m\u001b[1;33m(\u001b[0m\u001b[1;36m0\u001b[0m\u001b[1;33m,\u001b[0m \u001b[0mi\u001b[0m \u001b[1;33m-\u001b[0m \u001b[0mdg\u001b[0m\u001b[1;33m)\u001b[0m\u001b[1;33m,\u001b[0m \u001b[0mmin\u001b[0m\u001b[1;33m(\u001b[0m\u001b[0mdf\u001b[0m\u001b[1;33m,\u001b[0m \u001b[0mi\u001b[0m\u001b[1;33m)\u001b[0m \u001b[1;33m+\u001b[0m \u001b[1;36m1\u001b[0m\u001b[1;33m)\u001b[0m\u001b[1;33m:\u001b[0m\u001b[1;33m\u001b[0m\u001b[1;33m\u001b[0m\u001b[0m\n\u001b[1;32m--> 828\u001b[1;33m             \u001b[0mcoeff\u001b[0m \u001b[1;33m=\u001b[0m \u001b[0mdmp_add\u001b[0m\u001b[1;33m(\u001b[0m\u001b[0mcoeff\u001b[0m\u001b[1;33m,\u001b[0m \u001b[0mdmp_mul\u001b[0m\u001b[1;33m(\u001b[0m\u001b[0mf\u001b[0m\u001b[1;33m[\u001b[0m\u001b[0mj\u001b[0m\u001b[1;33m]\u001b[0m\u001b[1;33m,\u001b[0m \u001b[0mg\u001b[0m\u001b[1;33m[\u001b[0m\u001b[0mi\u001b[0m \u001b[1;33m-\u001b[0m \u001b[0mj\u001b[0m\u001b[1;33m]\u001b[0m\u001b[1;33m,\u001b[0m \u001b[0mv\u001b[0m\u001b[1;33m,\u001b[0m \u001b[0mK\u001b[0m\u001b[1;33m)\u001b[0m\u001b[1;33m,\u001b[0m \u001b[0mv\u001b[0m\u001b[1;33m,\u001b[0m \u001b[0mK\u001b[0m\u001b[1;33m)\u001b[0m\u001b[1;33m\u001b[0m\u001b[1;33m\u001b[0m\u001b[0m\n\u001b[0m\u001b[0;32m    829\u001b[0m \u001b[1;33m\u001b[0m\u001b[0m\n\u001b[0;32m    830\u001b[0m         \u001b[0mh\u001b[0m\u001b[1;33m.\u001b[0m\u001b[0mappend\u001b[0m\u001b[1;33m(\u001b[0m\u001b[0mcoeff\u001b[0m\u001b[1;33m)\u001b[0m\u001b[1;33m\u001b[0m\u001b[1;33m\u001b[0m\u001b[0m\n",
      "\u001b[1;32mc:\\users\\sasha\\appdata\\local\\programs\\python\\python38\\lib\\site-packages\\sympy\\polys\\densearith.py\u001b[0m in \u001b[0;36mdmp_mul\u001b[1;34m(f, g, u, K)\u001b[0m\n\u001b[0;32m    826\u001b[0m \u001b[1;33m\u001b[0m\u001b[0m\n\u001b[0;32m    827\u001b[0m         \u001b[1;32mfor\u001b[0m \u001b[0mj\u001b[0m \u001b[1;32min\u001b[0m \u001b[0mrange\u001b[0m\u001b[1;33m(\u001b[0m\u001b[0mmax\u001b[0m\u001b[1;33m(\u001b[0m\u001b[1;36m0\u001b[0m\u001b[1;33m,\u001b[0m \u001b[0mi\u001b[0m \u001b[1;33m-\u001b[0m \u001b[0mdg\u001b[0m\u001b[1;33m)\u001b[0m\u001b[1;33m,\u001b[0m \u001b[0mmin\u001b[0m\u001b[1;33m(\u001b[0m\u001b[0mdf\u001b[0m\u001b[1;33m,\u001b[0m \u001b[0mi\u001b[0m\u001b[1;33m)\u001b[0m \u001b[1;33m+\u001b[0m \u001b[1;36m1\u001b[0m\u001b[1;33m)\u001b[0m\u001b[1;33m:\u001b[0m\u001b[1;33m\u001b[0m\u001b[1;33m\u001b[0m\u001b[0m\n\u001b[1;32m--> 828\u001b[1;33m             \u001b[0mcoeff\u001b[0m \u001b[1;33m=\u001b[0m \u001b[0mdmp_add\u001b[0m\u001b[1;33m(\u001b[0m\u001b[0mcoeff\u001b[0m\u001b[1;33m,\u001b[0m \u001b[0mdmp_mul\u001b[0m\u001b[1;33m(\u001b[0m\u001b[0mf\u001b[0m\u001b[1;33m[\u001b[0m\u001b[0mj\u001b[0m\u001b[1;33m]\u001b[0m\u001b[1;33m,\u001b[0m \u001b[0mg\u001b[0m\u001b[1;33m[\u001b[0m\u001b[0mi\u001b[0m \u001b[1;33m-\u001b[0m \u001b[0mj\u001b[0m\u001b[1;33m]\u001b[0m\u001b[1;33m,\u001b[0m \u001b[0mv\u001b[0m\u001b[1;33m,\u001b[0m \u001b[0mK\u001b[0m\u001b[1;33m)\u001b[0m\u001b[1;33m,\u001b[0m \u001b[0mv\u001b[0m\u001b[1;33m,\u001b[0m \u001b[0mK\u001b[0m\u001b[1;33m)\u001b[0m\u001b[1;33m\u001b[0m\u001b[1;33m\u001b[0m\u001b[0m\n\u001b[0m\u001b[0;32m    829\u001b[0m \u001b[1;33m\u001b[0m\u001b[0m\n\u001b[0;32m    830\u001b[0m         \u001b[0mh\u001b[0m\u001b[1;33m.\u001b[0m\u001b[0mappend\u001b[0m\u001b[1;33m(\u001b[0m\u001b[0mcoeff\u001b[0m\u001b[1;33m)\u001b[0m\u001b[1;33m\u001b[0m\u001b[1;33m\u001b[0m\u001b[0m\n",
      "\u001b[1;32mc:\\users\\sasha\\appdata\\local\\programs\\python\\python38\\lib\\site-packages\\sympy\\polys\\densearith.py\u001b[0m in \u001b[0;36mdmp_mul\u001b[1;34m(f, g, u, K)\u001b[0m\n\u001b[0;32m    826\u001b[0m \u001b[1;33m\u001b[0m\u001b[0m\n\u001b[0;32m    827\u001b[0m         \u001b[1;32mfor\u001b[0m \u001b[0mj\u001b[0m \u001b[1;32min\u001b[0m \u001b[0mrange\u001b[0m\u001b[1;33m(\u001b[0m\u001b[0mmax\u001b[0m\u001b[1;33m(\u001b[0m\u001b[1;36m0\u001b[0m\u001b[1;33m,\u001b[0m \u001b[0mi\u001b[0m \u001b[1;33m-\u001b[0m \u001b[0mdg\u001b[0m\u001b[1;33m)\u001b[0m\u001b[1;33m,\u001b[0m \u001b[0mmin\u001b[0m\u001b[1;33m(\u001b[0m\u001b[0mdf\u001b[0m\u001b[1;33m,\u001b[0m \u001b[0mi\u001b[0m\u001b[1;33m)\u001b[0m \u001b[1;33m+\u001b[0m \u001b[1;36m1\u001b[0m\u001b[1;33m)\u001b[0m\u001b[1;33m:\u001b[0m\u001b[1;33m\u001b[0m\u001b[1;33m\u001b[0m\u001b[0m\n\u001b[1;32m--> 828\u001b[1;33m             \u001b[0mcoeff\u001b[0m \u001b[1;33m=\u001b[0m \u001b[0mdmp_add\u001b[0m\u001b[1;33m(\u001b[0m\u001b[0mcoeff\u001b[0m\u001b[1;33m,\u001b[0m \u001b[0mdmp_mul\u001b[0m\u001b[1;33m(\u001b[0m\u001b[0mf\u001b[0m\u001b[1;33m[\u001b[0m\u001b[0mj\u001b[0m\u001b[1;33m]\u001b[0m\u001b[1;33m,\u001b[0m \u001b[0mg\u001b[0m\u001b[1;33m[\u001b[0m\u001b[0mi\u001b[0m \u001b[1;33m-\u001b[0m \u001b[0mj\u001b[0m\u001b[1;33m]\u001b[0m\u001b[1;33m,\u001b[0m \u001b[0mv\u001b[0m\u001b[1;33m,\u001b[0m \u001b[0mK\u001b[0m\u001b[1;33m)\u001b[0m\u001b[1;33m,\u001b[0m \u001b[0mv\u001b[0m\u001b[1;33m,\u001b[0m \u001b[0mK\u001b[0m\u001b[1;33m)\u001b[0m\u001b[1;33m\u001b[0m\u001b[1;33m\u001b[0m\u001b[0m\n\u001b[0m\u001b[0;32m    829\u001b[0m \u001b[1;33m\u001b[0m\u001b[0m\n\u001b[0;32m    830\u001b[0m         \u001b[0mh\u001b[0m\u001b[1;33m.\u001b[0m\u001b[0mappend\u001b[0m\u001b[1;33m(\u001b[0m\u001b[0mcoeff\u001b[0m\u001b[1;33m)\u001b[0m\u001b[1;33m\u001b[0m\u001b[1;33m\u001b[0m\u001b[0m\n",
      "\u001b[1;32mc:\\users\\sasha\\appdata\\local\\programs\\python\\python38\\lib\\site-packages\\sympy\\polys\\densearith.py\u001b[0m in \u001b[0;36mdmp_mul\u001b[1;34m(f, g, u, K)\u001b[0m\n\u001b[0;32m    805\u001b[0m     \"\"\"\n\u001b[0;32m    806\u001b[0m     \u001b[1;32mif\u001b[0m \u001b[1;32mnot\u001b[0m \u001b[0mu\u001b[0m\u001b[1;33m:\u001b[0m\u001b[1;33m\u001b[0m\u001b[1;33m\u001b[0m\u001b[0m\n\u001b[1;32m--> 807\u001b[1;33m         \u001b[1;32mreturn\u001b[0m \u001b[0mdup_mul\u001b[0m\u001b[1;33m(\u001b[0m\u001b[0mf\u001b[0m\u001b[1;33m,\u001b[0m \u001b[0mg\u001b[0m\u001b[1;33m,\u001b[0m \u001b[0mK\u001b[0m\u001b[1;33m)\u001b[0m\u001b[1;33m\u001b[0m\u001b[1;33m\u001b[0m\u001b[0m\n\u001b[0m\u001b[0;32m    808\u001b[0m \u001b[1;33m\u001b[0m\u001b[0m\n\u001b[0;32m    809\u001b[0m     \u001b[1;32mif\u001b[0m \u001b[0mf\u001b[0m \u001b[1;33m==\u001b[0m \u001b[0mg\u001b[0m\u001b[1;33m:\u001b[0m\u001b[1;33m\u001b[0m\u001b[1;33m\u001b[0m\u001b[0m\n",
      "\u001b[1;32mc:\\users\\sasha\\appdata\\local\\programs\\python\\python38\\lib\\site-packages\\sympy\\polys\\densearith.py\u001b[0m in \u001b[0;36mdup_mul\u001b[1;34m(f, g, K)\u001b[0m\n\u001b[0;32m    765\u001b[0m \u001b[1;33m\u001b[0m\u001b[0m\n\u001b[0;32m    766\u001b[0m             \u001b[1;32mfor\u001b[0m \u001b[0mj\u001b[0m \u001b[1;32min\u001b[0m \u001b[0mrange\u001b[0m\u001b[1;33m(\u001b[0m\u001b[0mmax\u001b[0m\u001b[1;33m(\u001b[0m\u001b[1;36m0\u001b[0m\u001b[1;33m,\u001b[0m \u001b[0mi\u001b[0m \u001b[1;33m-\u001b[0m \u001b[0mdg\u001b[0m\u001b[1;33m)\u001b[0m\u001b[1;33m,\u001b[0m \u001b[0mmin\u001b[0m\u001b[1;33m(\u001b[0m\u001b[0mdf\u001b[0m\u001b[1;33m,\u001b[0m \u001b[0mi\u001b[0m\u001b[1;33m)\u001b[0m \u001b[1;33m+\u001b[0m \u001b[1;36m1\u001b[0m\u001b[1;33m)\u001b[0m\u001b[1;33m:\u001b[0m\u001b[1;33m\u001b[0m\u001b[1;33m\u001b[0m\u001b[0m\n\u001b[1;32m--> 767\u001b[1;33m                 \u001b[0mcoeff\u001b[0m \u001b[1;33m+=\u001b[0m \u001b[0mf\u001b[0m\u001b[1;33m[\u001b[0m\u001b[0mj\u001b[0m\u001b[1;33m]\u001b[0m\u001b[1;33m*\u001b[0m\u001b[0mg\u001b[0m\u001b[1;33m[\u001b[0m\u001b[0mi\u001b[0m \u001b[1;33m-\u001b[0m \u001b[0mj\u001b[0m\u001b[1;33m]\u001b[0m\u001b[1;33m\u001b[0m\u001b[1;33m\u001b[0m\u001b[0m\n\u001b[0m\u001b[0;32m    768\u001b[0m \u001b[1;33m\u001b[0m\u001b[0m\n\u001b[0;32m    769\u001b[0m             \u001b[0mh\u001b[0m\u001b[1;33m.\u001b[0m\u001b[0mappend\u001b[0m\u001b[1;33m(\u001b[0m\u001b[0mcoeff\u001b[0m\u001b[1;33m)\u001b[0m\u001b[1;33m\u001b[0m\u001b[1;33m\u001b[0m\u001b[0m\n",
      "\u001b[1;32mc:\\users\\sasha\\appdata\\local\\programs\\python\\python38\\lib\\site-packages\\sympy\\polys\\domains\\gaussiandomains.py\u001b[0m in \u001b[0;36m__add__\u001b[1;34m(self, other)\u001b[0m\n\u001b[0;32m     67\u001b[0m         \u001b[0mx\u001b[0m\u001b[1;33m,\u001b[0m \u001b[0my\u001b[0m \u001b[1;33m=\u001b[0m \u001b[0mself\u001b[0m\u001b[1;33m.\u001b[0m\u001b[0m_get_xy\u001b[0m\u001b[1;33m(\u001b[0m\u001b[0mother\u001b[0m\u001b[1;33m)\u001b[0m\u001b[1;33m\u001b[0m\u001b[1;33m\u001b[0m\u001b[0m\n\u001b[0;32m     68\u001b[0m         \u001b[1;32mif\u001b[0m \u001b[0mx\u001b[0m \u001b[1;32mis\u001b[0m \u001b[1;32mnot\u001b[0m \u001b[1;32mNone\u001b[0m\u001b[1;33m:\u001b[0m\u001b[1;33m\u001b[0m\u001b[1;33m\u001b[0m\u001b[0m\n\u001b[1;32m---> 69\u001b[1;33m             \u001b[1;32mreturn\u001b[0m \u001b[0mself\u001b[0m\u001b[1;33m.\u001b[0m\u001b[0mnew\u001b[0m\u001b[1;33m(\u001b[0m\u001b[0mself\u001b[0m\u001b[1;33m.\u001b[0m\u001b[0mx\u001b[0m \u001b[1;33m+\u001b[0m \u001b[0mx\u001b[0m\u001b[1;33m,\u001b[0m \u001b[0mself\u001b[0m\u001b[1;33m.\u001b[0m\u001b[0my\u001b[0m \u001b[1;33m+\u001b[0m \u001b[0my\u001b[0m\u001b[1;33m)\u001b[0m\u001b[1;33m\u001b[0m\u001b[1;33m\u001b[0m\u001b[0m\n\u001b[0m\u001b[0;32m     70\u001b[0m         \u001b[1;32melse\u001b[0m\u001b[1;33m:\u001b[0m\u001b[1;33m\u001b[0m\u001b[1;33m\u001b[0m\u001b[0m\n\u001b[0;32m     71\u001b[0m             \u001b[1;32mreturn\u001b[0m \u001b[0mNotImplemented\u001b[0m\u001b[1;33m\u001b[0m\u001b[1;33m\u001b[0m\u001b[0m\n",
      "\u001b[1;32mc:\\users\\sasha\\appdata\\local\\programs\\python\\python38\\lib\\site-packages\\sympy\\polys\\domains\\gaussiandomains.py\u001b[0m in \u001b[0;36mnew\u001b[1;34m(cls, x, y)\u001b[0m\n\u001b[0;32m     26\u001b[0m     \u001b[1;32mdef\u001b[0m \u001b[0mnew\u001b[0m\u001b[1;33m(\u001b[0m\u001b[0mcls\u001b[0m\u001b[1;33m,\u001b[0m \u001b[0mx\u001b[0m\u001b[1;33m,\u001b[0m \u001b[0my\u001b[0m\u001b[1;33m)\u001b[0m\u001b[1;33m:\u001b[0m\u001b[1;33m\u001b[0m\u001b[1;33m\u001b[0m\u001b[0m\n\u001b[0;32m     27\u001b[0m         \u001b[1;34m\"\"\"Create a new GaussianElement of the same domain.\"\"\"\u001b[0m\u001b[1;33m\u001b[0m\u001b[1;33m\u001b[0m\u001b[0m\n\u001b[1;32m---> 28\u001b[1;33m         \u001b[1;32mreturn\u001b[0m \u001b[0mcls\u001b[0m\u001b[1;33m(\u001b[0m\u001b[0mx\u001b[0m\u001b[1;33m,\u001b[0m \u001b[0my\u001b[0m\u001b[1;33m)\u001b[0m\u001b[1;33m\u001b[0m\u001b[1;33m\u001b[0m\u001b[0m\n\u001b[0m\u001b[0;32m     29\u001b[0m \u001b[1;33m\u001b[0m\u001b[0m\n\u001b[0;32m     30\u001b[0m     \u001b[1;32mdef\u001b[0m \u001b[0mparent\u001b[0m\u001b[1;33m(\u001b[0m\u001b[0mself\u001b[0m\u001b[1;33m)\u001b[0m\u001b[1;33m:\u001b[0m\u001b[1;33m\u001b[0m\u001b[1;33m\u001b[0m\u001b[0m\n",
      "\u001b[1;32mc:\\users\\sasha\\appdata\\local\\programs\\python\\python38\\lib\\site-packages\\sympy\\polys\\domains\\gaussiandomains.py\u001b[0m in \u001b[0;36m__init__\u001b[1;34m(self, x, y)\u001b[0m\n\u001b[0;32m     20\u001b[0m     \u001b[1;32mdef\u001b[0m \u001b[0m__init__\u001b[0m\u001b[1;33m(\u001b[0m\u001b[0mself\u001b[0m\u001b[1;33m,\u001b[0m \u001b[0mx\u001b[0m\u001b[1;33m,\u001b[0m \u001b[0my\u001b[0m\u001b[1;33m=\u001b[0m\u001b[1;36m0\u001b[0m\u001b[1;33m)\u001b[0m\u001b[1;33m:\u001b[0m\u001b[1;33m\u001b[0m\u001b[1;33m\u001b[0m\u001b[0m\n\u001b[0;32m     21\u001b[0m         \u001b[0mconv\u001b[0m \u001b[1;33m=\u001b[0m \u001b[0mself\u001b[0m\u001b[1;33m.\u001b[0m\u001b[0mbase\u001b[0m\u001b[1;33m.\u001b[0m\u001b[0mconvert\u001b[0m\u001b[1;33m\u001b[0m\u001b[1;33m\u001b[0m\u001b[0m\n\u001b[1;32m---> 22\u001b[1;33m         \u001b[0mself\u001b[0m\u001b[1;33m.\u001b[0m\u001b[0mx\u001b[0m \u001b[1;33m=\u001b[0m \u001b[0mconv\u001b[0m\u001b[1;33m(\u001b[0m\u001b[0mx\u001b[0m\u001b[1;33m)\u001b[0m\u001b[1;33m\u001b[0m\u001b[1;33m\u001b[0m\u001b[0m\n\u001b[0m\u001b[0;32m     23\u001b[0m         \u001b[0mself\u001b[0m\u001b[1;33m.\u001b[0m\u001b[0my\u001b[0m \u001b[1;33m=\u001b[0m \u001b[0mconv\u001b[0m\u001b[1;33m(\u001b[0m\u001b[0my\u001b[0m\u001b[1;33m)\u001b[0m\u001b[1;33m\u001b[0m\u001b[1;33m\u001b[0m\u001b[0m\n\u001b[0;32m     24\u001b[0m \u001b[1;33m\u001b[0m\u001b[0m\n",
      "\u001b[1;32mc:\\users\\sasha\\appdata\\local\\programs\\python\\python38\\lib\\site-packages\\sympy\\polys\\domains\\domain.py\u001b[0m in \u001b[0;36mconvert\u001b[1;34m(self, element, base)\u001b[0m\n\u001b[0;32m    106\u001b[0m     \u001b[1;32mdef\u001b[0m \u001b[0mconvert\u001b[0m\u001b[1;33m(\u001b[0m\u001b[0mself\u001b[0m\u001b[1;33m,\u001b[0m \u001b[0melement\u001b[0m\u001b[1;33m,\u001b[0m \u001b[0mbase\u001b[0m\u001b[1;33m=\u001b[0m\u001b[1;32mNone\u001b[0m\u001b[1;33m)\u001b[0m\u001b[1;33m:\u001b[0m\u001b[1;33m\u001b[0m\u001b[1;33m\u001b[0m\u001b[0m\n\u001b[0;32m    107\u001b[0m         \u001b[1;34m\"\"\"Convert ``element`` to ``self.dtype``. \"\"\"\u001b[0m\u001b[1;33m\u001b[0m\u001b[1;33m\u001b[0m\u001b[0m\n\u001b[1;32m--> 108\u001b[1;33m         \u001b[1;32mif\u001b[0m \u001b[0m_not_a_coeff\u001b[0m\u001b[1;33m(\u001b[0m\u001b[0melement\u001b[0m\u001b[1;33m)\u001b[0m\u001b[1;33m:\u001b[0m\u001b[1;33m\u001b[0m\u001b[1;33m\u001b[0m\u001b[0m\n\u001b[0m\u001b[0;32m    109\u001b[0m             \u001b[1;32mraise\u001b[0m \u001b[0mCoercionFailed\u001b[0m\u001b[1;33m(\u001b[0m\u001b[1;34m'%s is not in any domain'\u001b[0m \u001b[1;33m%\u001b[0m \u001b[0melement\u001b[0m\u001b[1;33m)\u001b[0m\u001b[1;33m\u001b[0m\u001b[1;33m\u001b[0m\u001b[0m\n\u001b[0;32m    110\u001b[0m \u001b[1;33m\u001b[0m\u001b[0m\n",
      "\u001b[1;32mc:\\users\\sasha\\appdata\\local\\programs\\python\\python38\\lib\\site-packages\\sympy\\polys\\polyutils.py\u001b[0m in \u001b[0;36m_not_a_coeff\u001b[1;34m(expr)\u001b[0m\n\u001b[0;32m    172\u001b[0m     \u001b[1;32mif\u001b[0m \u001b[0mexpr\u001b[0m \u001b[1;32min\u001b[0m \u001b[0millegal\u001b[0m \u001b[1;32mor\u001b[0m \u001b[0mexpr\u001b[0m \u001b[1;32min\u001b[0m \u001b[0mfinf\u001b[0m\u001b[1;33m:\u001b[0m\u001b[1;33m\u001b[0m\u001b[1;33m\u001b[0m\u001b[0m\n\u001b[0;32m    173\u001b[0m         \u001b[1;32mreturn\u001b[0m \u001b[1;32mTrue\u001b[0m\u001b[1;33m\u001b[0m\u001b[1;33m\u001b[0m\u001b[0m\n\u001b[1;32m--> 174\u001b[1;33m     \u001b[1;32mif\u001b[0m \u001b[0mtype\u001b[0m\u001b[1;33m(\u001b[0m\u001b[0mexpr\u001b[0m\u001b[1;33m)\u001b[0m \u001b[1;32mis\u001b[0m \u001b[0mfloat\u001b[0m \u001b[1;32mand\u001b[0m \u001b[0mfloat\u001b[0m\u001b[1;33m(\u001b[0m\u001b[0mexpr\u001b[0m\u001b[1;33m)\u001b[0m \u001b[1;33m!=\u001b[0m \u001b[0mexpr\u001b[0m\u001b[1;33m:\u001b[0m\u001b[1;33m\u001b[0m\u001b[1;33m\u001b[0m\u001b[0m\n\u001b[0m\u001b[0;32m    175\u001b[0m         \u001b[1;32mreturn\u001b[0m \u001b[1;32mTrue\u001b[0m  \u001b[1;31m# nan\u001b[0m\u001b[1;33m\u001b[0m\u001b[1;33m\u001b[0m\u001b[0m\n\u001b[0;32m    176\u001b[0m     \u001b[1;32mreturn\u001b[0m  \u001b[1;31m# could be\u001b[0m\u001b[1;33m\u001b[0m\u001b[1;33m\u001b[0m\u001b[0m\n",
      "\u001b[1;31mKeyboardInterrupt\u001b[0m: "
     ]
    }
   ],
   "source": [
    "tet1, phi1, tet2, phi2 = symbols(\"tet1 phi1 tet2 phi2\")\n",
    "#to_solve = sys_mat_augment.subs({\n",
    "#    Hk1: 7.5e3,\n",
    "#    Hk2: 6.5e3,\n",
    "#    H2k: 12.5e3,\n",
    "#    t: 12e-7,\n",
    "#    Ms: 620\n",
    "#})\n",
    "res = sym.linsolve((sys_mat, sym.Matrix([[0],[0],[0],[0]])), [tet1, phi1, tet2, phi2])\n",
    "res"
   ]
  },
  {
   "cell_type": "code",
   "execution_count": 254,
   "id": "plastic-bargain",
   "metadata": {},
   "outputs": [],
   "source": []
  },
  {
   "cell_type": "code",
   "execution_count": 257,
   "id": "committed-milan",
   "metadata": {},
   "outputs": [
    {
     "data": {
      "text/latex": [
       "$\\displaystyle \\sqrt[3]{\\frac{H Ms}{8 K_{u2}} + \\sqrt{\\frac{H^{2} Ms^{2}}{64 K_{u2}^{2}} + \\frac{\\left(A + J\\right)^{3}}{216 K_{u2}^{3}}}} - \\frac{A + J}{6 K_{u2} \\sqrt[3]{\\frac{H Ms}{8 K_{u2}} + \\sqrt{\\frac{H^{2} Ms^{2}}{64 K_{u2}^{2}} + \\frac{\\left(A + J\\right)^{3}}{216 K_{u2}^{3}}}}}$"
      ],
      "text/plain": [
       "(H*Ms/(8*K_u2) + sqrt(H**2*Ms**2/(64*K_u2**2) + (A + J)**3/(216*K_u2**3)))**(1/3) - (A + J)/(6*K_u2*(H*Ms/(8*K_u2) + sqrt(H**2*Ms**2/(64*K_u2**2) + (A + J)**3/(216*K_u2**3)))**(1/3))"
      ]
     },
     "execution_count": 257,
     "metadata": {},
     "output_type": "execute_result"
    }
   ],
   "source": [
    "st_state_res[2]"
   ]
  },
  {
   "cell_type": "code",
   "execution_count": null,
   "id": "better-knock",
   "metadata": {},
   "outputs": [],
   "source": []
  },
  {
   "cell_type": "code",
   "execution_count": 234,
   "id": "voluntary-beast",
   "metadata": {},
   "outputs": [
    {
     "data": {
      "text/plain": [
       "[H*gamma*phi1*sin(theta_M1) + I*tet1*w*sin(theta_M1),\n",
       " gamma*tet1*(-2*H*sin(theta_M1) + 4*H_k1*sin(theta_M1)**2 - 2*H_k1 + 8*H_k2*sin(theta_M1)**4 - 10*H_k2*sin(theta_M1)**2 + 2*H_k2)/2 + I*phi1*w*sin(theta_M1)]"
      ]
     },
     "execution_count": 234,
     "metadata": {},
     "output_type": "execute_result"
    }
   ],
   "source": [
    "mat_to_solve = sys_mat.subs({\n",
    "    Htet: sym.pi/2,\n",
    "    Mtet[1]: -Mtet[0],\n",
    "    H2k: Hk1\n",
    "})\n",
    "\n",
    "eqs = []\n",
    "sys_vars = [tet1, phi1, tet2, phi2]\n",
    "for i in range(2):\n",
    "    re_eq = sym.Rational(0,1)\n",
    "    im_eq = sym.Rational(0,1)\n",
    "    for j in range(2):\n",
    "        re_eq += mat_to_solve[i, j]*sys_vars[j]\n",
    "        #im_eq += sym.im(mat_to_solve[i, j]*sys_vars[j])\n",
    "    eqs.append(re_eq)\n",
    "    #eqs.append(im_eq)\n",
    "\n",
    "\n",
    "res = sym.solve(eqs, [tet1, phi1])\n",
    "eqs"
   ]
  },
  {
   "cell_type": "code",
   "execution_count": 231,
   "id": "southwest-johnston",
   "metadata": {},
   "outputs": [
    {
     "data": {
      "text/latex": [
       "$\\displaystyle \\left[\\begin{matrix}i w \\sin{\\left(\\theta_{M1} \\right)} & H \\gamma \\sin{\\left(\\theta_{M1} \\right)} & 0 & 0\\\\\\frac{\\gamma \\left(- 2 H \\sin{\\left(\\theta_{M1} \\right)} + 4 H_{k1} \\sin^{2}{\\left(\\theta_{M1} \\right)} - 2 H_{k1} + 8 H_{k2} \\sin^{4}{\\left(\\theta_{M1} \\right)} - 10 H_{k2} \\sin^{2}{\\left(\\theta_{M1} \\right)} + 2 H_{k2}\\right)}{2} & i w \\sin{\\left(\\theta_{M1} \\right)} & 0 & 0\\\\0 & 0 & - i w \\sin{\\left(\\theta_{M1} \\right)} & - H \\gamma \\sin{\\left(\\theta_{M1} \\right)}\\\\0 & 0 & \\frac{\\gamma \\left(2 H \\sin{\\left(\\theta_{M1} \\right)} + 4 H_{k1} \\sin^{2}{\\left(\\theta_{M1} \\right)} - 2 H_{k1} + 8 H_{k2} \\sin^{4}{\\left(\\theta_{M1} \\right)} - 10 H_{k2} \\sin^{2}{\\left(\\theta_{M1} \\right)} + 2 H_{k2}\\right)}{2} & - i w \\sin{\\left(\\theta_{M1} \\right)}\\end{matrix}\\right]$"
      ],
      "text/plain": [
       "Matrix([\n",
       "[                                                                                                            I*w*sin(theta_M1), H*gamma*sin(theta_M1),                                                                                                                            0,                      0],\n",
       "[gamma*(-2*H*sin(theta_M1) + 4*H_k1*sin(theta_M1)**2 - 2*H_k1 + 8*H_k2*sin(theta_M1)**4 - 10*H_k2*sin(theta_M1)**2 + 2*H_k2)/2,     I*w*sin(theta_M1),                                                                                                                            0,                      0],\n",
       "[                                                                                                                            0,                     0,                                                                                                           -I*w*sin(theta_M1), -H*gamma*sin(theta_M1)],\n",
       "[                                                                                                                            0,                     0, gamma*(2*H*sin(theta_M1) + 4*H_k1*sin(theta_M1)**2 - 2*H_k1 + 8*H_k2*sin(theta_M1)**4 - 10*H_k2*sin(theta_M1)**2 + 2*H_k2)/2,     -I*w*sin(theta_M1)]])"
      ]
     },
     "execution_count": 231,
     "metadata": {},
     "output_type": "execute_result"
    }
   ],
   "source": [
    "mat_to_solve"
   ]
  },
  {
   "cell_type": "code",
   "execution_count": 183,
   "id": "thermal-effects",
   "metadata": {},
   "outputs": [
    {
     "data": {
      "text/latex": [
       "$\\displaystyle - \\frac{w \\sin{\\left(\\theta_{M1} \\right)} \\operatorname{im}{\\left(\\phi_{1}\\right)}}{H \\gamma \\cos{\\left(\\theta_{M1} \\right)} - 2 H_{k1} \\gamma \\sin^{2}{\\left(\\theta_{M1} \\right)} + H_{k1} \\gamma - 4 H_{k2} \\gamma \\sin^{4}{\\left(\\theta_{M1} \\right)} + 5 H_{k2} \\gamma \\sin^{2}{\\left(\\theta_{M1} \\right)} - H_{k2} \\gamma}$"
      ],
      "text/plain": [
       "-w*sin(theta_M1)*im(phi1)/(H*gamma*cos(theta_M1) - 2*H_k1*gamma*sin(theta_M1)**2 + H_k1*gamma - 4*H_k2*gamma*sin(theta_M1)**4 + 5*H_k2*gamma*sin(theta_M1)**2 - H_k2*gamma)"
      ]
     },
     "execution_count": 183,
     "metadata": {},
     "output_type": "execute_result"
    }
   ],
   "source": [
    "res[0][tet1]"
   ]
  },
  {
   "cell_type": "code",
   "execution_count": 184,
   "id": "extensive-dragon",
   "metadata": {},
   "outputs": [
    {
     "data": {
      "text/latex": [
       "$\\displaystyle \\operatorname{re}{\\left(\\phi_{1}\\right)} + i \\operatorname{im}{\\left(\\phi_{1}\\right)}$"
      ],
      "text/plain": [
       "re(phi1) + I*im(phi1)"
      ]
     },
     "execution_count": 184,
     "metadata": {},
     "output_type": "execute_result"
    }
   ],
   "source": [
    "res[0][phi1]"
   ]
  },
  {
   "cell_type": "code",
   "execution_count": 179,
   "id": "several-powell",
   "metadata": {},
   "outputs": [
    {
     "data": {
      "text/latex": [
       "$\\displaystyle \\left[\\begin{matrix}i w \\sin{\\left(\\theta_{M1} \\right)} & 0 & 0 & 0\\\\\\frac{\\gamma \\left(- 2 H \\cos{\\left(\\theta_{M1} \\right)} + 4 H_{k1} \\sin^{2}{\\left(\\theta_{M1} \\right)} - 2 H_{k1} + 8 H_{k2} \\sin^{4}{\\left(\\theta_{M1} \\right)} - 10 H_{k2} \\sin^{2}{\\left(\\theta_{M1} \\right)} + 2 H_{k2}\\right)}{2} & i w \\sin{\\left(\\theta_{M1} \\right)} & 0 & 0\\\\0 & 0 & - i w \\sin{\\left(\\theta_{M1} \\right)} & 0\\\\0 & 0 & \\frac{\\gamma \\left(- 2 H \\cos{\\left(\\theta_{M1} \\right)} + 4 H_{k1} \\sin^{2}{\\left(\\theta_{M1} \\right)} - 2 H_{k1} + 8 H_{k2} \\sin^{4}{\\left(\\theta_{M1} \\right)} - 10 H_{k2} \\sin^{2}{\\left(\\theta_{M1} \\right)} + 2 H_{k2}\\right)}{2} & - i w \\sin{\\left(\\theta_{M1} \\right)}\\end{matrix}\\right]$"
      ],
      "text/plain": [
       "Matrix([\n",
       "[                                                                                                            I*w*sin(theta_M1),                 0,                                                                                                                             0,                  0],\n",
       "[gamma*(-2*H*cos(theta_M1) + 4*H_k1*sin(theta_M1)**2 - 2*H_k1 + 8*H_k2*sin(theta_M1)**4 - 10*H_k2*sin(theta_M1)**2 + 2*H_k2)/2, I*w*sin(theta_M1),                                                                                                                             0,                  0],\n",
       "[                                                                                                                            0,                 0,                                                                                                            -I*w*sin(theta_M1),                  0],\n",
       "[                                                                                                                            0,                 0, gamma*(-2*H*cos(theta_M1) + 4*H_k1*sin(theta_M1)**2 - 2*H_k1 + 8*H_k2*sin(theta_M1)**4 - 10*H_k2*sin(theta_M1)**2 + 2*H_k2)/2, -I*w*sin(theta_M1)]])"
      ]
     },
     "execution_count": 179,
     "metadata": {},
     "output_type": "execute_result"
    }
   ],
   "source": [
    "mat_to_solve"
   ]
  },
  {
   "cell_type": "code",
   "execution_count": 173,
   "id": "individual-exchange",
   "metadata": {},
   "outputs": [
    {
     "data": {
      "text/latex": [
       "$\\displaystyle \\left[\\begin{matrix}0 & 0 & 0 & 0\\\\\\frac{\\gamma \\left(- 2 H \\cos{\\left(\\theta_{M1} \\right)} + 4 H_{k1} \\sin^{2}{\\left(\\theta_{M1} \\right)} - 2 H_{k1} + 8 H_{k2} \\sin^{4}{\\left(\\theta_{M1} \\right)} - 10 H_{k2} \\sin^{2}{\\left(\\theta_{M1} \\right)} + 2 H_{k2}\\right)}{2} & 0 & 0 & 0\\\\0 & 0 & 0 & 0\\\\0 & 0 & \\frac{\\gamma \\left(- 2 H \\cos{\\left(\\theta_{M1} \\right)} + 4 H_{k1} \\sin^{2}{\\left(\\theta_{M1} \\right)} - 2 H_{k1} + 8 H_{k2} \\sin^{4}{\\left(\\theta_{M1} \\right)} - 10 H_{k2} \\sin^{2}{\\left(\\theta_{M1} \\right)} + 2 H_{k2}\\right)}{2} & 0\\end{matrix}\\right]$"
      ],
      "text/plain": [
       "Matrix([\n",
       "[                                                                                                                            0, 0,                                                                                                                             0, 0],\n",
       "[gamma*(-2*H*cos(theta_M1) + 4*H_k1*sin(theta_M1)**2 - 2*H_k1 + 8*H_k2*sin(theta_M1)**4 - 10*H_k2*sin(theta_M1)**2 + 2*H_k2)/2, 0,                                                                                                                             0, 0],\n",
       "[                                                                                                                            0, 0,                                                                                                                             0, 0],\n",
       "[                                                                                                                            0, 0, gamma*(-2*H*cos(theta_M1) + 4*H_k1*sin(theta_M1)**2 - 2*H_k1 + 8*H_k2*sin(theta_M1)**4 - 10*H_k2*sin(theta_M1)**2 + 2*H_k2)/2, 0]])"
      ]
     },
     "execution_count": 173,
     "metadata": {},
     "output_type": "execute_result"
    }
   ],
   "source": [
    "mat_to_solve = mat_to_solve.subs({\n",
    "    Htet: 0,\n",
    "    Mtet[1]: -Mtet[0]#,\n",
    "    #H2k: Hk1\n",
    "})\n"
   ]
  },
  {
   "cell_type": "code",
   "execution_count": 160,
   "id": "declared-variable",
   "metadata": {},
   "outputs": [
    {
     "data": {
      "text/plain": [
       "dict_keys([re(a), im(a), re(b), im(b), re(d), im(d), re(c), im(c)])"
      ]
     },
     "execution_count": 160,
     "metadata": {},
     "output_type": "execute_result"
    }
   ],
   "source": [
    "res[0].keys()"
   ]
  },
  {
   "cell_type": "code",
   "execution_count": 166,
   "id": "guided-joining",
   "metadata": {},
   "outputs": [
    {
     "data": {
      "text/latex": [
       "$\\displaystyle a$"
      ],
      "text/plain": [
       "a"
      ]
     },
     "execution_count": 166,
     "metadata": {},
     "output_type": "execute_result"
    }
   ],
   "source": [
    "res[0][sym.re(a)]"
   ]
  },
  {
   "cell_type": "code",
   "execution_count": 167,
   "id": "vocal-skill",
   "metadata": {},
   "outputs": [
    {
     "data": {
      "text/latex": [
       "$\\displaystyle 0$"
      ],
      "text/plain": [
       "0"
      ]
     },
     "execution_count": 167,
     "metadata": {},
     "output_type": "execute_result"
    }
   ],
   "source": [
    "res[0][sym.im(a)]"
   ]
  },
  {
   "cell_type": "code",
   "execution_count": 164,
   "id": "heated-relay",
   "metadata": {},
   "outputs": [
    {
     "data": {
      "text/latex": [
       "$\\displaystyle a \\left(\\frac{i H \\gamma \\cos{\\left(\\theta_{M1} \\right)}}{w \\sin{\\left(\\theta_{M1} \\right)}} - \\frac{2 i H_{k1} \\gamma \\sin{\\left(\\theta_{M1} \\right)}}{w} + \\frac{i H_{k1} \\gamma}{w \\sin{\\left(\\theta_{M1} \\right)}} - \\frac{4 i H_{k2} \\gamma \\sin^{3}{\\left(\\theta_{M1} \\right)}}{w} + \\frac{5 i H_{k2} \\gamma \\sin{\\left(\\theta_{M1} \\right)}}{w} - \\frac{i H_{k2} \\gamma}{w \\sin{\\left(\\theta_{M1} \\right)}}\\right) + b$"
      ],
      "text/plain": [
       "a*(I*H*gamma*cos(theta_M1)/(w*sin(theta_M1)) - 2*I*H_k1*gamma*sin(theta_M1)/w + I*H_k1*gamma/(w*sin(theta_M1)) - 4*I*H_k2*gamma*sin(theta_M1)**3/w + 5*I*H_k2*gamma*sin(theta_M1)/w - I*H_k2*gamma/(w*sin(theta_M1))) + b"
      ]
     },
     "execution_count": 164,
     "metadata": {},
     "output_type": "execute_result"
    }
   ],
   "source": [
    "res[0][sym.re(b)]"
   ]
  },
  {
   "cell_type": "code",
   "execution_count": 165,
   "id": "light-discharge",
   "metadata": {},
   "outputs": [
    {
     "data": {
      "text/latex": [
       "$\\displaystyle a \\left(- \\frac{H \\gamma \\cos{\\left(\\theta_{M1} \\right)}}{w \\sin{\\left(\\theta_{M1} \\right)}} + \\frac{2 H_{k1} \\gamma \\sin{\\left(\\theta_{M1} \\right)}}{w} - \\frac{H_{k1} \\gamma}{w \\sin{\\left(\\theta_{M1} \\right)}} + \\frac{4 H_{k2} \\gamma \\sin^{3}{\\left(\\theta_{M1} \\right)}}{w} - \\frac{5 H_{k2} \\gamma \\sin{\\left(\\theta_{M1} \\right)}}{w} + \\frac{H_{k2} \\gamma}{w \\sin{\\left(\\theta_{M1} \\right)}}\\right)$"
      ],
      "text/plain": [
       "a*(-H*gamma*cos(theta_M1)/(w*sin(theta_M1)) + 2*H_k1*gamma*sin(theta_M1)/w - H_k1*gamma/(w*sin(theta_M1)) + 4*H_k2*gamma*sin(theta_M1)**3/w - 5*H_k2*gamma*sin(theta_M1)/w + H_k2*gamma/(w*sin(theta_M1)))"
      ]
     },
     "execution_count": 165,
     "metadata": {},
     "output_type": "execute_result"
    }
   ],
   "source": [
    "res[0][sym.im(b)]"
   ]
  },
  {
   "cell_type": "code",
   "execution_count": 168,
   "id": "distinguished-polymer",
   "metadata": {},
   "outputs": [
    {
     "data": {
      "text/latex": [
       "$\\displaystyle c \\left(- \\frac{i H \\gamma \\cos{\\left(\\theta_{M1} \\right)}}{w \\sin{\\left(\\theta_{M1} \\right)}} + \\frac{2 i H_{k1} \\gamma \\sin{\\left(\\theta_{M1} \\right)}}{w} - \\frac{i H_{k1} \\gamma}{w \\sin{\\left(\\theta_{M1} \\right)}} + \\frac{4 i H_{k2} \\gamma \\sin^{3}{\\left(\\theta_{M1} \\right)}}{w} - \\frac{5 i H_{k2} \\gamma \\sin{\\left(\\theta_{M1} \\right)}}{w} + \\frac{i H_{k2} \\gamma}{w \\sin{\\left(\\theta_{M1} \\right)}}\\right) + d$"
      ],
      "text/plain": [
       "c*(-I*H*gamma*cos(theta_M1)/(w*sin(theta_M1)) + 2*I*H_k1*gamma*sin(theta_M1)/w - I*H_k1*gamma/(w*sin(theta_M1)) + 4*I*H_k2*gamma*sin(theta_M1)**3/w - 5*I*H_k2*gamma*sin(theta_M1)/w + I*H_k2*gamma/(w*sin(theta_M1))) + d"
      ]
     },
     "execution_count": 168,
     "metadata": {},
     "output_type": "execute_result"
    }
   ],
   "source": [
    "res[0][sym.re(d)]"
   ]
  },
  {
   "cell_type": "code",
   "execution_count": 170,
   "id": "coated-place",
   "metadata": {},
   "outputs": [
    {
     "data": {
      "text/latex": [
       "$\\displaystyle c \\left(\\frac{H \\gamma \\cos{\\left(\\theta_{M1} \\right)}}{w \\sin{\\left(\\theta_{M1} \\right)}} - \\frac{2 H_{k1} \\gamma \\sin{\\left(\\theta_{M1} \\right)}}{w} + \\frac{H_{k1} \\gamma}{w \\sin{\\left(\\theta_{M1} \\right)}} - \\frac{4 H_{k2} \\gamma \\sin^{3}{\\left(\\theta_{M1} \\right)}}{w} + \\frac{5 H_{k2} \\gamma \\sin{\\left(\\theta_{M1} \\right)}}{w} - \\frac{H_{k2} \\gamma}{w \\sin{\\left(\\theta_{M1} \\right)}}\\right)$"
      ],
      "text/plain": [
       "c*(H*gamma*cos(theta_M1)/(w*sin(theta_M1)) - 2*H_k1*gamma*sin(theta_M1)/w + H_k1*gamma/(w*sin(theta_M1)) - 4*H_k2*gamma*sin(theta_M1)**3/w + 5*H_k2*gamma*sin(theta_M1)/w - H_k2*gamma/(w*sin(theta_M1)))"
      ]
     },
     "execution_count": 170,
     "metadata": {},
     "output_type": "execute_result"
    }
   ],
   "source": [
    "res[0][sym.im(d)]"
   ]
  }
 ],
 "metadata": {
  "kernelspec": {
   "display_name": "Python 3",
   "language": "python",
   "name": "python3"
  },
  "language_info": {
   "codemirror_mode": {
    "name": "ipython",
    "version": 3
   },
   "file_extension": ".py",
   "mimetype": "text/x-python",
   "name": "python",
   "nbconvert_exporter": "python",
   "pygments_lexer": "ipython3",
   "version": "3.8.5"
  }
 },
 "nbformat": 4,
 "nbformat_minor": 5
}
