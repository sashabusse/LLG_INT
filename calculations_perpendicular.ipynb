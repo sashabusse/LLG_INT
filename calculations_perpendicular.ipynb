{
 "cells": [
  {
   "cell_type": "code",
   "execution_count": 1,
   "id": "drawn-director",
   "metadata": {},
   "outputs": [],
   "source": [
    "%load_ext jupyter_spaces\n",
    "from IPython.display import display\n",
    "import numpy as np"
   ]
  },
  {
   "cell_type": "code",
   "execution_count": 26,
   "id": "played-monkey",
   "metadata": {},
   "outputs": [
    {
     "data": {
      "text/latex": [
       "$\\displaystyle \\left[\\begin{matrix}i m_{x} w + m_{y} \\left(\\frac{2 A \\gamma \\cos{\\left(\\theta \\right)}}{Ms} + H \\gamma \\cos{\\left(\\theta_{H} \\right)} - \\frac{4 K_{u2} \\gamma \\cos^{3}{\\left(\\theta \\right)}}{Ms} + \\frac{4 K_{u2} \\gamma \\cos{\\left(\\theta \\right)}}{Ms}\\right)\\\\H \\gamma m_{z} \\sin{\\left(\\theta_{H} \\right)} + m_{x} \\left(- \\frac{2 A \\gamma \\cos{\\left(\\theta \\right)}}{Ms} - H \\gamma \\cos{\\left(\\theta_{H} \\right)} + \\frac{4 K_{u2} \\gamma \\cos^{3}{\\left(\\theta \\right)}}{Ms} - \\frac{4 K_{u2} \\gamma \\cos{\\left(\\theta \\right)}}{Ms}\\right) + i m_{y} w\\\\- H \\gamma m_{y} \\sin{\\left(\\theta_{H} \\right)} + i m_{z} w\\end{matrix}\\right]$"
      ],
      "text/plain": [
       "Matrix([\n",
       "[                            I*m_x*w + m_y*(2*A*gamma*cos(theta)/Ms + H*gamma*cos(theta_H) - 4*K_u2*gamma*cos(theta)**3/Ms + 4*K_u2*gamma*cos(theta)/Ms)],\n",
       "[H*gamma*m_z*sin(theta_H) + m_x*(-2*A*gamma*cos(theta)/Ms - H*gamma*cos(theta_H) + 4*K_u2*gamma*cos(theta)**3/Ms - 4*K_u2*gamma*cos(theta)/Ms) + I*m_y*w],\n",
       "[                                                                                                                    -H*gamma*m_y*sin(theta_H) + I*m_z*w]])"
      ]
     },
     "execution_count": 26,
     "metadata": {},
     "output_type": "execute_result"
    }
   ],
   "source": [
    "import sympy as sym\n",
    "from sympy import symbols, simplify\n",
    "from sympy.vector import CoordSys3D, matrix_to_vector\n",
    "\n",
    "S = CoordSys3D('S')\n",
    "\n",
    "Ms, tet = symbols(\"Ms theta\", real=True)\n",
    "g, A, Ku2 = symbols(\"gamma A K_u2\", real=True, positive=True)\n",
    "\n",
    "Habs, tetH = symbols(\"H theta_H\", real=True)\n",
    "H = Habs*sym.sin(tetH)*S.i + Habs*sym.cos(tetH)*S.k\n",
    "\n",
    "\n",
    "mx, my, mz = symbols(\"m_x m_y m_z\", real=False)\n",
    "\n",
    "#define magnetization\n",
    "m = mx*S.i + my*S.j + mz*S.k\n",
    "\n",
    "Heff_1 = A/(Ms**2)*(2*mz+2*Ms*sym.cos(tet))*S.k\n",
    "Heff_2 = 2*Ku2/(Ms**2)*(2*mz+2*Ms*sym.cos(tet))*S.k - (Ku2/Ms)*4*(sym.cos(tet)**3)*S.k\n",
    "Heff = H + Heff_1 + Heff_2\n",
    "\n",
    "w = symbols(\"w\", real=True)\n",
    "jw = sym.I*w\n",
    "\n",
    "dmdt = jw*m\n",
    "\n",
    "eq = dmdt+g*(m.cross(Heff))\n",
    "\n",
    "eq_mat = eq.to_matrix(S).expand()\n",
    "\n",
    "\n",
    "to_comb_tmp = [mx, my, mz]\n",
    "for i in range(3):\n",
    "    for j in range(3):\n",
    "        eq_mat = eq_mat.subs({to_comb_tmp[i]*to_comb_tmp[j]: 0})\n",
    "    \n",
    "eq_mat = sym.Matrix(eq_mat)\n",
    "for i in range(3):\n",
    "    eq_mat[i] = eq_mat[i].collect((mx, my, mz))\n",
    "\n",
    "eq_mat"
   ]
  },
  {
   "cell_type": "code",
   "execution_count": 27,
   "id": "impossible-essex",
   "metadata": {},
   "outputs": [
    {
     "data": {
      "text/latex": [
       "$\\displaystyle \\left[\\begin{matrix}i w & \\frac{\\gamma \\left(2 A \\cos{\\left(\\theta \\right)} + H Ms \\cos{\\left(\\theta_{H} \\right)} - 4 K_{u2} \\cos^{3}{\\left(\\theta \\right)} + 4 K_{u2} \\cos{\\left(\\theta \\right)}\\right)}{Ms} & 0\\\\\\frac{\\gamma \\left(- 2 A \\cos{\\left(\\theta \\right)} - H Ms \\cos{\\left(\\theta_{H} \\right)} + 4 K_{u2} \\cos^{3}{\\left(\\theta \\right)} - 4 K_{u2} \\cos{\\left(\\theta \\right)}\\right)}{Ms} & i w & H \\gamma \\sin{\\left(\\theta_{H} \\right)}\\\\0 & - H \\gamma \\sin{\\left(\\theta_{H} \\right)} & i w\\end{matrix}\\right]$"
      ],
      "text/plain": [
       "Matrix([\n",
       "[                                                                                      I*w, gamma*(2*A*cos(theta) + H*Ms*cos(theta_H) - 4*K_u2*cos(theta)**3 + 4*K_u2*cos(theta))/Ms,                    0],\n",
       "[gamma*(-2*A*cos(theta) - H*Ms*cos(theta_H) + 4*K_u2*cos(theta)**3 - 4*K_u2*cos(theta))/Ms,                                                                                      I*w, H*gamma*sin(theta_H)],\n",
       "[                                                                                        0,                                                                    -H*gamma*sin(theta_H),                  I*w]])"
      ]
     },
     "metadata": {},
     "output_type": "display_data"
    },
    {
     "data": {
      "text/latex": [
       "$\\displaystyle \\frac{- i Ms^{2} w^{3} + i \\gamma^{2} w \\left(- 4 A^{2} \\sin^{2}{\\left(\\theta \\right)} + 4 A^{2} + 4 A H Ms \\cos{\\left(\\theta \\right)} \\cos{\\left(\\theta_{H} \\right)} - 16 A K_{u2} \\sin^{4}{\\left(\\theta \\right)} + 16 A K_{u2} \\sin^{2}{\\left(\\theta \\right)} + H^{2} Ms^{2} - 8 H K_{u2} Ms \\cos^{3}{\\left(\\theta \\right)} \\cos{\\left(\\theta_{H} \\right)} + 8 H K_{u2} Ms \\cos{\\left(\\theta \\right)} \\cos{\\left(\\theta_{H} \\right)} - 32 K_{u2}^{2} \\sin^{4}{\\left(\\theta \\right)} + 48 K_{u2}^{2} \\sin^{2}{\\left(\\theta \\right)} + 16 K_{u2}^{2} \\cos^{6}{\\left(\\theta \\right)} - 16 K_{u2}^{2}\\right)}{Ms^{2}}$"
      ],
      "text/plain": [
       "(-I*Ms**2*w**3 + I*gamma**2*w*(-4*A**2*sin(theta)**2 + 4*A**2 + 4*A*H*Ms*cos(theta)*cos(theta_H) - 16*A*K_u2*sin(theta)**4 + 16*A*K_u2*sin(theta)**2 + H**2*Ms**2 - 8*H*K_u2*Ms*cos(theta)**3*cos(theta_H) + 8*H*K_u2*Ms*cos(theta)*cos(theta_H) - 32*K_u2**2*sin(theta)**4 + 48*K_u2**2*sin(theta)**2 + 16*K_u2**2*cos(theta)**6 - 16*K_u2**2))/Ms**2"
      ]
     },
     "metadata": {},
     "output_type": "display_data"
    }
   ],
   "source": [
    "lin_mat = sym.Matrix()\n",
    "\n",
    "to_comb_tmp = [mx, my, mz]\n",
    "\n",
    "for i in range(3):\n",
    "    col = []\n",
    "    for j in range(3):\n",
    "         col.append(eq_mat[j].coeff(to_comb_tmp[i], 1))\n",
    "    lin_mat = lin_mat.col_insert(i,sym.Matrix(col))\n",
    "\n",
    "lin_mat = simplify(lin_mat)\n",
    "display(lin_mat)\n",
    "\n",
    "lin_mat_det = sym.trigsimp(lin_mat.det().collect(w))\n",
    "display(lin_mat_det)"
   ]
  },
  {
   "cell_type": "code",
   "execution_count": 28,
   "id": "visible-labor",
   "metadata": {},
   "outputs": [
    {
     "data": {
      "text/plain": [
       "[0,\n",
       " -gamma*sqrt(-4*A**2*sin(theta)**2 + 4*A**2 + 4*A*H*Ms*cos(theta)*cos(theta_H) - 16*A*K_u2*sin(theta)**4 + 16*A*K_u2*sin(theta)**2 + H**2*Ms**2 - 8*H*K_u2*Ms*cos(theta)**3*cos(theta_H) + 8*H*K_u2*Ms*cos(theta)*cos(theta_H) - 32*K_u2**2*sin(theta)**4 + 48*K_u2**2*sin(theta)**2 + 16*K_u2**2*cos(theta)**6 - 16*K_u2**2)/Ms,\n",
       " gamma*sqrt(-4*A**2*sin(theta)**2 + 4*A**2 + 4*A*H*Ms*cos(theta)*cos(theta_H) - 16*A*K_u2*sin(theta)**4 + 16*A*K_u2*sin(theta)**2 + H**2*Ms**2 - 8*H*K_u2*Ms*cos(theta)**3*cos(theta_H) + 8*H*K_u2*Ms*cos(theta)*cos(theta_H) - 32*K_u2**2*sin(theta)**4 + 48*K_u2**2*sin(theta)**2 + 16*K_u2**2*cos(theta)**6 - 16*K_u2**2)/Ms]"
      ]
     },
     "execution_count": 28,
     "metadata": {},
     "output_type": "execute_result"
    }
   ],
   "source": [
    "lin_mat_det0_sol = sym.solve(lin_mat_det, w,\n",
    "          simplify=False, manual=False, implicit=False, \n",
    "          warn=False, check=True, exclude=[Habs, tetH, Ms, tet, g, A, Ku2])\n",
    "\n",
    "lin_mat_det0_sol"
   ]
  },
  {
   "cell_type": "code",
   "execution_count": 29,
   "id": "administrative-rebound",
   "metadata": {
    "scrolled": true
   },
   "outputs": [
    {
     "data": {
      "text/latex": [
       "$\\displaystyle 0$"
      ],
      "text/plain": [
       "0"
      ]
     },
     "metadata": {},
     "output_type": "display_data"
    },
    {
     "data": {
      "text/latex": [
       "$\\displaystyle - \\frac{\\gamma \\sqrt{- 4 A^{2} \\sin^{2}{\\left(\\theta \\right)} + 4 A^{2} + 4 A H Ms \\cos{\\left(\\theta \\right)} \\cos{\\left(\\theta_{H} \\right)} - 16 A K_{u2} \\sin^{4}{\\left(\\theta \\right)} + 16 A K_{u2} \\sin^{2}{\\left(\\theta \\right)} + H^{2} Ms^{2} - 8 H K_{u2} Ms \\cos^{3}{\\left(\\theta \\right)} \\cos{\\left(\\theta_{H} \\right)} + 8 H K_{u2} Ms \\cos{\\left(\\theta \\right)} \\cos{\\left(\\theta_{H} \\right)} - 32 K_{u2}^{2} \\sin^{4}{\\left(\\theta \\right)} + 48 K_{u2}^{2} \\sin^{2}{\\left(\\theta \\right)} + 16 K_{u2}^{2} \\cos^{6}{\\left(\\theta \\right)} - 16 K_{u2}^{2}}}{Ms}$"
      ],
      "text/plain": [
       "-gamma*sqrt(-4*A**2*sin(theta)**2 + 4*A**2 + 4*A*H*Ms*cos(theta)*cos(theta_H) - 16*A*K_u2*sin(theta)**4 + 16*A*K_u2*sin(theta)**2 + H**2*Ms**2 - 8*H*K_u2*Ms*cos(theta)**3*cos(theta_H) + 8*H*K_u2*Ms*cos(theta)*cos(theta_H) - 32*K_u2**2*sin(theta)**4 + 48*K_u2**2*sin(theta)**2 + 16*K_u2**2*cos(theta)**6 - 16*K_u2**2)/Ms"
      ]
     },
     "metadata": {},
     "output_type": "display_data"
    },
    {
     "data": {
      "text/latex": [
       "$\\displaystyle \\frac{\\gamma \\sqrt{- 4 A^{2} \\sin^{2}{\\left(\\theta \\right)} + 4 A^{2} + 4 A H Ms \\cos{\\left(\\theta \\right)} \\cos{\\left(\\theta_{H} \\right)} - 16 A K_{u2} \\sin^{4}{\\left(\\theta \\right)} + 16 A K_{u2} \\sin^{2}{\\left(\\theta \\right)} + H^{2} Ms^{2} - 8 H K_{u2} Ms \\cos^{3}{\\left(\\theta \\right)} \\cos{\\left(\\theta_{H} \\right)} + 8 H K_{u2} Ms \\cos{\\left(\\theta \\right)} \\cos{\\left(\\theta_{H} \\right)} - 32 K_{u2}^{2} \\sin^{4}{\\left(\\theta \\right)} + 48 K_{u2}^{2} \\sin^{2}{\\left(\\theta \\right)} + 16 K_{u2}^{2} \\cos^{6}{\\left(\\theta \\right)} - 16 K_{u2}^{2}}}{Ms}$"
      ],
      "text/plain": [
       "gamma*sqrt(-4*A**2*sin(theta)**2 + 4*A**2 + 4*A*H*Ms*cos(theta)*cos(theta_H) - 16*A*K_u2*sin(theta)**4 + 16*A*K_u2*sin(theta)**2 + H**2*Ms**2 - 8*H*K_u2*Ms*cos(theta)**3*cos(theta_H) + 8*H*K_u2*Ms*cos(theta)*cos(theta_H) - 32*K_u2**2*sin(theta)**4 + 48*K_u2**2*sin(theta)**2 + 16*K_u2**2*cos(theta)**6 - 16*K_u2**2)/Ms"
      ]
     },
     "metadata": {},
     "output_type": "display_data"
    }
   ],
   "source": [
    "for i in range(len(lin_mat_det0_sol)):\n",
    "    lin_mat_det0_sol[i] = simplify(simplify(lin_mat_det0_sol[i]))\n",
    "    display(lin_mat_det0_sol[i])"
   ]
  },
  {
   "cell_type": "code",
   "execution_count": 48,
   "id": "weekly-fancy",
   "metadata": {
    "scrolled": true
   },
   "outputs": [
    {
     "data": {
      "text/plain": [
       "{m_x: 0, m_y: 0, m_z: 0}"
      ]
     },
     "execution_count": 48,
     "metadata": {},
     "output_type": "execute_result"
    }
   ],
   "source": [
    "#try to solve with linsolve\n",
    "lin_mat_sol = sym.solve_linear_system(lin_mat.col_insert(3, sym.Matrix([0]*3)).subs({w: lin_mat_det0_sol[1]}), mx, my, mz, \n",
    "                        simplify=False, manual=False, implicit=False, \n",
    "                        warn=True, check=False, exclude=[Habs, tetH, Ms, tet, g, A, Ku2])\n",
    "\n",
    "lin_mat_sol"
   ]
  },
  {
   "cell_type": "code",
   "execution_count": 7,
   "id": "visible-primary",
   "metadata": {},
   "outputs": [
    {
     "data": {
      "text/latex": [
       "$\\displaystyle A M m_{y2} \\sin{\\left(\\theta_{1} \\right)} + i m_{x1} \\sqrt{2 A^{2} M^{2} \\cos^{2}{\\left(\\theta_{1} \\right)} - A M^{2} \\cos^{2}{\\left(\\theta_{1} \\right)} + 2 A M^{2} + H^{2} - M^{2} \\cos^{2}{\\left(\\theta_{1} \\right)} + M^{2} + M \\sqrt{2 A + 1} \\sqrt{2 A^{3} M^{2} \\sin^{4}{\\left(\\theta_{1} \\right)} - 4 A^{3} M^{2} \\sin^{2}{\\left(\\theta_{1} \\right)} + 2 A^{3} M^{2} + A^{2} M^{2} \\sin^{4}{\\left(\\theta_{1} \\right)} - 2 A^{2} M^{2} \\sin^{2}{\\left(\\theta_{1} \\right)} + A^{2} M^{2} + 4 H^{2} \\sin^{2}{\\left(\\theta_{1} \\right)}}} + m_{y1} \\left(A M \\sin{\\left(\\theta_{1} \\right)} + H + M \\sin{\\left(\\theta_{1} \\right)}\\right)$"
      ],
      "text/plain": [
       "A*M*m_y2*sin(theta1) + I*m_x1*sqrt(2*A**2*M**2*cos(theta1)**2 - A*M**2*cos(theta1)**2 + 2*A*M**2 + H**2 - M**2*cos(theta1)**2 + M**2 + M*sqrt(2*A + 1)*sqrt(2*A**3*M**2*sin(theta1)**4 - 4*A**3*M**2*sin(theta1)**2 + 2*A**3*M**2 + A**2*M**2*sin(theta1)**4 - 2*A**2*M**2*sin(theta1)**2 + A**2*M**2 + 4*H**2*sin(theta1)**2)) + m_y1*(A*M*sin(theta1) + H + M*sin(theta1))"
      ]
     },
     "metadata": {},
     "output_type": "display_data"
    },
    {
     "data": {
      "text/latex": [
       "$\\displaystyle - A M m_{x2} \\sin{\\left(\\theta_{1} \\right)} + A M m_{z2} \\cos{\\left(\\theta_{1} \\right)} - M m_{z1} \\left(A + 1\\right) \\cos{\\left(\\theta_{1} \\right)} - m_{x1} \\left(A M \\sin{\\left(\\theta_{1} \\right)} + H + M \\sin{\\left(\\theta_{1} \\right)}\\right) + i m_{y1} \\sqrt{2 A^{2} M^{2} \\cos^{2}{\\left(\\theta_{1} \\right)} - A M^{2} \\cos^{2}{\\left(\\theta_{1} \\right)} + 2 A M^{2} + H^{2} - M^{2} \\cos^{2}{\\left(\\theta_{1} \\right)} + M^{2} + M \\sqrt{2 A + 1} \\sqrt{2 A^{3} M^{2} \\sin^{4}{\\left(\\theta_{1} \\right)} - 4 A^{3} M^{2} \\sin^{2}{\\left(\\theta_{1} \\right)} + 2 A^{3} M^{2} + A^{2} M^{2} \\sin^{4}{\\left(\\theta_{1} \\right)} - 2 A^{2} M^{2} \\sin^{2}{\\left(\\theta_{1} \\right)} + A^{2} M^{2} + 4 H^{2} \\sin^{2}{\\left(\\theta_{1} \\right)}}}$"
      ],
      "text/plain": [
       "-A*M*m_x2*sin(theta1) + A*M*m_z2*cos(theta1) - M*m_z1*(A + 1)*cos(theta1) - m_x1*(A*M*sin(theta1) + H + M*sin(theta1)) + I*m_y1*sqrt(2*A**2*M**2*cos(theta1)**2 - A*M**2*cos(theta1)**2 + 2*A*M**2 + H**2 - M**2*cos(theta1)**2 + M**2 + M*sqrt(2*A + 1)*sqrt(2*A**3*M**2*sin(theta1)**4 - 4*A**3*M**2*sin(theta1)**2 + 2*A**3*M**2 + A**2*M**2*sin(theta1)**4 - 2*A**2*M**2*sin(theta1)**2 + A**2*M**2 + 4*H**2*sin(theta1)**2))"
      ]
     },
     "metadata": {},
     "output_type": "display_data"
    },
    {
     "data": {
      "text/latex": [
       "$\\displaystyle A M m_{y1} \\cos{\\left(\\theta_{1} \\right)} - A M m_{y2} \\cos{\\left(\\theta_{1} \\right)} + i m_{z1} \\sqrt{2 A^{2} M^{2} \\cos^{2}{\\left(\\theta_{1} \\right)} - A M^{2} \\cos^{2}{\\left(\\theta_{1} \\right)} + 2 A M^{2} + H^{2} - M^{2} \\cos^{2}{\\left(\\theta_{1} \\right)} + M^{2} + M \\sqrt{2 A + 1} \\sqrt{2 A^{3} M^{2} \\sin^{4}{\\left(\\theta_{1} \\right)} - 4 A^{3} M^{2} \\sin^{2}{\\left(\\theta_{1} \\right)} + 2 A^{3} M^{2} + A^{2} M^{2} \\sin^{4}{\\left(\\theta_{1} \\right)} - 2 A^{2} M^{2} \\sin^{2}{\\left(\\theta_{1} \\right)} + A^{2} M^{2} + 4 H^{2} \\sin^{2}{\\left(\\theta_{1} \\right)}}}$"
      ],
      "text/plain": [
       "A*M*m_y1*cos(theta1) - A*M*m_y2*cos(theta1) + I*m_z1*sqrt(2*A**2*M**2*cos(theta1)**2 - A*M**2*cos(theta1)**2 + 2*A*M**2 + H**2 - M**2*cos(theta1)**2 + M**2 + M*sqrt(2*A + 1)*sqrt(2*A**3*M**2*sin(theta1)**4 - 4*A**3*M**2*sin(theta1)**2 + 2*A**3*M**2 + A**2*M**2*sin(theta1)**4 - 2*A**2*M**2*sin(theta1)**2 + A**2*M**2 + 4*H**2*sin(theta1)**2))"
      ]
     },
     "metadata": {},
     "output_type": "display_data"
    },
    {
     "data": {
      "text/latex": [
       "$\\displaystyle - A M m_{y1} \\sin{\\left(\\theta_{1} \\right)} + i m_{x2} \\sqrt{2 A^{2} M^{2} \\cos^{2}{\\left(\\theta_{1} \\right)} - A M^{2} \\cos^{2}{\\left(\\theta_{1} \\right)} + 2 A M^{2} + H^{2} - M^{2} \\cos^{2}{\\left(\\theta_{1} \\right)} + M^{2} + M \\sqrt{2 A + 1} \\sqrt{2 A^{3} M^{2} \\sin^{4}{\\left(\\theta_{1} \\right)} - 4 A^{3} M^{2} \\sin^{2}{\\left(\\theta_{1} \\right)} + 2 A^{3} M^{2} + A^{2} M^{2} \\sin^{4}{\\left(\\theta_{1} \\right)} - 2 A^{2} M^{2} \\sin^{2}{\\left(\\theta_{1} \\right)} + A^{2} M^{2} + 4 H^{2} \\sin^{2}{\\left(\\theta_{1} \\right)}}} - m_{y2} \\left(A M \\sin{\\left(\\theta_{1} \\right)} - H + M \\sin{\\left(\\theta_{1} \\right)}\\right)$"
      ],
      "text/plain": [
       "-A*M*m_y1*sin(theta1) + I*m_x2*sqrt(2*A**2*M**2*cos(theta1)**2 - A*M**2*cos(theta1)**2 + 2*A*M**2 + H**2 - M**2*cos(theta1)**2 + M**2 + M*sqrt(2*A + 1)*sqrt(2*A**3*M**2*sin(theta1)**4 - 4*A**3*M**2*sin(theta1)**2 + 2*A**3*M**2 + A**2*M**2*sin(theta1)**4 - 2*A**2*M**2*sin(theta1)**2 + A**2*M**2 + 4*H**2*sin(theta1)**2)) - m_y2*(A*M*sin(theta1) - H + M*sin(theta1))"
      ]
     },
     "metadata": {},
     "output_type": "display_data"
    },
    {
     "data": {
      "text/latex": [
       "$\\displaystyle A M m_{x1} \\sin{\\left(\\theta_{1} \\right)} + A M m_{z1} \\cos{\\left(\\theta_{1} \\right)} - M m_{z2} \\left(A + 1\\right) \\cos{\\left(\\theta_{1} \\right)} + m_{x2} \\left(A M \\sin{\\left(\\theta_{1} \\right)} - H + M \\sin{\\left(\\theta_{1} \\right)}\\right) + i m_{y2} \\sqrt{2 A^{2} M^{2} \\cos^{2}{\\left(\\theta_{1} \\right)} - A M^{2} \\cos^{2}{\\left(\\theta_{1} \\right)} + 2 A M^{2} + H^{2} - M^{2} \\cos^{2}{\\left(\\theta_{1} \\right)} + M^{2} + M \\sqrt{2 A + 1} \\sqrt{2 A^{3} M^{2} \\sin^{4}{\\left(\\theta_{1} \\right)} - 4 A^{3} M^{2} \\sin^{2}{\\left(\\theta_{1} \\right)} + 2 A^{3} M^{2} + A^{2} M^{2} \\sin^{4}{\\left(\\theta_{1} \\right)} - 2 A^{2} M^{2} \\sin^{2}{\\left(\\theta_{1} \\right)} + A^{2} M^{2} + 4 H^{2} \\sin^{2}{\\left(\\theta_{1} \\right)}}}$"
      ],
      "text/plain": [
       "A*M*m_x1*sin(theta1) + A*M*m_z1*cos(theta1) - M*m_z2*(A + 1)*cos(theta1) + m_x2*(A*M*sin(theta1) - H + M*sin(theta1)) + I*m_y2*sqrt(2*A**2*M**2*cos(theta1)**2 - A*M**2*cos(theta1)**2 + 2*A*M**2 + H**2 - M**2*cos(theta1)**2 + M**2 + M*sqrt(2*A + 1)*sqrt(2*A**3*M**2*sin(theta1)**4 - 4*A**3*M**2*sin(theta1)**2 + 2*A**3*M**2 + A**2*M**2*sin(theta1)**4 - 2*A**2*M**2*sin(theta1)**2 + A**2*M**2 + 4*H**2*sin(theta1)**2))"
      ]
     },
     "metadata": {},
     "output_type": "display_data"
    },
    {
     "data": {
      "text/latex": [
       "$\\displaystyle - A M m_{y1} \\cos{\\left(\\theta_{1} \\right)} + A M m_{y2} \\cos{\\left(\\theta_{1} \\right)} + i m_{z2} \\sqrt{2 A^{2} M^{2} \\cos^{2}{\\left(\\theta_{1} \\right)} - A M^{2} \\cos^{2}{\\left(\\theta_{1} \\right)} + 2 A M^{2} + H^{2} - M^{2} \\cos^{2}{\\left(\\theta_{1} \\right)} + M^{2} + M \\sqrt{2 A + 1} \\sqrt{2 A^{3} M^{2} \\sin^{4}{\\left(\\theta_{1} \\right)} - 4 A^{3} M^{2} \\sin^{2}{\\left(\\theta_{1} \\right)} + 2 A^{3} M^{2} + A^{2} M^{2} \\sin^{4}{\\left(\\theta_{1} \\right)} - 2 A^{2} M^{2} \\sin^{2}{\\left(\\theta_{1} \\right)} + A^{2} M^{2} + 4 H^{2} \\sin^{2}{\\left(\\theta_{1} \\right)}}}$"
      ],
      "text/plain": [
       "-A*M*m_y1*cos(theta1) + A*M*m_y2*cos(theta1) + I*m_z2*sqrt(2*A**2*M**2*cos(theta1)**2 - A*M**2*cos(theta1)**2 + 2*A*M**2 + H**2 - M**2*cos(theta1)**2 + M**2 + M*sqrt(2*A + 1)*sqrt(2*A**3*M**2*sin(theta1)**4 - 4*A**3*M**2*sin(theta1)**2 + 2*A**3*M**2 + A**2*M**2*sin(theta1)**4 - 2*A**2*M**2*sin(theta1)**2 + A**2*M**2 + 4*H**2*sin(theta1)**2))"
      ]
     },
     "metadata": {},
     "output_type": "display_data"
    }
   ],
   "source": [
    "#prepare system for solve\n",
    "system = []\n",
    "\n",
    "to_comb_tmp = [mx1, my1, mz1, mx2, my2, mz2]\n",
    "for i in range(6):\n",
    "    cur_eq = sym.Rational(0)\n",
    "    for j in range(6):\n",
    "        cur_eq += lin_mat.row(i)[j] * to_comb_tmp[j]\n",
    "    system.append(simplify(cur_eq.subs({w: lin_mat_det0_sol[4]})))\n",
    "\n",
    "for i in range(6):\n",
    "    display(system[i])\n",
    "    \n"
   ]
  },
  {
   "cell_type": "code",
   "execution_count": 23,
   "id": "suited-repair",
   "metadata": {},
   "outputs": [
    {
     "data": {
      "text/plain": [
       "[]"
      ]
     },
     "execution_count": 23,
     "metadata": {},
     "output_type": "execute_result"
    }
   ],
   "source": [
    "#try to solve with solve\n",
    "#replace first argument with system\n",
    "lin_mat_sol2 = sym.solve(eq_mat_D.subs({w: lin_mat_det0_sol[3]}), mx1, my1, mz1, mx2, my2, mz2,\n",
    "                        simplify=False, manual=True, implicit=True, \n",
    "                        warn=True, check=True)\n",
    "\n",
    "lin_mat_sol2"
   ]
  },
  {
   "cell_type": "code",
   "execution_count": 1,
   "id": "seeing-worse",
   "metadata": {},
   "outputs": [
    {
     "ename": "NameError",
     "evalue": "name 't' is not defined",
     "output_type": "error",
     "traceback": [
      "\u001b[1;31m---------------------------------------------------------------------------\u001b[0m",
      "\u001b[1;31mNameError\u001b[0m                                 Traceback (most recent call last)",
      "\u001b[1;32m<ipython-input-1-a462c763ea02>\u001b[0m in \u001b[0;36m<module>\u001b[1;34m\u001b[0m\n\u001b[0;32m      6\u001b[0m \u001b[0mM_num\u001b[0m \u001b[1;33m=\u001b[0m \u001b[1;36m1042e3\u001b[0m\u001b[1;33m\u001b[0m\u001b[1;33m\u001b[0m\u001b[0m\n\u001b[0;32m      7\u001b[0m \u001b[0mH_num\u001b[0m \u001b[1;33m=\u001b[0m \u001b[1;36m110e-3\u001b[0m\u001b[1;33m/\u001b[0m\u001b[0mmu0_num\u001b[0m\u001b[1;33m\u001b[0m\u001b[1;33m\u001b[0m\u001b[0m\n\u001b[1;32m----> 8\u001b[1;33m \u001b[0mA_num\u001b[0m \u001b[1;33m=\u001b[0m \u001b[0mJ_num\u001b[0m\u001b[1;33m/\u001b[0m\u001b[1;33m(\u001b[0m\u001b[0mmu0_num\u001b[0m\u001b[1;33m*\u001b[0m\u001b[0mt\u001b[0m\u001b[1;33m*\u001b[0m\u001b[1;33m(\u001b[0m\u001b[0mM_num\u001b[0m\u001b[1;33m**\u001b[0m\u001b[1;36m2\u001b[0m\u001b[1;33m)\u001b[0m\u001b[1;33m)\u001b[0m\u001b[1;33m\u001b[0m\u001b[1;33m\u001b[0m\u001b[0m\n\u001b[0m\u001b[0;32m      9\u001b[0m \u001b[0mcos_tet_num\u001b[0m \u001b[1;33m=\u001b[0m \u001b[0mmu0_num\u001b[0m\u001b[1;33m*\u001b[0m\u001b[0mt_num\u001b[0m\u001b[1;33m*\u001b[0m\u001b[0mH_num\u001b[0m\u001b[1;33m*\u001b[0m\u001b[0mM_num\u001b[0m\u001b[1;33m/\u001b[0m\u001b[1;33m(\u001b[0m\u001b[1;36m2\u001b[0m\u001b[1;33m*\u001b[0m\u001b[0mJ_num\u001b[0m\u001b[1;33m+\u001b[0m\u001b[0mmu0_num\u001b[0m\u001b[1;33m*\u001b[0m\u001b[0mt_num\u001b[0m\u001b[1;33m*\u001b[0m\u001b[1;33m(\u001b[0m\u001b[0mM_num\u001b[0m\u001b[1;33m**\u001b[0m\u001b[1;36m2\u001b[0m\u001b[1;33m)\u001b[0m\u001b[1;33m)\u001b[0m\u001b[1;33m\u001b[0m\u001b[1;33m\u001b[0m\u001b[0m\n\u001b[0;32m     10\u001b[0m \u001b[1;33m\u001b[0m\u001b[0m\n",
      "\u001b[1;31mNameError\u001b[0m: name 't' is not defined"
     ]
    }
   ],
   "source": [
    "#numerical frequency calculation\n",
    "mu0_num = 1.2566370621219e-6\n",
    "g_num = 1.76e11\n",
    "J_num = 2.7e-3\n",
    "t_num = 5e-9\n",
    "M_num = 1042e3\n",
    "H_num = 110e-3/mu0_num\n",
    "A_num = J_num/(mu0_num*t*(M_num**2))\n",
    "cos_tet_num = mu0_num*t_num*H_num*M_num/(2*J_num+mu0_num*t_num*(M_num**2))\n",
    "\n",
    "for cur_sol in lin_mat_det0_sol:\n",
    "    freq_eval = cur_sol.subs({\n",
    "        mu0: mu0_num,\n",
    "        g: g_num,\n",
    "        J: J_num,\n",
    "        t: t_num,\n",
    "        M: M_num,\n",
    "        H: H_num,\n",
    "        A: A_num,\n",
    "        sym.sin(tet1)**2: 1-sym.cos(tet1)**2\n",
    "    }).subs({\n",
    "        sym.cos(tet1): cos_tet_num\n",
    "    })\n",
    "    display((freq_eval.evalf()/(2*np.pi))*1e-9)\n",
    "\n",
    "display(\"default freq:\")\n",
    "display((g_num*mu0_num*np.sqrt(H_num*(H_num+M_num))/(2*np.pi))*1e-9)"
   ]
  },
  {
   "cell_type": "code",
   "execution_count": 55,
   "id": "satisfied-bidder",
   "metadata": {},
   "outputs": [
    {
     "data": {
      "text/plain": [
       "array([ 3.14159265e+00,  1.57079633e+00, -5.94459364e-15, -4.01527239e-16,\n",
       "       -1.57079633e+00, -3.14159265e+00])"
      ]
     },
     "execution_count": 55,
     "metadata": {},
     "output_type": "execute_result"
    }
   ],
   "source": [
    "lin_mat_eval = lin_mat.subs({\n",
    "   w: lin_mat_det0_sol[2]\n",
    "}).subs({\n",
    "    mu0: mu0_num,\n",
    "    g: g_num,\n",
    "    J: J_num,\n",
    "    t: t_num,\n",
    "    M: M_num,\n",
    "    H: H_num,\n",
    "    A: A_num,\n",
    "    sym.cos(tet1): cos_tet_num,\n",
    "    sym.sin(tet1): np.sqrt(1-cos_tet_num**2.0)\n",
    "}).evalf()\n",
    "\n",
    "lin_mat_eval = np.array((lin_mat_eval)).astype(np.complex)\n",
    "#np.linalg.solve(lin_mat_eval,np.array([0.0]*6))\n",
    "svd_res = np.linalg.svd(lin_mat_eval)\n",
    "np.angle(svd_res[2][-1])"
   ]
  },
  {
   "cell_type": "code",
   "execution_count": 47,
   "id": "female-neighbor",
   "metadata": {},
   "outputs": [
    {
     "data": {
      "text/plain": [
       "array([7.63794062e+14, 5.15072263e+15, 4.62999811e+00, 7.63794062e+14,\n",
       "       5.15072263e+15, 1.00000000e+00])"
      ]
     },
     "execution_count": 47,
     "metadata": {},
     "output_type": "execute_result"
    }
   ],
   "source": [
    "np.abs(eig_vec[4]/eig_vec[4][5])"
   ]
  }
 ],
 "metadata": {
  "kernelspec": {
   "display_name": "Python 3",
   "language": "python",
   "name": "python3"
  },
  "language_info": {
   "codemirror_mode": {
    "name": "ipython",
    "version": 3
   },
   "file_extension": ".py",
   "mimetype": "text/x-python",
   "name": "python",
   "nbconvert_exporter": "python",
   "pygments_lexer": "ipython3",
   "version": "3.8.5"
  }
 },
 "nbformat": 4,
 "nbformat_minor": 5
}
