{
 "cells": [
  {
   "cell_type": "code",
   "execution_count": 1,
   "id": "drawn-director",
   "metadata": {},
   "outputs": [],
   "source": [
    "%load_ext jupyter_spaces\n",
    "from IPython.display import display\n",
    "import numpy as np"
   ]
  },
  {
   "cell_type": "code",
   "execution_count": 13,
   "id": "played-monkey",
   "metadata": {},
   "outputs": [
    {
     "data": {
      "text/latex": [
       "$\\displaystyle (A M m_{y1} \\sin{\\left(\\theta_{1} \\right)} + A M m_{y2} \\sin{\\left(\\theta_{1} \\right)} - A m_{y1} m_{z2} + A m_{y2} m_{z1} + H m_{y1} + M m_{y1} \\sin{\\left(\\theta_{1} \\right)} + m_{y1} m_{z1})\\mathbf{\\hat{i}_{S}} + (- A M m_{x1} \\sin{\\left(\\theta_{1} \\right)} - A M m_{x2} \\sin{\\left(\\theta_{1} \\right)} - A M m_{z1} \\cos{\\left(\\theta_{1} \\right)} + A M m_{z2} \\cos{\\left(\\theta_{1} \\right)} + A m_{x1} m_{z2} - A m_{x2} m_{z1} - H m_{x1} - M m_{x1} \\sin{\\left(\\theta_{1} \\right)} - M m_{z1} \\cos{\\left(\\theta_{1} \\right)} - m_{x1} m_{z1})\\mathbf{\\hat{j}_{S}} + (A \\left(M m_{y1} \\cos{\\left(\\theta_{1} \\right)} - M m_{y2} \\cos{\\left(\\theta_{1} \\right)} - m_{x1} m_{y2} + m_{x2} m_{y1}\\right))\\mathbf{\\hat{k}_{S}}$"
      ],
      "text/plain": [
       "(A*M*m_y1*sin(theta1) + A*M*m_y2*sin(theta1) - A*m_y1*m_z2 + A*m_y2*m_z1 + H*m_y1 + M*m_y1*sin(theta1) + m_y1*m_z1)*S.i + (-A*M*m_x1*sin(theta1) - A*M*m_x2*sin(theta1) - A*M*m_z1*cos(theta1) + A*M*m_z2*cos(theta1) + A*m_x1*m_z2 - A*m_x2*m_z1 - H*m_x1 - M*m_x1*sin(theta1) - M*m_z1*cos(theta1) - m_x1*m_z1)*S.j + (A*(M*m_y1*cos(theta1) - M*m_y2*cos(theta1) - m_x1*m_y2 + m_x2*m_y1))*S.k"
      ]
     },
     "metadata": {},
     "output_type": "display_data"
    },
    {
     "data": {
      "text/latex": [
       "$\\displaystyle \\left[\\begin{matrix}A M m_{y2} \\sin{\\left(\\theta_{1} \\right)} + m_{y1} \\left(A M \\sin{\\left(\\theta_{1} \\right)} + H + M \\sin{\\left(\\theta_{1} \\right)}\\right) + \\frac{i m_{x1} w}{\\gamma \\mu_{0}}\\\\- A M m_{x2} \\sin{\\left(\\theta_{1} \\right)} + A M m_{z2} \\cos{\\left(\\theta_{1} \\right)} + m_{x1} \\left(- A M \\sin{\\left(\\theta_{1} \\right)} - H - M \\sin{\\left(\\theta_{1} \\right)}\\right) + m_{z1} \\left(- A M \\cos{\\left(\\theta_{1} \\right)} - M \\cos{\\left(\\theta_{1} \\right)}\\right) + \\frac{i m_{y1} w}{\\gamma \\mu_{0}}\\\\A M m_{y1} \\cos{\\left(\\theta_{1} \\right)} - A M m_{y2} \\cos{\\left(\\theta_{1} \\right)} + \\frac{i m_{z1} w}{\\gamma \\mu_{0}}\\\\- A M m_{y1} \\sin{\\left(\\theta_{1} \\right)} + m_{y2} \\left(- A M \\sin{\\left(\\theta_{1} \\right)} + H - M \\sin{\\left(\\theta_{1} \\right)}\\right) + \\frac{i m_{x2} w}{\\gamma \\mu_{0}}\\\\A M m_{x1} \\sin{\\left(\\theta_{1} \\right)} + A M m_{z1} \\cos{\\left(\\theta_{1} \\right)} + m_{x2} \\left(A M \\sin{\\left(\\theta_{1} \\right)} - H + M \\sin{\\left(\\theta_{1} \\right)}\\right) + m_{z2} \\left(- A M \\cos{\\left(\\theta_{1} \\right)} - M \\cos{\\left(\\theta_{1} \\right)}\\right) + \\frac{i m_{y2} w}{\\gamma \\mu_{0}}\\\\- A M m_{y1} \\cos{\\left(\\theta_{1} \\right)} + A M m_{y2} \\cos{\\left(\\theta_{1} \\right)} + \\frac{i m_{z2} w}{\\gamma \\mu_{0}}\\end{matrix}\\right]$"
      ],
      "text/plain": [
       "Matrix([\n",
       "[                                                                   A*M*m_y2*sin(theta1) + m_y1*(A*M*sin(theta1) + H + M*sin(theta1)) + I*m_x1*w/(gamma*mu0)],\n",
       "[-A*M*m_x2*sin(theta1) + A*M*m_z2*cos(theta1) + m_x1*(-A*M*sin(theta1) - H - M*sin(theta1)) + m_z1*(-A*M*cos(theta1) - M*cos(theta1)) + I*m_y1*w/(gamma*mu0)],\n",
       "[                                                                                         A*M*m_y1*cos(theta1) - A*M*m_y2*cos(theta1) + I*m_z1*w/(gamma*mu0)],\n",
       "[                                                                 -A*M*m_y1*sin(theta1) + m_y2*(-A*M*sin(theta1) + H - M*sin(theta1)) + I*m_x2*w/(gamma*mu0)],\n",
       "[  A*M*m_x1*sin(theta1) + A*M*m_z1*cos(theta1) + m_x2*(A*M*sin(theta1) - H + M*sin(theta1)) + m_z2*(-A*M*cos(theta1) - M*cos(theta1)) + I*m_y2*w/(gamma*mu0)],\n",
       "[                                                                                        -A*M*m_y1*cos(theta1) + A*M*m_y2*cos(theta1) + I*m_z2*w/(gamma*mu0)]])"
      ]
     },
     "execution_count": 13,
     "metadata": {},
     "output_type": "execute_result"
    }
   ],
   "source": [
    "import sympy as sym\n",
    "from sympy import symbols, simplify\n",
    "from sympy.vector import CoordSys3D, matrix_to_vector\n",
    "\n",
    "S = CoordSys3D('S')\n",
    "\n",
    "M, tet1, tet2 = symbols(\"M theta1 theta2\", real=True)\n",
    "J, mu0, g, t, A = symbols(\"J mu0 gamma t A\", real=True, positive=True)\n",
    "H = symbols(\"H\", real=True)\n",
    "#mb should be complex\n",
    "mx1, my1, mz1 = symbols(\"m_x1 m_y1 m_z1\", real=False)\n",
    "mx2, my2, mz2 = symbols(\"m_x2 m_y2 m_z2\", real=False)\n",
    "\n",
    "#define magnetization\n",
    "m1 = mx1*S.i + my1*S.j + mz1*S.k\n",
    "m2 = mx2*S.i + my2*S.j + mz2*S.k\n",
    "\n",
    "#static solution for symmetrical system t1=t2=t\n",
    "M1_S = M*sym.cos(tet1)*S.i + M*sym.sin(tet1)*S.k\n",
    "M2_S = M*sym.cos(-tet1)*S.i + M*sym.sin(-tet1)*S.k\n",
    "\n",
    "M1 = M1_S + m1\n",
    "M2 = M2_S + m2\n",
    "\n",
    "\n",
    "#define all the components of Heff\n",
    "HZ = H*S.k\n",
    "\n",
    "HD1_S = M1_S.to_matrix(S)[2]*S.k\n",
    "HD1 = M1.to_matrix(S)[2]*S.k\n",
    "HD2_S = M2_S.to_matrix(S)[2]*S.k\n",
    "HD2 = M2.to_matrix(S)[2]*S.k\n",
    "\n",
    "Hiec1_S = A*(M1_S*(M1_S.dot(M2_S)/(M**2)) - M2_S)\n",
    "Hiec1 = A*(M1*(M1.dot(M2)/(M**2)) - M2)\n",
    "Hiec2_S = A*(M2_S*(M2_S.dot(M1_S)/(M**2)) - M1_S)\n",
    "Hiec2 = A*(M2*(M2.dot(M1)/(M**2)) - M1)\n",
    "\n",
    "#Hiec1_S = A*(-M2_S)\n",
    "#Hiec1 = A*(-M2)\n",
    "#Hiec2_S = A*(-M1_S)\n",
    "#Hiec2 = A*(-M1)\n",
    "\n",
    "Heff1_S = HZ + HD1_S + Hiec1_S\n",
    "Heff1 = HZ + HD1 + Hiec1\n",
    "Heff2_S = HZ + HD2_S + Hiec2_S\n",
    "Heff2 = HZ + HD2 + Hiec2\n",
    "\n",
    "display(simplify(M1.cross(Heff1) - M1_S.cross(Heff1_S)))\n",
    "\n",
    "w = symbols(\"w\", real=True)\n",
    "jw = sym.I*w\n",
    "\n",
    "dm1dt = jw*m1\n",
    "dm2dt = jw*m2\n",
    "\n",
    "eq1_S = g*mu0*(M1_S.cross(Heff1_S))\n",
    "eq1 = dm1dt + g*mu0*(M1.cross(Heff1))\n",
    "eq2_S = g*mu0*(M2_S.cross(Heff2_S))\n",
    "eq2 = dm2dt + g*mu0*(M2.cross(Heff2))\n",
    "\n",
    "eq_mat_S = eq2_S.to_matrix(S).row_insert(0, eq1_S.to_matrix(S))\n",
    "eq_mat = eq2.to_matrix(S).row_insert(0, eq1.to_matrix(S))\n",
    "\n",
    "eq_mat_D = ((eq_mat-eq_mat_S)/(g*mu0)).expand()\n",
    "\n",
    "\n",
    "to_comb_tmp = [mx1, my1, mz1, mx2, my2, mz2]\n",
    "for i in range(6):\n",
    "    for j in range(6):\n",
    "        eq_mat_D = eq_mat_D.subs({to_comb_tmp[i]*to_comb_tmp[j]: 0})\n",
    "    \n",
    "eq_mat_D = sym.Matrix(eq_mat_D)\n",
    "for i in range(6):\n",
    "    eq_mat_D[i] = eq_mat_D[i].collect((mx1, my1, mz1, mx2, my2, mz2))\n",
    "\n",
    "eq_mat_D"
   ]
  },
  {
   "cell_type": "code",
   "execution_count": 4,
   "id": "impossible-essex",
   "metadata": {},
   "outputs": [
    {
     "data": {
      "text/latex": [
       "$\\displaystyle \\frac{\\gamma^{4} \\mu_{0}^{4} w^{2} \\left(8 A^{3} M^{4} \\sin^{4}{\\left(\\theta_{1} \\right)} - 8 A^{3} M^{4} \\sin^{2}{\\left(\\theta_{1} \\right)} + 4 A^{2} H^{2} M^{2} \\sin^{2}{\\left(\\theta_{1} \\right)} - 4 A^{2} H^{2} M^{2} + 4 A^{2} M^{4} \\sin^{4}{\\left(\\theta_{1} \\right)} - 8 A^{2} M^{4} \\sin^{2}{\\left(\\theta_{1} \\right)} + 6 A H^{2} M^{2} \\sin^{2}{\\left(\\theta_{1} \\right)} - 2 A H^{2} M^{2} - 2 A M^{4} \\sin^{4}{\\left(\\theta_{1} \\right)} - 2 A M^{4} \\sin^{2}{\\left(\\theta_{1} \\right)} - H^{4} + 2 H^{2} M^{2} \\sin^{2}{\\left(\\theta_{1} \\right)} - M^{4} \\sin^{4}{\\left(\\theta_{1} \\right)}\\right) + 2 \\gamma^{2} \\mu_{0}^{2} w^{4} \\left(2 A^{2} M^{2} \\cos^{2}{\\left(\\theta_{1} \\right)} - A M^{2} \\cos^{2}{\\left(\\theta_{1} \\right)} + 2 A M^{2} + H^{2} - M^{2} \\cos^{2}{\\left(\\theta_{1} \\right)} + M^{2}\\right) - w^{6}}{\\gamma^{6} \\mu_{0}^{6}}$"
      ],
      "text/plain": [
       "(gamma**4*mu0**4*w**2*(8*A**3*M**4*sin(theta1)**4 - 8*A**3*M**4*sin(theta1)**2 + 4*A**2*H**2*M**2*sin(theta1)**2 - 4*A**2*H**2*M**2 + 4*A**2*M**4*sin(theta1)**4 - 8*A**2*M**4*sin(theta1)**2 + 6*A*H**2*M**2*sin(theta1)**2 - 2*A*H**2*M**2 - 2*A*M**4*sin(theta1)**4 - 2*A*M**4*sin(theta1)**2 - H**4 + 2*H**2*M**2*sin(theta1)**2 - M**4*sin(theta1)**4) + 2*gamma**2*mu0**2*w**4*(2*A**2*M**2*cos(theta1)**2 - A*M**2*cos(theta1)**2 + 2*A*M**2 + H**2 - M**2*cos(theta1)**2 + M**2) - w**6)/(gamma**6*mu0**6)"
      ]
     },
     "execution_count": 4,
     "metadata": {},
     "output_type": "execute_result"
    }
   ],
   "source": [
    "lin_mat = sym.Matrix()\n",
    "\n",
    "to_comb_tmp = [mx1, my1, mz1, mx2, my2, mz2]\n",
    "\n",
    "for i in range(6):\n",
    "    col = []\n",
    "    for j in range(6):\n",
    "         col.append(eq_mat_D[j].coeff(to_comb_tmp[i], 1))\n",
    "    lin_mat = lin_mat.col_insert(i,sym.Matrix(col))\n",
    "\n",
    "lin_mat = simplify(lin_mat)\n",
    "lin_mat\n",
    "\n",
    "lin_mat_det = sym.trigsimp(lin_mat.det().collect(w))\n",
    "lin_mat_det"
   ]
  },
  {
   "cell_type": "code",
   "execution_count": 5,
   "id": "visible-labor",
   "metadata": {},
   "outputs": [
    {
     "data": {
      "text/plain": [
       "[0,\n",
       " -sqrt(2*A**2*M**2*gamma**2*mu0**2*cos(theta1)**2 - A*M**2*gamma**2*mu0**2*cos(theta1)**2 + 2*A*M**2*gamma**2*mu0**2 + H**2*gamma**2*mu0**2 - M**2*gamma**2*mu0**2*cos(theta1)**2 + M**2*gamma**2*mu0**2 - M*gamma**2*mu0**2*sqrt(2*A + 1)*sqrt(2*A**3*M**2*cos(theta1)**4 + 4*A**2*M**2*sin(theta1)**4 - 4*A**2*M**2*sin(theta1)**2 - 3*A**2*M**2*cos(theta1)**4 + 4*A**2*M**2*cos(theta1)**2 + 2*A*H**2*sin(theta1)**2 + 2*A*H**2*cos(theta1)**2 - 2*A*H**2 - 2*A*M**2*sin(theta1)**2 - 2*A*M**2*cos(theta1)**2 + 2*A*M**2 + 2*H**2*sin(theta1)**2 - 2*H**2*cos(theta1)**2 + 2*H**2 - M**2*sin(theta1)**4 + M**2*cos(theta1)**4 - 2*M**2*cos(theta1)**2 + M**2)),\n",
       " sqrt(2*A**2*M**2*gamma**2*mu0**2*cos(theta1)**2 - A*M**2*gamma**2*mu0**2*cos(theta1)**2 + 2*A*M**2*gamma**2*mu0**2 + H**2*gamma**2*mu0**2 - M**2*gamma**2*mu0**2*cos(theta1)**2 + M**2*gamma**2*mu0**2 - M*gamma**2*mu0**2*sqrt(2*A + 1)*sqrt(2*A**3*M**2*cos(theta1)**4 + 4*A**2*M**2*sin(theta1)**4 - 4*A**2*M**2*sin(theta1)**2 - 3*A**2*M**2*cos(theta1)**4 + 4*A**2*M**2*cos(theta1)**2 + 2*A*H**2*sin(theta1)**2 + 2*A*H**2*cos(theta1)**2 - 2*A*H**2 - 2*A*M**2*sin(theta1)**2 - 2*A*M**2*cos(theta1)**2 + 2*A*M**2 + 2*H**2*sin(theta1)**2 - 2*H**2*cos(theta1)**2 + 2*H**2 - M**2*sin(theta1)**4 + M**2*cos(theta1)**4 - 2*M**2*cos(theta1)**2 + M**2)),\n",
       " -sqrt(2*A**2*M**2*gamma**2*mu0**2*cos(theta1)**2 - A*M**2*gamma**2*mu0**2*cos(theta1)**2 + 2*A*M**2*gamma**2*mu0**2 + H**2*gamma**2*mu0**2 - M**2*gamma**2*mu0**2*cos(theta1)**2 + M**2*gamma**2*mu0**2 + M*gamma**2*mu0**2*sqrt(2*A + 1)*sqrt(2*A**3*M**2*cos(theta1)**4 + 4*A**2*M**2*sin(theta1)**4 - 4*A**2*M**2*sin(theta1)**2 - 3*A**2*M**2*cos(theta1)**4 + 4*A**2*M**2*cos(theta1)**2 + 2*A*H**2*sin(theta1)**2 + 2*A*H**2*cos(theta1)**2 - 2*A*H**2 - 2*A*M**2*sin(theta1)**2 - 2*A*M**2*cos(theta1)**2 + 2*A*M**2 + 2*H**2*sin(theta1)**2 - 2*H**2*cos(theta1)**2 + 2*H**2 - M**2*sin(theta1)**4 + M**2*cos(theta1)**4 - 2*M**2*cos(theta1)**2 + M**2)),\n",
       " sqrt(2*A**2*M**2*gamma**2*mu0**2*cos(theta1)**2 - A*M**2*gamma**2*mu0**2*cos(theta1)**2 + 2*A*M**2*gamma**2*mu0**2 + H**2*gamma**2*mu0**2 - M**2*gamma**2*mu0**2*cos(theta1)**2 + M**2*gamma**2*mu0**2 + M*gamma**2*mu0**2*sqrt(2*A + 1)*sqrt(2*A**3*M**2*cos(theta1)**4 + 4*A**2*M**2*sin(theta1)**4 - 4*A**2*M**2*sin(theta1)**2 - 3*A**2*M**2*cos(theta1)**4 + 4*A**2*M**2*cos(theta1)**2 + 2*A*H**2*sin(theta1)**2 + 2*A*H**2*cos(theta1)**2 - 2*A*H**2 - 2*A*M**2*sin(theta1)**2 - 2*A*M**2*cos(theta1)**2 + 2*A*M**2 + 2*H**2*sin(theta1)**2 - 2*H**2*cos(theta1)**2 + 2*H**2 - M**2*sin(theta1)**4 + M**2*cos(theta1)**4 - 2*M**2*cos(theta1)**2 + M**2))]"
      ]
     },
     "execution_count": 5,
     "metadata": {},
     "output_type": "execute_result"
    }
   ],
   "source": [
    "lin_mat_det0_sol = sym.solve(lin_mat_det, w,\n",
    "          simplify=False, manual=False, implicit=False, \n",
    "          warn=False, check=True, exclude=[H, tet1, tet2, A, M])\n",
    "\n",
    "lin_mat_det0_sol"
   ]
  },
  {
   "cell_type": "code",
   "execution_count": 6,
   "id": "administrative-rebound",
   "metadata": {
    "scrolled": true
   },
   "outputs": [
    {
     "data": {
      "text/latex": [
       "$\\displaystyle 0$"
      ],
      "text/plain": [
       "0"
      ]
     },
     "metadata": {},
     "output_type": "display_data"
    },
    {
     "data": {
      "text/latex": [
       "$\\displaystyle - \\gamma \\mu_{0} \\sqrt{2 A^{2} M^{2} \\cos^{2}{\\left(\\theta_{1} \\right)} - A M^{2} \\cos^{2}{\\left(\\theta_{1} \\right)} + 2 A M^{2} + H^{2} - M^{2} \\cos^{2}{\\left(\\theta_{1} \\right)} + M^{2} - M \\sqrt{2 A + 1} \\sqrt{2 A^{3} M^{2} \\sin^{4}{\\left(\\theta_{1} \\right)} - 4 A^{3} M^{2} \\sin^{2}{\\left(\\theta_{1} \\right)} + 2 A^{3} M^{2} + A^{2} M^{2} \\sin^{4}{\\left(\\theta_{1} \\right)} - 2 A^{2} M^{2} \\sin^{2}{\\left(\\theta_{1} \\right)} + A^{2} M^{2} + 4 H^{2} \\sin^{2}{\\left(\\theta_{1} \\right)}}}$"
      ],
      "text/plain": [
       "-gamma*mu0*sqrt(2*A**2*M**2*cos(theta1)**2 - A*M**2*cos(theta1)**2 + 2*A*M**2 + H**2 - M**2*cos(theta1)**2 + M**2 - M*sqrt(2*A + 1)*sqrt(2*A**3*M**2*sin(theta1)**4 - 4*A**3*M**2*sin(theta1)**2 + 2*A**3*M**2 + A**2*M**2*sin(theta1)**4 - 2*A**2*M**2*sin(theta1)**2 + A**2*M**2 + 4*H**2*sin(theta1)**2))"
      ]
     },
     "metadata": {},
     "output_type": "display_data"
    },
    {
     "data": {
      "text/latex": [
       "$\\displaystyle \\gamma \\mu_{0} \\sqrt{2 A^{2} M^{2} \\cos^{2}{\\left(\\theta_{1} \\right)} - A M^{2} \\cos^{2}{\\left(\\theta_{1} \\right)} + 2 A M^{2} + H^{2} - M^{2} \\cos^{2}{\\left(\\theta_{1} \\right)} + M^{2} - M \\sqrt{2 A + 1} \\sqrt{2 A^{3} M^{2} \\sin^{4}{\\left(\\theta_{1} \\right)} - 4 A^{3} M^{2} \\sin^{2}{\\left(\\theta_{1} \\right)} + 2 A^{3} M^{2} + A^{2} M^{2} \\sin^{4}{\\left(\\theta_{1} \\right)} - 2 A^{2} M^{2} \\sin^{2}{\\left(\\theta_{1} \\right)} + A^{2} M^{2} + 4 H^{2} \\sin^{2}{\\left(\\theta_{1} \\right)}}}$"
      ],
      "text/plain": [
       "gamma*mu0*sqrt(2*A**2*M**2*cos(theta1)**2 - A*M**2*cos(theta1)**2 + 2*A*M**2 + H**2 - M**2*cos(theta1)**2 + M**2 - M*sqrt(2*A + 1)*sqrt(2*A**3*M**2*sin(theta1)**4 - 4*A**3*M**2*sin(theta1)**2 + 2*A**3*M**2 + A**2*M**2*sin(theta1)**4 - 2*A**2*M**2*sin(theta1)**2 + A**2*M**2 + 4*H**2*sin(theta1)**2))"
      ]
     },
     "metadata": {},
     "output_type": "display_data"
    },
    {
     "data": {
      "text/latex": [
       "$\\displaystyle - \\gamma \\mu_{0} \\sqrt{2 A^{2} M^{2} \\cos^{2}{\\left(\\theta_{1} \\right)} - A M^{2} \\cos^{2}{\\left(\\theta_{1} \\right)} + 2 A M^{2} + H^{2} - M^{2} \\cos^{2}{\\left(\\theta_{1} \\right)} + M^{2} + M \\sqrt{2 A + 1} \\sqrt{2 A^{3} M^{2} \\sin^{4}{\\left(\\theta_{1} \\right)} - 4 A^{3} M^{2} \\sin^{2}{\\left(\\theta_{1} \\right)} + 2 A^{3} M^{2} + A^{2} M^{2} \\sin^{4}{\\left(\\theta_{1} \\right)} - 2 A^{2} M^{2} \\sin^{2}{\\left(\\theta_{1} \\right)} + A^{2} M^{2} + 4 H^{2} \\sin^{2}{\\left(\\theta_{1} \\right)}}}$"
      ],
      "text/plain": [
       "-gamma*mu0*sqrt(2*A**2*M**2*cos(theta1)**2 - A*M**2*cos(theta1)**2 + 2*A*M**2 + H**2 - M**2*cos(theta1)**2 + M**2 + M*sqrt(2*A + 1)*sqrt(2*A**3*M**2*sin(theta1)**4 - 4*A**3*M**2*sin(theta1)**2 + 2*A**3*M**2 + A**2*M**2*sin(theta1)**4 - 2*A**2*M**2*sin(theta1)**2 + A**2*M**2 + 4*H**2*sin(theta1)**2))"
      ]
     },
     "metadata": {},
     "output_type": "display_data"
    },
    {
     "data": {
      "text/latex": [
       "$\\displaystyle \\gamma \\mu_{0} \\sqrt{2 A^{2} M^{2} \\cos^{2}{\\left(\\theta_{1} \\right)} - A M^{2} \\cos^{2}{\\left(\\theta_{1} \\right)} + 2 A M^{2} + H^{2} - M^{2} \\cos^{2}{\\left(\\theta_{1} \\right)} + M^{2} + M \\sqrt{2 A + 1} \\sqrt{2 A^{3} M^{2} \\sin^{4}{\\left(\\theta_{1} \\right)} - 4 A^{3} M^{2} \\sin^{2}{\\left(\\theta_{1} \\right)} + 2 A^{3} M^{2} + A^{2} M^{2} \\sin^{4}{\\left(\\theta_{1} \\right)} - 2 A^{2} M^{2} \\sin^{2}{\\left(\\theta_{1} \\right)} + A^{2} M^{2} + 4 H^{2} \\sin^{2}{\\left(\\theta_{1} \\right)}}}$"
      ],
      "text/plain": [
       "gamma*mu0*sqrt(2*A**2*M**2*cos(theta1)**2 - A*M**2*cos(theta1)**2 + 2*A*M**2 + H**2 - M**2*cos(theta1)**2 + M**2 + M*sqrt(2*A + 1)*sqrt(2*A**3*M**2*sin(theta1)**4 - 4*A**3*M**2*sin(theta1)**2 + 2*A**3*M**2 + A**2*M**2*sin(theta1)**4 - 2*A**2*M**2*sin(theta1)**2 + A**2*M**2 + 4*H**2*sin(theta1)**2))"
      ]
     },
     "metadata": {},
     "output_type": "display_data"
    }
   ],
   "source": [
    "for i in range(len(lin_mat_det0_sol)):\n",
    "    lin_mat_det0_sol[i] = simplify(simplify(lin_mat_det0_sol[i]))\n",
    "    display(lin_mat_det0_sol[i])"
   ]
  },
  {
   "cell_type": "code",
   "execution_count": 7,
   "id": "weekly-fancy",
   "metadata": {
    "scrolled": true
   },
   "outputs": [
    {
     "ename": "KeyboardInterrupt",
     "evalue": "",
     "output_type": "error",
     "traceback": [
      "\u001b[1;31m---------------------------------------------------------------------------\u001b[0m",
      "\u001b[1;31mKeyboardInterrupt\u001b[0m                         Traceback (most recent call last)",
      "\u001b[1;32m<ipython-input-7-d50ae95bbb6c>\u001b[0m in \u001b[0;36m<module>\u001b[1;34m\u001b[0m\n\u001b[0;32m      1\u001b[0m \u001b[1;31m#try to solve with linsolve\u001b[0m\u001b[1;33m\u001b[0m\u001b[1;33m\u001b[0m\u001b[1;33m\u001b[0m\u001b[0m\n\u001b[1;32m----> 2\u001b[1;33m lin_mat_sol = sym.solve_linear_system(lin_mat.col_insert(6, sym.Matrix([0]*6)).subs({w: lin_mat_det0_sol[2]}), mx1, my1, mz1, mx2, my2, mz2, \n\u001b[0m\u001b[0;32m      3\u001b[0m                         \u001b[0msimplify\u001b[0m\u001b[1;33m=\u001b[0m\u001b[1;32mFalse\u001b[0m\u001b[1;33m,\u001b[0m \u001b[0mmanual\u001b[0m\u001b[1;33m=\u001b[0m\u001b[1;32mTrue\u001b[0m\u001b[1;33m,\u001b[0m \u001b[0mimplicit\u001b[0m\u001b[1;33m=\u001b[0m\u001b[1;32mFalse\u001b[0m\u001b[1;33m,\u001b[0m\u001b[1;33m\u001b[0m\u001b[1;33m\u001b[0m\u001b[0m\n\u001b[0;32m      4\u001b[0m                         warn=True, check=False, exclude=[H, tet1, tet2, A, M, w])\n\u001b[0;32m      5\u001b[0m \u001b[1;33m\u001b[0m\u001b[0m\n",
      "\u001b[1;32mc:\\users\\sasha\\appdata\\local\\programs\\python\\python38\\lib\\site-packages\\sympy\\solvers\\solvers.py\u001b[0m in \u001b[0;36msolve_linear_system\u001b[1;34m(system, *symbols, **flags)\u001b[0m\n\u001b[0;32m   2303\u001b[0m     \u001b[0meqs\u001b[0m \u001b[1;33m=\u001b[0m \u001b[0mlist\u001b[0m\u001b[1;33m(\u001b[0m\u001b[0msystem\u001b[0m \u001b[1;33m*\u001b[0m \u001b[0mMatrix\u001b[0m\u001b[1;33m(\u001b[0m\u001b[0msymbols\u001b[0m \u001b[1;33m+\u001b[0m \u001b[1;33m(\u001b[0m\u001b[1;33m-\u001b[0m\u001b[1;36m1\u001b[0m\u001b[1;33m,\u001b[0m\u001b[1;33m)\u001b[0m\u001b[1;33m)\u001b[0m\u001b[1;33m)\u001b[0m\u001b[1;33m\u001b[0m\u001b[1;33m\u001b[0m\u001b[0m\n\u001b[0;32m   2304\u001b[0m     \u001b[0meqs\u001b[0m\u001b[1;33m,\u001b[0m \u001b[0mring\u001b[0m \u001b[1;33m=\u001b[0m \u001b[0msympy_eqs_to_ring\u001b[0m\u001b[1;33m(\u001b[0m\u001b[0meqs\u001b[0m\u001b[1;33m,\u001b[0m \u001b[0msymbols\u001b[0m\u001b[1;33m)\u001b[0m\u001b[1;33m\u001b[0m\u001b[1;33m\u001b[0m\u001b[0m\n\u001b[1;32m-> 2305\u001b[1;33m     \u001b[0msol\u001b[0m \u001b[1;33m=\u001b[0m \u001b[0msolve_lin_sys\u001b[0m\u001b[1;33m(\u001b[0m\u001b[0meqs\u001b[0m\u001b[1;33m,\u001b[0m \u001b[0mring\u001b[0m\u001b[1;33m,\u001b[0m \u001b[0m_raw\u001b[0m\u001b[1;33m=\u001b[0m\u001b[1;32mFalse\u001b[0m\u001b[1;33m)\u001b[0m\u001b[1;33m\u001b[0m\u001b[1;33m\u001b[0m\u001b[0m\n\u001b[0m\u001b[0;32m   2306\u001b[0m     \u001b[1;32mif\u001b[0m \u001b[0msol\u001b[0m \u001b[1;32mis\u001b[0m \u001b[1;32mnot\u001b[0m \u001b[1;32mNone\u001b[0m\u001b[1;33m:\u001b[0m\u001b[1;33m\u001b[0m\u001b[1;33m\u001b[0m\u001b[0m\n\u001b[0;32m   2307\u001b[0m         \u001b[0msol\u001b[0m \u001b[1;33m=\u001b[0m \u001b[1;33m{\u001b[0m\u001b[0msym\u001b[0m\u001b[1;33m:\u001b[0m\u001b[0mval\u001b[0m \u001b[1;32mfor\u001b[0m \u001b[0msym\u001b[0m\u001b[1;33m,\u001b[0m \u001b[0mval\u001b[0m \u001b[1;32min\u001b[0m \u001b[0msol\u001b[0m\u001b[1;33m.\u001b[0m\u001b[0mitems\u001b[0m\u001b[1;33m(\u001b[0m\u001b[1;33m)\u001b[0m \u001b[1;32mif\u001b[0m \u001b[0msym\u001b[0m \u001b[1;33m!=\u001b[0m \u001b[0mval\u001b[0m\u001b[1;33m}\u001b[0m\u001b[1;33m\u001b[0m\u001b[1;33m\u001b[0m\u001b[0m\n",
      "\u001b[1;32mc:\\users\\sasha\\appdata\\local\\programs\\python\\python38\\lib\\site-packages\\sympy\\polys\\solvers.py\u001b[0m in \u001b[0;36msolve_lin_sys\u001b[1;34m(eqs, ring, _raw)\u001b[0m\n\u001b[0;32m    225\u001b[0m         \u001b[0meqs_coeffs\u001b[0m\u001b[1;33m.\u001b[0m\u001b[0mappend\u001b[0m\u001b[1;33m(\u001b[0m\u001b[0meq_coeffs\u001b[0m\u001b[1;33m)\u001b[0m\u001b[1;33m\u001b[0m\u001b[1;33m\u001b[0m\u001b[0m\n\u001b[0;32m    226\u001b[0m \u001b[1;33m\u001b[0m\u001b[0m\n\u001b[1;32m--> 227\u001b[1;33m     \u001b[0mresult\u001b[0m \u001b[1;33m=\u001b[0m \u001b[0m_solve_lin_sys\u001b[0m\u001b[1;33m(\u001b[0m\u001b[0meqs_coeffs\u001b[0m\u001b[1;33m,\u001b[0m \u001b[0meqs_rhs\u001b[0m\u001b[1;33m,\u001b[0m \u001b[0mring\u001b[0m\u001b[1;33m)\u001b[0m\u001b[1;33m\u001b[0m\u001b[1;33m\u001b[0m\u001b[0m\n\u001b[0m\u001b[0;32m    228\u001b[0m \u001b[1;33m\u001b[0m\u001b[0m\n\u001b[0;32m    229\u001b[0m     \u001b[1;32mif\u001b[0m \u001b[0mresult\u001b[0m \u001b[1;32mis\u001b[0m \u001b[1;32mnot\u001b[0m \u001b[1;32mNone\u001b[0m \u001b[1;32mand\u001b[0m \u001b[0mas_expr\u001b[0m\u001b[1;33m:\u001b[0m\u001b[1;33m\u001b[0m\u001b[1;33m\u001b[0m\u001b[0m\n",
      "\u001b[1;32mc:\\users\\sasha\\appdata\\local\\programs\\python\\python38\\lib\\site-packages\\sympy\\polys\\solvers.py\u001b[0m in \u001b[0;36m_solve_lin_sys\u001b[1;34m(eqs_coeffs, eqs_rhs, ring)\u001b[0m\n\u001b[0;32m    303\u001b[0m     \u001b[0msol\u001b[0m \u001b[1;33m=\u001b[0m \u001b[1;33m{\u001b[0m\u001b[1;33m}\u001b[0m\u001b[1;33m\u001b[0m\u001b[1;33m\u001b[0m\u001b[0m\n\u001b[0;32m    304\u001b[0m     \u001b[1;32mfor\u001b[0m \u001b[0msubsystem\u001b[0m \u001b[1;32min\u001b[0m \u001b[0msubsystems\u001b[0m\u001b[1;33m:\u001b[0m\u001b[1;33m\u001b[0m\u001b[1;33m\u001b[0m\u001b[0m\n\u001b[1;32m--> 305\u001b[1;33m         \u001b[0msubsol\u001b[0m \u001b[1;33m=\u001b[0m \u001b[0m_solve_lin_sys_component\u001b[0m\u001b[1;33m(\u001b[0m\u001b[0msubsystem\u001b[0m\u001b[1;33m[\u001b[0m\u001b[1;36m0\u001b[0m\u001b[1;33m]\u001b[0m\u001b[1;33m,\u001b[0m \u001b[0msubsystem\u001b[0m\u001b[1;33m[\u001b[0m\u001b[1;36m1\u001b[0m\u001b[1;33m]\u001b[0m\u001b[1;33m,\u001b[0m \u001b[0mring\u001b[0m\u001b[1;33m)\u001b[0m\u001b[1;33m\u001b[0m\u001b[1;33m\u001b[0m\u001b[0m\n\u001b[0m\u001b[0;32m    306\u001b[0m         \u001b[1;32mif\u001b[0m \u001b[0msubsol\u001b[0m \u001b[1;32mis\u001b[0m \u001b[1;32mNone\u001b[0m\u001b[1;33m:\u001b[0m\u001b[1;33m\u001b[0m\u001b[1;33m\u001b[0m\u001b[0m\n\u001b[0;32m    307\u001b[0m             \u001b[1;32mreturn\u001b[0m \u001b[1;32mNone\u001b[0m\u001b[1;33m\u001b[0m\u001b[1;33m\u001b[0m\u001b[0m\n",
      "\u001b[1;32mc:\\users\\sasha\\appdata\\local\\programs\\python\\python38\\lib\\site-packages\\sympy\\polys\\solvers.py\u001b[0m in \u001b[0;36m_solve_lin_sys_component\u001b[1;34m(eqs_coeffs, eqs_rhs, ring)\u001b[0m\n\u001b[0;32m    351\u001b[0m \u001b[1;33m\u001b[0m\u001b[0m\n\u001b[0;32m    352\u001b[0m     \u001b[1;31m# solve by row-reduction\u001b[0m\u001b[1;33m\u001b[0m\u001b[1;33m\u001b[0m\u001b[1;33m\u001b[0m\u001b[0m\n\u001b[1;32m--> 353\u001b[1;33m     \u001b[0mechelon\u001b[0m\u001b[1;33m,\u001b[0m \u001b[0mpivots\u001b[0m \u001b[1;33m=\u001b[0m \u001b[0mmatrix\u001b[0m\u001b[1;33m.\u001b[0m\u001b[0mrref\u001b[0m\u001b[1;33m(\u001b[0m\u001b[1;33m)\u001b[0m\u001b[1;33m\u001b[0m\u001b[1;33m\u001b[0m\u001b[0m\n\u001b[0m\u001b[0;32m    354\u001b[0m \u001b[1;33m\u001b[0m\u001b[0m\n\u001b[0;32m    355\u001b[0m     \u001b[1;31m# construct the returnable form of the solutions\u001b[0m\u001b[1;33m\u001b[0m\u001b[1;33m\u001b[0m\u001b[1;33m\u001b[0m\u001b[0m\n",
      "\u001b[1;32mc:\\users\\sasha\\appdata\\local\\programs\\python\\python38\\lib\\site-packages\\sympy\\polys\\domainmatrix.py\u001b[0m in \u001b[0;36mrref\u001b[1;34m(self)\u001b[0m\n\u001b[0;32m    607\u001b[0m         \u001b[1;32mif\u001b[0m \u001b[1;32mnot\u001b[0m \u001b[0mself\u001b[0m\u001b[1;33m.\u001b[0m\u001b[0mdomain\u001b[0m\u001b[1;33m.\u001b[0m\u001b[0mis_Field\u001b[0m\u001b[1;33m:\u001b[0m\u001b[1;33m\u001b[0m\u001b[1;33m\u001b[0m\u001b[0m\n\u001b[0;32m    608\u001b[0m             \u001b[1;32mraise\u001b[0m \u001b[0mValueError\u001b[0m\u001b[1;33m(\u001b[0m\u001b[1;34m'Not a field'\u001b[0m\u001b[1;33m)\u001b[0m\u001b[1;33m\u001b[0m\u001b[1;33m\u001b[0m\u001b[0m\n\u001b[1;32m--> 609\u001b[1;33m         \u001b[0mrref_ddm\u001b[0m\u001b[1;33m,\u001b[0m \u001b[0mpivots\u001b[0m \u001b[1;33m=\u001b[0m \u001b[0mself\u001b[0m\u001b[1;33m.\u001b[0m\u001b[0mrep\u001b[0m\u001b[1;33m.\u001b[0m\u001b[0mrref\u001b[0m\u001b[1;33m(\u001b[0m\u001b[1;33m)\u001b[0m\u001b[1;33m\u001b[0m\u001b[1;33m\u001b[0m\u001b[0m\n\u001b[0m\u001b[0;32m    610\u001b[0m         \u001b[1;32mreturn\u001b[0m \u001b[0mself\u001b[0m\u001b[1;33m.\u001b[0m\u001b[0mfrom_ddm\u001b[0m\u001b[1;33m(\u001b[0m\u001b[0mrref_ddm\u001b[0m\u001b[1;33m)\u001b[0m\u001b[1;33m,\u001b[0m \u001b[0mtuple\u001b[0m\u001b[1;33m(\u001b[0m\u001b[0mpivots\u001b[0m\u001b[1;33m)\u001b[0m\u001b[1;33m\u001b[0m\u001b[1;33m\u001b[0m\u001b[0m\n\u001b[0;32m    611\u001b[0m \u001b[1;33m\u001b[0m\u001b[0m\n",
      "\u001b[1;32mc:\\users\\sasha\\appdata\\local\\programs\\python\\python38\\lib\\site-packages\\sympy\\polys\\domainmatrix.py\u001b[0m in \u001b[0;36mrref\u001b[1;34m(a)\u001b[0m\n\u001b[0;32m    139\u001b[0m         \u001b[1;34m\"\"\"Reduced-row echelon form of a and list of pivots\"\"\"\u001b[0m\u001b[1;33m\u001b[0m\u001b[1;33m\u001b[0m\u001b[0m\n\u001b[0;32m    140\u001b[0m         \u001b[0mb\u001b[0m \u001b[1;33m=\u001b[0m \u001b[0ma\u001b[0m\u001b[1;33m.\u001b[0m\u001b[0mcopy\u001b[0m\u001b[1;33m(\u001b[0m\u001b[1;33m)\u001b[0m\u001b[1;33m\u001b[0m\u001b[1;33m\u001b[0m\u001b[0m\n\u001b[1;32m--> 141\u001b[1;33m         \u001b[0mpivots\u001b[0m \u001b[1;33m=\u001b[0m \u001b[0mddm_irref\u001b[0m\u001b[1;33m(\u001b[0m\u001b[0mb\u001b[0m\u001b[1;33m)\u001b[0m\u001b[1;33m\u001b[0m\u001b[1;33m\u001b[0m\u001b[0m\n\u001b[0m\u001b[0;32m    142\u001b[0m         \u001b[1;32mreturn\u001b[0m \u001b[0mb\u001b[0m\u001b[1;33m,\u001b[0m \u001b[0mpivots\u001b[0m\u001b[1;33m\u001b[0m\u001b[1;33m\u001b[0m\u001b[0m\n\u001b[0;32m    143\u001b[0m \u001b[1;33m\u001b[0m\u001b[0m\n",
      "\u001b[1;32mc:\\users\\sasha\\appdata\\local\\programs\\python\\python38\\lib\\site-packages\\sympy\\polys\\domainmatrix.py\u001b[0m in \u001b[0;36mddm_irref\u001b[1;34m(a)\u001b[0m\n\u001b[0;32m    264\u001b[0m             \u001b[0mak\u001b[0m\u001b[1;33m[\u001b[0m\u001b[0mj\u001b[0m\u001b[1;33m]\u001b[0m \u001b[1;33m-=\u001b[0m \u001b[0makj\u001b[0m \u001b[1;31m# ak[j] = zero\u001b[0m\u001b[1;33m\u001b[0m\u001b[1;33m\u001b[0m\u001b[0m\n\u001b[0;32m    265\u001b[0m             \u001b[1;32mfor\u001b[0m \u001b[0ml\u001b[0m \u001b[1;32min\u001b[0m \u001b[0mrange\u001b[0m\u001b[1;33m(\u001b[0m\u001b[0mj\u001b[0m\u001b[1;33m+\u001b[0m\u001b[1;36m1\u001b[0m\u001b[1;33m,\u001b[0m \u001b[0mn\u001b[0m\u001b[1;33m)\u001b[0m\u001b[1;33m:\u001b[0m\u001b[1;33m\u001b[0m\u001b[1;33m\u001b[0m\u001b[0m\n\u001b[1;32m--> 266\u001b[1;33m                 \u001b[0mak\u001b[0m\u001b[1;33m[\u001b[0m\u001b[0ml\u001b[0m\u001b[1;33m]\u001b[0m \u001b[1;33m-=\u001b[0m \u001b[0makj\u001b[0m \u001b[1;33m*\u001b[0m \u001b[0mai\u001b[0m\u001b[1;33m[\u001b[0m\u001b[0ml\u001b[0m\u001b[1;33m]\u001b[0m\u001b[1;33m\u001b[0m\u001b[1;33m\u001b[0m\u001b[0m\n\u001b[0m\u001b[0;32m    267\u001b[0m \u001b[1;33m\u001b[0m\u001b[0m\n\u001b[0;32m    268\u001b[0m         \u001b[1;31m# next row\u001b[0m\u001b[1;33m\u001b[0m\u001b[1;33m\u001b[0m\u001b[1;33m\u001b[0m\u001b[0m\n",
      "\u001b[1;32mc:\\users\\sasha\\appdata\\local\\programs\\python\\python38\\lib\\site-packages\\sympy\\polys\\domains\\expressiondomain.py\u001b[0m in \u001b[0;36m__sub__\u001b[1;34m(f, g)\u001b[0m\n\u001b[0;32m     77\u001b[0m \u001b[1;33m\u001b[0m\u001b[0m\n\u001b[0;32m     78\u001b[0m             \u001b[1;32mif\u001b[0m \u001b[0mg\u001b[0m \u001b[1;32mis\u001b[0m \u001b[1;32mnot\u001b[0m \u001b[1;32mNone\u001b[0m\u001b[1;33m:\u001b[0m\u001b[1;33m\u001b[0m\u001b[1;33m\u001b[0m\u001b[0m\n\u001b[1;32m---> 79\u001b[1;33m                 \u001b[1;32mreturn\u001b[0m \u001b[0mf\u001b[0m\u001b[1;33m.\u001b[0m\u001b[0msimplify\u001b[0m\u001b[1;33m(\u001b[0m\u001b[0mf\u001b[0m\u001b[1;33m.\u001b[0m\u001b[0mex\u001b[0m \u001b[1;33m-\u001b[0m \u001b[0mg\u001b[0m\u001b[1;33m.\u001b[0m\u001b[0mex\u001b[0m\u001b[1;33m)\u001b[0m\u001b[1;33m\u001b[0m\u001b[1;33m\u001b[0m\u001b[0m\n\u001b[0m\u001b[0;32m     80\u001b[0m             \u001b[1;32melse\u001b[0m\u001b[1;33m:\u001b[0m\u001b[1;33m\u001b[0m\u001b[1;33m\u001b[0m\u001b[0m\n\u001b[0;32m     81\u001b[0m                 \u001b[1;32mreturn\u001b[0m \u001b[0mNotImplemented\u001b[0m\u001b[1;33m\u001b[0m\u001b[1;33m\u001b[0m\u001b[0m\n",
      "\u001b[1;32mc:\\users\\sasha\\appdata\\local\\programs\\python\\python38\\lib\\site-packages\\sympy\\polys\\domains\\expressiondomain.py\u001b[0m in \u001b[0;36msimplify\u001b[1;34m(f, ex)\u001b[0m\n\u001b[0;32m     48\u001b[0m \u001b[1;33m\u001b[0m\u001b[0m\n\u001b[0;32m     49\u001b[0m         \u001b[1;32mdef\u001b[0m \u001b[0msimplify\u001b[0m\u001b[1;33m(\u001b[0m\u001b[0mf\u001b[0m\u001b[1;33m,\u001b[0m \u001b[0mex\u001b[0m\u001b[1;33m)\u001b[0m\u001b[1;33m:\u001b[0m\u001b[1;33m\u001b[0m\u001b[1;33m\u001b[0m\u001b[0m\n\u001b[1;32m---> 50\u001b[1;33m             \u001b[1;32mreturn\u001b[0m \u001b[0mf\u001b[0m\u001b[1;33m.\u001b[0m\u001b[0m__class__\u001b[0m\u001b[1;33m(\u001b[0m\u001b[0mex\u001b[0m\u001b[1;33m.\u001b[0m\u001b[0mcancel\u001b[0m\u001b[1;33m(\u001b[0m\u001b[1;33m)\u001b[0m\u001b[1;33m.\u001b[0m\u001b[0mexpand\u001b[0m\u001b[1;33m(\u001b[0m\u001b[1;33m**\u001b[0m\u001b[0meflags\u001b[0m\u001b[1;33m)\u001b[0m\u001b[1;33m)\u001b[0m\u001b[1;33m\u001b[0m\u001b[1;33m\u001b[0m\u001b[0m\n\u001b[0m\u001b[0;32m     51\u001b[0m \u001b[1;33m\u001b[0m\u001b[0m\n\u001b[0;32m     52\u001b[0m         \u001b[1;32mdef\u001b[0m \u001b[0m__abs__\u001b[0m\u001b[1;33m(\u001b[0m\u001b[0mf\u001b[0m\u001b[1;33m)\u001b[0m\u001b[1;33m:\u001b[0m\u001b[1;33m\u001b[0m\u001b[1;33m\u001b[0m\u001b[0m\n",
      "\u001b[1;32mc:\\users\\sasha\\appdata\\local\\programs\\python\\python38\\lib\\site-packages\\sympy\\core\\expr.py\u001b[0m in \u001b[0;36mcancel\u001b[1;34m(self, *gens, **args)\u001b[0m\n\u001b[0;32m   3682\u001b[0m         \u001b[1;34m\"\"\"See the cancel function in sympy.polys\"\"\"\u001b[0m\u001b[1;33m\u001b[0m\u001b[1;33m\u001b[0m\u001b[0m\n\u001b[0;32m   3683\u001b[0m         \u001b[1;32mfrom\u001b[0m \u001b[0msympy\u001b[0m\u001b[1;33m.\u001b[0m\u001b[0mpolys\u001b[0m \u001b[1;32mimport\u001b[0m \u001b[0mcancel\u001b[0m\u001b[1;33m\u001b[0m\u001b[1;33m\u001b[0m\u001b[0m\n\u001b[1;32m-> 3684\u001b[1;33m         \u001b[1;32mreturn\u001b[0m \u001b[0mcancel\u001b[0m\u001b[1;33m(\u001b[0m\u001b[0mself\u001b[0m\u001b[1;33m,\u001b[0m \u001b[1;33m*\u001b[0m\u001b[0mgens\u001b[0m\u001b[1;33m,\u001b[0m \u001b[1;33m**\u001b[0m\u001b[0margs\u001b[0m\u001b[1;33m)\u001b[0m\u001b[1;33m\u001b[0m\u001b[1;33m\u001b[0m\u001b[0m\n\u001b[0m\u001b[0;32m   3685\u001b[0m \u001b[1;33m\u001b[0m\u001b[0m\n\u001b[0;32m   3686\u001b[0m     \u001b[1;32mdef\u001b[0m \u001b[0minvert\u001b[0m\u001b[1;33m(\u001b[0m\u001b[0mself\u001b[0m\u001b[1;33m,\u001b[0m \u001b[0mg\u001b[0m\u001b[1;33m,\u001b[0m \u001b[1;33m*\u001b[0m\u001b[0mgens\u001b[0m\u001b[1;33m,\u001b[0m \u001b[1;33m**\u001b[0m\u001b[0margs\u001b[0m\u001b[1;33m)\u001b[0m\u001b[1;33m:\u001b[0m\u001b[1;33m\u001b[0m\u001b[1;33m\u001b[0m\u001b[0m\n",
      "\u001b[1;32mc:\\users\\sasha\\appdata\\local\\programs\\python\\python38\\lib\\site-packages\\sympy\\polys\\polytools.py\u001b[0m in \u001b[0;36mcancel\u001b[1;34m(f, *gens, **args)\u001b[0m\n\u001b[0;32m   6715\u001b[0m             \u001b[1;32mreturn\u001b[0m \u001b[0mf\u001b[0m\u001b[1;33m.\u001b[0m\u001b[0mxreplace\u001b[0m\u001b[1;33m(\u001b[0m\u001b[0mdict\u001b[0m\u001b[1;33m(\u001b[0m\u001b[0mreps\u001b[0m\u001b[1;33m)\u001b[0m\u001b[1;33m)\u001b[0m\u001b[1;33m\u001b[0m\u001b[1;33m\u001b[0m\u001b[0m\n\u001b[0;32m   6716\u001b[0m \u001b[1;33m\u001b[0m\u001b[0m\n\u001b[1;32m-> 6717\u001b[1;33m     \u001b[0mc\u001b[0m\u001b[1;33m,\u001b[0m \u001b[1;33m(\u001b[0m\u001b[0mP\u001b[0m\u001b[1;33m,\u001b[0m \u001b[0mQ\u001b[0m\u001b[1;33m)\u001b[0m \u001b[1;33m=\u001b[0m \u001b[1;36m1\u001b[0m\u001b[1;33m,\u001b[0m \u001b[0mF\u001b[0m\u001b[1;33m.\u001b[0m\u001b[0mcancel\u001b[0m\u001b[1;33m(\u001b[0m\u001b[0mG\u001b[0m\u001b[1;33m)\u001b[0m\u001b[1;33m\u001b[0m\u001b[1;33m\u001b[0m\u001b[0m\n\u001b[0m\u001b[0;32m   6718\u001b[0m     \u001b[1;32mif\u001b[0m \u001b[0mopt\u001b[0m\u001b[1;33m.\u001b[0m\u001b[0mget\u001b[0m\u001b[1;33m(\u001b[0m\u001b[1;34m'polys'\u001b[0m\u001b[1;33m,\u001b[0m \u001b[1;32mFalse\u001b[0m\u001b[1;33m)\u001b[0m \u001b[1;32mand\u001b[0m \u001b[1;32mnot\u001b[0m \u001b[1;34m'gens'\u001b[0m \u001b[1;32min\u001b[0m \u001b[0mopt\u001b[0m\u001b[1;33m:\u001b[0m\u001b[1;33m\u001b[0m\u001b[1;33m\u001b[0m\u001b[0m\n\u001b[0;32m   6719\u001b[0m         \u001b[0mopt\u001b[0m\u001b[1;33m[\u001b[0m\u001b[1;34m'gens'\u001b[0m\u001b[1;33m]\u001b[0m \u001b[1;33m=\u001b[0m \u001b[0mR\u001b[0m\u001b[1;33m.\u001b[0m\u001b[0msymbols\u001b[0m\u001b[1;33m\u001b[0m\u001b[1;33m\u001b[0m\u001b[0m\n",
      "\u001b[1;32mc:\\users\\sasha\\appdata\\local\\programs\\python\\python38\\lib\\site-packages\\sympy\\polys\\rings.py\u001b[0m in \u001b[0;36mcancel\u001b[1;34m(self, g)\u001b[0m\n\u001b[0;32m   2215\u001b[0m \u001b[1;33m\u001b[0m\u001b[0m\n\u001b[0;32m   2216\u001b[0m         \u001b[1;32mif\u001b[0m \u001b[1;32mnot\u001b[0m \u001b[1;33m(\u001b[0m\u001b[0mdomain\u001b[0m\u001b[1;33m.\u001b[0m\u001b[0mis_Field\u001b[0m \u001b[1;32mand\u001b[0m \u001b[0mdomain\u001b[0m\u001b[1;33m.\u001b[0m\u001b[0mhas_assoc_Ring\u001b[0m\u001b[1;33m)\u001b[0m\u001b[1;33m:\u001b[0m\u001b[1;33m\u001b[0m\u001b[1;33m\u001b[0m\u001b[0m\n\u001b[1;32m-> 2217\u001b[1;33m             \u001b[0m_\u001b[0m\u001b[1;33m,\u001b[0m \u001b[0mp\u001b[0m\u001b[1;33m,\u001b[0m \u001b[0mq\u001b[0m \u001b[1;33m=\u001b[0m \u001b[0mf\u001b[0m\u001b[1;33m.\u001b[0m\u001b[0mcofactors\u001b[0m\u001b[1;33m(\u001b[0m\u001b[0mg\u001b[0m\u001b[1;33m)\u001b[0m\u001b[1;33m\u001b[0m\u001b[1;33m\u001b[0m\u001b[0m\n\u001b[0m\u001b[0;32m   2218\u001b[0m \u001b[1;33m\u001b[0m\u001b[0m\n\u001b[0;32m   2219\u001b[0m             \u001b[1;32mif\u001b[0m \u001b[0mq\u001b[0m\u001b[1;33m.\u001b[0m\u001b[0mis_negative\u001b[0m\u001b[1;33m:\u001b[0m\u001b[1;33m\u001b[0m\u001b[1;33m\u001b[0m\u001b[0m\n",
      "\u001b[1;32mc:\\users\\sasha\\appdata\\local\\programs\\python\\python38\\lib\\site-packages\\sympy\\polys\\rings.py\u001b[0m in \u001b[0;36mcofactors\u001b[1;34m(f, g)\u001b[0m\n\u001b[0;32m   2131\u001b[0m \u001b[1;33m\u001b[0m\u001b[0m\n\u001b[0;32m   2132\u001b[0m         \u001b[0mJ\u001b[0m\u001b[1;33m,\u001b[0m \u001b[1;33m(\u001b[0m\u001b[0mf\u001b[0m\u001b[1;33m,\u001b[0m \u001b[0mg\u001b[0m\u001b[1;33m)\u001b[0m \u001b[1;33m=\u001b[0m \u001b[0mf\u001b[0m\u001b[1;33m.\u001b[0m\u001b[0mdeflate\u001b[0m\u001b[1;33m(\u001b[0m\u001b[0mg\u001b[0m\u001b[1;33m)\u001b[0m\u001b[1;33m\u001b[0m\u001b[1;33m\u001b[0m\u001b[0m\n\u001b[1;32m-> 2133\u001b[1;33m         \u001b[0mh\u001b[0m\u001b[1;33m,\u001b[0m \u001b[0mcff\u001b[0m\u001b[1;33m,\u001b[0m \u001b[0mcfg\u001b[0m \u001b[1;33m=\u001b[0m \u001b[0mf\u001b[0m\u001b[1;33m.\u001b[0m\u001b[0m_gcd\u001b[0m\u001b[1;33m(\u001b[0m\u001b[0mg\u001b[0m\u001b[1;33m)\u001b[0m\u001b[1;33m\u001b[0m\u001b[1;33m\u001b[0m\u001b[0m\n\u001b[0m\u001b[0;32m   2134\u001b[0m \u001b[1;33m\u001b[0m\u001b[0m\n\u001b[0;32m   2135\u001b[0m         \u001b[1;32mreturn\u001b[0m \u001b[1;33m(\u001b[0m\u001b[0mh\u001b[0m\u001b[1;33m.\u001b[0m\u001b[0minflate\u001b[0m\u001b[1;33m(\u001b[0m\u001b[0mJ\u001b[0m\u001b[1;33m)\u001b[0m\u001b[1;33m,\u001b[0m \u001b[0mcff\u001b[0m\u001b[1;33m.\u001b[0m\u001b[0minflate\u001b[0m\u001b[1;33m(\u001b[0m\u001b[0mJ\u001b[0m\u001b[1;33m)\u001b[0m\u001b[1;33m,\u001b[0m \u001b[0mcfg\u001b[0m\u001b[1;33m.\u001b[0m\u001b[0minflate\u001b[0m\u001b[1;33m(\u001b[0m\u001b[0mJ\u001b[0m\u001b[1;33m)\u001b[0m\u001b[1;33m)\u001b[0m\u001b[1;33m\u001b[0m\u001b[1;33m\u001b[0m\u001b[0m\n",
      "\u001b[1;32mc:\\users\\sasha\\appdata\\local\\programs\\python\\python38\\lib\\site-packages\\sympy\\polys\\rings.py\u001b[0m in \u001b[0;36m_gcd\u001b[1;34m(f, g)\u001b[0m\n\u001b[0;32m   2166\u001b[0m             \u001b[1;32mreturn\u001b[0m \u001b[0mf\u001b[0m\u001b[1;33m.\u001b[0m\u001b[0m_gcd_ZZ\u001b[0m\u001b[1;33m(\u001b[0m\u001b[0mg\u001b[0m\u001b[1;33m)\u001b[0m\u001b[1;33m\u001b[0m\u001b[1;33m\u001b[0m\u001b[0m\n\u001b[0;32m   2167\u001b[0m         \u001b[1;32melse\u001b[0m\u001b[1;33m:\u001b[0m \u001b[1;31m# TODO: don't use dense representation (port PRS algorithms)\u001b[0m\u001b[1;33m\u001b[0m\u001b[1;33m\u001b[0m\u001b[0m\n\u001b[1;32m-> 2168\u001b[1;33m             \u001b[1;32mreturn\u001b[0m \u001b[0mring\u001b[0m\u001b[1;33m.\u001b[0m\u001b[0mdmp_inner_gcd\u001b[0m\u001b[1;33m(\u001b[0m\u001b[0mf\u001b[0m\u001b[1;33m,\u001b[0m \u001b[0mg\u001b[0m\u001b[1;33m)\u001b[0m\u001b[1;33m\u001b[0m\u001b[1;33m\u001b[0m\u001b[0m\n\u001b[0m\u001b[0;32m   2169\u001b[0m \u001b[1;33m\u001b[0m\u001b[0m\n\u001b[0;32m   2170\u001b[0m     \u001b[1;32mdef\u001b[0m \u001b[0m_gcd_ZZ\u001b[0m\u001b[1;33m(\u001b[0m\u001b[0mf\u001b[0m\u001b[1;33m,\u001b[0m \u001b[0mg\u001b[0m\u001b[1;33m)\u001b[0m\u001b[1;33m:\u001b[0m\u001b[1;33m\u001b[0m\u001b[1;33m\u001b[0m\u001b[0m\n",
      "\u001b[1;32mc:\\users\\sasha\\appdata\\local\\programs\\python\\python38\\lib\\site-packages\\sympy\\polys\\compatibility.py\u001b[0m in \u001b[0;36mdmp_inner_gcd\u001b[1;34m(self, f, g)\u001b[0m\n\u001b[0;32m    654\u001b[0m         \u001b[1;32mreturn\u001b[0m \u001b[1;33m(\u001b[0m\u001b[0mself\u001b[0m\u001b[1;33m.\u001b[0m\u001b[0mfrom_dense\u001b[0m\u001b[1;33m(\u001b[0m\u001b[0mH\u001b[0m\u001b[1;33m)\u001b[0m\u001b[1;33m,\u001b[0m \u001b[0mself\u001b[0m\u001b[1;33m.\u001b[0m\u001b[0mfrom_dense\u001b[0m\u001b[1;33m(\u001b[0m\u001b[0mF\u001b[0m\u001b[1;33m)\u001b[0m\u001b[1;33m,\u001b[0m \u001b[0mself\u001b[0m\u001b[1;33m.\u001b[0m\u001b[0mfrom_dense\u001b[0m\u001b[1;33m(\u001b[0m\u001b[0mG\u001b[0m\u001b[1;33m)\u001b[0m\u001b[1;33m)\u001b[0m\u001b[1;33m\u001b[0m\u001b[1;33m\u001b[0m\u001b[0m\n\u001b[0;32m    655\u001b[0m     \u001b[1;32mdef\u001b[0m \u001b[0mdmp_inner_gcd\u001b[0m\u001b[1;33m(\u001b[0m\u001b[0mself\u001b[0m\u001b[1;33m,\u001b[0m \u001b[0mf\u001b[0m\u001b[1;33m,\u001b[0m \u001b[0mg\u001b[0m\u001b[1;33m)\u001b[0m\u001b[1;33m:\u001b[0m\u001b[1;33m\u001b[0m\u001b[1;33m\u001b[0m\u001b[0m\n\u001b[1;32m--> 656\u001b[1;33m         \u001b[0mH\u001b[0m\u001b[1;33m,\u001b[0m \u001b[0mF\u001b[0m\u001b[1;33m,\u001b[0m \u001b[0mG\u001b[0m \u001b[1;33m=\u001b[0m \u001b[0mdmp_inner_gcd\u001b[0m\u001b[1;33m(\u001b[0m\u001b[0mself\u001b[0m\u001b[1;33m.\u001b[0m\u001b[0mto_dense\u001b[0m\u001b[1;33m(\u001b[0m\u001b[0mf\u001b[0m\u001b[1;33m)\u001b[0m\u001b[1;33m,\u001b[0m \u001b[0mself\u001b[0m\u001b[1;33m.\u001b[0m\u001b[0mto_dense\u001b[0m\u001b[1;33m(\u001b[0m\u001b[0mg\u001b[0m\u001b[1;33m)\u001b[0m\u001b[1;33m,\u001b[0m \u001b[0mself\u001b[0m\u001b[1;33m.\u001b[0m\u001b[0mngens\u001b[0m\u001b[1;33m-\u001b[0m\u001b[1;36m1\u001b[0m\u001b[1;33m,\u001b[0m \u001b[0mself\u001b[0m\u001b[1;33m.\u001b[0m\u001b[0mdomain\u001b[0m\u001b[1;33m)\u001b[0m\u001b[1;33m\u001b[0m\u001b[1;33m\u001b[0m\u001b[0m\n\u001b[0m\u001b[0;32m    657\u001b[0m         \u001b[1;32mreturn\u001b[0m \u001b[1;33m(\u001b[0m\u001b[0mself\u001b[0m\u001b[1;33m.\u001b[0m\u001b[0mfrom_dense\u001b[0m\u001b[1;33m(\u001b[0m\u001b[0mH\u001b[0m\u001b[1;33m)\u001b[0m\u001b[1;33m,\u001b[0m \u001b[0mself\u001b[0m\u001b[1;33m.\u001b[0m\u001b[0mfrom_dense\u001b[0m\u001b[1;33m(\u001b[0m\u001b[0mF\u001b[0m\u001b[1;33m)\u001b[0m\u001b[1;33m,\u001b[0m \u001b[0mself\u001b[0m\u001b[1;33m.\u001b[0m\u001b[0mfrom_dense\u001b[0m\u001b[1;33m(\u001b[0m\u001b[0mG\u001b[0m\u001b[1;33m)\u001b[0m\u001b[1;33m)\u001b[0m\u001b[1;33m\u001b[0m\u001b[1;33m\u001b[0m\u001b[0m\n\u001b[0;32m    658\u001b[0m     \u001b[1;32mdef\u001b[0m \u001b[0mdup_gcd\u001b[0m\u001b[1;33m(\u001b[0m\u001b[0mself\u001b[0m\u001b[1;33m,\u001b[0m \u001b[0mf\u001b[0m\u001b[1;33m,\u001b[0m \u001b[0mg\u001b[0m\u001b[1;33m)\u001b[0m\u001b[1;33m:\u001b[0m\u001b[1;33m\u001b[0m\u001b[1;33m\u001b[0m\u001b[0m\n",
      "\u001b[1;32mc:\\users\\sasha\\appdata\\local\\programs\\python\\python38\\lib\\site-packages\\sympy\\polys\\euclidtools.py\u001b[0m in \u001b[0;36mdmp_inner_gcd\u001b[1;34m(f, g, u, K)\u001b[0m\n\u001b[0;32m   1582\u001b[0m \u001b[1;33m\u001b[0m\u001b[0m\n\u001b[0;32m   1583\u001b[0m     \u001b[0mJ\u001b[0m\u001b[1;33m,\u001b[0m \u001b[1;33m(\u001b[0m\u001b[0mf\u001b[0m\u001b[1;33m,\u001b[0m \u001b[0mg\u001b[0m\u001b[1;33m)\u001b[0m \u001b[1;33m=\u001b[0m \u001b[0mdmp_multi_deflate\u001b[0m\u001b[1;33m(\u001b[0m\u001b[1;33m(\u001b[0m\u001b[0mf\u001b[0m\u001b[1;33m,\u001b[0m \u001b[0mg\u001b[0m\u001b[1;33m)\u001b[0m\u001b[1;33m,\u001b[0m \u001b[0mu\u001b[0m\u001b[1;33m,\u001b[0m \u001b[0mK\u001b[0m\u001b[1;33m)\u001b[0m\u001b[1;33m\u001b[0m\u001b[1;33m\u001b[0m\u001b[0m\n\u001b[1;32m-> 1584\u001b[1;33m     \u001b[0mh\u001b[0m\u001b[1;33m,\u001b[0m \u001b[0mcff\u001b[0m\u001b[1;33m,\u001b[0m \u001b[0mcfg\u001b[0m \u001b[1;33m=\u001b[0m \u001b[0m_dmp_inner_gcd\u001b[0m\u001b[1;33m(\u001b[0m\u001b[0mf\u001b[0m\u001b[1;33m,\u001b[0m \u001b[0mg\u001b[0m\u001b[1;33m,\u001b[0m \u001b[0mu\u001b[0m\u001b[1;33m,\u001b[0m \u001b[0mK\u001b[0m\u001b[1;33m)\u001b[0m\u001b[1;33m\u001b[0m\u001b[1;33m\u001b[0m\u001b[0m\n\u001b[0m\u001b[0;32m   1585\u001b[0m \u001b[1;33m\u001b[0m\u001b[0m\n\u001b[0;32m   1586\u001b[0m     return (dmp_inflate(h, J, u, K),\n",
      "\u001b[1;32mc:\\users\\sasha\\appdata\\local\\programs\\python\\python38\\lib\\site-packages\\sympy\\polys\\euclidtools.py\u001b[0m in \u001b[0;36m_dmp_inner_gcd\u001b[1;34m(f, g, u, K)\u001b[0m\n\u001b[0;32m   1555\u001b[0m                 \u001b[1;32mpass\u001b[0m\u001b[1;33m\u001b[0m\u001b[1;33m\u001b[0m\u001b[0m\n\u001b[0;32m   1556\u001b[0m \u001b[1;33m\u001b[0m\u001b[0m\n\u001b[1;32m-> 1557\u001b[1;33m         \u001b[1;32mreturn\u001b[0m \u001b[0mdmp_rr_prs_gcd\u001b[0m\u001b[1;33m(\u001b[0m\u001b[0mf\u001b[0m\u001b[1;33m,\u001b[0m \u001b[0mg\u001b[0m\u001b[1;33m,\u001b[0m \u001b[0mu\u001b[0m\u001b[1;33m,\u001b[0m \u001b[0mK\u001b[0m\u001b[1;33m)\u001b[0m\u001b[1;33m\u001b[0m\u001b[1;33m\u001b[0m\u001b[0m\n\u001b[0m\u001b[0;32m   1558\u001b[0m \u001b[1;33m\u001b[0m\u001b[0m\n\u001b[0;32m   1559\u001b[0m \u001b[1;33m\u001b[0m\u001b[0m\n",
      "\u001b[1;32mc:\\users\\sasha\\appdata\\local\\programs\\python\\python38\\lib\\site-packages\\sympy\\polys\\euclidtools.py\u001b[0m in \u001b[0;36mdmp_rr_prs_gcd\u001b[1;34m(f, g, u, K)\u001b[0m\n\u001b[0;32m   1066\u001b[0m     \u001b[0mgc\u001b[0m\u001b[1;33m,\u001b[0m \u001b[0mG\u001b[0m \u001b[1;33m=\u001b[0m \u001b[0mdmp_primitive\u001b[0m\u001b[1;33m(\u001b[0m\u001b[0mg\u001b[0m\u001b[1;33m,\u001b[0m \u001b[0mu\u001b[0m\u001b[1;33m,\u001b[0m \u001b[0mK\u001b[0m\u001b[1;33m)\u001b[0m\u001b[1;33m\u001b[0m\u001b[1;33m\u001b[0m\u001b[0m\n\u001b[0;32m   1067\u001b[0m \u001b[1;33m\u001b[0m\u001b[0m\n\u001b[1;32m-> 1068\u001b[1;33m     \u001b[0mh\u001b[0m \u001b[1;33m=\u001b[0m \u001b[0mdmp_subresultants\u001b[0m\u001b[1;33m(\u001b[0m\u001b[0mF\u001b[0m\u001b[1;33m,\u001b[0m \u001b[0mG\u001b[0m\u001b[1;33m,\u001b[0m \u001b[0mu\u001b[0m\u001b[1;33m,\u001b[0m \u001b[0mK\u001b[0m\u001b[1;33m)\u001b[0m\u001b[1;33m[\u001b[0m\u001b[1;33m-\u001b[0m\u001b[1;36m1\u001b[0m\u001b[1;33m]\u001b[0m\u001b[1;33m\u001b[0m\u001b[1;33m\u001b[0m\u001b[0m\n\u001b[0m\u001b[0;32m   1069\u001b[0m     \u001b[0mc\u001b[0m\u001b[1;33m,\u001b[0m \u001b[0m_\u001b[0m\u001b[1;33m,\u001b[0m \u001b[0m_\u001b[0m \u001b[1;33m=\u001b[0m \u001b[0mdmp_rr_prs_gcd\u001b[0m\u001b[1;33m(\u001b[0m\u001b[0mfc\u001b[0m\u001b[1;33m,\u001b[0m \u001b[0mgc\u001b[0m\u001b[1;33m,\u001b[0m \u001b[0mu\u001b[0m \u001b[1;33m-\u001b[0m \u001b[1;36m1\u001b[0m\u001b[1;33m,\u001b[0m \u001b[0mK\u001b[0m\u001b[1;33m)\u001b[0m\u001b[1;33m\u001b[0m\u001b[1;33m\u001b[0m\u001b[0m\n\u001b[0;32m   1070\u001b[0m \u001b[1;33m\u001b[0m\u001b[0m\n",
      "\u001b[1;32mc:\\users\\sasha\\appdata\\local\\programs\\python\\python38\\lib\\site-packages\\sympy\\polys\\euclidtools.py\u001b[0m in \u001b[0;36mdmp_subresultants\u001b[1;34m(f, g, u, K)\u001b[0m\n\u001b[0;32m    548\u001b[0m \u001b[1;33m\u001b[0m\u001b[0m\n\u001b[0;32m    549\u001b[0m     \"\"\"\n\u001b[1;32m--> 550\u001b[1;33m     \u001b[1;32mreturn\u001b[0m \u001b[0mdmp_inner_subresultants\u001b[0m\u001b[1;33m(\u001b[0m\u001b[0mf\u001b[0m\u001b[1;33m,\u001b[0m \u001b[0mg\u001b[0m\u001b[1;33m,\u001b[0m \u001b[0mu\u001b[0m\u001b[1;33m,\u001b[0m \u001b[0mK\u001b[0m\u001b[1;33m)\u001b[0m\u001b[1;33m[\u001b[0m\u001b[1;36m0\u001b[0m\u001b[1;33m]\u001b[0m\u001b[1;33m\u001b[0m\u001b[1;33m\u001b[0m\u001b[0m\n\u001b[0m\u001b[0;32m    551\u001b[0m \u001b[1;33m\u001b[0m\u001b[0m\n\u001b[0;32m    552\u001b[0m \u001b[1;33m\u001b[0m\u001b[0m\n",
      "\u001b[1;32mc:\\users\\sasha\\appdata\\local\\programs\\python\\python38\\lib\\site-packages\\sympy\\polys\\euclidtools.py\u001b[0m in \u001b[0;36mdmp_inner_subresultants\u001b[1;34m(f, g, u, K)\u001b[0m\n\u001b[0;32m    511\u001b[0m                     dmp_pow(c, d, v, K), v, K)\n\u001b[0;32m    512\u001b[0m \u001b[1;33m\u001b[0m\u001b[0m\n\u001b[1;32m--> 513\u001b[1;33m         \u001b[0mh\u001b[0m \u001b[1;33m=\u001b[0m \u001b[0mdmp_prem\u001b[0m\u001b[1;33m(\u001b[0m\u001b[0mf\u001b[0m\u001b[1;33m,\u001b[0m \u001b[0mg\u001b[0m\u001b[1;33m,\u001b[0m \u001b[0mu\u001b[0m\u001b[1;33m,\u001b[0m \u001b[0mK\u001b[0m\u001b[1;33m)\u001b[0m\u001b[1;33m\u001b[0m\u001b[1;33m\u001b[0m\u001b[0m\n\u001b[0m\u001b[0;32m    514\u001b[0m         \u001b[0mh\u001b[0m \u001b[1;33m=\u001b[0m \u001b[1;33m[\u001b[0m \u001b[0mdmp_quo\u001b[0m\u001b[1;33m(\u001b[0m\u001b[0mch\u001b[0m\u001b[1;33m,\u001b[0m \u001b[0mb\u001b[0m\u001b[1;33m,\u001b[0m \u001b[0mv\u001b[0m\u001b[1;33m,\u001b[0m \u001b[0mK\u001b[0m\u001b[1;33m)\u001b[0m \u001b[1;32mfor\u001b[0m \u001b[0mch\u001b[0m \u001b[1;32min\u001b[0m \u001b[0mh\u001b[0m \u001b[1;33m]\u001b[0m\u001b[1;33m\u001b[0m\u001b[1;33m\u001b[0m\u001b[0m\n\u001b[0;32m    515\u001b[0m \u001b[1;33m\u001b[0m\u001b[0m\n",
      "\u001b[1;32mc:\\users\\sasha\\appdata\\local\\programs\\python\\python38\\lib\\site-packages\\sympy\\polys\\densearith.py\u001b[0m in \u001b[0;36mdmp_prem\u001b[1;34m(f, g, u, K)\u001b[0m\n\u001b[0;32m   1236\u001b[0m \u001b[1;33m\u001b[0m\u001b[0m\n\u001b[0;32m   1237\u001b[0m         \u001b[0mR\u001b[0m \u001b[1;33m=\u001b[0m \u001b[0mdmp_mul_term\u001b[0m\u001b[1;33m(\u001b[0m\u001b[0mr\u001b[0m\u001b[1;33m,\u001b[0m \u001b[0mlc_g\u001b[0m\u001b[1;33m,\u001b[0m \u001b[1;36m0\u001b[0m\u001b[1;33m,\u001b[0m \u001b[0mu\u001b[0m\u001b[1;33m,\u001b[0m \u001b[0mK\u001b[0m\u001b[1;33m)\u001b[0m\u001b[1;33m\u001b[0m\u001b[1;33m\u001b[0m\u001b[0m\n\u001b[1;32m-> 1238\u001b[1;33m         \u001b[0mG\u001b[0m \u001b[1;33m=\u001b[0m \u001b[0mdmp_mul_term\u001b[0m\u001b[1;33m(\u001b[0m\u001b[0mg\u001b[0m\u001b[1;33m,\u001b[0m \u001b[0mlc_r\u001b[0m\u001b[1;33m,\u001b[0m \u001b[0mj\u001b[0m\u001b[1;33m,\u001b[0m \u001b[0mu\u001b[0m\u001b[1;33m,\u001b[0m \u001b[0mK\u001b[0m\u001b[1;33m)\u001b[0m\u001b[1;33m\u001b[0m\u001b[1;33m\u001b[0m\u001b[0m\n\u001b[0m\u001b[0;32m   1239\u001b[0m         \u001b[0mr\u001b[0m \u001b[1;33m=\u001b[0m \u001b[0mdmp_sub\u001b[0m\u001b[1;33m(\u001b[0m\u001b[0mR\u001b[0m\u001b[1;33m,\u001b[0m \u001b[0mG\u001b[0m\u001b[1;33m,\u001b[0m \u001b[0mu\u001b[0m\u001b[1;33m,\u001b[0m \u001b[0mK\u001b[0m\u001b[1;33m)\u001b[0m\u001b[1;33m\u001b[0m\u001b[1;33m\u001b[0m\u001b[0m\n\u001b[0;32m   1240\u001b[0m \u001b[1;33m\u001b[0m\u001b[0m\n",
      "\u001b[1;32mc:\\users\\sasha\\appdata\\local\\programs\\python\\python38\\lib\\site-packages\\sympy\\polys\\densearith.py\u001b[0m in \u001b[0;36mdmp_mul_term\u001b[1;34m(f, c, i, u, K)\u001b[0m\n\u001b[0;32m    182\u001b[0m         \u001b[1;32mreturn\u001b[0m \u001b[0mdmp_zero\u001b[0m\u001b[1;33m(\u001b[0m\u001b[0mu\u001b[0m\u001b[1;33m)\u001b[0m\u001b[1;33m\u001b[0m\u001b[1;33m\u001b[0m\u001b[0m\n\u001b[0;32m    183\u001b[0m     \u001b[1;32melse\u001b[0m\u001b[1;33m:\u001b[0m\u001b[1;33m\u001b[0m\u001b[1;33m\u001b[0m\u001b[0m\n\u001b[1;32m--> 184\u001b[1;33m         \u001b[1;32mreturn\u001b[0m \u001b[1;33m[\u001b[0m \u001b[0mdmp_mul\u001b[0m\u001b[1;33m(\u001b[0m\u001b[0mcf\u001b[0m\u001b[1;33m,\u001b[0m \u001b[0mc\u001b[0m\u001b[1;33m,\u001b[0m \u001b[0mv\u001b[0m\u001b[1;33m,\u001b[0m \u001b[0mK\u001b[0m\u001b[1;33m)\u001b[0m \u001b[1;32mfor\u001b[0m \u001b[0mcf\u001b[0m \u001b[1;32min\u001b[0m \u001b[0mf\u001b[0m \u001b[1;33m]\u001b[0m \u001b[1;33m+\u001b[0m \u001b[0mdmp_zeros\u001b[0m\u001b[1;33m(\u001b[0m\u001b[0mi\u001b[0m\u001b[1;33m,\u001b[0m \u001b[0mv\u001b[0m\u001b[1;33m,\u001b[0m \u001b[0mK\u001b[0m\u001b[1;33m)\u001b[0m\u001b[1;33m\u001b[0m\u001b[1;33m\u001b[0m\u001b[0m\n\u001b[0m\u001b[0;32m    185\u001b[0m \u001b[1;33m\u001b[0m\u001b[0m\n\u001b[0;32m    186\u001b[0m \u001b[1;33m\u001b[0m\u001b[0m\n",
      "\u001b[1;32mc:\\users\\sasha\\appdata\\local\\programs\\python\\python38\\lib\\site-packages\\sympy\\polys\\densearith.py\u001b[0m in \u001b[0;36m<listcomp>\u001b[1;34m(.0)\u001b[0m\n\u001b[0;32m    182\u001b[0m         \u001b[1;32mreturn\u001b[0m \u001b[0mdmp_zero\u001b[0m\u001b[1;33m(\u001b[0m\u001b[0mu\u001b[0m\u001b[1;33m)\u001b[0m\u001b[1;33m\u001b[0m\u001b[1;33m\u001b[0m\u001b[0m\n\u001b[0;32m    183\u001b[0m     \u001b[1;32melse\u001b[0m\u001b[1;33m:\u001b[0m\u001b[1;33m\u001b[0m\u001b[1;33m\u001b[0m\u001b[0m\n\u001b[1;32m--> 184\u001b[1;33m         \u001b[1;32mreturn\u001b[0m \u001b[1;33m[\u001b[0m \u001b[0mdmp_mul\u001b[0m\u001b[1;33m(\u001b[0m\u001b[0mcf\u001b[0m\u001b[1;33m,\u001b[0m \u001b[0mc\u001b[0m\u001b[1;33m,\u001b[0m \u001b[0mv\u001b[0m\u001b[1;33m,\u001b[0m \u001b[0mK\u001b[0m\u001b[1;33m)\u001b[0m \u001b[1;32mfor\u001b[0m \u001b[0mcf\u001b[0m \u001b[1;32min\u001b[0m \u001b[0mf\u001b[0m \u001b[1;33m]\u001b[0m \u001b[1;33m+\u001b[0m \u001b[0mdmp_zeros\u001b[0m\u001b[1;33m(\u001b[0m\u001b[0mi\u001b[0m\u001b[1;33m,\u001b[0m \u001b[0mv\u001b[0m\u001b[1;33m,\u001b[0m \u001b[0mK\u001b[0m\u001b[1;33m)\u001b[0m\u001b[1;33m\u001b[0m\u001b[1;33m\u001b[0m\u001b[0m\n\u001b[0m\u001b[0;32m    185\u001b[0m \u001b[1;33m\u001b[0m\u001b[0m\n\u001b[0;32m    186\u001b[0m \u001b[1;33m\u001b[0m\u001b[0m\n",
      "\u001b[1;32mc:\\users\\sasha\\appdata\\local\\programs\\python\\python38\\lib\\site-packages\\sympy\\polys\\densearith.py\u001b[0m in \u001b[0;36mdmp_mul\u001b[1;34m(f, g, u, K)\u001b[0m\n\u001b[0;32m    826\u001b[0m \u001b[1;33m\u001b[0m\u001b[0m\n\u001b[0;32m    827\u001b[0m         \u001b[1;32mfor\u001b[0m \u001b[0mj\u001b[0m \u001b[1;32min\u001b[0m \u001b[0mrange\u001b[0m\u001b[1;33m(\u001b[0m\u001b[0mmax\u001b[0m\u001b[1;33m(\u001b[0m\u001b[1;36m0\u001b[0m\u001b[1;33m,\u001b[0m \u001b[0mi\u001b[0m \u001b[1;33m-\u001b[0m \u001b[0mdg\u001b[0m\u001b[1;33m)\u001b[0m\u001b[1;33m,\u001b[0m \u001b[0mmin\u001b[0m\u001b[1;33m(\u001b[0m\u001b[0mdf\u001b[0m\u001b[1;33m,\u001b[0m \u001b[0mi\u001b[0m\u001b[1;33m)\u001b[0m \u001b[1;33m+\u001b[0m \u001b[1;36m1\u001b[0m\u001b[1;33m)\u001b[0m\u001b[1;33m:\u001b[0m\u001b[1;33m\u001b[0m\u001b[1;33m\u001b[0m\u001b[0m\n\u001b[1;32m--> 828\u001b[1;33m             \u001b[0mcoeff\u001b[0m \u001b[1;33m=\u001b[0m \u001b[0mdmp_add\u001b[0m\u001b[1;33m(\u001b[0m\u001b[0mcoeff\u001b[0m\u001b[1;33m,\u001b[0m \u001b[0mdmp_mul\u001b[0m\u001b[1;33m(\u001b[0m\u001b[0mf\u001b[0m\u001b[1;33m[\u001b[0m\u001b[0mj\u001b[0m\u001b[1;33m]\u001b[0m\u001b[1;33m,\u001b[0m \u001b[0mg\u001b[0m\u001b[1;33m[\u001b[0m\u001b[0mi\u001b[0m \u001b[1;33m-\u001b[0m \u001b[0mj\u001b[0m\u001b[1;33m]\u001b[0m\u001b[1;33m,\u001b[0m \u001b[0mv\u001b[0m\u001b[1;33m,\u001b[0m \u001b[0mK\u001b[0m\u001b[1;33m)\u001b[0m\u001b[1;33m,\u001b[0m \u001b[0mv\u001b[0m\u001b[1;33m,\u001b[0m \u001b[0mK\u001b[0m\u001b[1;33m)\u001b[0m\u001b[1;33m\u001b[0m\u001b[1;33m\u001b[0m\u001b[0m\n\u001b[0m\u001b[0;32m    829\u001b[0m \u001b[1;33m\u001b[0m\u001b[0m\n\u001b[0;32m    830\u001b[0m         \u001b[0mh\u001b[0m\u001b[1;33m.\u001b[0m\u001b[0mappend\u001b[0m\u001b[1;33m(\u001b[0m\u001b[0mcoeff\u001b[0m\u001b[1;33m)\u001b[0m\u001b[1;33m\u001b[0m\u001b[1;33m\u001b[0m\u001b[0m\n",
      "\u001b[1;32mc:\\users\\sasha\\appdata\\local\\programs\\python\\python38\\lib\\site-packages\\sympy\\polys\\densearith.py\u001b[0m in \u001b[0;36mdmp_mul\u001b[1;34m(f, g, u, K)\u001b[0m\n\u001b[0;32m    826\u001b[0m \u001b[1;33m\u001b[0m\u001b[0m\n\u001b[0;32m    827\u001b[0m         \u001b[1;32mfor\u001b[0m \u001b[0mj\u001b[0m \u001b[1;32min\u001b[0m \u001b[0mrange\u001b[0m\u001b[1;33m(\u001b[0m\u001b[0mmax\u001b[0m\u001b[1;33m(\u001b[0m\u001b[1;36m0\u001b[0m\u001b[1;33m,\u001b[0m \u001b[0mi\u001b[0m \u001b[1;33m-\u001b[0m \u001b[0mdg\u001b[0m\u001b[1;33m)\u001b[0m\u001b[1;33m,\u001b[0m \u001b[0mmin\u001b[0m\u001b[1;33m(\u001b[0m\u001b[0mdf\u001b[0m\u001b[1;33m,\u001b[0m \u001b[0mi\u001b[0m\u001b[1;33m)\u001b[0m \u001b[1;33m+\u001b[0m \u001b[1;36m1\u001b[0m\u001b[1;33m)\u001b[0m\u001b[1;33m:\u001b[0m\u001b[1;33m\u001b[0m\u001b[1;33m\u001b[0m\u001b[0m\n\u001b[1;32m--> 828\u001b[1;33m             \u001b[0mcoeff\u001b[0m \u001b[1;33m=\u001b[0m \u001b[0mdmp_add\u001b[0m\u001b[1;33m(\u001b[0m\u001b[0mcoeff\u001b[0m\u001b[1;33m,\u001b[0m \u001b[0mdmp_mul\u001b[0m\u001b[1;33m(\u001b[0m\u001b[0mf\u001b[0m\u001b[1;33m[\u001b[0m\u001b[0mj\u001b[0m\u001b[1;33m]\u001b[0m\u001b[1;33m,\u001b[0m \u001b[0mg\u001b[0m\u001b[1;33m[\u001b[0m\u001b[0mi\u001b[0m \u001b[1;33m-\u001b[0m \u001b[0mj\u001b[0m\u001b[1;33m]\u001b[0m\u001b[1;33m,\u001b[0m \u001b[0mv\u001b[0m\u001b[1;33m,\u001b[0m \u001b[0mK\u001b[0m\u001b[1;33m)\u001b[0m\u001b[1;33m,\u001b[0m \u001b[0mv\u001b[0m\u001b[1;33m,\u001b[0m \u001b[0mK\u001b[0m\u001b[1;33m)\u001b[0m\u001b[1;33m\u001b[0m\u001b[1;33m\u001b[0m\u001b[0m\n\u001b[0m\u001b[0;32m    829\u001b[0m \u001b[1;33m\u001b[0m\u001b[0m\n\u001b[0;32m    830\u001b[0m         \u001b[0mh\u001b[0m\u001b[1;33m.\u001b[0m\u001b[0mappend\u001b[0m\u001b[1;33m(\u001b[0m\u001b[0mcoeff\u001b[0m\u001b[1;33m)\u001b[0m\u001b[1;33m\u001b[0m\u001b[1;33m\u001b[0m\u001b[0m\n",
      "\u001b[1;32mc:\\users\\sasha\\appdata\\local\\programs\\python\\python38\\lib\\site-packages\\sympy\\polys\\densearith.py\u001b[0m in \u001b[0;36mdmp_mul\u001b[1;34m(f, g, u, K)\u001b[0m\n\u001b[0;32m    826\u001b[0m \u001b[1;33m\u001b[0m\u001b[0m\n\u001b[0;32m    827\u001b[0m         \u001b[1;32mfor\u001b[0m \u001b[0mj\u001b[0m \u001b[1;32min\u001b[0m \u001b[0mrange\u001b[0m\u001b[1;33m(\u001b[0m\u001b[0mmax\u001b[0m\u001b[1;33m(\u001b[0m\u001b[1;36m0\u001b[0m\u001b[1;33m,\u001b[0m \u001b[0mi\u001b[0m \u001b[1;33m-\u001b[0m \u001b[0mdg\u001b[0m\u001b[1;33m)\u001b[0m\u001b[1;33m,\u001b[0m \u001b[0mmin\u001b[0m\u001b[1;33m(\u001b[0m\u001b[0mdf\u001b[0m\u001b[1;33m,\u001b[0m \u001b[0mi\u001b[0m\u001b[1;33m)\u001b[0m \u001b[1;33m+\u001b[0m \u001b[1;36m1\u001b[0m\u001b[1;33m)\u001b[0m\u001b[1;33m:\u001b[0m\u001b[1;33m\u001b[0m\u001b[1;33m\u001b[0m\u001b[0m\n\u001b[1;32m--> 828\u001b[1;33m             \u001b[0mcoeff\u001b[0m \u001b[1;33m=\u001b[0m \u001b[0mdmp_add\u001b[0m\u001b[1;33m(\u001b[0m\u001b[0mcoeff\u001b[0m\u001b[1;33m,\u001b[0m \u001b[0mdmp_mul\u001b[0m\u001b[1;33m(\u001b[0m\u001b[0mf\u001b[0m\u001b[1;33m[\u001b[0m\u001b[0mj\u001b[0m\u001b[1;33m]\u001b[0m\u001b[1;33m,\u001b[0m \u001b[0mg\u001b[0m\u001b[1;33m[\u001b[0m\u001b[0mi\u001b[0m \u001b[1;33m-\u001b[0m \u001b[0mj\u001b[0m\u001b[1;33m]\u001b[0m\u001b[1;33m,\u001b[0m \u001b[0mv\u001b[0m\u001b[1;33m,\u001b[0m \u001b[0mK\u001b[0m\u001b[1;33m)\u001b[0m\u001b[1;33m,\u001b[0m \u001b[0mv\u001b[0m\u001b[1;33m,\u001b[0m \u001b[0mK\u001b[0m\u001b[1;33m)\u001b[0m\u001b[1;33m\u001b[0m\u001b[1;33m\u001b[0m\u001b[0m\n\u001b[0m\u001b[0;32m    829\u001b[0m \u001b[1;33m\u001b[0m\u001b[0m\n\u001b[0;32m    830\u001b[0m         \u001b[0mh\u001b[0m\u001b[1;33m.\u001b[0m\u001b[0mappend\u001b[0m\u001b[1;33m(\u001b[0m\u001b[0mcoeff\u001b[0m\u001b[1;33m)\u001b[0m\u001b[1;33m\u001b[0m\u001b[1;33m\u001b[0m\u001b[0m\n",
      "\u001b[1;32mc:\\users\\sasha\\appdata\\local\\programs\\python\\python38\\lib\\site-packages\\sympy\\polys\\densearith.py\u001b[0m in \u001b[0;36mdmp_mul\u001b[1;34m(f, g, u, K)\u001b[0m\n\u001b[0;32m    826\u001b[0m \u001b[1;33m\u001b[0m\u001b[0m\n\u001b[0;32m    827\u001b[0m         \u001b[1;32mfor\u001b[0m \u001b[0mj\u001b[0m \u001b[1;32min\u001b[0m \u001b[0mrange\u001b[0m\u001b[1;33m(\u001b[0m\u001b[0mmax\u001b[0m\u001b[1;33m(\u001b[0m\u001b[1;36m0\u001b[0m\u001b[1;33m,\u001b[0m \u001b[0mi\u001b[0m \u001b[1;33m-\u001b[0m \u001b[0mdg\u001b[0m\u001b[1;33m)\u001b[0m\u001b[1;33m,\u001b[0m \u001b[0mmin\u001b[0m\u001b[1;33m(\u001b[0m\u001b[0mdf\u001b[0m\u001b[1;33m,\u001b[0m \u001b[0mi\u001b[0m\u001b[1;33m)\u001b[0m \u001b[1;33m+\u001b[0m \u001b[1;36m1\u001b[0m\u001b[1;33m)\u001b[0m\u001b[1;33m:\u001b[0m\u001b[1;33m\u001b[0m\u001b[1;33m\u001b[0m\u001b[0m\n\u001b[1;32m--> 828\u001b[1;33m             \u001b[0mcoeff\u001b[0m \u001b[1;33m=\u001b[0m \u001b[0mdmp_add\u001b[0m\u001b[1;33m(\u001b[0m\u001b[0mcoeff\u001b[0m\u001b[1;33m,\u001b[0m \u001b[0mdmp_mul\u001b[0m\u001b[1;33m(\u001b[0m\u001b[0mf\u001b[0m\u001b[1;33m[\u001b[0m\u001b[0mj\u001b[0m\u001b[1;33m]\u001b[0m\u001b[1;33m,\u001b[0m \u001b[0mg\u001b[0m\u001b[1;33m[\u001b[0m\u001b[0mi\u001b[0m \u001b[1;33m-\u001b[0m \u001b[0mj\u001b[0m\u001b[1;33m]\u001b[0m\u001b[1;33m,\u001b[0m \u001b[0mv\u001b[0m\u001b[1;33m,\u001b[0m \u001b[0mK\u001b[0m\u001b[1;33m)\u001b[0m\u001b[1;33m,\u001b[0m \u001b[0mv\u001b[0m\u001b[1;33m,\u001b[0m \u001b[0mK\u001b[0m\u001b[1;33m)\u001b[0m\u001b[1;33m\u001b[0m\u001b[1;33m\u001b[0m\u001b[0m\n\u001b[0m\u001b[0;32m    829\u001b[0m \u001b[1;33m\u001b[0m\u001b[0m\n\u001b[0;32m    830\u001b[0m         \u001b[0mh\u001b[0m\u001b[1;33m.\u001b[0m\u001b[0mappend\u001b[0m\u001b[1;33m(\u001b[0m\u001b[0mcoeff\u001b[0m\u001b[1;33m)\u001b[0m\u001b[1;33m\u001b[0m\u001b[1;33m\u001b[0m\u001b[0m\n",
      "\u001b[1;32mc:\\users\\sasha\\appdata\\local\\programs\\python\\python38\\lib\\site-packages\\sympy\\polys\\densearith.py\u001b[0m in \u001b[0;36mdmp_mul\u001b[1;34m(f, g, u, K)\u001b[0m\n\u001b[0;32m    826\u001b[0m \u001b[1;33m\u001b[0m\u001b[0m\n\u001b[0;32m    827\u001b[0m         \u001b[1;32mfor\u001b[0m \u001b[0mj\u001b[0m \u001b[1;32min\u001b[0m \u001b[0mrange\u001b[0m\u001b[1;33m(\u001b[0m\u001b[0mmax\u001b[0m\u001b[1;33m(\u001b[0m\u001b[1;36m0\u001b[0m\u001b[1;33m,\u001b[0m \u001b[0mi\u001b[0m \u001b[1;33m-\u001b[0m \u001b[0mdg\u001b[0m\u001b[1;33m)\u001b[0m\u001b[1;33m,\u001b[0m \u001b[0mmin\u001b[0m\u001b[1;33m(\u001b[0m\u001b[0mdf\u001b[0m\u001b[1;33m,\u001b[0m \u001b[0mi\u001b[0m\u001b[1;33m)\u001b[0m \u001b[1;33m+\u001b[0m \u001b[1;36m1\u001b[0m\u001b[1;33m)\u001b[0m\u001b[1;33m:\u001b[0m\u001b[1;33m\u001b[0m\u001b[1;33m\u001b[0m\u001b[0m\n\u001b[1;32m--> 828\u001b[1;33m             \u001b[0mcoeff\u001b[0m \u001b[1;33m=\u001b[0m \u001b[0mdmp_add\u001b[0m\u001b[1;33m(\u001b[0m\u001b[0mcoeff\u001b[0m\u001b[1;33m,\u001b[0m \u001b[0mdmp_mul\u001b[0m\u001b[1;33m(\u001b[0m\u001b[0mf\u001b[0m\u001b[1;33m[\u001b[0m\u001b[0mj\u001b[0m\u001b[1;33m]\u001b[0m\u001b[1;33m,\u001b[0m \u001b[0mg\u001b[0m\u001b[1;33m[\u001b[0m\u001b[0mi\u001b[0m \u001b[1;33m-\u001b[0m \u001b[0mj\u001b[0m\u001b[1;33m]\u001b[0m\u001b[1;33m,\u001b[0m \u001b[0mv\u001b[0m\u001b[1;33m,\u001b[0m \u001b[0mK\u001b[0m\u001b[1;33m)\u001b[0m\u001b[1;33m,\u001b[0m \u001b[0mv\u001b[0m\u001b[1;33m,\u001b[0m \u001b[0mK\u001b[0m\u001b[1;33m)\u001b[0m\u001b[1;33m\u001b[0m\u001b[1;33m\u001b[0m\u001b[0m\n\u001b[0m\u001b[0;32m    829\u001b[0m \u001b[1;33m\u001b[0m\u001b[0m\n\u001b[0;32m    830\u001b[0m         \u001b[0mh\u001b[0m\u001b[1;33m.\u001b[0m\u001b[0mappend\u001b[0m\u001b[1;33m(\u001b[0m\u001b[0mcoeff\u001b[0m\u001b[1;33m)\u001b[0m\u001b[1;33m\u001b[0m\u001b[1;33m\u001b[0m\u001b[0m\n",
      "\u001b[1;32mc:\\users\\sasha\\appdata\\local\\programs\\python\\python38\\lib\\site-packages\\sympy\\polys\\densearith.py\u001b[0m in \u001b[0;36mdmp_add\u001b[1;34m(f, g, u, K)\u001b[0m\n\u001b[0;32m    565\u001b[0m     \u001b[0mdf\u001b[0m \u001b[1;33m=\u001b[0m \u001b[0mdmp_degree\u001b[0m\u001b[1;33m(\u001b[0m\u001b[0mf\u001b[0m\u001b[1;33m,\u001b[0m \u001b[0mu\u001b[0m\u001b[1;33m)\u001b[0m\u001b[1;33m\u001b[0m\u001b[1;33m\u001b[0m\u001b[0m\n\u001b[0;32m    566\u001b[0m \u001b[1;33m\u001b[0m\u001b[0m\n\u001b[1;32m--> 567\u001b[1;33m     \u001b[1;32mif\u001b[0m \u001b[0mdf\u001b[0m \u001b[1;33m<\u001b[0m \u001b[1;36m0\u001b[0m\u001b[1;33m:\u001b[0m\u001b[1;33m\u001b[0m\u001b[1;33m\u001b[0m\u001b[0m\n\u001b[0m\u001b[0;32m    568\u001b[0m         \u001b[1;32mreturn\u001b[0m \u001b[0mg\u001b[0m\u001b[1;33m\u001b[0m\u001b[1;33m\u001b[0m\u001b[0m\n\u001b[0;32m    569\u001b[0m \u001b[1;33m\u001b[0m\u001b[0m\n",
      "\u001b[1;32mc:\\users\\sasha\\appdata\\local\\programs\\python\\python38\\lib\\site-packages\\sympy\\core\\decorators.py\u001b[0m in \u001b[0;36m_func\u001b[1;34m(self, other)\u001b[0m\n\u001b[0;32m    260\u001b[0m             \u001b[1;32mif\u001b[0m \u001b[1;32mnot\u001b[0m \u001b[0mhasattr\u001b[0m\u001b[1;33m(\u001b[0m\u001b[0mother\u001b[0m\u001b[1;33m,\u001b[0m \u001b[1;34m'_op_priority'\u001b[0m\u001b[1;33m)\u001b[0m\u001b[1;33m:\u001b[0m\u001b[1;33m\u001b[0m\u001b[1;33m\u001b[0m\u001b[0m\n\u001b[0;32m    261\u001b[0m                 \u001b[1;32mtry\u001b[0m\u001b[1;33m:\u001b[0m\u001b[1;33m\u001b[0m\u001b[1;33m\u001b[0m\u001b[0m\n\u001b[1;32m--> 262\u001b[1;33m                     \u001b[0mother\u001b[0m \u001b[1;33m=\u001b[0m \u001b[0msympify\u001b[0m\u001b[1;33m(\u001b[0m\u001b[0mother\u001b[0m\u001b[1;33m,\u001b[0m \u001b[0mstrict\u001b[0m\u001b[1;33m=\u001b[0m\u001b[1;32mTrue\u001b[0m\u001b[1;33m)\u001b[0m\u001b[1;33m\u001b[0m\u001b[1;33m\u001b[0m\u001b[0m\n\u001b[0m\u001b[0;32m    263\u001b[0m                 \u001b[1;32mexcept\u001b[0m \u001b[0mSympifyError\u001b[0m\u001b[1;33m:\u001b[0m\u001b[1;33m\u001b[0m\u001b[1;33m\u001b[0m\u001b[0m\n\u001b[0;32m    264\u001b[0m                     \u001b[1;32mreturn\u001b[0m \u001b[0mretval\u001b[0m\u001b[1;33m\u001b[0m\u001b[1;33m\u001b[0m\u001b[0m\n",
      "\u001b[1;32mc:\\users\\sasha\\appdata\\local\\programs\\python\\python38\\lib\\site-packages\\sympy\\core\\sympify.py\u001b[0m in \u001b[0;36msympify\u001b[1;34m(a, locals, convert_xor, strict, rational, evaluate)\u001b[0m\n\u001b[0;32m    360\u001b[0m     \u001b[0mconv\u001b[0m \u001b[1;33m=\u001b[0m \u001b[0mconverter\u001b[0m\u001b[1;33m.\u001b[0m\u001b[0mget\u001b[0m\u001b[1;33m(\u001b[0m\u001b[0mcls\u001b[0m\u001b[1;33m,\u001b[0m \u001b[1;32mNone\u001b[0m\u001b[1;33m)\u001b[0m\u001b[1;33m\u001b[0m\u001b[1;33m\u001b[0m\u001b[0m\n\u001b[0;32m    361\u001b[0m     \u001b[1;32mif\u001b[0m \u001b[0mconv\u001b[0m \u001b[1;32mis\u001b[0m \u001b[1;32mnot\u001b[0m \u001b[1;32mNone\u001b[0m\u001b[1;33m:\u001b[0m\u001b[1;33m\u001b[0m\u001b[1;33m\u001b[0m\u001b[0m\n\u001b[1;32m--> 362\u001b[1;33m         \u001b[1;32mreturn\u001b[0m \u001b[0mconv\u001b[0m\u001b[1;33m(\u001b[0m\u001b[0ma\u001b[0m\u001b[1;33m)\u001b[0m\u001b[1;33m\u001b[0m\u001b[1;33m\u001b[0m\u001b[0m\n\u001b[0m\u001b[0;32m    363\u001b[0m \u001b[1;33m\u001b[0m\u001b[0m\n\u001b[0;32m    364\u001b[0m     \u001b[1;32mfor\u001b[0m \u001b[0msuperclass\u001b[0m \u001b[1;32min\u001b[0m \u001b[0mgetmro\u001b[0m\u001b[1;33m(\u001b[0m\u001b[0mcls\u001b[0m\u001b[1;33m)\u001b[0m\u001b[1;33m:\u001b[0m\u001b[1;33m\u001b[0m\u001b[1;33m\u001b[0m\u001b[0m\n",
      "\u001b[1;32mc:\\users\\sasha\\appdata\\local\\programs\\python\\python38\\lib\\site-packages\\sympy\\core\\cache.py\u001b[0m in \u001b[0;36mwrapper\u001b[1;34m(*args, **kwargs)\u001b[0m\n\u001b[0;32m     70\u001b[0m         \u001b[1;32mdef\u001b[0m \u001b[0mwrapper\u001b[0m\u001b[1;33m(\u001b[0m\u001b[1;33m*\u001b[0m\u001b[0margs\u001b[0m\u001b[1;33m,\u001b[0m \u001b[1;33m**\u001b[0m\u001b[0mkwargs\u001b[0m\u001b[1;33m)\u001b[0m\u001b[1;33m:\u001b[0m\u001b[1;33m\u001b[0m\u001b[1;33m\u001b[0m\u001b[0m\n\u001b[0;32m     71\u001b[0m             \u001b[1;32mtry\u001b[0m\u001b[1;33m:\u001b[0m\u001b[1;33m\u001b[0m\u001b[1;33m\u001b[0m\u001b[0m\n\u001b[1;32m---> 72\u001b[1;33m                 \u001b[0mretval\u001b[0m \u001b[1;33m=\u001b[0m \u001b[0mcfunc\u001b[0m\u001b[1;33m(\u001b[0m\u001b[1;33m*\u001b[0m\u001b[0margs\u001b[0m\u001b[1;33m,\u001b[0m \u001b[1;33m**\u001b[0m\u001b[0mkwargs\u001b[0m\u001b[1;33m)\u001b[0m\u001b[1;33m\u001b[0m\u001b[1;33m\u001b[0m\u001b[0m\n\u001b[0m\u001b[0;32m     73\u001b[0m             \u001b[1;32mexcept\u001b[0m \u001b[0mTypeError\u001b[0m\u001b[1;33m:\u001b[0m\u001b[1;33m\u001b[0m\u001b[1;33m\u001b[0m\u001b[0m\n\u001b[0;32m     74\u001b[0m                 \u001b[0mretval\u001b[0m \u001b[1;33m=\u001b[0m \u001b[0mfunc\u001b[0m\u001b[1;33m(\u001b[0m\u001b[1;33m*\u001b[0m\u001b[0margs\u001b[0m\u001b[1;33m,\u001b[0m \u001b[1;33m**\u001b[0m\u001b[0mkwargs\u001b[0m\u001b[1;33m)\u001b[0m\u001b[1;33m\u001b[0m\u001b[1;33m\u001b[0m\u001b[0m\n",
      "\u001b[1;31mKeyboardInterrupt\u001b[0m: "
     ]
    }
   ],
   "source": [
    "#try to solve with linsolve\n",
    "lin_mat_sol = sym.solve_linear_system(lin_mat.col_insert(6, sym.Matrix([0]*6)).subs({w: lin_mat_det0_sol[2]}), mx1, my1, mz1, mx2, my2, mz2, \n",
    "                        simplify=False, manual=True, implicit=False, \n",
    "                        warn=True, check=False, exclude=[H, tet1, tet2, A, M, w])\n",
    "\n",
    "lin_mat_sol"
   ]
  },
  {
   "cell_type": "code",
   "execution_count": 7,
   "id": "visible-primary",
   "metadata": {},
   "outputs": [
    {
     "data": {
      "text/latex": [
       "$\\displaystyle A M m_{y2} \\sin{\\left(\\theta_{1} \\right)} + i m_{x1} \\sqrt{2 A^{2} M^{2} \\cos^{2}{\\left(\\theta_{1} \\right)} - A M^{2} \\cos^{2}{\\left(\\theta_{1} \\right)} + 2 A M^{2} + H^{2} - M^{2} \\cos^{2}{\\left(\\theta_{1} \\right)} + M^{2} + M \\sqrt{2 A + 1} \\sqrt{2 A^{3} M^{2} \\sin^{4}{\\left(\\theta_{1} \\right)} - 4 A^{3} M^{2} \\sin^{2}{\\left(\\theta_{1} \\right)} + 2 A^{3} M^{2} + A^{2} M^{2} \\sin^{4}{\\left(\\theta_{1} \\right)} - 2 A^{2} M^{2} \\sin^{2}{\\left(\\theta_{1} \\right)} + A^{2} M^{2} + 4 H^{2} \\sin^{2}{\\left(\\theta_{1} \\right)}}} + m_{y1} \\left(A M \\sin{\\left(\\theta_{1} \\right)} + H + M \\sin{\\left(\\theta_{1} \\right)}\\right)$"
      ],
      "text/plain": [
       "A*M*m_y2*sin(theta1) + I*m_x1*sqrt(2*A**2*M**2*cos(theta1)**2 - A*M**2*cos(theta1)**2 + 2*A*M**2 + H**2 - M**2*cos(theta1)**2 + M**2 + M*sqrt(2*A + 1)*sqrt(2*A**3*M**2*sin(theta1)**4 - 4*A**3*M**2*sin(theta1)**2 + 2*A**3*M**2 + A**2*M**2*sin(theta1)**4 - 2*A**2*M**2*sin(theta1)**2 + A**2*M**2 + 4*H**2*sin(theta1)**2)) + m_y1*(A*M*sin(theta1) + H + M*sin(theta1))"
      ]
     },
     "metadata": {},
     "output_type": "display_data"
    },
    {
     "data": {
      "text/latex": [
       "$\\displaystyle - A M m_{x2} \\sin{\\left(\\theta_{1} \\right)} + A M m_{z2} \\cos{\\left(\\theta_{1} \\right)} - M m_{z1} \\left(A + 1\\right) \\cos{\\left(\\theta_{1} \\right)} - m_{x1} \\left(A M \\sin{\\left(\\theta_{1} \\right)} + H + M \\sin{\\left(\\theta_{1} \\right)}\\right) + i m_{y1} \\sqrt{2 A^{2} M^{2} \\cos^{2}{\\left(\\theta_{1} \\right)} - A M^{2} \\cos^{2}{\\left(\\theta_{1} \\right)} + 2 A M^{2} + H^{2} - M^{2} \\cos^{2}{\\left(\\theta_{1} \\right)} + M^{2} + M \\sqrt{2 A + 1} \\sqrt{2 A^{3} M^{2} \\sin^{4}{\\left(\\theta_{1} \\right)} - 4 A^{3} M^{2} \\sin^{2}{\\left(\\theta_{1} \\right)} + 2 A^{3} M^{2} + A^{2} M^{2} \\sin^{4}{\\left(\\theta_{1} \\right)} - 2 A^{2} M^{2} \\sin^{2}{\\left(\\theta_{1} \\right)} + A^{2} M^{2} + 4 H^{2} \\sin^{2}{\\left(\\theta_{1} \\right)}}}$"
      ],
      "text/plain": [
       "-A*M*m_x2*sin(theta1) + A*M*m_z2*cos(theta1) - M*m_z1*(A + 1)*cos(theta1) - m_x1*(A*M*sin(theta1) + H + M*sin(theta1)) + I*m_y1*sqrt(2*A**2*M**2*cos(theta1)**2 - A*M**2*cos(theta1)**2 + 2*A*M**2 + H**2 - M**2*cos(theta1)**2 + M**2 + M*sqrt(2*A + 1)*sqrt(2*A**3*M**2*sin(theta1)**4 - 4*A**3*M**2*sin(theta1)**2 + 2*A**3*M**2 + A**2*M**2*sin(theta1)**4 - 2*A**2*M**2*sin(theta1)**2 + A**2*M**2 + 4*H**2*sin(theta1)**2))"
      ]
     },
     "metadata": {},
     "output_type": "display_data"
    },
    {
     "data": {
      "text/latex": [
       "$\\displaystyle A M m_{y1} \\cos{\\left(\\theta_{1} \\right)} - A M m_{y2} \\cos{\\left(\\theta_{1} \\right)} + i m_{z1} \\sqrt{2 A^{2} M^{2} \\cos^{2}{\\left(\\theta_{1} \\right)} - A M^{2} \\cos^{2}{\\left(\\theta_{1} \\right)} + 2 A M^{2} + H^{2} - M^{2} \\cos^{2}{\\left(\\theta_{1} \\right)} + M^{2} + M \\sqrt{2 A + 1} \\sqrt{2 A^{3} M^{2} \\sin^{4}{\\left(\\theta_{1} \\right)} - 4 A^{3} M^{2} \\sin^{2}{\\left(\\theta_{1} \\right)} + 2 A^{3} M^{2} + A^{2} M^{2} \\sin^{4}{\\left(\\theta_{1} \\right)} - 2 A^{2} M^{2} \\sin^{2}{\\left(\\theta_{1} \\right)} + A^{2} M^{2} + 4 H^{2} \\sin^{2}{\\left(\\theta_{1} \\right)}}}$"
      ],
      "text/plain": [
       "A*M*m_y1*cos(theta1) - A*M*m_y2*cos(theta1) + I*m_z1*sqrt(2*A**2*M**2*cos(theta1)**2 - A*M**2*cos(theta1)**2 + 2*A*M**2 + H**2 - M**2*cos(theta1)**2 + M**2 + M*sqrt(2*A + 1)*sqrt(2*A**3*M**2*sin(theta1)**4 - 4*A**3*M**2*sin(theta1)**2 + 2*A**3*M**2 + A**2*M**2*sin(theta1)**4 - 2*A**2*M**2*sin(theta1)**2 + A**2*M**2 + 4*H**2*sin(theta1)**2))"
      ]
     },
     "metadata": {},
     "output_type": "display_data"
    },
    {
     "data": {
      "text/latex": [
       "$\\displaystyle - A M m_{y1} \\sin{\\left(\\theta_{1} \\right)} + i m_{x2} \\sqrt{2 A^{2} M^{2} \\cos^{2}{\\left(\\theta_{1} \\right)} - A M^{2} \\cos^{2}{\\left(\\theta_{1} \\right)} + 2 A M^{2} + H^{2} - M^{2} \\cos^{2}{\\left(\\theta_{1} \\right)} + M^{2} + M \\sqrt{2 A + 1} \\sqrt{2 A^{3} M^{2} \\sin^{4}{\\left(\\theta_{1} \\right)} - 4 A^{3} M^{2} \\sin^{2}{\\left(\\theta_{1} \\right)} + 2 A^{3} M^{2} + A^{2} M^{2} \\sin^{4}{\\left(\\theta_{1} \\right)} - 2 A^{2} M^{2} \\sin^{2}{\\left(\\theta_{1} \\right)} + A^{2} M^{2} + 4 H^{2} \\sin^{2}{\\left(\\theta_{1} \\right)}}} - m_{y2} \\left(A M \\sin{\\left(\\theta_{1} \\right)} - H + M \\sin{\\left(\\theta_{1} \\right)}\\right)$"
      ],
      "text/plain": [
       "-A*M*m_y1*sin(theta1) + I*m_x2*sqrt(2*A**2*M**2*cos(theta1)**2 - A*M**2*cos(theta1)**2 + 2*A*M**2 + H**2 - M**2*cos(theta1)**2 + M**2 + M*sqrt(2*A + 1)*sqrt(2*A**3*M**2*sin(theta1)**4 - 4*A**3*M**2*sin(theta1)**2 + 2*A**3*M**2 + A**2*M**2*sin(theta1)**4 - 2*A**2*M**2*sin(theta1)**2 + A**2*M**2 + 4*H**2*sin(theta1)**2)) - m_y2*(A*M*sin(theta1) - H + M*sin(theta1))"
      ]
     },
     "metadata": {},
     "output_type": "display_data"
    },
    {
     "data": {
      "text/latex": [
       "$\\displaystyle A M m_{x1} \\sin{\\left(\\theta_{1} \\right)} + A M m_{z1} \\cos{\\left(\\theta_{1} \\right)} - M m_{z2} \\left(A + 1\\right) \\cos{\\left(\\theta_{1} \\right)} + m_{x2} \\left(A M \\sin{\\left(\\theta_{1} \\right)} - H + M \\sin{\\left(\\theta_{1} \\right)}\\right) + i m_{y2} \\sqrt{2 A^{2} M^{2} \\cos^{2}{\\left(\\theta_{1} \\right)} - A M^{2} \\cos^{2}{\\left(\\theta_{1} \\right)} + 2 A M^{2} + H^{2} - M^{2} \\cos^{2}{\\left(\\theta_{1} \\right)} + M^{2} + M \\sqrt{2 A + 1} \\sqrt{2 A^{3} M^{2} \\sin^{4}{\\left(\\theta_{1} \\right)} - 4 A^{3} M^{2} \\sin^{2}{\\left(\\theta_{1} \\right)} + 2 A^{3} M^{2} + A^{2} M^{2} \\sin^{4}{\\left(\\theta_{1} \\right)} - 2 A^{2} M^{2} \\sin^{2}{\\left(\\theta_{1} \\right)} + A^{2} M^{2} + 4 H^{2} \\sin^{2}{\\left(\\theta_{1} \\right)}}}$"
      ],
      "text/plain": [
       "A*M*m_x1*sin(theta1) + A*M*m_z1*cos(theta1) - M*m_z2*(A + 1)*cos(theta1) + m_x2*(A*M*sin(theta1) - H + M*sin(theta1)) + I*m_y2*sqrt(2*A**2*M**2*cos(theta1)**2 - A*M**2*cos(theta1)**2 + 2*A*M**2 + H**2 - M**2*cos(theta1)**2 + M**2 + M*sqrt(2*A + 1)*sqrt(2*A**3*M**2*sin(theta1)**4 - 4*A**3*M**2*sin(theta1)**2 + 2*A**3*M**2 + A**2*M**2*sin(theta1)**4 - 2*A**2*M**2*sin(theta1)**2 + A**2*M**2 + 4*H**2*sin(theta1)**2))"
      ]
     },
     "metadata": {},
     "output_type": "display_data"
    },
    {
     "data": {
      "text/latex": [
       "$\\displaystyle - A M m_{y1} \\cos{\\left(\\theta_{1} \\right)} + A M m_{y2} \\cos{\\left(\\theta_{1} \\right)} + i m_{z2} \\sqrt{2 A^{2} M^{2} \\cos^{2}{\\left(\\theta_{1} \\right)} - A M^{2} \\cos^{2}{\\left(\\theta_{1} \\right)} + 2 A M^{2} + H^{2} - M^{2} \\cos^{2}{\\left(\\theta_{1} \\right)} + M^{2} + M \\sqrt{2 A + 1} \\sqrt{2 A^{3} M^{2} \\sin^{4}{\\left(\\theta_{1} \\right)} - 4 A^{3} M^{2} \\sin^{2}{\\left(\\theta_{1} \\right)} + 2 A^{3} M^{2} + A^{2} M^{2} \\sin^{4}{\\left(\\theta_{1} \\right)} - 2 A^{2} M^{2} \\sin^{2}{\\left(\\theta_{1} \\right)} + A^{2} M^{2} + 4 H^{2} \\sin^{2}{\\left(\\theta_{1} \\right)}}}$"
      ],
      "text/plain": [
       "-A*M*m_y1*cos(theta1) + A*M*m_y2*cos(theta1) + I*m_z2*sqrt(2*A**2*M**2*cos(theta1)**2 - A*M**2*cos(theta1)**2 + 2*A*M**2 + H**2 - M**2*cos(theta1)**2 + M**2 + M*sqrt(2*A + 1)*sqrt(2*A**3*M**2*sin(theta1)**4 - 4*A**3*M**2*sin(theta1)**2 + 2*A**3*M**2 + A**2*M**2*sin(theta1)**4 - 2*A**2*M**2*sin(theta1)**2 + A**2*M**2 + 4*H**2*sin(theta1)**2))"
      ]
     },
     "metadata": {},
     "output_type": "display_data"
    }
   ],
   "source": [
    "#prepare system for solve\n",
    "system = []\n",
    "\n",
    "to_comb_tmp = [mx1, my1, mz1, mx2, my2, mz2]\n",
    "for i in range(6):\n",
    "    cur_eq = sym.Rational(0)\n",
    "    for j in range(6):\n",
    "        cur_eq += lin_mat.row(i)[j] * to_comb_tmp[j]\n",
    "    system.append(simplify(cur_eq.subs({w: lin_mat_det0_sol[4]})))\n",
    "\n",
    "for i in range(6):\n",
    "    display(system[i])\n",
    "    \n"
   ]
  },
  {
   "cell_type": "code",
   "execution_count": 23,
   "id": "suited-repair",
   "metadata": {},
   "outputs": [
    {
     "data": {
      "text/plain": [
       "[]"
      ]
     },
     "execution_count": 23,
     "metadata": {},
     "output_type": "execute_result"
    }
   ],
   "source": [
    "#try to solve with solve\n",
    "#replace first argument with system\n",
    "lin_mat_sol2 = sym.solve(eq_mat_D.subs({w: lin_mat_det0_sol[3]}), mx1, my1, mz1, mx2, my2, mz2,\n",
    "                        simplify=False, manual=True, implicit=True, \n",
    "                        warn=True, check=True)\n",
    "\n",
    "lin_mat_sol2"
   ]
  },
  {
   "cell_type": "code",
   "execution_count": 1,
   "id": "seeing-worse",
   "metadata": {},
   "outputs": [
    {
     "ename": "NameError",
     "evalue": "name 't' is not defined",
     "output_type": "error",
     "traceback": [
      "\u001b[1;31m---------------------------------------------------------------------------\u001b[0m",
      "\u001b[1;31mNameError\u001b[0m                                 Traceback (most recent call last)",
      "\u001b[1;32m<ipython-input-1-a462c763ea02>\u001b[0m in \u001b[0;36m<module>\u001b[1;34m\u001b[0m\n\u001b[0;32m      6\u001b[0m \u001b[0mM_num\u001b[0m \u001b[1;33m=\u001b[0m \u001b[1;36m1042e3\u001b[0m\u001b[1;33m\u001b[0m\u001b[1;33m\u001b[0m\u001b[0m\n\u001b[0;32m      7\u001b[0m \u001b[0mH_num\u001b[0m \u001b[1;33m=\u001b[0m \u001b[1;36m110e-3\u001b[0m\u001b[1;33m/\u001b[0m\u001b[0mmu0_num\u001b[0m\u001b[1;33m\u001b[0m\u001b[1;33m\u001b[0m\u001b[0m\n\u001b[1;32m----> 8\u001b[1;33m \u001b[0mA_num\u001b[0m \u001b[1;33m=\u001b[0m \u001b[0mJ_num\u001b[0m\u001b[1;33m/\u001b[0m\u001b[1;33m(\u001b[0m\u001b[0mmu0_num\u001b[0m\u001b[1;33m*\u001b[0m\u001b[0mt\u001b[0m\u001b[1;33m*\u001b[0m\u001b[1;33m(\u001b[0m\u001b[0mM_num\u001b[0m\u001b[1;33m**\u001b[0m\u001b[1;36m2\u001b[0m\u001b[1;33m)\u001b[0m\u001b[1;33m)\u001b[0m\u001b[1;33m\u001b[0m\u001b[1;33m\u001b[0m\u001b[0m\n\u001b[0m\u001b[0;32m      9\u001b[0m \u001b[0mcos_tet_num\u001b[0m \u001b[1;33m=\u001b[0m \u001b[0mmu0_num\u001b[0m\u001b[1;33m*\u001b[0m\u001b[0mt_num\u001b[0m\u001b[1;33m*\u001b[0m\u001b[0mH_num\u001b[0m\u001b[1;33m*\u001b[0m\u001b[0mM_num\u001b[0m\u001b[1;33m/\u001b[0m\u001b[1;33m(\u001b[0m\u001b[1;36m2\u001b[0m\u001b[1;33m*\u001b[0m\u001b[0mJ_num\u001b[0m\u001b[1;33m+\u001b[0m\u001b[0mmu0_num\u001b[0m\u001b[1;33m*\u001b[0m\u001b[0mt_num\u001b[0m\u001b[1;33m*\u001b[0m\u001b[1;33m(\u001b[0m\u001b[0mM_num\u001b[0m\u001b[1;33m**\u001b[0m\u001b[1;36m2\u001b[0m\u001b[1;33m)\u001b[0m\u001b[1;33m)\u001b[0m\u001b[1;33m\u001b[0m\u001b[1;33m\u001b[0m\u001b[0m\n\u001b[0;32m     10\u001b[0m \u001b[1;33m\u001b[0m\u001b[0m\n",
      "\u001b[1;31mNameError\u001b[0m: name 't' is not defined"
     ]
    }
   ],
   "source": [
    "#numerical frequency calculation\n",
    "mu0_num = 1.2566370621219e-6\n",
    "g_num = 1.76e11\n",
    "J_num = 2.7e-3\n",
    "t_num = 5e-9\n",
    "M_num = 1042e3\n",
    "H_num = 110e-3/mu0_num\n",
    "A_num = J_num/(mu0_num*t*(M_num**2))\n",
    "cos_tet_num = mu0_num*t_num*H_num*M_num/(2*J_num+mu0_num*t_num*(M_num**2))\n",
    "\n",
    "for cur_sol in lin_mat_det0_sol:\n",
    "    freq_eval = cur_sol.subs({\n",
    "        mu0: mu0_num,\n",
    "        g: g_num,\n",
    "        J: J_num,\n",
    "        t: t_num,\n",
    "        M: M_num,\n",
    "        H: H_num,\n",
    "        A: A_num,\n",
    "        sym.sin(tet1)**2: 1-sym.cos(tet1)**2\n",
    "    }).subs({\n",
    "        sym.cos(tet1): cos_tet_num\n",
    "    })\n",
    "    display((freq_eval.evalf()/(2*np.pi))*1e-9)\n",
    "\n",
    "display(\"default freq:\")\n",
    "display((g_num*mu0_num*np.sqrt(H_num*(H_num+M_num))/(2*np.pi))*1e-9)"
   ]
  },
  {
   "cell_type": "code",
   "execution_count": 55,
   "id": "satisfied-bidder",
   "metadata": {},
   "outputs": [
    {
     "data": {
      "text/plain": [
       "array([ 3.14159265e+00,  1.57079633e+00, -5.94459364e-15, -4.01527239e-16,\n",
       "       -1.57079633e+00, -3.14159265e+00])"
      ]
     },
     "execution_count": 55,
     "metadata": {},
     "output_type": "execute_result"
    }
   ],
   "source": [
    "lin_mat_eval = lin_mat.subs({\n",
    "   w: lin_mat_det0_sol[2]\n",
    "}).subs({\n",
    "    mu0: mu0_num,\n",
    "    g: g_num,\n",
    "    J: J_num,\n",
    "    t: t_num,\n",
    "    M: M_num,\n",
    "    H: H_num,\n",
    "    A: A_num,\n",
    "    sym.cos(tet1): cos_tet_num,\n",
    "    sym.sin(tet1): np.sqrt(1-cos_tet_num**2.0)\n",
    "}).evalf()\n",
    "\n",
    "lin_mat_eval = np.array((lin_mat_eval)).astype(np.complex)\n",
    "#np.linalg.solve(lin_mat_eval,np.array([0.0]*6))\n",
    "svd_res = np.linalg.svd(lin_mat_eval)\n",
    "np.angle(svd_res[2][-1])"
   ]
  },
  {
   "cell_type": "code",
   "execution_count": 47,
   "id": "female-neighbor",
   "metadata": {},
   "outputs": [
    {
     "data": {
      "text/plain": [
       "array([7.63794062e+14, 5.15072263e+15, 4.62999811e+00, 7.63794062e+14,\n",
       "       5.15072263e+15, 1.00000000e+00])"
      ]
     },
     "execution_count": 47,
     "metadata": {},
     "output_type": "execute_result"
    }
   ],
   "source": [
    "np.abs(eig_vec[4]/eig_vec[4][5])"
   ]
  }
 ],
 "metadata": {
  "kernelspec": {
   "display_name": "Python 3",
   "language": "python",
   "name": "python3"
  },
  "language_info": {
   "codemirror_mode": {
    "name": "ipython",
    "version": 3
   },
   "file_extension": ".py",
   "mimetype": "text/x-python",
   "name": "python",
   "nbconvert_exporter": "python",
   "pygments_lexer": "ipython3",
   "version": "3.8.5"
  }
 },
 "nbformat": 4,
 "nbformat_minor": 5
}
