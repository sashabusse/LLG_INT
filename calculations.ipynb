{
 "cells": [
  {
   "cell_type": "code",
   "execution_count": 7,
   "id": "drawn-director",
   "metadata": {},
   "outputs": [
    {
     "name": "stdout",
     "output_type": "stream",
     "text": [
      "The jupyter_spaces extension is already loaded. To reload it, use:\n",
      "  %reload_ext jupyter_spaces\n"
     ]
    }
   ],
   "source": [
    "%load_ext jupyter_spaces\n",
    "from IPython.display import display"
   ]
  },
  {
   "cell_type": "code",
   "execution_count": 21,
   "id": "played-monkey",
   "metadata": {},
   "outputs": [
    {
     "data": {
      "text/latex": [
       "$\\displaystyle \\left[\\begin{matrix}- A M m_{z2} \\sin{\\left(\\theta_{1} \\right)} + m_{z1} \\left(- A M \\sin{\\left(\\theta_{1} \\right)} - M \\sin{\\left(\\theta_{1} \\right)}\\right) + \\frac{i m_{x1} w}{\\gamma \\mu_{0}}\\\\A M m_{z2} \\cos{\\left(\\theta_{1} \\right)} + m_{z1} \\left(- A M \\cos{\\left(\\theta_{1} \\right)} + H + M \\cos{\\left(\\theta_{1} \\right)}\\right) + \\frac{i m_{y1} w}{\\gamma \\mu_{0}}\\\\A M m_{x1} \\sin{\\left(\\theta_{1} \\right)} + A M m_{x2} \\sin{\\left(\\theta_{1} \\right)} - A M m_{y2} \\cos{\\left(\\theta_{1} \\right)} + m_{y1} \\left(A M \\cos{\\left(\\theta_{1} \\right)} - H\\right) + \\frac{i m_{z1} w}{\\gamma \\mu_{0}}\\\\A M m_{z1} \\sin{\\left(\\theta_{1} \\right)} + m_{z2} \\left(A M \\sin{\\left(\\theta_{1} \\right)} + M \\sin{\\left(\\theta_{1} \\right)}\\right) + \\frac{i m_{x2} w}{\\gamma \\mu_{0}}\\\\A M m_{z1} \\cos{\\left(\\theta_{1} \\right)} + m_{z2} \\left(- A M \\cos{\\left(\\theta_{1} \\right)} + H + M \\cos{\\left(\\theta_{1} \\right)}\\right) + \\frac{i m_{y2} w}{\\gamma \\mu_{0}}\\\\- A M m_{x1} \\sin{\\left(\\theta_{1} \\right)} - A M m_{x2} \\sin{\\left(\\theta_{1} \\right)} - A M m_{y1} \\cos{\\left(\\theta_{1} \\right)} + m_{y2} \\left(A M \\cos{\\left(\\theta_{1} \\right)} - H\\right) + \\frac{i m_{z2} w}{\\gamma \\mu_{0}}\\end{matrix}\\right]$"
      ],
      "text/plain": [
       "Matrix([\n",
       "[                                 -A*M*m_z2*sin(theta1) + m_z1*(-A*M*sin(theta1) - M*sin(theta1)) + I*m_x1*w/(gamma*mu0)],\n",
       "[                              A*M*m_z2*cos(theta1) + m_z1*(-A*M*cos(theta1) + H + M*cos(theta1)) + I*m_y1*w/(gamma*mu0)],\n",
       "[ A*M*m_x1*sin(theta1) + A*M*m_x2*sin(theta1) - A*M*m_y2*cos(theta1) + m_y1*(A*M*cos(theta1) - H) + I*m_z1*w/(gamma*mu0)],\n",
       "[                                   A*M*m_z1*sin(theta1) + m_z2*(A*M*sin(theta1) + M*sin(theta1)) + I*m_x2*w/(gamma*mu0)],\n",
       "[                              A*M*m_z1*cos(theta1) + m_z2*(-A*M*cos(theta1) + H + M*cos(theta1)) + I*m_y2*w/(gamma*mu0)],\n",
       "[-A*M*m_x1*sin(theta1) - A*M*m_x2*sin(theta1) - A*M*m_y1*cos(theta1) + m_y2*(A*M*cos(theta1) - H) + I*m_z2*w/(gamma*mu0)]])"
      ]
     },
     "execution_count": 21,
     "metadata": {},
     "output_type": "execute_result"
    }
   ],
   "source": [
    "import sympy as sym\n",
    "from sympy import symbols, simplify\n",
    "from sympy.vector import CoordSys3D, matrix_to_vector\n",
    "\n",
    "S = CoordSys3D('S')\n",
    "\n",
    "M, tet1, tet2 = symbols(\"M theta1 theta2\", real=True)\n",
    "mx1, my1, mz1 = symbols(\"m_x1 m_y1 m_z1\", real=False)\n",
    "mx2, my2, mz2 = symbols(\"m_x2 m_y2 m_z2\", real=False)\n",
    "J, mu0, g, t, A = symbols(\"J mu0 gamma t A\", real=True, positive=True)\n",
    "H = symbols(\"H\", real=True)\n",
    "\n",
    "m1 = mx1*S.i + my1*S.j + mz1*S.k\n",
    "m2 = mx2*S.i + my2*S.j + mz2*S.k\n",
    "M1_S = M*sym.cos(tet1)*S.i + M*sym.sin(tet1)*S.j\n",
    "M2_S = M*sym.cos(tet1)*S.i + M*sym.sin(-tet1)*S.j\n",
    "\n",
    "M1 = M1_S + m1\n",
    "M2 = M2_S + m2\n",
    "\n",
    "HZ = H*S.i\n",
    "\n",
    "\n",
    "HD1_S = 0*S.k\n",
    "HD1 = -mz1*S.k\n",
    "HD2_S = 0*S.k\n",
    "HD2 = -mz2*S.k\n",
    "\n",
    "\n",
    "Hiec1_S = A*(M1_S*(M1_S.dot(M2_S)/(M**2)) - M2_S)\n",
    "Hiec1 = A*(M1*(M1.dot(M2)/(M**2)) - M2)\n",
    "Hiec2_S = A*(M2_S*(M2_S.dot(M1_S)/(M**2)) - M1_S)\n",
    "Hiec2 = A*(M2*(M2.dot(M1)/(M**2)) - M1)\n",
    "\n",
    "\n",
    "#Hiec1_S = A*(-M2_S)\n",
    "#Hiec1_D = A*(-m2)\n",
    "#Hiec1 = Hiec1_S+Hiec1_D\n",
    "\n",
    "#Hiec2_S = A*(-M1_S)\n",
    "#Hiec2_D = A*(-m1)\n",
    "#Hiec2 = Hiec2_S+Hiec2_D\n",
    "\n",
    "Heff1_S = HZ + HD1_S + Hiec1_S\n",
    "Heff1 = HZ + HD1 + Hiec1\n",
    "\n",
    "Heff2_S = HZ + HD2_S + Hiec2_S\n",
    "Heff2 = HZ + HD2 + Hiec2\n",
    "\n",
    "w = symbols(\"w\", real=True)\n",
    "jw = sym.I*w\n",
    "\n",
    "dm1dt = jw*m1\n",
    "dm2dt = jw*m2\n",
    "\n",
    "eq1_S = g*mu0*MS1.cross(Heff1_S)\n",
    "eq1 = dm1dt + g*mu0*(M1.cross(Heff1))\n",
    "eq2_S = g*mu0*MS2.cross(Heff2_S)\n",
    "eq2 = dm2dt + g*mu0*(M2.cross(Heff2))\n",
    "\n",
    "eq_mat_S = eq2_S.to_matrix(S).row_insert(0, eq1_S.to_matrix(S))\n",
    "eq_mat = eq2.to_matrix(S).row_insert(0, eq1.to_matrix(S))\n",
    "#sol = sym.solve(M, m2.to_matrix(S).row_insert(0, m1.to_matrix(S)))\n",
    "\n",
    "eq_mat_D = ((eq_mat-eq_mat_S)/(g*mu0)).expand()\n",
    "\n",
    "to_comb_tmp = [mx1, my1, mz1, mx2, my2, mz2]\n",
    "for i in range(6):\n",
    "    for j in range(6):\n",
    "        eq_mat_D = eq_mat_D.subs({to_comb_tmp[i]*to_comb_tmp[j]: 0})\n",
    "        \n",
    "eq_mat_D = sym.Matrix(eq_mat_D)\n",
    "for i in range(6):\n",
    "    eq_mat_D[i] = eq_mat_D[i].collect((mx1, my1, mz1, mx2, my2, mz2))\n",
    "\n",
    "eq_mat_D"
   ]
  },
  {
   "cell_type": "code",
   "execution_count": 22,
   "id": "protected-theory",
   "metadata": {},
   "outputs": [
    {
     "name": "stderr",
     "output_type": "stream",
     "text": [
      "c:\\users\\sasha\\appdata\\local\\programs\\python\\python38\\lib\\site-packages\\sympy\\solvers\\solvers.py:1241: UserWarning: \n",
      "                        Warning: assumptions concerning following\n",
      "solution(s)                 can't be checked:\n",
      "gamma*mu0*sqrt(4*A**2*M**2*cos(theta1)**2 - 4*A*H*M*cos(theta1) -\n",
      "4*A*M**2*cos(theta1)**2 + 2*A*M**2 + H**2 + H*M*cos(theta1)),\n",
      "-gamma*mu0*sqrt(H*(H + M*cos(theta1))), gamma*mu0*sqrt(H*(H +\n",
      "M*cos(theta1))), -gamma*mu0*sqrt(4*A**2*M**2*cos(theta1)**2 -\n",
      "4*A*H*M*cos(theta1) - 4*A*M**2*cos(theta1)**2 + 2*A*M**2 + H**2 +\n",
      "H*M*cos(theta1))\n",
      "  warnings.warn(filldedent(\"\"\"\n"
     ]
    },
    {
     "data": {
      "text/latex": [
       "$\\displaystyle \\left[\\begin{matrix}\\frac{i w}{\\gamma \\mu_{0}} & 0 & - M \\left(A + 1\\right) \\sin{\\left(\\theta_{1} \\right)} & 0 & 0 & - A M \\sin{\\left(\\theta_{1} \\right)}\\\\0 & \\frac{i w}{\\gamma \\mu_{0}} & - A M \\cos{\\left(\\theta_{1} \\right)} + H + M \\cos{\\left(\\theta_{1} \\right)} & 0 & 0 & A M \\cos{\\left(\\theta_{1} \\right)}\\\\A M \\sin{\\left(\\theta_{1} \\right)} & A M \\cos{\\left(\\theta_{1} \\right)} - H & \\frac{i w}{\\gamma \\mu_{0}} & A M \\sin{\\left(\\theta_{1} \\right)} & - A M \\cos{\\left(\\theta_{1} \\right)} & 0\\\\0 & 0 & A M \\sin{\\left(\\theta_{1} \\right)} & \\frac{i w}{\\gamma \\mu_{0}} & 0 & M \\left(A + 1\\right) \\sin{\\left(\\theta_{1} \\right)}\\\\0 & 0 & A M \\cos{\\left(\\theta_{1} \\right)} & 0 & \\frac{i w}{\\gamma \\mu_{0}} & - A M \\cos{\\left(\\theta_{1} \\right)} + H + M \\cos{\\left(\\theta_{1} \\right)}\\\\- A M \\sin{\\left(\\theta_{1} \\right)} & - A M \\cos{\\left(\\theta_{1} \\right)} & 0 & - A M \\sin{\\left(\\theta_{1} \\right)} & A M \\cos{\\left(\\theta_{1} \\right)} - H & \\frac{i w}{\\gamma \\mu_{0}}\\end{matrix}\\right]$"
      ],
      "text/plain": [
       "Matrix([\n",
       "[ I*w/(gamma*mu0),                   0,               -M*(A + 1)*sin(theta1),                0,                   0,                     -A*M*sin(theta1)],\n",
       "[               0,     I*w/(gamma*mu0), -A*M*cos(theta1) + H + M*cos(theta1),                0,                   0,                      A*M*cos(theta1)],\n",
       "[ A*M*sin(theta1), A*M*cos(theta1) - H,                      I*w/(gamma*mu0),  A*M*sin(theta1),    -A*M*cos(theta1),                                    0],\n",
       "[               0,                   0,                      A*M*sin(theta1),  I*w/(gamma*mu0),                   0,                M*(A + 1)*sin(theta1)],\n",
       "[               0,                   0,                      A*M*cos(theta1),                0,     I*w/(gamma*mu0), -A*M*cos(theta1) + H + M*cos(theta1)],\n",
       "[-A*M*sin(theta1),    -A*M*cos(theta1),                                    0, -A*M*sin(theta1), A*M*cos(theta1) - H,                      I*w/(gamma*mu0)]])"
      ]
     },
     "execution_count": 22,
     "metadata": {},
     "output_type": "execute_result"
    }
   ],
   "source": [
    "lin_mat = sym.Matrix()\n",
    "\n",
    "to_comb_tmp = [mx1, my1, mz1, mx2, my2, mz2]\n",
    "\n",
    "for i in range(6):\n",
    "    col = []\n",
    "    for j in range(6):\n",
    "         col.append(eq_mat_D[j].coeff(to_comb_tmp[i], 1))\n",
    "    lin_mat = lin_mat.col_insert(i,sym.Matrix(col))\n",
    "\n",
    "lin_mat = simplify(lin_mat)\n",
    "lin_mat_det = lin_mat.det()\n",
    "\n",
    "\n",
    "lin_mat_det0_sol = sym.solve(lin_mat_det, w,\n",
    "          simplify=True, manual=False, implicit=False, \n",
    "          warn=True, check=True)\n",
    "\n",
    "lin_mat"
   ]
  },
  {
   "cell_type": "code",
   "execution_count": 23,
   "id": "administrative-rebound",
   "metadata": {},
   "outputs": [
    {
     "data": {
      "text/latex": [
       "$\\displaystyle 0$"
      ],
      "text/plain": [
       "0"
      ]
     },
     "metadata": {},
     "output_type": "display_data"
    },
    {
     "data": {
      "text/latex": [
       "$\\displaystyle - \\gamma \\mu_{0} \\sqrt{H \\left(H + M \\cos{\\left(\\theta_{1} \\right)}\\right)}$"
      ],
      "text/plain": [
       "-gamma*mu0*sqrt(H*(H + M*cos(theta1)))"
      ]
     },
     "metadata": {},
     "output_type": "display_data"
    },
    {
     "data": {
      "text/latex": [
       "$\\displaystyle \\gamma \\mu_{0} \\sqrt{H \\left(H + M \\cos{\\left(\\theta_{1} \\right)}\\right)}$"
      ],
      "text/plain": [
       "gamma*mu0*sqrt(H*(H + M*cos(theta1)))"
      ]
     },
     "metadata": {},
     "output_type": "display_data"
    },
    {
     "data": {
      "text/latex": [
       "$\\displaystyle - \\gamma \\mu_{0} \\sqrt{4 A^{2} M^{2} \\cos^{2}{\\left(\\theta_{1} \\right)} - 4 A H M \\cos{\\left(\\theta_{1} \\right)} - 4 A M^{2} \\cos^{2}{\\left(\\theta_{1} \\right)} + 2 A M^{2} + H^{2} + H M \\cos{\\left(\\theta_{1} \\right)}}$"
      ],
      "text/plain": [
       "-gamma*mu0*sqrt(4*A**2*M**2*cos(theta1)**2 - 4*A*H*M*cos(theta1) - 4*A*M**2*cos(theta1)**2 + 2*A*M**2 + H**2 + H*M*cos(theta1))"
      ]
     },
     "metadata": {},
     "output_type": "display_data"
    },
    {
     "data": {
      "text/latex": [
       "$\\displaystyle \\gamma \\mu_{0} \\sqrt{4 A^{2} M^{2} \\cos^{2}{\\left(\\theta_{1} \\right)} - 4 A H M \\cos{\\left(\\theta_{1} \\right)} - 4 A M^{2} \\cos^{2}{\\left(\\theta_{1} \\right)} + 2 A M^{2} + H^{2} + H M \\cos{\\left(\\theta_{1} \\right)}}$"
      ],
      "text/plain": [
       "gamma*mu0*sqrt(4*A**2*M**2*cos(theta1)**2 - 4*A*H*M*cos(theta1) - 4*A*M**2*cos(theta1)**2 + 2*A*M**2 + H**2 + H*M*cos(theta1))"
      ]
     },
     "metadata": {},
     "output_type": "display_data"
    }
   ],
   "source": [
    "for cur_sol in lin_mat_det0_sol:\n",
    "    display(simplify(cur_sol))"
   ]
  },
  {
   "cell_type": "code",
   "execution_count": 30,
   "id": "satellite-twist",
   "metadata": {},
   "outputs": [
    {
     "data": {
      "text/plain": [
       "{m_x1: m_z2*(-2*I*A*M*sin(theta1)/sqrt(H**2 + H*M*cos(theta1)) - I*M*sin(theta1)/sqrt(H**2 + H*M*cos(theta1))),\n",
       " m_y1: m_z2*(I*H/sqrt(H**2 + H*M*cos(theta1)) + I*M*cos(theta1)/sqrt(H**2 + H*M*cos(theta1))),\n",
       " m_z1: m_z2,\n",
       " m_x2: m_z2*(2*I*A*M*sin(theta1)/sqrt(H**2 + H*M*cos(theta1)) + I*M*sin(theta1)/sqrt(H**2 + H*M*cos(theta1))),\n",
       " m_y2: m_z2*(I*H/sqrt(H**2 + H*M*cos(theta1)) + I*M*cos(theta1)/sqrt(H**2 + H*M*cos(theta1)))}"
      ]
     },
     "execution_count": 30,
     "metadata": {},
     "output_type": "execute_result"
    }
   ],
   "source": [
    "lin_mat_sol = sym.solve_linear_system(lin_mat.col_insert(6, sym.Matrix([0]*6)).subs({w: lin_mat_det0_sol[2]}),\n",
    "                                      mx1, my1, mz1, mx2, my2, mz2, \n",
    "                        simplify=False, manual=True, implicit=False, \n",
    "                        warn=True, check=False, exclude=[H, tet1, tet2, A, M, w])\n",
    "\n",
    "lin_mat_sol"
   ]
  },
  {
   "cell_type": "code",
   "execution_count": 25,
   "id": "guided-merit",
   "metadata": {},
   "outputs": [
    {
     "data": {
      "text/latex": [
       "$\\displaystyle m_{z2} \\left(- \\frac{2 i A M \\sin{\\left(\\theta_{1} \\right)}}{\\sqrt{H^{2} + H M \\cos{\\left(\\theta_{1} \\right)}}} - \\frac{i M \\sin{\\left(\\theta_{1} \\right)}}{\\sqrt{H^{2} + H M \\cos{\\left(\\theta_{1} \\right)}}}\\right)$"
      ],
      "text/plain": [
       "m_z2*(-2*I*A*M*sin(theta1)/sqrt(H**2 + H*M*cos(theta1)) - I*M*sin(theta1)/sqrt(H**2 + H*M*cos(theta1)))"
      ]
     },
     "metadata": {},
     "output_type": "display_data"
    },
    {
     "data": {
      "text/latex": [
       "$\\displaystyle m_{z2} \\left(\\frac{i H}{\\sqrt{H^{2} + H M \\cos{\\left(\\theta_{1} \\right)}}} + \\frac{i M \\cos{\\left(\\theta_{1} \\right)}}{\\sqrt{H^{2} + H M \\cos{\\left(\\theta_{1} \\right)}}}\\right)$"
      ],
      "text/plain": [
       "m_z2*(I*H/sqrt(H**2 + H*M*cos(theta1)) + I*M*cos(theta1)/sqrt(H**2 + H*M*cos(theta1)))"
      ]
     },
     "metadata": {},
     "output_type": "display_data"
    },
    {
     "data": {
      "text/latex": [
       "$\\displaystyle m_{z2}$"
      ],
      "text/plain": [
       "m_z2"
      ]
     },
     "metadata": {},
     "output_type": "display_data"
    },
    {
     "data": {
      "text/latex": [
       "$\\displaystyle m_{z2} \\left(\\frac{2 i A M \\sin{\\left(\\theta_{1} \\right)}}{\\sqrt{H^{2} + H M \\cos{\\left(\\theta_{1} \\right)}}} + \\frac{i M \\sin{\\left(\\theta_{1} \\right)}}{\\sqrt{H^{2} + H M \\cos{\\left(\\theta_{1} \\right)}}}\\right)$"
      ],
      "text/plain": [
       "m_z2*(2*I*A*M*sin(theta1)/sqrt(H**2 + H*M*cos(theta1)) + I*M*sin(theta1)/sqrt(H**2 + H*M*cos(theta1)))"
      ]
     },
     "metadata": {},
     "output_type": "display_data"
    },
    {
     "data": {
      "text/latex": [
       "$\\displaystyle m_{z2} \\left(\\frac{i H}{\\sqrt{H^{2} + H M \\cos{\\left(\\theta_{1} \\right)}}} + \\frac{i M \\cos{\\left(\\theta_{1} \\right)}}{\\sqrt{H^{2} + H M \\cos{\\left(\\theta_{1} \\right)}}}\\right)$"
      ],
      "text/plain": [
       "m_z2*(I*H/sqrt(H**2 + H*M*cos(theta1)) + I*M*cos(theta1)/sqrt(H**2 + H*M*cos(theta1)))"
      ]
     },
     "metadata": {},
     "output_type": "display_data"
    }
   ],
   "source": [
    "for key in lin_mat_sol:\n",
    "    display(lin_mat_sol[key])\n",
    "    "
   ]
  },
  {
   "cell_type": "code",
   "execution_count": 27,
   "id": "horizontal-chicken",
   "metadata": {},
   "outputs": [
    {
     "data": {
      "text/latex": [
       "$\\displaystyle 0$"
      ],
      "text/plain": [
       "0"
      ]
     },
     "metadata": {},
     "output_type": "display_data"
    },
    {
     "data": {
      "text/latex": [
       "$\\displaystyle -4.63554441651928$"
      ],
      "text/plain": [
       "-4.63554441651928"
      ]
     },
     "metadata": {},
     "output_type": "display_data"
    },
    {
     "data": {
      "text/latex": [
       "$\\displaystyle 4.63554441651928$"
      ],
      "text/plain": [
       "4.63554441651928"
      ]
     },
     "metadata": {},
     "output_type": "display_data"
    },
    {
     "data": {
      "text/latex": [
       "$\\displaystyle -32.4481464237982$"
      ],
      "text/plain": [
       "-32.4481464237982"
      ]
     },
     "metadata": {},
     "output_type": "display_data"
    },
    {
     "data": {
      "text/latex": [
       "$\\displaystyle 32.4481464237982$"
      ],
      "text/plain": [
       "32.4481464237982"
      ]
     },
     "metadata": {},
     "output_type": "display_data"
    },
    {
     "data": {
      "text/plain": [
       "'default freq:'"
      ]
     },
     "metadata": {},
     "output_type": "display_data"
    },
    {
     "data": {
      "text/plain": [
       "11.068377491233647"
      ]
     },
     "metadata": {},
     "output_type": "display_data"
    }
   ],
   "source": [
    "import numpy as np\n",
    "#numerical frequency calculation\n",
    "mu0_num = 1.2566370621219e-6\n",
    "g_num = 1.76e11\n",
    "J_num = 2.7e-3\n",
    "t_num = 5e-9\n",
    "M_num = 1042e3\n",
    "H_num = 110e-3/mu0_num\n",
    "A_num = J_num/(mu0_num*t*(M_num**2))\n",
    "cos_tet_num = mu0_num*H_num*M_num*t_num/(2.0*J_num)\n",
    "\n",
    "for cur_sol in lin_mat_prot_det0_sol:\n",
    "    freq_eval = cur_sol.subs({\n",
    "        mu0: mu0_num,\n",
    "        g: g_num,\n",
    "        J: J_num,\n",
    "        t: t_num,\n",
    "        M: M_num,\n",
    "        H: H_num,\n",
    "        A: A_num,\n",
    "        sym.sin(tet1)**2: 1-sym.cos(tet1)**2\n",
    "    }).subs({\n",
    "        sym.cos(tet1): cos_tet_num\n",
    "    })\n",
    "    display((freq_eval.evalf()/(2*np.pi))*1e-9)\n",
    "\n",
    "display(\"default freq:\")\n",
    "display((g_num*mu0_num*np.sqrt(H_num*(H_num+M_num))/(2*np.pi))*1e-9)"
   ]
  },
  {
   "cell_type": "code",
   "execution_count": 63,
   "id": "first-proxy",
   "metadata": {},
   "outputs": [
    {
     "data": {
      "text/latex": [
       "$\\displaystyle \\left[\\begin{matrix}\\frac{i w}{\\gamma \\mu_{0}} & 0 & - M \\left(A + 1\\right) \\sin{\\left(\\theta_{1} \\right)} & 0 & 0 & - A M \\sin{\\left(\\theta_{1} \\right)}\\\\0 & \\frac{i w}{\\gamma \\mu_{0}} & - A M \\cos{\\left(\\theta_{1} \\right)} + H + M \\cos{\\left(\\theta_{1} \\right)} & 0 & 0 & A M \\cos{\\left(\\theta_{1} \\right)}\\\\A M \\sin{\\left(\\theta_{1} \\right)} & A M \\cos{\\left(\\theta_{1} \\right)} - H & \\frac{i w}{\\gamma \\mu_{0}} & A M \\sin{\\left(\\theta_{1} \\right)} & - A M \\cos{\\left(\\theta_{1} \\right)} & 0\\\\0 & 0 & A M \\sin{\\left(\\theta_{1} \\right)} & \\frac{i w}{\\gamma \\mu_{0}} & 0 & M \\left(A + 1\\right) \\sin{\\left(\\theta_{1} \\right)}\\\\0 & 0 & A M \\cos{\\left(\\theta_{1} \\right)} & 0 & \\frac{i w}{\\gamma \\mu_{0}} & - A M \\cos{\\left(\\theta_{1} \\right)} + H + M \\cos{\\left(\\theta_{1} \\right)}\\\\- A M \\sin{\\left(\\theta_{1} \\right)} & - A M \\cos{\\left(\\theta_{1} \\right)} & 0 & - A M \\sin{\\left(\\theta_{1} \\right)} & A M \\cos{\\left(\\theta_{1} \\right)} - H & \\frac{i w}{\\gamma \\mu_{0}}\\end{matrix}\\right]$"
      ],
      "text/plain": [
       "Matrix([\n",
       "[ I*w/(gamma*mu0),                   0,               -M*(A + 1)*sin(theta1),                0,                   0,                     -A*M*sin(theta1)],\n",
       "[               0,     I*w/(gamma*mu0), -A*M*cos(theta1) + H + M*cos(theta1),                0,                   0,                      A*M*cos(theta1)],\n",
       "[ A*M*sin(theta1), A*M*cos(theta1) - H,                      I*w/(gamma*mu0),  A*M*sin(theta1),    -A*M*cos(theta1),                                    0],\n",
       "[               0,                   0,                      A*M*sin(theta1),  I*w/(gamma*mu0),                   0,                M*(A + 1)*sin(theta1)],\n",
       "[               0,                   0,                      A*M*cos(theta1),                0,     I*w/(gamma*mu0), -A*M*cos(theta1) + H + M*cos(theta1)],\n",
       "[-A*M*sin(theta1),    -A*M*cos(theta1),                                    0, -A*M*sin(theta1), A*M*cos(theta1) - H,                      I*w/(gamma*mu0)]])"
      ]
     },
     "execution_count": 63,
     "metadata": {},
     "output_type": "execute_result"
    }
   ],
   "source": [
    "lin_mat"
   ]
  },
  {
   "cell_type": "code",
   "execution_count": 60,
   "id": "formed-criticism",
   "metadata": {},
   "outputs": [
    {
     "data": {
      "text/latex": [
       "$\\displaystyle 0$"
      ],
      "text/plain": [
       "0"
      ]
     },
     "execution_count": 60,
     "metadata": {},
     "output_type": "execute_result"
    }
   ],
   "source": [
    "simplify(lin_mat_det.subs({w:lin_mat_det0_sol[4]}))"
   ]
  },
  {
   "cell_type": "markdown",
   "id": "mineral-wrist",
   "metadata": {},
   "source": [
    "# Legacy"
   ]
  },
  {
   "cell_type": "code",
   "execution_count": 19,
   "id": "weekly-fancy",
   "metadata": {
    "scrolled": true
   },
   "outputs": [
    {
     "data": {
      "text/latex": [
       "$\\displaystyle \\left[\\begin{matrix}\\frac{i w}{\\gamma \\mu_{0}} & 0 & \\frac{A M \\sin{\\left(\\theta_{2} \\right)}}{2} - M \\sin{\\left(\\theta_{1} \\right)} & 0 & 0 & - \\frac{A M \\sin{\\left(\\theta_{1} \\right)}}{2}\\\\0 & \\frac{i w}{\\gamma \\mu_{0}} & - \\frac{A M \\cos{\\left(\\theta_{2} \\right)}}{2} + H + M \\cos{\\left(\\theta_{1} \\right)} & 0 & 0 & \\frac{A M \\cos{\\left(\\theta_{1} \\right)}}{2}\\\\- \\frac{A M \\sin{\\left(\\theta_{2} \\right)}}{2} & \\frac{A M \\cos{\\left(\\theta_{2} \\right)}}{2} - H & \\frac{i w}{\\gamma \\mu_{0}} & \\frac{A M \\sin{\\left(\\theta_{1} \\right)}}{2} & - \\frac{A M \\cos{\\left(\\theta_{1} \\right)}}{2} & 0\\\\0 & 0 & - A M \\sin{\\left(\\theta_{2} \\right)} & \\frac{i w}{\\gamma \\mu_{0}} & A M \\sin{\\left(\\theta_{1} \\right)} - M \\sin{\\left(\\theta_{2} \\right)} & 0\\\\0 & 0 & A M \\cos{\\left(\\theta_{2} \\right)} & 0 & \\frac{i w}{\\gamma \\mu_{0}} & - A M \\cos{\\left(\\theta_{1} \\right)} + H + M \\cos{\\left(\\theta_{2} \\right)}\\\\A M \\sin{\\left(\\theta_{2} \\right)} & - A M \\cos{\\left(\\theta_{2} \\right)} & 0 & - A M \\sin{\\left(\\theta_{1} \\right)} & A M \\cos{\\left(\\theta_{1} \\right)} - H & \\frac{i w}{\\gamma \\mu_{0}}\\end{matrix}\\right]$"
      ],
      "text/plain": [
       "Matrix([\n",
       "[   I*w/(gamma*mu0),                     0,      A*M*sin(theta2)/2 - M*sin(theta1),                 0,                               0,                   -A*M*sin(theta1)/2],\n",
       "[                 0,       I*w/(gamma*mu0), -A*M*cos(theta2)/2 + H + M*cos(theta1),                 0,                               0,                    A*M*cos(theta1)/2],\n",
       "[-A*M*sin(theta2)/2, A*M*cos(theta2)/2 - H,                        I*w/(gamma*mu0), A*M*sin(theta1)/2,              -A*M*cos(theta1)/2,                                    0],\n",
       "[                 0,                     0,                       -A*M*sin(theta2),   I*w/(gamma*mu0), A*M*sin(theta1) - M*sin(theta2),                                    0],\n",
       "[                 0,                     0,                        A*M*cos(theta2),                 0,                 I*w/(gamma*mu0), -A*M*cos(theta1) + H + M*cos(theta2)],\n",
       "[   A*M*sin(theta2),      -A*M*cos(theta2),                                      0,  -A*M*sin(theta1),             A*M*cos(theta1) - H,                      I*w/(gamma*mu0)]])"
      ]
     },
     "execution_count": 19,
     "metadata": {},
     "output_type": "execute_result"
    }
   ],
   "source": [
    "%%space verification\n",
    "\n",
    "linear_mat_asym = sym.Matrix(\n",
    "[\n",
    "    [jw/(g*mu0),0, -M*sym.sin(tet1)+A*M*sym.sin(tet2)/2, 0, 0, -A*M*sym.sin(tet1)/2],\n",
    "    [0, jw/(g*mu0), H+M*sym.cos(tet1)-A*M*sym.cos(tet2)/2,0,0,A*M*sym.cos(tet1)/2],\n",
    "    [-A*M*sym.sin(tet2)/2, -H+A*M*sym.cos(tet2)/2, jw/(g*mu0), A*M*sym.sin(tet1)/2, -A*M*sym.cos(tet1)/2, 0],\n",
    "    [0,0,-A*M*sym.sin(tet2),jw/(g*mu0), A*M*sym.sin(tet1)-M*sym.sin(tet2),0],\n",
    "    [0,0,A*M*sym.cos(tet2),0,jw/(g*mu0),H-A*M*sym.cos(tet1)+M*sym.cos(tet2)],\n",
    "    [A*M*sym.sin(tet2), -A*M*sym.cos(tet2), 0, -A*M*sym.sin(tet1), -H+A*M*sym.cos(tet1), jw/(g*mu0)]\n",
    "]\n",
    ")\n",
    "linear_mat"
   ]
  },
  {
   "cell_type": "code",
   "execution_count": 5,
   "id": "seeing-worse",
   "metadata": {},
   "outputs": [],
   "source": [
    "%%space verification\n",
    "\n",
    "linear_mat_sym = simplify(sym.Matrix(\n",
    "[\n",
    "    [jw/(g*mu0),0, -M*sym.sin(tet1)+A*M*sym.sin(tet2), 0, 0, -A*M*sym.sin(tet1)],\n",
    "    [0, jw/(g*mu0), H+M*sym.cos(tet1)-A*M*sym.cos(tet2),0,0,A*M*sym.cos(tet1)],\n",
    "    [-A*M*sym.sin(tet2), -H+A*M*sym.cos(tet2), jw/(g*mu0), A*M*sym.sin(tet1), -A*M*sym.cos(tet1), 0],\n",
    "    [0,0,-A*M*sym.sin(tet2),jw/(g*mu0), A*M*sym.sin(tet1)-M*sym.sin(tet2),0],\n",
    "    [0,0,A*M*sym.cos(tet2),0,jw/(g*mu0),H-A*M*sym.cos(tet1)+M*sym.cos(tet2)],\n",
    "    [A*M*sym.sin(tet2), -A*M*sym.cos(tet2), 0, -A*M*sym.sin(tet1), -H+A*M*sym.cos(tet1), jw/(g*mu0)]\n",
    "]\n",
    ").subs({sym.sin(tet2):-sym.sin(tet1), sym.cos(tet2): sym.cos(tet1)}))\n",
    "\n",
    "C = -simplify((eq_mat.subs({mx1:0,my1:0,mz1:0,mx2:0,my2:0,mz2:0 }))/(g*mu0)).expand()\n",
    "#C\n",
    "#sym.solve_linear_system(linear_mat.col_insert(6, C), mx1, my1, mz1, mx2, my2, mz2)\n",
    "determ = (linear_mat_sym.det()*(g*mu0)**6)\n",
    "det_sol1 = sym.solve(simplify(sym.re(determ)), w)\n",
    "det_sol2 = sym.solve(simplify(sym.im(determ)), w)"
   ]
  },
  {
   "cell_type": "code",
   "execution_count": 6,
   "id": "aerial-basement",
   "metadata": {},
   "outputs": [
    {
     "data": {
      "text/latex": [
       "$\\displaystyle - \\sqrt{H \\left(H + M \\cos{\\left(\\theta_{1} \\right)}\\right)} \\left|{\\gamma \\mu_{0}}\\right|$"
      ],
      "text/plain": [
       "-sqrt(H*(H + M*cos(theta1)))*Abs(gamma*mu0)"
      ]
     },
     "metadata": {},
     "output_type": "display_data"
    },
    {
     "data": {
      "text/latex": [
       "$\\displaystyle \\sqrt{H \\left(H + M \\cos{\\left(\\theta_{1} \\right)}\\right)} \\left|{\\gamma \\mu_{0}}\\right|$"
      ],
      "text/plain": [
       "sqrt(H*(H + M*cos(theta1)))*Abs(gamma*mu0)"
      ]
     },
     "metadata": {},
     "output_type": "display_data"
    },
    {
     "data": {
      "text/latex": [
       "$\\displaystyle - \\sqrt{5 A^{2} M^{2} \\cos^{2}{\\left(\\theta_{1} \\right)} - A^{2} M^{2} - 4 A H M \\cos{\\left(\\theta_{1} \\right)} - 3 A M^{2} \\cos^{2}{\\left(\\theta_{1} \\right)} + A M^{2} + H^{2} + H M \\cos{\\left(\\theta_{1} \\right)}} \\left|{\\gamma \\mu_{0}}\\right|$"
      ],
      "text/plain": [
       "-sqrt(5*A**2*M**2*cos(theta1)**2 - A**2*M**2 - 4*A*H*M*cos(theta1) - 3*A*M**2*cos(theta1)**2 + A*M**2 + H**2 + H*M*cos(theta1))*Abs(gamma*mu0)"
      ]
     },
     "metadata": {},
     "output_type": "display_data"
    },
    {
     "data": {
      "text/latex": [
       "$\\displaystyle \\sqrt{5 A^{2} M^{2} \\cos^{2}{\\left(\\theta_{1} \\right)} - A^{2} M^{2} - 4 A H M \\cos{\\left(\\theta_{1} \\right)} - 3 A M^{2} \\cos^{2}{\\left(\\theta_{1} \\right)} + A M^{2} + H^{2} + H M \\cos{\\left(\\theta_{1} \\right)}} \\left|{\\gamma \\mu_{0}}\\right|$"
      ],
      "text/plain": [
       "sqrt(5*A**2*M**2*cos(theta1)**2 - A**2*M**2 - 4*A*H*M*cos(theta1) - 3*A*M**2*cos(theta1)**2 + A*M**2 + H**2 + H*M*cos(theta1))*Abs(gamma*mu0)"
      ]
     },
     "metadata": {},
     "output_type": "display_data"
    }
   ],
   "source": [
    "%%space verification\n",
    "for i in range(1, len(det_sol1)):\n",
    "    display(simplify(det_sol1[i]))"
   ]
  },
  {
   "cell_type": "code",
   "execution_count": 7,
   "id": "desperate-seller",
   "metadata": {},
   "outputs": [
    {
     "data": {
      "text/latex": [
       "$\\displaystyle - \\gamma \\mu_{0} \\sqrt{H \\left(H + M \\cos{\\left(\\theta_{1} \\right)}\\right)}$"
      ],
      "text/plain": [
       "-gamma*mu0*sqrt(H*(H + M*cos(theta1)))"
      ]
     },
     "metadata": {},
     "output_type": "display_data"
    },
    {
     "data": {
      "text/latex": [
       "$\\displaystyle \\gamma \\mu_{0} \\sqrt{H \\left(H + M \\cos{\\left(\\theta_{1} \\right)}\\right)}$"
      ],
      "text/plain": [
       "gamma*mu0*sqrt(H*(H + M*cos(theta1)))"
      ]
     },
     "metadata": {},
     "output_type": "display_data"
    }
   ],
   "source": [
    "%%space verification\n",
    "for i in range(1, len(det_sol2)):\n",
    "    display(simplify(det_sol2[i]))"
   ]
  },
  {
   "cell_type": "code",
   "execution_count": 16,
   "id": "broken-implementation",
   "metadata": {},
   "outputs": [
    {
     "ename": "KeyboardInterrupt",
     "evalue": "",
     "output_type": "error",
     "traceback": [
      "\u001b[1;31m---------------------------------------------------------------------------\u001b[0m",
      "\u001b[1;31mKeyboardInterrupt\u001b[0m                         Traceback (most recent call last)",
      "\u001b[1;32m<ipython-input-16-0fc2c2c72f87>\u001b[0m in \u001b[0;36m<module>\u001b[1;34m\u001b[0m\n\u001b[1;32m----> 1\u001b[1;33m \u001b[0mget_ipython\u001b[0m\u001b[1;33m(\u001b[0m\u001b[1;33m)\u001b[0m\u001b[1;33m.\u001b[0m\u001b[0mrun_cell_magic\u001b[0m\u001b[1;33m(\u001b[0m\u001b[1;34m'space'\u001b[0m\u001b[1;33m,\u001b[0m \u001b[1;34m'verification'\u001b[0m\u001b[1;33m,\u001b[0m \u001b[1;34m'sub_mat = linear_mat_sym.subs({w: det_sol2[1]})\\nsym.solve_linear_system(sub_mat.col_insert(6, sym.Matrix([0]*6)), mx1, my1, mz1, mx2, my2, mz2)\\n'\u001b[0m\u001b[1;33m)\u001b[0m\u001b[1;33m\u001b[0m\u001b[1;33m\u001b[0m\u001b[0m\n\u001b[0m",
      "\u001b[1;32mc:\\users\\sasha\\appdata\\local\\programs\\python\\python38\\lib\\site-packages\\IPython\\core\\interactiveshell.py\u001b[0m in \u001b[0;36mrun_cell_magic\u001b[1;34m(self, magic_name, line, cell)\u001b[0m\n\u001b[0;32m   2380\u001b[0m             \u001b[1;32mwith\u001b[0m \u001b[0mself\u001b[0m\u001b[1;33m.\u001b[0m\u001b[0mbuiltin_trap\u001b[0m\u001b[1;33m:\u001b[0m\u001b[1;33m\u001b[0m\u001b[1;33m\u001b[0m\u001b[0m\n\u001b[0;32m   2381\u001b[0m                 \u001b[0margs\u001b[0m \u001b[1;33m=\u001b[0m \u001b[1;33m(\u001b[0m\u001b[0mmagic_arg_s\u001b[0m\u001b[1;33m,\u001b[0m \u001b[0mcell\u001b[0m\u001b[1;33m)\u001b[0m\u001b[1;33m\u001b[0m\u001b[1;33m\u001b[0m\u001b[0m\n\u001b[1;32m-> 2382\u001b[1;33m                 \u001b[0mresult\u001b[0m \u001b[1;33m=\u001b[0m \u001b[0mfn\u001b[0m\u001b[1;33m(\u001b[0m\u001b[1;33m*\u001b[0m\u001b[0margs\u001b[0m\u001b[1;33m,\u001b[0m \u001b[1;33m**\u001b[0m\u001b[0mkwargs\u001b[0m\u001b[1;33m)\u001b[0m\u001b[1;33m\u001b[0m\u001b[1;33m\u001b[0m\u001b[0m\n\u001b[0m\u001b[0;32m   2383\u001b[0m             \u001b[1;32mreturn\u001b[0m \u001b[0mresult\u001b[0m\u001b[1;33m\u001b[0m\u001b[1;33m\u001b[0m\u001b[0m\n\u001b[0;32m   2384\u001b[0m \u001b[1;33m\u001b[0m\u001b[0m\n",
      "\u001b[1;32m<decorator-gen-118>\u001b[0m in \u001b[0;36mspace\u001b[1;34m(self, line, cell)\u001b[0m\n",
      "\u001b[1;32mc:\\users\\sasha\\appdata\\local\\programs\\python\\python38\\lib\\site-packages\\IPython\\core\\magic.py\u001b[0m in \u001b[0;36m<lambda>\u001b[1;34m(f, *a, **k)\u001b[0m\n\u001b[0;32m    185\u001b[0m     \u001b[1;31m# but it's overkill for just that one bit of state.\u001b[0m\u001b[1;33m\u001b[0m\u001b[1;33m\u001b[0m\u001b[1;33m\u001b[0m\u001b[0m\n\u001b[0;32m    186\u001b[0m     \u001b[1;32mdef\u001b[0m \u001b[0mmagic_deco\u001b[0m\u001b[1;33m(\u001b[0m\u001b[0marg\u001b[0m\u001b[1;33m)\u001b[0m\u001b[1;33m:\u001b[0m\u001b[1;33m\u001b[0m\u001b[1;33m\u001b[0m\u001b[0m\n\u001b[1;32m--> 187\u001b[1;33m         \u001b[0mcall\u001b[0m \u001b[1;33m=\u001b[0m \u001b[1;32mlambda\u001b[0m \u001b[0mf\u001b[0m\u001b[1;33m,\u001b[0m \u001b[1;33m*\u001b[0m\u001b[0ma\u001b[0m\u001b[1;33m,\u001b[0m \u001b[1;33m**\u001b[0m\u001b[0mk\u001b[0m\u001b[1;33m:\u001b[0m \u001b[0mf\u001b[0m\u001b[1;33m(\u001b[0m\u001b[1;33m*\u001b[0m\u001b[0ma\u001b[0m\u001b[1;33m,\u001b[0m \u001b[1;33m**\u001b[0m\u001b[0mk\u001b[0m\u001b[1;33m)\u001b[0m\u001b[1;33m\u001b[0m\u001b[1;33m\u001b[0m\u001b[0m\n\u001b[0m\u001b[0;32m    188\u001b[0m \u001b[1;33m\u001b[0m\u001b[0m\n\u001b[0;32m    189\u001b[0m         \u001b[1;32mif\u001b[0m \u001b[0mcallable\u001b[0m\u001b[1;33m(\u001b[0m\u001b[0marg\u001b[0m\u001b[1;33m)\u001b[0m\u001b[1;33m:\u001b[0m\u001b[1;33m\u001b[0m\u001b[1;33m\u001b[0m\u001b[0m\n",
      "\u001b[1;32mc:\\users\\sasha\\appdata\\local\\programs\\python\\python38\\lib\\site-packages\\jupyter_spaces\\magics.py\u001b[0m in \u001b[0;36mspace\u001b[1;34m(self, line, cell)\u001b[0m\n\u001b[0;32m     26\u001b[0m         \"\"\"\n\u001b[0;32m     27\u001b[0m         \u001b[0mspace\u001b[0m \u001b[1;33m=\u001b[0m \u001b[0mspace_register\u001b[0m\u001b[1;33m.\u001b[0m\u001b[0mget_space\u001b[0m\u001b[1;33m(\u001b[0m\u001b[0mname\u001b[0m\u001b[1;33m=\u001b[0m\u001b[0mline\u001b[0m\u001b[1;33m,\u001b[0m \u001b[0mouter_space\u001b[0m\u001b[1;33m=\u001b[0m\u001b[0mself\u001b[0m\u001b[1;33m.\u001b[0m\u001b[0mshell\u001b[0m\u001b[1;33m.\u001b[0m\u001b[0muser_ns\u001b[0m\u001b[1;33m)\u001b[0m\u001b[1;33m\u001b[0m\u001b[1;33m\u001b[0m\u001b[0m\n\u001b[1;32m---> 28\u001b[1;33m         \u001b[0mspace\u001b[0m\u001b[1;33m.\u001b[0m\u001b[0mexecute\u001b[0m\u001b[1;33m(\u001b[0m\u001b[0msource\u001b[0m\u001b[1;33m=\u001b[0m\u001b[0mcell\u001b[0m\u001b[1;33m)\u001b[0m\u001b[1;33m\u001b[0m\u001b[1;33m\u001b[0m\u001b[0m\n\u001b[0m\u001b[0;32m     29\u001b[0m \u001b[1;33m\u001b[0m\u001b[0m\n\u001b[0;32m     30\u001b[0m     \u001b[1;33m@\u001b[0m\u001b[0mline_magic\u001b[0m\u001b[1;33m\u001b[0m\u001b[1;33m\u001b[0m\u001b[0m\n",
      "\u001b[1;32mc:\\users\\sasha\\appdata\\local\\programs\\python\\python38\\lib\\site-packages\\jupyter_spaces\\space.py\u001b[0m in \u001b[0;36mexecute\u001b[1;34m(self, source)\u001b[0m\n\u001b[0;32m    114\u001b[0m             \u001b[0msource\u001b[0m\u001b[1;33m=\u001b[0m\u001b[0minteractive_tree\u001b[0m\u001b[1;33m,\u001b[0m \u001b[0mfilename\u001b[0m\u001b[1;33m=\u001b[0m\u001b[1;34m\"<string>\"\u001b[0m\u001b[1;33m,\u001b[0m \u001b[0mmode\u001b[0m\u001b[1;33m=\u001b[0m\u001b[1;34m\"single\"\u001b[0m\u001b[1;33m\u001b[0m\u001b[1;33m\u001b[0m\u001b[0m\n\u001b[0;32m    115\u001b[0m         )\n\u001b[1;32m--> 116\u001b[1;33m         \u001b[0mexec\u001b[0m\u001b[1;33m(\u001b[0m\u001b[0mcompiled_interactive_tree\u001b[0m\u001b[1;33m,\u001b[0m \u001b[0mself\u001b[0m\u001b[1;33m.\u001b[0m\u001b[0m_execution_namespace\u001b[0m\u001b[1;33m)\u001b[0m\u001b[1;33m\u001b[0m\u001b[1;33m\u001b[0m\u001b[0m\n\u001b[0m\u001b[0;32m    117\u001b[0m \u001b[1;33m\u001b[0m\u001b[0m\n\u001b[0;32m    118\u001b[0m \u001b[1;33m\u001b[0m\u001b[0m\n",
      "\u001b[1;32m<string>\u001b[0m in \u001b[0;36m<module>\u001b[1;34m\u001b[0m\n",
      "\u001b[1;32mc:\\users\\sasha\\appdata\\local\\programs\\python\\python38\\lib\\site-packages\\sympy\\solvers\\solvers.py\u001b[0m in \u001b[0;36msolve_linear_system\u001b[1;34m(system, *symbols, **flags)\u001b[0m\n\u001b[0;32m   2303\u001b[0m     \u001b[0meqs\u001b[0m \u001b[1;33m=\u001b[0m \u001b[0mlist\u001b[0m\u001b[1;33m(\u001b[0m\u001b[0msystem\u001b[0m \u001b[1;33m*\u001b[0m \u001b[0mMatrix\u001b[0m\u001b[1;33m(\u001b[0m\u001b[0msymbols\u001b[0m \u001b[1;33m+\u001b[0m \u001b[1;33m(\u001b[0m\u001b[1;33m-\u001b[0m\u001b[1;36m1\u001b[0m\u001b[1;33m,\u001b[0m\u001b[1;33m)\u001b[0m\u001b[1;33m)\u001b[0m\u001b[1;33m)\u001b[0m\u001b[1;33m\u001b[0m\u001b[1;33m\u001b[0m\u001b[0m\n\u001b[0;32m   2304\u001b[0m     \u001b[0meqs\u001b[0m\u001b[1;33m,\u001b[0m \u001b[0mring\u001b[0m \u001b[1;33m=\u001b[0m \u001b[0msympy_eqs_to_ring\u001b[0m\u001b[1;33m(\u001b[0m\u001b[0meqs\u001b[0m\u001b[1;33m,\u001b[0m \u001b[0msymbols\u001b[0m\u001b[1;33m)\u001b[0m\u001b[1;33m\u001b[0m\u001b[1;33m\u001b[0m\u001b[0m\n\u001b[1;32m-> 2305\u001b[1;33m     \u001b[0msol\u001b[0m \u001b[1;33m=\u001b[0m \u001b[0msolve_lin_sys\u001b[0m\u001b[1;33m(\u001b[0m\u001b[0meqs\u001b[0m\u001b[1;33m,\u001b[0m \u001b[0mring\u001b[0m\u001b[1;33m,\u001b[0m \u001b[0m_raw\u001b[0m\u001b[1;33m=\u001b[0m\u001b[1;32mFalse\u001b[0m\u001b[1;33m)\u001b[0m\u001b[1;33m\u001b[0m\u001b[1;33m\u001b[0m\u001b[0m\n\u001b[0m\u001b[0;32m   2306\u001b[0m     \u001b[1;32mif\u001b[0m \u001b[0msol\u001b[0m \u001b[1;32mis\u001b[0m \u001b[1;32mnot\u001b[0m \u001b[1;32mNone\u001b[0m\u001b[1;33m:\u001b[0m\u001b[1;33m\u001b[0m\u001b[1;33m\u001b[0m\u001b[0m\n\u001b[0;32m   2307\u001b[0m         \u001b[0msol\u001b[0m \u001b[1;33m=\u001b[0m \u001b[1;33m{\u001b[0m\u001b[0msym\u001b[0m\u001b[1;33m:\u001b[0m\u001b[0mval\u001b[0m \u001b[1;32mfor\u001b[0m \u001b[0msym\u001b[0m\u001b[1;33m,\u001b[0m \u001b[0mval\u001b[0m \u001b[1;32min\u001b[0m \u001b[0msol\u001b[0m\u001b[1;33m.\u001b[0m\u001b[0mitems\u001b[0m\u001b[1;33m(\u001b[0m\u001b[1;33m)\u001b[0m \u001b[1;32mif\u001b[0m \u001b[0msym\u001b[0m \u001b[1;33m!=\u001b[0m \u001b[0mval\u001b[0m\u001b[1;33m}\u001b[0m\u001b[1;33m\u001b[0m\u001b[1;33m\u001b[0m\u001b[0m\n",
      "\u001b[1;32mc:\\users\\sasha\\appdata\\local\\programs\\python\\python38\\lib\\site-packages\\sympy\\polys\\solvers.py\u001b[0m in \u001b[0;36msolve_lin_sys\u001b[1;34m(eqs, ring, _raw)\u001b[0m\n\u001b[0;32m    225\u001b[0m         \u001b[0meqs_coeffs\u001b[0m\u001b[1;33m.\u001b[0m\u001b[0mappend\u001b[0m\u001b[1;33m(\u001b[0m\u001b[0meq_coeffs\u001b[0m\u001b[1;33m)\u001b[0m\u001b[1;33m\u001b[0m\u001b[1;33m\u001b[0m\u001b[0m\n\u001b[0;32m    226\u001b[0m \u001b[1;33m\u001b[0m\u001b[0m\n\u001b[1;32m--> 227\u001b[1;33m     \u001b[0mresult\u001b[0m \u001b[1;33m=\u001b[0m \u001b[0m_solve_lin_sys\u001b[0m\u001b[1;33m(\u001b[0m\u001b[0meqs_coeffs\u001b[0m\u001b[1;33m,\u001b[0m \u001b[0meqs_rhs\u001b[0m\u001b[1;33m,\u001b[0m \u001b[0mring\u001b[0m\u001b[1;33m)\u001b[0m\u001b[1;33m\u001b[0m\u001b[1;33m\u001b[0m\u001b[0m\n\u001b[0m\u001b[0;32m    228\u001b[0m \u001b[1;33m\u001b[0m\u001b[0m\n\u001b[0;32m    229\u001b[0m     \u001b[1;32mif\u001b[0m \u001b[0mresult\u001b[0m \u001b[1;32mis\u001b[0m \u001b[1;32mnot\u001b[0m \u001b[1;32mNone\u001b[0m \u001b[1;32mand\u001b[0m \u001b[0mas_expr\u001b[0m\u001b[1;33m:\u001b[0m\u001b[1;33m\u001b[0m\u001b[1;33m\u001b[0m\u001b[0m\n",
      "\u001b[1;32mc:\\users\\sasha\\appdata\\local\\programs\\python\\python38\\lib\\site-packages\\sympy\\polys\\solvers.py\u001b[0m in \u001b[0;36m_solve_lin_sys\u001b[1;34m(eqs_coeffs, eqs_rhs, ring)\u001b[0m\n\u001b[0;32m    303\u001b[0m     \u001b[0msol\u001b[0m \u001b[1;33m=\u001b[0m \u001b[1;33m{\u001b[0m\u001b[1;33m}\u001b[0m\u001b[1;33m\u001b[0m\u001b[1;33m\u001b[0m\u001b[0m\n\u001b[0;32m    304\u001b[0m     \u001b[1;32mfor\u001b[0m \u001b[0msubsystem\u001b[0m \u001b[1;32min\u001b[0m \u001b[0msubsystems\u001b[0m\u001b[1;33m:\u001b[0m\u001b[1;33m\u001b[0m\u001b[1;33m\u001b[0m\u001b[0m\n\u001b[1;32m--> 305\u001b[1;33m         \u001b[0msubsol\u001b[0m \u001b[1;33m=\u001b[0m \u001b[0m_solve_lin_sys_component\u001b[0m\u001b[1;33m(\u001b[0m\u001b[0msubsystem\u001b[0m\u001b[1;33m[\u001b[0m\u001b[1;36m0\u001b[0m\u001b[1;33m]\u001b[0m\u001b[1;33m,\u001b[0m \u001b[0msubsystem\u001b[0m\u001b[1;33m[\u001b[0m\u001b[1;36m1\u001b[0m\u001b[1;33m]\u001b[0m\u001b[1;33m,\u001b[0m \u001b[0mring\u001b[0m\u001b[1;33m)\u001b[0m\u001b[1;33m\u001b[0m\u001b[1;33m\u001b[0m\u001b[0m\n\u001b[0m\u001b[0;32m    306\u001b[0m         \u001b[1;32mif\u001b[0m \u001b[0msubsol\u001b[0m \u001b[1;32mis\u001b[0m \u001b[1;32mNone\u001b[0m\u001b[1;33m:\u001b[0m\u001b[1;33m\u001b[0m\u001b[1;33m\u001b[0m\u001b[0m\n\u001b[0;32m    307\u001b[0m             \u001b[1;32mreturn\u001b[0m \u001b[1;32mNone\u001b[0m\u001b[1;33m\u001b[0m\u001b[1;33m\u001b[0m\u001b[0m\n",
      "\u001b[1;32mc:\\users\\sasha\\appdata\\local\\programs\\python\\python38\\lib\\site-packages\\sympy\\polys\\solvers.py\u001b[0m in \u001b[0;36m_solve_lin_sys_component\u001b[1;34m(eqs_coeffs, eqs_rhs, ring)\u001b[0m\n\u001b[0;32m    351\u001b[0m \u001b[1;33m\u001b[0m\u001b[0m\n\u001b[0;32m    352\u001b[0m     \u001b[1;31m# solve by row-reduction\u001b[0m\u001b[1;33m\u001b[0m\u001b[1;33m\u001b[0m\u001b[1;33m\u001b[0m\u001b[0m\n\u001b[1;32m--> 353\u001b[1;33m     \u001b[0mechelon\u001b[0m\u001b[1;33m,\u001b[0m \u001b[0mpivots\u001b[0m \u001b[1;33m=\u001b[0m \u001b[0mmatrix\u001b[0m\u001b[1;33m.\u001b[0m\u001b[0mrref\u001b[0m\u001b[1;33m(\u001b[0m\u001b[1;33m)\u001b[0m\u001b[1;33m\u001b[0m\u001b[1;33m\u001b[0m\u001b[0m\n\u001b[0m\u001b[0;32m    354\u001b[0m \u001b[1;33m\u001b[0m\u001b[0m\n\u001b[0;32m    355\u001b[0m     \u001b[1;31m# construct the returnable form of the solutions\u001b[0m\u001b[1;33m\u001b[0m\u001b[1;33m\u001b[0m\u001b[1;33m\u001b[0m\u001b[0m\n",
      "\u001b[1;32mc:\\users\\sasha\\appdata\\local\\programs\\python\\python38\\lib\\site-packages\\sympy\\polys\\domainmatrix.py\u001b[0m in \u001b[0;36mrref\u001b[1;34m(self)\u001b[0m\n\u001b[0;32m    607\u001b[0m         \u001b[1;32mif\u001b[0m \u001b[1;32mnot\u001b[0m \u001b[0mself\u001b[0m\u001b[1;33m.\u001b[0m\u001b[0mdomain\u001b[0m\u001b[1;33m.\u001b[0m\u001b[0mis_Field\u001b[0m\u001b[1;33m:\u001b[0m\u001b[1;33m\u001b[0m\u001b[1;33m\u001b[0m\u001b[0m\n\u001b[0;32m    608\u001b[0m             \u001b[1;32mraise\u001b[0m \u001b[0mValueError\u001b[0m\u001b[1;33m(\u001b[0m\u001b[1;34m'Not a field'\u001b[0m\u001b[1;33m)\u001b[0m\u001b[1;33m\u001b[0m\u001b[1;33m\u001b[0m\u001b[0m\n\u001b[1;32m--> 609\u001b[1;33m         \u001b[0mrref_ddm\u001b[0m\u001b[1;33m,\u001b[0m \u001b[0mpivots\u001b[0m \u001b[1;33m=\u001b[0m \u001b[0mself\u001b[0m\u001b[1;33m.\u001b[0m\u001b[0mrep\u001b[0m\u001b[1;33m.\u001b[0m\u001b[0mrref\u001b[0m\u001b[1;33m(\u001b[0m\u001b[1;33m)\u001b[0m\u001b[1;33m\u001b[0m\u001b[1;33m\u001b[0m\u001b[0m\n\u001b[0m\u001b[0;32m    610\u001b[0m         \u001b[1;32mreturn\u001b[0m \u001b[0mself\u001b[0m\u001b[1;33m.\u001b[0m\u001b[0mfrom_ddm\u001b[0m\u001b[1;33m(\u001b[0m\u001b[0mrref_ddm\u001b[0m\u001b[1;33m)\u001b[0m\u001b[1;33m,\u001b[0m \u001b[0mtuple\u001b[0m\u001b[1;33m(\u001b[0m\u001b[0mpivots\u001b[0m\u001b[1;33m)\u001b[0m\u001b[1;33m\u001b[0m\u001b[1;33m\u001b[0m\u001b[0m\n\u001b[0;32m    611\u001b[0m \u001b[1;33m\u001b[0m\u001b[0m\n",
      "\u001b[1;32mc:\\users\\sasha\\appdata\\local\\programs\\python\\python38\\lib\\site-packages\\sympy\\polys\\domainmatrix.py\u001b[0m in \u001b[0;36mrref\u001b[1;34m(a)\u001b[0m\n\u001b[0;32m    139\u001b[0m         \u001b[1;34m\"\"\"Reduced-row echelon form of a and list of pivots\"\"\"\u001b[0m\u001b[1;33m\u001b[0m\u001b[1;33m\u001b[0m\u001b[0m\n\u001b[0;32m    140\u001b[0m         \u001b[0mb\u001b[0m \u001b[1;33m=\u001b[0m \u001b[0ma\u001b[0m\u001b[1;33m.\u001b[0m\u001b[0mcopy\u001b[0m\u001b[1;33m(\u001b[0m\u001b[1;33m)\u001b[0m\u001b[1;33m\u001b[0m\u001b[1;33m\u001b[0m\u001b[0m\n\u001b[1;32m--> 141\u001b[1;33m         \u001b[0mpivots\u001b[0m \u001b[1;33m=\u001b[0m \u001b[0mddm_irref\u001b[0m\u001b[1;33m(\u001b[0m\u001b[0mb\u001b[0m\u001b[1;33m)\u001b[0m\u001b[1;33m\u001b[0m\u001b[1;33m\u001b[0m\u001b[0m\n\u001b[0m\u001b[0;32m    142\u001b[0m         \u001b[1;32mreturn\u001b[0m \u001b[0mb\u001b[0m\u001b[1;33m,\u001b[0m \u001b[0mpivots\u001b[0m\u001b[1;33m\u001b[0m\u001b[1;33m\u001b[0m\u001b[0m\n\u001b[0;32m    143\u001b[0m \u001b[1;33m\u001b[0m\u001b[0m\n",
      "\u001b[1;32mc:\\users\\sasha\\appdata\\local\\programs\\python\\python38\\lib\\site-packages\\sympy\\polys\\domainmatrix.py\u001b[0m in \u001b[0;36mddm_irref\u001b[1;34m(a)\u001b[0m\n\u001b[0;32m    264\u001b[0m             \u001b[0mak\u001b[0m\u001b[1;33m[\u001b[0m\u001b[0mj\u001b[0m\u001b[1;33m]\u001b[0m \u001b[1;33m-=\u001b[0m \u001b[0makj\u001b[0m \u001b[1;31m# ak[j] = zero\u001b[0m\u001b[1;33m\u001b[0m\u001b[1;33m\u001b[0m\u001b[0m\n\u001b[0;32m    265\u001b[0m             \u001b[1;32mfor\u001b[0m \u001b[0ml\u001b[0m \u001b[1;32min\u001b[0m \u001b[0mrange\u001b[0m\u001b[1;33m(\u001b[0m\u001b[0mj\u001b[0m\u001b[1;33m+\u001b[0m\u001b[1;36m1\u001b[0m\u001b[1;33m,\u001b[0m \u001b[0mn\u001b[0m\u001b[1;33m)\u001b[0m\u001b[1;33m:\u001b[0m\u001b[1;33m\u001b[0m\u001b[1;33m\u001b[0m\u001b[0m\n\u001b[1;32m--> 266\u001b[1;33m                 \u001b[0mak\u001b[0m\u001b[1;33m[\u001b[0m\u001b[0ml\u001b[0m\u001b[1;33m]\u001b[0m \u001b[1;33m-=\u001b[0m \u001b[0makj\u001b[0m \u001b[1;33m*\u001b[0m \u001b[0mai\u001b[0m\u001b[1;33m[\u001b[0m\u001b[0ml\u001b[0m\u001b[1;33m]\u001b[0m\u001b[1;33m\u001b[0m\u001b[1;33m\u001b[0m\u001b[0m\n\u001b[0m\u001b[0;32m    267\u001b[0m \u001b[1;33m\u001b[0m\u001b[0m\n\u001b[0;32m    268\u001b[0m         \u001b[1;31m# next row\u001b[0m\u001b[1;33m\u001b[0m\u001b[1;33m\u001b[0m\u001b[1;33m\u001b[0m\u001b[0m\n",
      "\u001b[1;32mc:\\users\\sasha\\appdata\\local\\programs\\python\\python38\\lib\\site-packages\\sympy\\polys\\domains\\expressiondomain.py\u001b[0m in \u001b[0;36m__mul__\u001b[1;34m(f, g)\u001b[0m\n\u001b[0;32m     88\u001b[0m \u001b[1;33m\u001b[0m\u001b[0m\n\u001b[0;32m     89\u001b[0m             \u001b[1;32mif\u001b[0m \u001b[0mg\u001b[0m \u001b[1;32mis\u001b[0m \u001b[1;32mnot\u001b[0m \u001b[1;32mNone\u001b[0m\u001b[1;33m:\u001b[0m\u001b[1;33m\u001b[0m\u001b[1;33m\u001b[0m\u001b[0m\n\u001b[1;32m---> 90\u001b[1;33m                 \u001b[1;32mreturn\u001b[0m \u001b[0mf\u001b[0m\u001b[1;33m.\u001b[0m\u001b[0msimplify\u001b[0m\u001b[1;33m(\u001b[0m\u001b[0mf\u001b[0m\u001b[1;33m.\u001b[0m\u001b[0mex\u001b[0m\u001b[1;33m*\u001b[0m\u001b[0mg\u001b[0m\u001b[1;33m.\u001b[0m\u001b[0mex\u001b[0m\u001b[1;33m)\u001b[0m\u001b[1;33m\u001b[0m\u001b[1;33m\u001b[0m\u001b[0m\n\u001b[0m\u001b[0;32m     91\u001b[0m             \u001b[1;32melse\u001b[0m\u001b[1;33m:\u001b[0m\u001b[1;33m\u001b[0m\u001b[1;33m\u001b[0m\u001b[0m\n\u001b[0;32m     92\u001b[0m                 \u001b[1;32mreturn\u001b[0m \u001b[0mNotImplemented\u001b[0m\u001b[1;33m\u001b[0m\u001b[1;33m\u001b[0m\u001b[0m\n",
      "\u001b[1;32mc:\\users\\sasha\\appdata\\local\\programs\\python\\python38\\lib\\site-packages\\sympy\\polys\\domains\\expressiondomain.py\u001b[0m in \u001b[0;36msimplify\u001b[1;34m(f, ex)\u001b[0m\n\u001b[0;32m     48\u001b[0m \u001b[1;33m\u001b[0m\u001b[0m\n\u001b[0;32m     49\u001b[0m         \u001b[1;32mdef\u001b[0m \u001b[0msimplify\u001b[0m\u001b[1;33m(\u001b[0m\u001b[0mf\u001b[0m\u001b[1;33m,\u001b[0m \u001b[0mex\u001b[0m\u001b[1;33m)\u001b[0m\u001b[1;33m:\u001b[0m\u001b[1;33m\u001b[0m\u001b[1;33m\u001b[0m\u001b[0m\n\u001b[1;32m---> 50\u001b[1;33m             \u001b[1;32mreturn\u001b[0m \u001b[0mf\u001b[0m\u001b[1;33m.\u001b[0m\u001b[0m__class__\u001b[0m\u001b[1;33m(\u001b[0m\u001b[0mex\u001b[0m\u001b[1;33m.\u001b[0m\u001b[0mcancel\u001b[0m\u001b[1;33m(\u001b[0m\u001b[1;33m)\u001b[0m\u001b[1;33m.\u001b[0m\u001b[0mexpand\u001b[0m\u001b[1;33m(\u001b[0m\u001b[1;33m**\u001b[0m\u001b[0meflags\u001b[0m\u001b[1;33m)\u001b[0m\u001b[1;33m)\u001b[0m\u001b[1;33m\u001b[0m\u001b[1;33m\u001b[0m\u001b[0m\n\u001b[0m\u001b[0;32m     51\u001b[0m \u001b[1;33m\u001b[0m\u001b[0m\n\u001b[0;32m     52\u001b[0m         \u001b[1;32mdef\u001b[0m \u001b[0m__abs__\u001b[0m\u001b[1;33m(\u001b[0m\u001b[0mf\u001b[0m\u001b[1;33m)\u001b[0m\u001b[1;33m:\u001b[0m\u001b[1;33m\u001b[0m\u001b[1;33m\u001b[0m\u001b[0m\n",
      "\u001b[1;32mc:\\users\\sasha\\appdata\\local\\programs\\python\\python38\\lib\\site-packages\\sympy\\core\\expr.py\u001b[0m in \u001b[0;36mcancel\u001b[1;34m(self, *gens, **args)\u001b[0m\n\u001b[0;32m   3682\u001b[0m         \u001b[1;34m\"\"\"See the cancel function in sympy.polys\"\"\"\u001b[0m\u001b[1;33m\u001b[0m\u001b[1;33m\u001b[0m\u001b[0m\n\u001b[0;32m   3683\u001b[0m         \u001b[1;32mfrom\u001b[0m \u001b[0msympy\u001b[0m\u001b[1;33m.\u001b[0m\u001b[0mpolys\u001b[0m \u001b[1;32mimport\u001b[0m \u001b[0mcancel\u001b[0m\u001b[1;33m\u001b[0m\u001b[1;33m\u001b[0m\u001b[0m\n\u001b[1;32m-> 3684\u001b[1;33m         \u001b[1;32mreturn\u001b[0m \u001b[0mcancel\u001b[0m\u001b[1;33m(\u001b[0m\u001b[0mself\u001b[0m\u001b[1;33m,\u001b[0m \u001b[1;33m*\u001b[0m\u001b[0mgens\u001b[0m\u001b[1;33m,\u001b[0m \u001b[1;33m**\u001b[0m\u001b[0margs\u001b[0m\u001b[1;33m)\u001b[0m\u001b[1;33m\u001b[0m\u001b[1;33m\u001b[0m\u001b[0m\n\u001b[0m\u001b[0;32m   3685\u001b[0m \u001b[1;33m\u001b[0m\u001b[0m\n\u001b[0;32m   3686\u001b[0m     \u001b[1;32mdef\u001b[0m \u001b[0minvert\u001b[0m\u001b[1;33m(\u001b[0m\u001b[0mself\u001b[0m\u001b[1;33m,\u001b[0m \u001b[0mg\u001b[0m\u001b[1;33m,\u001b[0m \u001b[1;33m*\u001b[0m\u001b[0mgens\u001b[0m\u001b[1;33m,\u001b[0m \u001b[1;33m**\u001b[0m\u001b[0margs\u001b[0m\u001b[1;33m)\u001b[0m\u001b[1;33m:\u001b[0m\u001b[1;33m\u001b[0m\u001b[1;33m\u001b[0m\u001b[0m\n",
      "\u001b[1;32mc:\\users\\sasha\\appdata\\local\\programs\\python\\python38\\lib\\site-packages\\sympy\\polys\\polytools.py\u001b[0m in \u001b[0;36mcancel\u001b[1;34m(f, *gens, **args)\u001b[0m\n\u001b[0;32m   6715\u001b[0m             \u001b[1;32mreturn\u001b[0m \u001b[0mf\u001b[0m\u001b[1;33m.\u001b[0m\u001b[0mxreplace\u001b[0m\u001b[1;33m(\u001b[0m\u001b[0mdict\u001b[0m\u001b[1;33m(\u001b[0m\u001b[0mreps\u001b[0m\u001b[1;33m)\u001b[0m\u001b[1;33m)\u001b[0m\u001b[1;33m\u001b[0m\u001b[1;33m\u001b[0m\u001b[0m\n\u001b[0;32m   6716\u001b[0m \u001b[1;33m\u001b[0m\u001b[0m\n\u001b[1;32m-> 6717\u001b[1;33m     \u001b[0mc\u001b[0m\u001b[1;33m,\u001b[0m \u001b[1;33m(\u001b[0m\u001b[0mP\u001b[0m\u001b[1;33m,\u001b[0m \u001b[0mQ\u001b[0m\u001b[1;33m)\u001b[0m \u001b[1;33m=\u001b[0m \u001b[1;36m1\u001b[0m\u001b[1;33m,\u001b[0m \u001b[0mF\u001b[0m\u001b[1;33m.\u001b[0m\u001b[0mcancel\u001b[0m\u001b[1;33m(\u001b[0m\u001b[0mG\u001b[0m\u001b[1;33m)\u001b[0m\u001b[1;33m\u001b[0m\u001b[1;33m\u001b[0m\u001b[0m\n\u001b[0m\u001b[0;32m   6718\u001b[0m     \u001b[1;32mif\u001b[0m \u001b[0mopt\u001b[0m\u001b[1;33m.\u001b[0m\u001b[0mget\u001b[0m\u001b[1;33m(\u001b[0m\u001b[1;34m'polys'\u001b[0m\u001b[1;33m,\u001b[0m \u001b[1;32mFalse\u001b[0m\u001b[1;33m)\u001b[0m \u001b[1;32mand\u001b[0m \u001b[1;32mnot\u001b[0m \u001b[1;34m'gens'\u001b[0m \u001b[1;32min\u001b[0m \u001b[0mopt\u001b[0m\u001b[1;33m:\u001b[0m\u001b[1;33m\u001b[0m\u001b[1;33m\u001b[0m\u001b[0m\n\u001b[0;32m   6719\u001b[0m         \u001b[0mopt\u001b[0m\u001b[1;33m[\u001b[0m\u001b[1;34m'gens'\u001b[0m\u001b[1;33m]\u001b[0m \u001b[1;33m=\u001b[0m \u001b[0mR\u001b[0m\u001b[1;33m.\u001b[0m\u001b[0msymbols\u001b[0m\u001b[1;33m\u001b[0m\u001b[1;33m\u001b[0m\u001b[0m\n",
      "\u001b[1;32mc:\\users\\sasha\\appdata\\local\\programs\\python\\python38\\lib\\site-packages\\sympy\\polys\\rings.py\u001b[0m in \u001b[0;36mcancel\u001b[1;34m(self, g)\u001b[0m\n\u001b[0;32m   2215\u001b[0m \u001b[1;33m\u001b[0m\u001b[0m\n\u001b[0;32m   2216\u001b[0m         \u001b[1;32mif\u001b[0m \u001b[1;32mnot\u001b[0m \u001b[1;33m(\u001b[0m\u001b[0mdomain\u001b[0m\u001b[1;33m.\u001b[0m\u001b[0mis_Field\u001b[0m \u001b[1;32mand\u001b[0m \u001b[0mdomain\u001b[0m\u001b[1;33m.\u001b[0m\u001b[0mhas_assoc_Ring\u001b[0m\u001b[1;33m)\u001b[0m\u001b[1;33m:\u001b[0m\u001b[1;33m\u001b[0m\u001b[1;33m\u001b[0m\u001b[0m\n\u001b[1;32m-> 2217\u001b[1;33m             \u001b[0m_\u001b[0m\u001b[1;33m,\u001b[0m \u001b[0mp\u001b[0m\u001b[1;33m,\u001b[0m \u001b[0mq\u001b[0m \u001b[1;33m=\u001b[0m \u001b[0mf\u001b[0m\u001b[1;33m.\u001b[0m\u001b[0mcofactors\u001b[0m\u001b[1;33m(\u001b[0m\u001b[0mg\u001b[0m\u001b[1;33m)\u001b[0m\u001b[1;33m\u001b[0m\u001b[1;33m\u001b[0m\u001b[0m\n\u001b[0m\u001b[0;32m   2218\u001b[0m \u001b[1;33m\u001b[0m\u001b[0m\n\u001b[0;32m   2219\u001b[0m             \u001b[1;32mif\u001b[0m \u001b[0mq\u001b[0m\u001b[1;33m.\u001b[0m\u001b[0mis_negative\u001b[0m\u001b[1;33m:\u001b[0m\u001b[1;33m\u001b[0m\u001b[1;33m\u001b[0m\u001b[0m\n",
      "\u001b[1;32mc:\\users\\sasha\\appdata\\local\\programs\\python\\python38\\lib\\site-packages\\sympy\\polys\\rings.py\u001b[0m in \u001b[0;36mcofactors\u001b[1;34m(f, g)\u001b[0m\n\u001b[0;32m   2131\u001b[0m \u001b[1;33m\u001b[0m\u001b[0m\n\u001b[0;32m   2132\u001b[0m         \u001b[0mJ\u001b[0m\u001b[1;33m,\u001b[0m \u001b[1;33m(\u001b[0m\u001b[0mf\u001b[0m\u001b[1;33m,\u001b[0m \u001b[0mg\u001b[0m\u001b[1;33m)\u001b[0m \u001b[1;33m=\u001b[0m \u001b[0mf\u001b[0m\u001b[1;33m.\u001b[0m\u001b[0mdeflate\u001b[0m\u001b[1;33m(\u001b[0m\u001b[0mg\u001b[0m\u001b[1;33m)\u001b[0m\u001b[1;33m\u001b[0m\u001b[1;33m\u001b[0m\u001b[0m\n\u001b[1;32m-> 2133\u001b[1;33m         \u001b[0mh\u001b[0m\u001b[1;33m,\u001b[0m \u001b[0mcff\u001b[0m\u001b[1;33m,\u001b[0m \u001b[0mcfg\u001b[0m \u001b[1;33m=\u001b[0m \u001b[0mf\u001b[0m\u001b[1;33m.\u001b[0m\u001b[0m_gcd\u001b[0m\u001b[1;33m(\u001b[0m\u001b[0mg\u001b[0m\u001b[1;33m)\u001b[0m\u001b[1;33m\u001b[0m\u001b[1;33m\u001b[0m\u001b[0m\n\u001b[0m\u001b[0;32m   2134\u001b[0m \u001b[1;33m\u001b[0m\u001b[0m\n\u001b[0;32m   2135\u001b[0m         \u001b[1;32mreturn\u001b[0m \u001b[1;33m(\u001b[0m\u001b[0mh\u001b[0m\u001b[1;33m.\u001b[0m\u001b[0minflate\u001b[0m\u001b[1;33m(\u001b[0m\u001b[0mJ\u001b[0m\u001b[1;33m)\u001b[0m\u001b[1;33m,\u001b[0m \u001b[0mcff\u001b[0m\u001b[1;33m.\u001b[0m\u001b[0minflate\u001b[0m\u001b[1;33m(\u001b[0m\u001b[0mJ\u001b[0m\u001b[1;33m)\u001b[0m\u001b[1;33m,\u001b[0m \u001b[0mcfg\u001b[0m\u001b[1;33m.\u001b[0m\u001b[0minflate\u001b[0m\u001b[1;33m(\u001b[0m\u001b[0mJ\u001b[0m\u001b[1;33m)\u001b[0m\u001b[1;33m)\u001b[0m\u001b[1;33m\u001b[0m\u001b[1;33m\u001b[0m\u001b[0m\n",
      "\u001b[1;32mc:\\users\\sasha\\appdata\\local\\programs\\python\\python38\\lib\\site-packages\\sympy\\polys\\rings.py\u001b[0m in \u001b[0;36m_gcd\u001b[1;34m(f, g)\u001b[0m\n\u001b[0;32m   2166\u001b[0m             \u001b[1;32mreturn\u001b[0m \u001b[0mf\u001b[0m\u001b[1;33m.\u001b[0m\u001b[0m_gcd_ZZ\u001b[0m\u001b[1;33m(\u001b[0m\u001b[0mg\u001b[0m\u001b[1;33m)\u001b[0m\u001b[1;33m\u001b[0m\u001b[1;33m\u001b[0m\u001b[0m\n\u001b[0;32m   2167\u001b[0m         \u001b[1;32melse\u001b[0m\u001b[1;33m:\u001b[0m \u001b[1;31m# TODO: don't use dense representation (port PRS algorithms)\u001b[0m\u001b[1;33m\u001b[0m\u001b[1;33m\u001b[0m\u001b[0m\n\u001b[1;32m-> 2168\u001b[1;33m             \u001b[1;32mreturn\u001b[0m \u001b[0mring\u001b[0m\u001b[1;33m.\u001b[0m\u001b[0mdmp_inner_gcd\u001b[0m\u001b[1;33m(\u001b[0m\u001b[0mf\u001b[0m\u001b[1;33m,\u001b[0m \u001b[0mg\u001b[0m\u001b[1;33m)\u001b[0m\u001b[1;33m\u001b[0m\u001b[1;33m\u001b[0m\u001b[0m\n\u001b[0m\u001b[0;32m   2169\u001b[0m \u001b[1;33m\u001b[0m\u001b[0m\n\u001b[0;32m   2170\u001b[0m     \u001b[1;32mdef\u001b[0m \u001b[0m_gcd_ZZ\u001b[0m\u001b[1;33m(\u001b[0m\u001b[0mf\u001b[0m\u001b[1;33m,\u001b[0m \u001b[0mg\u001b[0m\u001b[1;33m)\u001b[0m\u001b[1;33m:\u001b[0m\u001b[1;33m\u001b[0m\u001b[1;33m\u001b[0m\u001b[0m\n",
      "\u001b[1;32mc:\\users\\sasha\\appdata\\local\\programs\\python\\python38\\lib\\site-packages\\sympy\\polys\\compatibility.py\u001b[0m in \u001b[0;36mdmp_inner_gcd\u001b[1;34m(self, f, g)\u001b[0m\n\u001b[0;32m    654\u001b[0m         \u001b[1;32mreturn\u001b[0m \u001b[1;33m(\u001b[0m\u001b[0mself\u001b[0m\u001b[1;33m.\u001b[0m\u001b[0mfrom_dense\u001b[0m\u001b[1;33m(\u001b[0m\u001b[0mH\u001b[0m\u001b[1;33m)\u001b[0m\u001b[1;33m,\u001b[0m \u001b[0mself\u001b[0m\u001b[1;33m.\u001b[0m\u001b[0mfrom_dense\u001b[0m\u001b[1;33m(\u001b[0m\u001b[0mF\u001b[0m\u001b[1;33m)\u001b[0m\u001b[1;33m,\u001b[0m \u001b[0mself\u001b[0m\u001b[1;33m.\u001b[0m\u001b[0mfrom_dense\u001b[0m\u001b[1;33m(\u001b[0m\u001b[0mG\u001b[0m\u001b[1;33m)\u001b[0m\u001b[1;33m)\u001b[0m\u001b[1;33m\u001b[0m\u001b[1;33m\u001b[0m\u001b[0m\n\u001b[0;32m    655\u001b[0m     \u001b[1;32mdef\u001b[0m \u001b[0mdmp_inner_gcd\u001b[0m\u001b[1;33m(\u001b[0m\u001b[0mself\u001b[0m\u001b[1;33m,\u001b[0m \u001b[0mf\u001b[0m\u001b[1;33m,\u001b[0m \u001b[0mg\u001b[0m\u001b[1;33m)\u001b[0m\u001b[1;33m:\u001b[0m\u001b[1;33m\u001b[0m\u001b[1;33m\u001b[0m\u001b[0m\n\u001b[1;32m--> 656\u001b[1;33m         \u001b[0mH\u001b[0m\u001b[1;33m,\u001b[0m \u001b[0mF\u001b[0m\u001b[1;33m,\u001b[0m \u001b[0mG\u001b[0m \u001b[1;33m=\u001b[0m \u001b[0mdmp_inner_gcd\u001b[0m\u001b[1;33m(\u001b[0m\u001b[0mself\u001b[0m\u001b[1;33m.\u001b[0m\u001b[0mto_dense\u001b[0m\u001b[1;33m(\u001b[0m\u001b[0mf\u001b[0m\u001b[1;33m)\u001b[0m\u001b[1;33m,\u001b[0m \u001b[0mself\u001b[0m\u001b[1;33m.\u001b[0m\u001b[0mto_dense\u001b[0m\u001b[1;33m(\u001b[0m\u001b[0mg\u001b[0m\u001b[1;33m)\u001b[0m\u001b[1;33m,\u001b[0m \u001b[0mself\u001b[0m\u001b[1;33m.\u001b[0m\u001b[0mngens\u001b[0m\u001b[1;33m-\u001b[0m\u001b[1;36m1\u001b[0m\u001b[1;33m,\u001b[0m \u001b[0mself\u001b[0m\u001b[1;33m.\u001b[0m\u001b[0mdomain\u001b[0m\u001b[1;33m)\u001b[0m\u001b[1;33m\u001b[0m\u001b[1;33m\u001b[0m\u001b[0m\n\u001b[0m\u001b[0;32m    657\u001b[0m         \u001b[1;32mreturn\u001b[0m \u001b[1;33m(\u001b[0m\u001b[0mself\u001b[0m\u001b[1;33m.\u001b[0m\u001b[0mfrom_dense\u001b[0m\u001b[1;33m(\u001b[0m\u001b[0mH\u001b[0m\u001b[1;33m)\u001b[0m\u001b[1;33m,\u001b[0m \u001b[0mself\u001b[0m\u001b[1;33m.\u001b[0m\u001b[0mfrom_dense\u001b[0m\u001b[1;33m(\u001b[0m\u001b[0mF\u001b[0m\u001b[1;33m)\u001b[0m\u001b[1;33m,\u001b[0m \u001b[0mself\u001b[0m\u001b[1;33m.\u001b[0m\u001b[0mfrom_dense\u001b[0m\u001b[1;33m(\u001b[0m\u001b[0mG\u001b[0m\u001b[1;33m)\u001b[0m\u001b[1;33m)\u001b[0m\u001b[1;33m\u001b[0m\u001b[1;33m\u001b[0m\u001b[0m\n\u001b[0;32m    658\u001b[0m     \u001b[1;32mdef\u001b[0m \u001b[0mdup_gcd\u001b[0m\u001b[1;33m(\u001b[0m\u001b[0mself\u001b[0m\u001b[1;33m,\u001b[0m \u001b[0mf\u001b[0m\u001b[1;33m,\u001b[0m \u001b[0mg\u001b[0m\u001b[1;33m)\u001b[0m\u001b[1;33m:\u001b[0m\u001b[1;33m\u001b[0m\u001b[1;33m\u001b[0m\u001b[0m\n",
      "\u001b[1;32mc:\\users\\sasha\\appdata\\local\\programs\\python\\python38\\lib\\site-packages\\sympy\\polys\\euclidtools.py\u001b[0m in \u001b[0;36mdmp_inner_gcd\u001b[1;34m(f, g, u, K)\u001b[0m\n\u001b[0;32m   1582\u001b[0m \u001b[1;33m\u001b[0m\u001b[0m\n\u001b[0;32m   1583\u001b[0m     \u001b[0mJ\u001b[0m\u001b[1;33m,\u001b[0m \u001b[1;33m(\u001b[0m\u001b[0mf\u001b[0m\u001b[1;33m,\u001b[0m \u001b[0mg\u001b[0m\u001b[1;33m)\u001b[0m \u001b[1;33m=\u001b[0m \u001b[0mdmp_multi_deflate\u001b[0m\u001b[1;33m(\u001b[0m\u001b[1;33m(\u001b[0m\u001b[0mf\u001b[0m\u001b[1;33m,\u001b[0m \u001b[0mg\u001b[0m\u001b[1;33m)\u001b[0m\u001b[1;33m,\u001b[0m \u001b[0mu\u001b[0m\u001b[1;33m,\u001b[0m \u001b[0mK\u001b[0m\u001b[1;33m)\u001b[0m\u001b[1;33m\u001b[0m\u001b[1;33m\u001b[0m\u001b[0m\n\u001b[1;32m-> 1584\u001b[1;33m     \u001b[0mh\u001b[0m\u001b[1;33m,\u001b[0m \u001b[0mcff\u001b[0m\u001b[1;33m,\u001b[0m \u001b[0mcfg\u001b[0m \u001b[1;33m=\u001b[0m \u001b[0m_dmp_inner_gcd\u001b[0m\u001b[1;33m(\u001b[0m\u001b[0mf\u001b[0m\u001b[1;33m,\u001b[0m \u001b[0mg\u001b[0m\u001b[1;33m,\u001b[0m \u001b[0mu\u001b[0m\u001b[1;33m,\u001b[0m \u001b[0mK\u001b[0m\u001b[1;33m)\u001b[0m\u001b[1;33m\u001b[0m\u001b[1;33m\u001b[0m\u001b[0m\n\u001b[0m\u001b[0;32m   1585\u001b[0m \u001b[1;33m\u001b[0m\u001b[0m\n\u001b[0;32m   1586\u001b[0m     return (dmp_inflate(h, J, u, K),\n",
      "\u001b[1;32mc:\\users\\sasha\\appdata\\local\\programs\\python\\python38\\lib\\site-packages\\sympy\\polys\\euclidtools.py\u001b[0m in \u001b[0;36m_dmp_inner_gcd\u001b[1;34m(f, g, u, K)\u001b[0m\n\u001b[0;32m   1555\u001b[0m                 \u001b[1;32mpass\u001b[0m\u001b[1;33m\u001b[0m\u001b[1;33m\u001b[0m\u001b[0m\n\u001b[0;32m   1556\u001b[0m \u001b[1;33m\u001b[0m\u001b[0m\n\u001b[1;32m-> 1557\u001b[1;33m         \u001b[1;32mreturn\u001b[0m \u001b[0mdmp_rr_prs_gcd\u001b[0m\u001b[1;33m(\u001b[0m\u001b[0mf\u001b[0m\u001b[1;33m,\u001b[0m \u001b[0mg\u001b[0m\u001b[1;33m,\u001b[0m \u001b[0mu\u001b[0m\u001b[1;33m,\u001b[0m \u001b[0mK\u001b[0m\u001b[1;33m)\u001b[0m\u001b[1;33m\u001b[0m\u001b[1;33m\u001b[0m\u001b[0m\n\u001b[0m\u001b[0;32m   1558\u001b[0m \u001b[1;33m\u001b[0m\u001b[0m\n\u001b[0;32m   1559\u001b[0m \u001b[1;33m\u001b[0m\u001b[0m\n",
      "\u001b[1;32mc:\\users\\sasha\\appdata\\local\\programs\\python\\python38\\lib\\site-packages\\sympy\\polys\\euclidtools.py\u001b[0m in \u001b[0;36mdmp_rr_prs_gcd\u001b[1;34m(f, g, u, K)\u001b[0m\n\u001b[0;32m   1066\u001b[0m     \u001b[0mgc\u001b[0m\u001b[1;33m,\u001b[0m \u001b[0mG\u001b[0m \u001b[1;33m=\u001b[0m \u001b[0mdmp_primitive\u001b[0m\u001b[1;33m(\u001b[0m\u001b[0mg\u001b[0m\u001b[1;33m,\u001b[0m \u001b[0mu\u001b[0m\u001b[1;33m,\u001b[0m \u001b[0mK\u001b[0m\u001b[1;33m)\u001b[0m\u001b[1;33m\u001b[0m\u001b[1;33m\u001b[0m\u001b[0m\n\u001b[0;32m   1067\u001b[0m \u001b[1;33m\u001b[0m\u001b[0m\n\u001b[1;32m-> 1068\u001b[1;33m     \u001b[0mh\u001b[0m \u001b[1;33m=\u001b[0m \u001b[0mdmp_subresultants\u001b[0m\u001b[1;33m(\u001b[0m\u001b[0mF\u001b[0m\u001b[1;33m,\u001b[0m \u001b[0mG\u001b[0m\u001b[1;33m,\u001b[0m \u001b[0mu\u001b[0m\u001b[1;33m,\u001b[0m \u001b[0mK\u001b[0m\u001b[1;33m)\u001b[0m\u001b[1;33m[\u001b[0m\u001b[1;33m-\u001b[0m\u001b[1;36m1\u001b[0m\u001b[1;33m]\u001b[0m\u001b[1;33m\u001b[0m\u001b[1;33m\u001b[0m\u001b[0m\n\u001b[0m\u001b[0;32m   1069\u001b[0m     \u001b[0mc\u001b[0m\u001b[1;33m,\u001b[0m \u001b[0m_\u001b[0m\u001b[1;33m,\u001b[0m \u001b[0m_\u001b[0m \u001b[1;33m=\u001b[0m \u001b[0mdmp_rr_prs_gcd\u001b[0m\u001b[1;33m(\u001b[0m\u001b[0mfc\u001b[0m\u001b[1;33m,\u001b[0m \u001b[0mgc\u001b[0m\u001b[1;33m,\u001b[0m \u001b[0mu\u001b[0m \u001b[1;33m-\u001b[0m \u001b[1;36m1\u001b[0m\u001b[1;33m,\u001b[0m \u001b[0mK\u001b[0m\u001b[1;33m)\u001b[0m\u001b[1;33m\u001b[0m\u001b[1;33m\u001b[0m\u001b[0m\n\u001b[0;32m   1070\u001b[0m \u001b[1;33m\u001b[0m\u001b[0m\n",
      "\u001b[1;32mc:\\users\\sasha\\appdata\\local\\programs\\python\\python38\\lib\\site-packages\\sympy\\polys\\euclidtools.py\u001b[0m in \u001b[0;36mdmp_subresultants\u001b[1;34m(f, g, u, K)\u001b[0m\n\u001b[0;32m    548\u001b[0m \u001b[1;33m\u001b[0m\u001b[0m\n\u001b[0;32m    549\u001b[0m     \"\"\"\n\u001b[1;32m--> 550\u001b[1;33m     \u001b[1;32mreturn\u001b[0m \u001b[0mdmp_inner_subresultants\u001b[0m\u001b[1;33m(\u001b[0m\u001b[0mf\u001b[0m\u001b[1;33m,\u001b[0m \u001b[0mg\u001b[0m\u001b[1;33m,\u001b[0m \u001b[0mu\u001b[0m\u001b[1;33m,\u001b[0m \u001b[0mK\u001b[0m\u001b[1;33m)\u001b[0m\u001b[1;33m[\u001b[0m\u001b[1;36m0\u001b[0m\u001b[1;33m]\u001b[0m\u001b[1;33m\u001b[0m\u001b[1;33m\u001b[0m\u001b[0m\n\u001b[0m\u001b[0;32m    551\u001b[0m \u001b[1;33m\u001b[0m\u001b[0m\n\u001b[0;32m    552\u001b[0m \u001b[1;33m\u001b[0m\u001b[0m\n",
      "\u001b[1;32mc:\\users\\sasha\\appdata\\local\\programs\\python\\python38\\lib\\site-packages\\sympy\\polys\\euclidtools.py\u001b[0m in \u001b[0;36mdmp_inner_subresultants\u001b[1;34m(f, g, u, K)\u001b[0m\n\u001b[0;32m    511\u001b[0m                     dmp_pow(c, d, v, K), v, K)\n\u001b[0;32m    512\u001b[0m \u001b[1;33m\u001b[0m\u001b[0m\n\u001b[1;32m--> 513\u001b[1;33m         \u001b[0mh\u001b[0m \u001b[1;33m=\u001b[0m \u001b[0mdmp_prem\u001b[0m\u001b[1;33m(\u001b[0m\u001b[0mf\u001b[0m\u001b[1;33m,\u001b[0m \u001b[0mg\u001b[0m\u001b[1;33m,\u001b[0m \u001b[0mu\u001b[0m\u001b[1;33m,\u001b[0m \u001b[0mK\u001b[0m\u001b[1;33m)\u001b[0m\u001b[1;33m\u001b[0m\u001b[1;33m\u001b[0m\u001b[0m\n\u001b[0m\u001b[0;32m    514\u001b[0m         \u001b[0mh\u001b[0m \u001b[1;33m=\u001b[0m \u001b[1;33m[\u001b[0m \u001b[0mdmp_quo\u001b[0m\u001b[1;33m(\u001b[0m\u001b[0mch\u001b[0m\u001b[1;33m,\u001b[0m \u001b[0mb\u001b[0m\u001b[1;33m,\u001b[0m \u001b[0mv\u001b[0m\u001b[1;33m,\u001b[0m \u001b[0mK\u001b[0m\u001b[1;33m)\u001b[0m \u001b[1;32mfor\u001b[0m \u001b[0mch\u001b[0m \u001b[1;32min\u001b[0m \u001b[0mh\u001b[0m \u001b[1;33m]\u001b[0m\u001b[1;33m\u001b[0m\u001b[1;33m\u001b[0m\u001b[0m\n\u001b[0;32m    515\u001b[0m \u001b[1;33m\u001b[0m\u001b[0m\n",
      "\u001b[1;32mc:\\users\\sasha\\appdata\\local\\programs\\python\\python38\\lib\\site-packages\\sympy\\polys\\densearith.py\u001b[0m in \u001b[0;36mdmp_prem\u001b[1;34m(f, g, u, K)\u001b[0m\n\u001b[0;32m   1235\u001b[0m         \u001b[0mj\u001b[0m\u001b[1;33m,\u001b[0m \u001b[0mN\u001b[0m \u001b[1;33m=\u001b[0m \u001b[0mdr\u001b[0m \u001b[1;33m-\u001b[0m \u001b[0mdg\u001b[0m\u001b[1;33m,\u001b[0m \u001b[0mN\u001b[0m \u001b[1;33m-\u001b[0m \u001b[1;36m1\u001b[0m\u001b[1;33m\u001b[0m\u001b[1;33m\u001b[0m\u001b[0m\n\u001b[0;32m   1236\u001b[0m \u001b[1;33m\u001b[0m\u001b[0m\n\u001b[1;32m-> 1237\u001b[1;33m         \u001b[0mR\u001b[0m \u001b[1;33m=\u001b[0m \u001b[0mdmp_mul_term\u001b[0m\u001b[1;33m(\u001b[0m\u001b[0mr\u001b[0m\u001b[1;33m,\u001b[0m \u001b[0mlc_g\u001b[0m\u001b[1;33m,\u001b[0m \u001b[1;36m0\u001b[0m\u001b[1;33m,\u001b[0m \u001b[0mu\u001b[0m\u001b[1;33m,\u001b[0m \u001b[0mK\u001b[0m\u001b[1;33m)\u001b[0m\u001b[1;33m\u001b[0m\u001b[1;33m\u001b[0m\u001b[0m\n\u001b[0m\u001b[0;32m   1238\u001b[0m         \u001b[0mG\u001b[0m \u001b[1;33m=\u001b[0m \u001b[0mdmp_mul_term\u001b[0m\u001b[1;33m(\u001b[0m\u001b[0mg\u001b[0m\u001b[1;33m,\u001b[0m \u001b[0mlc_r\u001b[0m\u001b[1;33m,\u001b[0m \u001b[0mj\u001b[0m\u001b[1;33m,\u001b[0m \u001b[0mu\u001b[0m\u001b[1;33m,\u001b[0m \u001b[0mK\u001b[0m\u001b[1;33m)\u001b[0m\u001b[1;33m\u001b[0m\u001b[1;33m\u001b[0m\u001b[0m\n\u001b[0;32m   1239\u001b[0m         \u001b[0mr\u001b[0m \u001b[1;33m=\u001b[0m \u001b[0mdmp_sub\u001b[0m\u001b[1;33m(\u001b[0m\u001b[0mR\u001b[0m\u001b[1;33m,\u001b[0m \u001b[0mG\u001b[0m\u001b[1;33m,\u001b[0m \u001b[0mu\u001b[0m\u001b[1;33m,\u001b[0m \u001b[0mK\u001b[0m\u001b[1;33m)\u001b[0m\u001b[1;33m\u001b[0m\u001b[1;33m\u001b[0m\u001b[0m\n",
      "\u001b[1;32mc:\\users\\sasha\\appdata\\local\\programs\\python\\python38\\lib\\site-packages\\sympy\\polys\\densearith.py\u001b[0m in \u001b[0;36mdmp_mul_term\u001b[1;34m(f, c, i, u, K)\u001b[0m\n\u001b[0;32m    182\u001b[0m         \u001b[1;32mreturn\u001b[0m \u001b[0mdmp_zero\u001b[0m\u001b[1;33m(\u001b[0m\u001b[0mu\u001b[0m\u001b[1;33m)\u001b[0m\u001b[1;33m\u001b[0m\u001b[1;33m\u001b[0m\u001b[0m\n\u001b[0;32m    183\u001b[0m     \u001b[1;32melse\u001b[0m\u001b[1;33m:\u001b[0m\u001b[1;33m\u001b[0m\u001b[1;33m\u001b[0m\u001b[0m\n\u001b[1;32m--> 184\u001b[1;33m         \u001b[1;32mreturn\u001b[0m \u001b[1;33m[\u001b[0m \u001b[0mdmp_mul\u001b[0m\u001b[1;33m(\u001b[0m\u001b[0mcf\u001b[0m\u001b[1;33m,\u001b[0m \u001b[0mc\u001b[0m\u001b[1;33m,\u001b[0m \u001b[0mv\u001b[0m\u001b[1;33m,\u001b[0m \u001b[0mK\u001b[0m\u001b[1;33m)\u001b[0m \u001b[1;32mfor\u001b[0m \u001b[0mcf\u001b[0m \u001b[1;32min\u001b[0m \u001b[0mf\u001b[0m \u001b[1;33m]\u001b[0m \u001b[1;33m+\u001b[0m \u001b[0mdmp_zeros\u001b[0m\u001b[1;33m(\u001b[0m\u001b[0mi\u001b[0m\u001b[1;33m,\u001b[0m \u001b[0mv\u001b[0m\u001b[1;33m,\u001b[0m \u001b[0mK\u001b[0m\u001b[1;33m)\u001b[0m\u001b[1;33m\u001b[0m\u001b[1;33m\u001b[0m\u001b[0m\n\u001b[0m\u001b[0;32m    185\u001b[0m \u001b[1;33m\u001b[0m\u001b[0m\n\u001b[0;32m    186\u001b[0m \u001b[1;33m\u001b[0m\u001b[0m\n",
      "\u001b[1;32mc:\\users\\sasha\\appdata\\local\\programs\\python\\python38\\lib\\site-packages\\sympy\\polys\\densearith.py\u001b[0m in \u001b[0;36m<listcomp>\u001b[1;34m(.0)\u001b[0m\n\u001b[0;32m    182\u001b[0m         \u001b[1;32mreturn\u001b[0m \u001b[0mdmp_zero\u001b[0m\u001b[1;33m(\u001b[0m\u001b[0mu\u001b[0m\u001b[1;33m)\u001b[0m\u001b[1;33m\u001b[0m\u001b[1;33m\u001b[0m\u001b[0m\n\u001b[0;32m    183\u001b[0m     \u001b[1;32melse\u001b[0m\u001b[1;33m:\u001b[0m\u001b[1;33m\u001b[0m\u001b[1;33m\u001b[0m\u001b[0m\n\u001b[1;32m--> 184\u001b[1;33m         \u001b[1;32mreturn\u001b[0m \u001b[1;33m[\u001b[0m \u001b[0mdmp_mul\u001b[0m\u001b[1;33m(\u001b[0m\u001b[0mcf\u001b[0m\u001b[1;33m,\u001b[0m \u001b[0mc\u001b[0m\u001b[1;33m,\u001b[0m \u001b[0mv\u001b[0m\u001b[1;33m,\u001b[0m \u001b[0mK\u001b[0m\u001b[1;33m)\u001b[0m \u001b[1;32mfor\u001b[0m \u001b[0mcf\u001b[0m \u001b[1;32min\u001b[0m \u001b[0mf\u001b[0m \u001b[1;33m]\u001b[0m \u001b[1;33m+\u001b[0m \u001b[0mdmp_zeros\u001b[0m\u001b[1;33m(\u001b[0m\u001b[0mi\u001b[0m\u001b[1;33m,\u001b[0m \u001b[0mv\u001b[0m\u001b[1;33m,\u001b[0m \u001b[0mK\u001b[0m\u001b[1;33m)\u001b[0m\u001b[1;33m\u001b[0m\u001b[1;33m\u001b[0m\u001b[0m\n\u001b[0m\u001b[0;32m    185\u001b[0m \u001b[1;33m\u001b[0m\u001b[0m\n\u001b[0;32m    186\u001b[0m \u001b[1;33m\u001b[0m\u001b[0m\n",
      "\u001b[1;32mc:\\users\\sasha\\appdata\\local\\programs\\python\\python38\\lib\\site-packages\\sympy\\polys\\densearith.py\u001b[0m in \u001b[0;36mdmp_mul\u001b[1;34m(f, g, u, K)\u001b[0m\n\u001b[0;32m    826\u001b[0m \u001b[1;33m\u001b[0m\u001b[0m\n\u001b[0;32m    827\u001b[0m         \u001b[1;32mfor\u001b[0m \u001b[0mj\u001b[0m \u001b[1;32min\u001b[0m \u001b[0mrange\u001b[0m\u001b[1;33m(\u001b[0m\u001b[0mmax\u001b[0m\u001b[1;33m(\u001b[0m\u001b[1;36m0\u001b[0m\u001b[1;33m,\u001b[0m \u001b[0mi\u001b[0m \u001b[1;33m-\u001b[0m \u001b[0mdg\u001b[0m\u001b[1;33m)\u001b[0m\u001b[1;33m,\u001b[0m \u001b[0mmin\u001b[0m\u001b[1;33m(\u001b[0m\u001b[0mdf\u001b[0m\u001b[1;33m,\u001b[0m \u001b[0mi\u001b[0m\u001b[1;33m)\u001b[0m \u001b[1;33m+\u001b[0m \u001b[1;36m1\u001b[0m\u001b[1;33m)\u001b[0m\u001b[1;33m:\u001b[0m\u001b[1;33m\u001b[0m\u001b[1;33m\u001b[0m\u001b[0m\n\u001b[1;32m--> 828\u001b[1;33m             \u001b[0mcoeff\u001b[0m \u001b[1;33m=\u001b[0m \u001b[0mdmp_add\u001b[0m\u001b[1;33m(\u001b[0m\u001b[0mcoeff\u001b[0m\u001b[1;33m,\u001b[0m \u001b[0mdmp_mul\u001b[0m\u001b[1;33m(\u001b[0m\u001b[0mf\u001b[0m\u001b[1;33m[\u001b[0m\u001b[0mj\u001b[0m\u001b[1;33m]\u001b[0m\u001b[1;33m,\u001b[0m \u001b[0mg\u001b[0m\u001b[1;33m[\u001b[0m\u001b[0mi\u001b[0m \u001b[1;33m-\u001b[0m \u001b[0mj\u001b[0m\u001b[1;33m]\u001b[0m\u001b[1;33m,\u001b[0m \u001b[0mv\u001b[0m\u001b[1;33m,\u001b[0m \u001b[0mK\u001b[0m\u001b[1;33m)\u001b[0m\u001b[1;33m,\u001b[0m \u001b[0mv\u001b[0m\u001b[1;33m,\u001b[0m \u001b[0mK\u001b[0m\u001b[1;33m)\u001b[0m\u001b[1;33m\u001b[0m\u001b[1;33m\u001b[0m\u001b[0m\n\u001b[0m\u001b[0;32m    829\u001b[0m \u001b[1;33m\u001b[0m\u001b[0m\n\u001b[0;32m    830\u001b[0m         \u001b[0mh\u001b[0m\u001b[1;33m.\u001b[0m\u001b[0mappend\u001b[0m\u001b[1;33m(\u001b[0m\u001b[0mcoeff\u001b[0m\u001b[1;33m)\u001b[0m\u001b[1;33m\u001b[0m\u001b[1;33m\u001b[0m\u001b[0m\n",
      "\u001b[1;32mc:\\users\\sasha\\appdata\\local\\programs\\python\\python38\\lib\\site-packages\\sympy\\polys\\densearith.py\u001b[0m in \u001b[0;36mdmp_mul\u001b[1;34m(f, g, u, K)\u001b[0m\n\u001b[0;32m    826\u001b[0m \u001b[1;33m\u001b[0m\u001b[0m\n\u001b[0;32m    827\u001b[0m         \u001b[1;32mfor\u001b[0m \u001b[0mj\u001b[0m \u001b[1;32min\u001b[0m \u001b[0mrange\u001b[0m\u001b[1;33m(\u001b[0m\u001b[0mmax\u001b[0m\u001b[1;33m(\u001b[0m\u001b[1;36m0\u001b[0m\u001b[1;33m,\u001b[0m \u001b[0mi\u001b[0m \u001b[1;33m-\u001b[0m \u001b[0mdg\u001b[0m\u001b[1;33m)\u001b[0m\u001b[1;33m,\u001b[0m \u001b[0mmin\u001b[0m\u001b[1;33m(\u001b[0m\u001b[0mdf\u001b[0m\u001b[1;33m,\u001b[0m \u001b[0mi\u001b[0m\u001b[1;33m)\u001b[0m \u001b[1;33m+\u001b[0m \u001b[1;36m1\u001b[0m\u001b[1;33m)\u001b[0m\u001b[1;33m:\u001b[0m\u001b[1;33m\u001b[0m\u001b[1;33m\u001b[0m\u001b[0m\n\u001b[1;32m--> 828\u001b[1;33m             \u001b[0mcoeff\u001b[0m \u001b[1;33m=\u001b[0m \u001b[0mdmp_add\u001b[0m\u001b[1;33m(\u001b[0m\u001b[0mcoeff\u001b[0m\u001b[1;33m,\u001b[0m \u001b[0mdmp_mul\u001b[0m\u001b[1;33m(\u001b[0m\u001b[0mf\u001b[0m\u001b[1;33m[\u001b[0m\u001b[0mj\u001b[0m\u001b[1;33m]\u001b[0m\u001b[1;33m,\u001b[0m \u001b[0mg\u001b[0m\u001b[1;33m[\u001b[0m\u001b[0mi\u001b[0m \u001b[1;33m-\u001b[0m \u001b[0mj\u001b[0m\u001b[1;33m]\u001b[0m\u001b[1;33m,\u001b[0m \u001b[0mv\u001b[0m\u001b[1;33m,\u001b[0m \u001b[0mK\u001b[0m\u001b[1;33m)\u001b[0m\u001b[1;33m,\u001b[0m \u001b[0mv\u001b[0m\u001b[1;33m,\u001b[0m \u001b[0mK\u001b[0m\u001b[1;33m)\u001b[0m\u001b[1;33m\u001b[0m\u001b[1;33m\u001b[0m\u001b[0m\n\u001b[0m\u001b[0;32m    829\u001b[0m \u001b[1;33m\u001b[0m\u001b[0m\n\u001b[0;32m    830\u001b[0m         \u001b[0mh\u001b[0m\u001b[1;33m.\u001b[0m\u001b[0mappend\u001b[0m\u001b[1;33m(\u001b[0m\u001b[0mcoeff\u001b[0m\u001b[1;33m)\u001b[0m\u001b[1;33m\u001b[0m\u001b[1;33m\u001b[0m\u001b[0m\n",
      "\u001b[1;32mc:\\users\\sasha\\appdata\\local\\programs\\python\\python38\\lib\\site-packages\\sympy\\polys\\densearith.py\u001b[0m in \u001b[0;36mdmp_mul\u001b[1;34m(f, g, u, K)\u001b[0m\n\u001b[0;32m    826\u001b[0m \u001b[1;33m\u001b[0m\u001b[0m\n\u001b[0;32m    827\u001b[0m         \u001b[1;32mfor\u001b[0m \u001b[0mj\u001b[0m \u001b[1;32min\u001b[0m \u001b[0mrange\u001b[0m\u001b[1;33m(\u001b[0m\u001b[0mmax\u001b[0m\u001b[1;33m(\u001b[0m\u001b[1;36m0\u001b[0m\u001b[1;33m,\u001b[0m \u001b[0mi\u001b[0m \u001b[1;33m-\u001b[0m \u001b[0mdg\u001b[0m\u001b[1;33m)\u001b[0m\u001b[1;33m,\u001b[0m \u001b[0mmin\u001b[0m\u001b[1;33m(\u001b[0m\u001b[0mdf\u001b[0m\u001b[1;33m,\u001b[0m \u001b[0mi\u001b[0m\u001b[1;33m)\u001b[0m \u001b[1;33m+\u001b[0m \u001b[1;36m1\u001b[0m\u001b[1;33m)\u001b[0m\u001b[1;33m:\u001b[0m\u001b[1;33m\u001b[0m\u001b[1;33m\u001b[0m\u001b[0m\n\u001b[1;32m--> 828\u001b[1;33m             \u001b[0mcoeff\u001b[0m \u001b[1;33m=\u001b[0m \u001b[0mdmp_add\u001b[0m\u001b[1;33m(\u001b[0m\u001b[0mcoeff\u001b[0m\u001b[1;33m,\u001b[0m \u001b[0mdmp_mul\u001b[0m\u001b[1;33m(\u001b[0m\u001b[0mf\u001b[0m\u001b[1;33m[\u001b[0m\u001b[0mj\u001b[0m\u001b[1;33m]\u001b[0m\u001b[1;33m,\u001b[0m \u001b[0mg\u001b[0m\u001b[1;33m[\u001b[0m\u001b[0mi\u001b[0m \u001b[1;33m-\u001b[0m \u001b[0mj\u001b[0m\u001b[1;33m]\u001b[0m\u001b[1;33m,\u001b[0m \u001b[0mv\u001b[0m\u001b[1;33m,\u001b[0m \u001b[0mK\u001b[0m\u001b[1;33m)\u001b[0m\u001b[1;33m,\u001b[0m \u001b[0mv\u001b[0m\u001b[1;33m,\u001b[0m \u001b[0mK\u001b[0m\u001b[1;33m)\u001b[0m\u001b[1;33m\u001b[0m\u001b[1;33m\u001b[0m\u001b[0m\n\u001b[0m\u001b[0;32m    829\u001b[0m \u001b[1;33m\u001b[0m\u001b[0m\n\u001b[0;32m    830\u001b[0m         \u001b[0mh\u001b[0m\u001b[1;33m.\u001b[0m\u001b[0mappend\u001b[0m\u001b[1;33m(\u001b[0m\u001b[0mcoeff\u001b[0m\u001b[1;33m)\u001b[0m\u001b[1;33m\u001b[0m\u001b[1;33m\u001b[0m\u001b[0m\n",
      "\u001b[1;32mc:\\users\\sasha\\appdata\\local\\programs\\python\\python38\\lib\\site-packages\\sympy\\polys\\densearith.py\u001b[0m in \u001b[0;36mdmp_mul\u001b[1;34m(f, g, u, K)\u001b[0m\n\u001b[0;32m    826\u001b[0m \u001b[1;33m\u001b[0m\u001b[0m\n\u001b[0;32m    827\u001b[0m         \u001b[1;32mfor\u001b[0m \u001b[0mj\u001b[0m \u001b[1;32min\u001b[0m \u001b[0mrange\u001b[0m\u001b[1;33m(\u001b[0m\u001b[0mmax\u001b[0m\u001b[1;33m(\u001b[0m\u001b[1;36m0\u001b[0m\u001b[1;33m,\u001b[0m \u001b[0mi\u001b[0m \u001b[1;33m-\u001b[0m \u001b[0mdg\u001b[0m\u001b[1;33m)\u001b[0m\u001b[1;33m,\u001b[0m \u001b[0mmin\u001b[0m\u001b[1;33m(\u001b[0m\u001b[0mdf\u001b[0m\u001b[1;33m,\u001b[0m \u001b[0mi\u001b[0m\u001b[1;33m)\u001b[0m \u001b[1;33m+\u001b[0m \u001b[1;36m1\u001b[0m\u001b[1;33m)\u001b[0m\u001b[1;33m:\u001b[0m\u001b[1;33m\u001b[0m\u001b[1;33m\u001b[0m\u001b[0m\n\u001b[1;32m--> 828\u001b[1;33m             \u001b[0mcoeff\u001b[0m \u001b[1;33m=\u001b[0m \u001b[0mdmp_add\u001b[0m\u001b[1;33m(\u001b[0m\u001b[0mcoeff\u001b[0m\u001b[1;33m,\u001b[0m \u001b[0mdmp_mul\u001b[0m\u001b[1;33m(\u001b[0m\u001b[0mf\u001b[0m\u001b[1;33m[\u001b[0m\u001b[0mj\u001b[0m\u001b[1;33m]\u001b[0m\u001b[1;33m,\u001b[0m \u001b[0mg\u001b[0m\u001b[1;33m[\u001b[0m\u001b[0mi\u001b[0m \u001b[1;33m-\u001b[0m \u001b[0mj\u001b[0m\u001b[1;33m]\u001b[0m\u001b[1;33m,\u001b[0m \u001b[0mv\u001b[0m\u001b[1;33m,\u001b[0m \u001b[0mK\u001b[0m\u001b[1;33m)\u001b[0m\u001b[1;33m,\u001b[0m \u001b[0mv\u001b[0m\u001b[1;33m,\u001b[0m \u001b[0mK\u001b[0m\u001b[1;33m)\u001b[0m\u001b[1;33m\u001b[0m\u001b[1;33m\u001b[0m\u001b[0m\n\u001b[0m\u001b[0;32m    829\u001b[0m \u001b[1;33m\u001b[0m\u001b[0m\n\u001b[0;32m    830\u001b[0m         \u001b[0mh\u001b[0m\u001b[1;33m.\u001b[0m\u001b[0mappend\u001b[0m\u001b[1;33m(\u001b[0m\u001b[0mcoeff\u001b[0m\u001b[1;33m)\u001b[0m\u001b[1;33m\u001b[0m\u001b[1;33m\u001b[0m\u001b[0m\n",
      "\u001b[1;32mc:\\users\\sasha\\appdata\\local\\programs\\python\\python38\\lib\\site-packages\\sympy\\polys\\densearith.py\u001b[0m in \u001b[0;36mdmp_mul\u001b[1;34m(f, g, u, K)\u001b[0m\n\u001b[0;32m    805\u001b[0m     \"\"\"\n\u001b[0;32m    806\u001b[0m     \u001b[1;32mif\u001b[0m \u001b[1;32mnot\u001b[0m \u001b[0mu\u001b[0m\u001b[1;33m:\u001b[0m\u001b[1;33m\u001b[0m\u001b[1;33m\u001b[0m\u001b[0m\n\u001b[1;32m--> 807\u001b[1;33m         \u001b[1;32mreturn\u001b[0m \u001b[0mdup_mul\u001b[0m\u001b[1;33m(\u001b[0m\u001b[0mf\u001b[0m\u001b[1;33m,\u001b[0m \u001b[0mg\u001b[0m\u001b[1;33m,\u001b[0m \u001b[0mK\u001b[0m\u001b[1;33m)\u001b[0m\u001b[1;33m\u001b[0m\u001b[1;33m\u001b[0m\u001b[0m\n\u001b[0m\u001b[0;32m    808\u001b[0m \u001b[1;33m\u001b[0m\u001b[0m\n\u001b[0;32m    809\u001b[0m     \u001b[1;32mif\u001b[0m \u001b[0mf\u001b[0m \u001b[1;33m==\u001b[0m \u001b[0mg\u001b[0m\u001b[1;33m:\u001b[0m\u001b[1;33m\u001b[0m\u001b[1;33m\u001b[0m\u001b[0m\n",
      "\u001b[1;32mc:\\users\\sasha\\appdata\\local\\programs\\python\\python38\\lib\\site-packages\\sympy\\polys\\densearith.py\u001b[0m in \u001b[0;36mdup_mul\u001b[1;34m(f, g, K)\u001b[0m\n\u001b[0;32m    748\u001b[0m     \"\"\"\n\u001b[0;32m    749\u001b[0m     \u001b[1;32mif\u001b[0m \u001b[0mf\u001b[0m \u001b[1;33m==\u001b[0m \u001b[0mg\u001b[0m\u001b[1;33m:\u001b[0m\u001b[1;33m\u001b[0m\u001b[1;33m\u001b[0m\u001b[0m\n\u001b[1;32m--> 750\u001b[1;33m         \u001b[1;32mreturn\u001b[0m \u001b[0mdup_sqr\u001b[0m\u001b[1;33m(\u001b[0m\u001b[0mf\u001b[0m\u001b[1;33m,\u001b[0m \u001b[0mK\u001b[0m\u001b[1;33m)\u001b[0m\u001b[1;33m\u001b[0m\u001b[1;33m\u001b[0m\u001b[0m\n\u001b[0m\u001b[0;32m    751\u001b[0m \u001b[1;33m\u001b[0m\u001b[0m\n\u001b[0;32m    752\u001b[0m     \u001b[1;32mif\u001b[0m \u001b[1;32mnot\u001b[0m \u001b[1;33m(\u001b[0m\u001b[0mf\u001b[0m \u001b[1;32mand\u001b[0m \u001b[0mg\u001b[0m\u001b[1;33m)\u001b[0m\u001b[1;33m:\u001b[0m\u001b[1;33m\u001b[0m\u001b[1;33m\u001b[0m\u001b[0m\n",
      "\u001b[1;32mc:\\users\\sasha\\appdata\\local\\programs\\python\\python38\\lib\\site-packages\\sympy\\polys\\densearith.py\u001b[0m in \u001b[0;36mdup_sqr\u001b[1;34m(f, K)\u001b[0m\n\u001b[0;32m    870\u001b[0m         \u001b[0mh\u001b[0m\u001b[1;33m.\u001b[0m\u001b[0mappend\u001b[0m\u001b[1;33m(\u001b[0m\u001b[0mc\u001b[0m\u001b[1;33m)\u001b[0m\u001b[1;33m\u001b[0m\u001b[1;33m\u001b[0m\u001b[0m\n\u001b[0;32m    871\u001b[0m \u001b[1;33m\u001b[0m\u001b[0m\n\u001b[1;32m--> 872\u001b[1;33m     \u001b[1;32mreturn\u001b[0m \u001b[0mdup_strip\u001b[0m\u001b[1;33m(\u001b[0m\u001b[0mh\u001b[0m\u001b[1;33m)\u001b[0m\u001b[1;33m\u001b[0m\u001b[1;33m\u001b[0m\u001b[0m\n\u001b[0m\u001b[0;32m    873\u001b[0m \u001b[1;33m\u001b[0m\u001b[0m\n\u001b[0;32m    874\u001b[0m \u001b[1;33m\u001b[0m\u001b[0m\n",
      "\u001b[1;31mKeyboardInterrupt\u001b[0m: "
     ]
    }
   ],
   "source": [
    "%%space verification\n",
    "sub_mat = linear_mat_sym.subs({w: det_sol2[1]})\n",
    "sym.solve_linear_system(sub_mat.col_insert(6, sym.Matrix([0]*6)), mx1, my1, mz1, mx2, my2, mz2)"
   ]
  },
  {
   "cell_type": "code",
   "execution_count": 8,
   "id": "shared-error",
   "metadata": {},
   "outputs": [
    {
     "data": {
      "text/latex": [
       "$\\displaystyle 2 i A^{3} H^{2} M^{3} \\gamma^{6} \\mu_{0}^{6} \\left(2 A^{2} M^{2} - 4 A H M \\cos{\\left(\\theta_{1} \\right)} + H^{2} + H M \\cos{\\left(\\theta_{1} \\right)}\\right) \\sin^{2}{\\left(\\theta_{1} \\right)} \\cos{\\left(\\theta_{1} \\right)} + 2 i A^{3} H M^{4} \\gamma^{6} \\mu_{0}^{6} \\left(2 A^{2} M^{2} - 4 A H M \\cos{\\left(\\theta_{1} \\right)} + H^{2} + H M \\cos{\\left(\\theta_{1} \\right)}\\right) \\sin^{2}{\\left(\\theta_{1} \\right)} \\cos^{2}{\\left(\\theta_{1} \\right)} - 2 i A^{3} M^{3} \\gamma^{6} \\mu_{0}^{6} \\left(2 A^{2} M^{2} - 4 A H M \\cos{\\left(\\theta_{1} \\right)} + H^{2} + H M \\cos{\\left(\\theta_{1} \\right)}\\right)^{3} \\sin^{2}{\\left(\\theta_{1} \\right)} \\cos{\\left(\\theta_{1} \\right)} - i A^{2} H^{3} M^{2} \\gamma^{6} \\mu_{0}^{6} \\left(2 A^{2} M^{2} - 4 A H M \\cos{\\left(\\theta_{1} \\right)} + H^{2} + H M \\cos{\\left(\\theta_{1} \\right)}\\right) \\sin^{2}{\\left(\\theta_{1} \\right)} + A^{2} H^{2} M^{2} \\gamma^{6} \\mu_{0}^{6} \\left(2 A^{2} M^{2} - 4 A H M \\cos{\\left(\\theta_{1} \\right)} + H^{2} + H M \\cos{\\left(\\theta_{1} \\right)}\\right)^{2} \\sin^{2}{\\left(\\theta_{1} \\right)} - 4 A^{2} H^{2} M^{2} \\gamma^{6} \\mu_{0}^{6} \\left(2 A^{2} M^{2} - 4 A H M \\cos{\\left(\\theta_{1} \\right)} + H^{2} + H M \\cos{\\left(\\theta_{1} \\right)}\\right)^{2} \\cos^{2}{\\left(\\theta_{1} \\right)} + i A^{2} H M^{4} \\gamma^{6} \\mu_{0}^{6} \\left(2 A^{2} M^{2} - 4 A H M \\cos{\\left(\\theta_{1} \\right)} + H^{2} + H M \\cos{\\left(\\theta_{1} \\right)}\\right) \\sin^{2}{\\left(\\theta_{1} \\right)} \\cos^{2}{\\left(\\theta_{1} \\right)} + A^{2} H M^{3} \\gamma^{6} \\mu_{0}^{6} \\left(2 A^{2} M^{2} - 4 A H M \\cos{\\left(\\theta_{1} \\right)} + H^{2} + H M \\cos{\\left(\\theta_{1} \\right)}\\right)^{2} \\sin^{2}{\\left(\\theta_{1} \\right)} \\cos{\\left(\\theta_{1} \\right)} - 4 A^{2} H M^{3} \\gamma^{6} \\mu_{0}^{6} \\left(2 A^{2} M^{2} - 4 A H M \\cos{\\left(\\theta_{1} \\right)} + H^{2} + H M \\cos{\\left(\\theta_{1} \\right)}\\right)^{2} \\cos^{3}{\\left(\\theta_{1} \\right)} + i A^{2} H M^{2} \\gamma^{6} \\mu_{0}^{6} \\left(2 A^{2} M^{2} - 4 A H M \\cos{\\left(\\theta_{1} \\right)} + H^{2} + H M \\cos{\\left(\\theta_{1} \\right)}\\right)^{3} \\sin^{2}{\\left(\\theta_{1} \\right)} - i A^{2} M^{3} \\gamma^{6} \\mu_{0}^{6} \\left(2 A^{2} M^{2} - 4 A H M \\cos{\\left(\\theta_{1} \\right)} + H^{2} + H M \\cos{\\left(\\theta_{1} \\right)}\\right)^{3} \\sin^{2}{\\left(\\theta_{1} \\right)} \\cos{\\left(\\theta_{1} \\right)} - A^{2} M^{2} \\gamma^{6} \\mu_{0}^{6} \\left(2 A^{2} M^{2} - 4 A H M \\cos{\\left(\\theta_{1} \\right)} + H^{2} + H M \\cos{\\left(\\theta_{1} \\right)}\\right)^{4} \\sin^{2}{\\left(\\theta_{1} \\right)} + 4 A^{2} M^{2} \\gamma^{6} \\mu_{0}^{6} \\left(2 A^{2} M^{2} - 4 A H M \\cos{\\left(\\theta_{1} \\right)} + H^{2} + H M \\cos{\\left(\\theta_{1} \\right)}\\right)^{4} \\cos^{2}{\\left(\\theta_{1} \\right)} - i A H^{3} M^{2} \\gamma^{6} \\mu_{0}^{6} \\left(2 A^{2} M^{2} - 4 A H M \\cos{\\left(\\theta_{1} \\right)} + H^{2} + H M \\cos{\\left(\\theta_{1} \\right)}\\right) \\sin^{2}{\\left(\\theta_{1} \\right)} + 4 A H^{3} M \\gamma^{6} \\mu_{0}^{6} \\left(2 A^{2} M^{2} - 4 A H M \\cos{\\left(\\theta_{1} \\right)} + H^{2} + H M \\cos{\\left(\\theta_{1} \\right)}\\right)^{2} \\cos{\\left(\\theta_{1} \\right)} - 2 i A H^{2} M^{3} \\gamma^{6} \\mu_{0}^{6} \\left(2 A^{2} M^{2} - 4 A H M \\cos{\\left(\\theta_{1} \\right)} + H^{2} + H M \\cos{\\left(\\theta_{1} \\right)}\\right) \\sin^{2}{\\left(\\theta_{1} \\right)} \\cos{\\left(\\theta_{1} \\right)} - A H^{2} M^{2} \\gamma^{6} \\mu_{0}^{6} \\left(2 A^{2} M^{2} - 4 A H M \\cos{\\left(\\theta_{1} \\right)} + H^{2} + H M \\cos{\\left(\\theta_{1} \\right)}\\right)^{2} \\sin^{2}{\\left(\\theta_{1} \\right)} + 6 A H^{2} M^{2} \\gamma^{6} \\mu_{0}^{6} \\left(2 A^{2} M^{2} - 4 A H M \\cos{\\left(\\theta_{1} \\right)} + H^{2} + H M \\cos{\\left(\\theta_{1} \\right)}\\right)^{2} \\cos^{2}{\\left(\\theta_{1} \\right)} - i A H M^{4} \\gamma^{6} \\mu_{0}^{6} \\left(2 A^{2} M^{2} - 4 A H M \\cos{\\left(\\theta_{1} \\right)} + H^{2} + H M \\cos{\\left(\\theta_{1} \\right)}\\right) \\sin^{2}{\\left(\\theta_{1} \\right)} \\cos^{2}{\\left(\\theta_{1} \\right)} - A H M^{3} \\gamma^{6} \\mu_{0}^{6} \\left(2 A^{2} M^{2} - 4 A H M \\cos{\\left(\\theta_{1} \\right)} + H^{2} + H M \\cos{\\left(\\theta_{1} \\right)}\\right)^{2} \\sin^{2}{\\left(\\theta_{1} \\right)} \\cos{\\left(\\theta_{1} \\right)} + 2 A H M^{3} \\gamma^{6} \\mu_{0}^{6} \\left(2 A^{2} M^{2} - 4 A H M \\cos{\\left(\\theta_{1} \\right)} + H^{2} + H M \\cos{\\left(\\theta_{1} \\right)}\\right)^{2} \\cos^{3}{\\left(\\theta_{1} \\right)} + i A H M^{2} \\gamma^{6} \\mu_{0}^{6} \\left(2 A^{2} M^{2} - 4 A H M \\cos{\\left(\\theta_{1} \\right)} + H^{2} + H M \\cos{\\left(\\theta_{1} \\right)}\\right)^{3} \\sin^{2}{\\left(\\theta_{1} \\right)} - 4 A H M \\gamma^{6} \\mu_{0}^{6} \\left(2 A^{2} M^{2} - 4 A H M \\cos{\\left(\\theta_{1} \\right)} + H^{2} + H M \\cos{\\left(\\theta_{1} \\right)}\\right)^{4} \\cos{\\left(\\theta_{1} \\right)} + i A M^{3} \\gamma^{6} \\mu_{0}^{6} \\left(2 A^{2} M^{2} - 4 A H M \\cos{\\left(\\theta_{1} \\right)} + H^{2} + H M \\cos{\\left(\\theta_{1} \\right)}\\right)^{3} \\sin^{2}{\\left(\\theta_{1} \\right)} \\cos{\\left(\\theta_{1} \\right)} + A M^{2} \\gamma^{6} \\mu_{0}^{6} \\left(2 A^{2} M^{2} - 4 A H M \\cos{\\left(\\theta_{1} \\right)} + H^{2} + H M \\cos{\\left(\\theta_{1} \\right)}\\right)^{4} \\sin^{2}{\\left(\\theta_{1} \\right)} - 2 A M^{2} \\gamma^{6} \\mu_{0}^{6} \\left(2 A^{2} M^{2} - 4 A H M \\cos{\\left(\\theta_{1} \\right)} + H^{2} + H M \\cos{\\left(\\theta_{1} \\right)}\\right)^{4} \\cos^{2}{\\left(\\theta_{1} \\right)} - H^{4} \\gamma^{6} \\mu_{0}^{6} \\left(2 A^{2} M^{2} - 4 A H M \\cos{\\left(\\theta_{1} \\right)} + H^{2} + H M \\cos{\\left(\\theta_{1} \\right)}\\right)^{2} - 2 H^{3} M \\gamma^{6} \\mu_{0}^{6} \\left(2 A^{2} M^{2} - 4 A H M \\cos{\\left(\\theta_{1} \\right)} + H^{2} + H M \\cos{\\left(\\theta_{1} \\right)}\\right)^{2} \\cos{\\left(\\theta_{1} \\right)} - H^{2} M^{2} \\gamma^{6} \\mu_{0}^{6} \\left(2 A^{2} M^{2} - 4 A H M \\cos{\\left(\\theta_{1} \\right)} + H^{2} + H M \\cos{\\left(\\theta_{1} \\right)}\\right)^{2} \\cos^{2}{\\left(\\theta_{1} \\right)} + 2 H^{2} \\gamma^{6} \\mu_{0}^{6} \\left(2 A^{2} M^{2} - 4 A H M \\cos{\\left(\\theta_{1} \\right)} + H^{2} + H M \\cos{\\left(\\theta_{1} \\right)}\\right)^{4} + 2 H M \\gamma^{6} \\mu_{0}^{6} \\left(2 A^{2} M^{2} - 4 A H M \\cos{\\left(\\theta_{1} \\right)} + H^{2} + H M \\cos{\\left(\\theta_{1} \\right)}\\right)^{4} \\cos{\\left(\\theta_{1} \\right)} - \\gamma^{6} \\mu_{0}^{6} \\left(2 A^{2} M^{2} - 4 A H M \\cos{\\left(\\theta_{1} \\right)} + H^{2} + H M \\cos{\\left(\\theta_{1} \\right)}\\right)^{6}$"
      ],
      "text/plain": [
       "2*I*A**3*H**2*M**3*gamma**6*mu0**6*(2*A**2*M**2 - 4*A*H*M*cos(theta1) + H**2 + H*M*cos(theta1))*sin(theta1)**2*cos(theta1) + 2*I*A**3*H*M**4*gamma**6*mu0**6*(2*A**2*M**2 - 4*A*H*M*cos(theta1) + H**2 + H*M*cos(theta1))*sin(theta1)**2*cos(theta1)**2 - 2*I*A**3*M**3*gamma**6*mu0**6*(2*A**2*M**2 - 4*A*H*M*cos(theta1) + H**2 + H*M*cos(theta1))**3*sin(theta1)**2*cos(theta1) - I*A**2*H**3*M**2*gamma**6*mu0**6*(2*A**2*M**2 - 4*A*H*M*cos(theta1) + H**2 + H*M*cos(theta1))*sin(theta1)**2 + A**2*H**2*M**2*gamma**6*mu0**6*(2*A**2*M**2 - 4*A*H*M*cos(theta1) + H**2 + H*M*cos(theta1))**2*sin(theta1)**2 - 4*A**2*H**2*M**2*gamma**6*mu0**6*(2*A**2*M**2 - 4*A*H*M*cos(theta1) + H**2 + H*M*cos(theta1))**2*cos(theta1)**2 + I*A**2*H*M**4*gamma**6*mu0**6*(2*A**2*M**2 - 4*A*H*M*cos(theta1) + H**2 + H*M*cos(theta1))*sin(theta1)**2*cos(theta1)**2 + A**2*H*M**3*gamma**6*mu0**6*(2*A**2*M**2 - 4*A*H*M*cos(theta1) + H**2 + H*M*cos(theta1))**2*sin(theta1)**2*cos(theta1) - 4*A**2*H*M**3*gamma**6*mu0**6*(2*A**2*M**2 - 4*A*H*M*cos(theta1) + H**2 + H*M*cos(theta1))**2*cos(theta1)**3 + I*A**2*H*M**2*gamma**6*mu0**6*(2*A**2*M**2 - 4*A*H*M*cos(theta1) + H**2 + H*M*cos(theta1))**3*sin(theta1)**2 - I*A**2*M**3*gamma**6*mu0**6*(2*A**2*M**2 - 4*A*H*M*cos(theta1) + H**2 + H*M*cos(theta1))**3*sin(theta1)**2*cos(theta1) - A**2*M**2*gamma**6*mu0**6*(2*A**2*M**2 - 4*A*H*M*cos(theta1) + H**2 + H*M*cos(theta1))**4*sin(theta1)**2 + 4*A**2*M**2*gamma**6*mu0**6*(2*A**2*M**2 - 4*A*H*M*cos(theta1) + H**2 + H*M*cos(theta1))**4*cos(theta1)**2 - I*A*H**3*M**2*gamma**6*mu0**6*(2*A**2*M**2 - 4*A*H*M*cos(theta1) + H**2 + H*M*cos(theta1))*sin(theta1)**2 + 4*A*H**3*M*gamma**6*mu0**6*(2*A**2*M**2 - 4*A*H*M*cos(theta1) + H**2 + H*M*cos(theta1))**2*cos(theta1) - 2*I*A*H**2*M**3*gamma**6*mu0**6*(2*A**2*M**2 - 4*A*H*M*cos(theta1) + H**2 + H*M*cos(theta1))*sin(theta1)**2*cos(theta1) - A*H**2*M**2*gamma**6*mu0**6*(2*A**2*M**2 - 4*A*H*M*cos(theta1) + H**2 + H*M*cos(theta1))**2*sin(theta1)**2 + 6*A*H**2*M**2*gamma**6*mu0**6*(2*A**2*M**2 - 4*A*H*M*cos(theta1) + H**2 + H*M*cos(theta1))**2*cos(theta1)**2 - I*A*H*M**4*gamma**6*mu0**6*(2*A**2*M**2 - 4*A*H*M*cos(theta1) + H**2 + H*M*cos(theta1))*sin(theta1)**2*cos(theta1)**2 - A*H*M**3*gamma**6*mu0**6*(2*A**2*M**2 - 4*A*H*M*cos(theta1) + H**2 + H*M*cos(theta1))**2*sin(theta1)**2*cos(theta1) + 2*A*H*M**3*gamma**6*mu0**6*(2*A**2*M**2 - 4*A*H*M*cos(theta1) + H**2 + H*M*cos(theta1))**2*cos(theta1)**3 + I*A*H*M**2*gamma**6*mu0**6*(2*A**2*M**2 - 4*A*H*M*cos(theta1) + H**2 + H*M*cos(theta1))**3*sin(theta1)**2 - 4*A*H*M*gamma**6*mu0**6*(2*A**2*M**2 - 4*A*H*M*cos(theta1) + H**2 + H*M*cos(theta1))**4*cos(theta1) + I*A*M**3*gamma**6*mu0**6*(2*A**2*M**2 - 4*A*H*M*cos(theta1) + H**2 + H*M*cos(theta1))**3*sin(theta1)**2*cos(theta1) + A*M**2*gamma**6*mu0**6*(2*A**2*M**2 - 4*A*H*M*cos(theta1) + H**2 + H*M*cos(theta1))**4*sin(theta1)**2 - 2*A*M**2*gamma**6*mu0**6*(2*A**2*M**2 - 4*A*H*M*cos(theta1) + H**2 + H*M*cos(theta1))**4*cos(theta1)**2 - H**4*gamma**6*mu0**6*(2*A**2*M**2 - 4*A*H*M*cos(theta1) + H**2 + H*M*cos(theta1))**2 - 2*H**3*M*gamma**6*mu0**6*(2*A**2*M**2 - 4*A*H*M*cos(theta1) + H**2 + H*M*cos(theta1))**2*cos(theta1) - H**2*M**2*gamma**6*mu0**6*(2*A**2*M**2 - 4*A*H*M*cos(theta1) + H**2 + H*M*cos(theta1))**2*cos(theta1)**2 + 2*H**2*gamma**6*mu0**6*(2*A**2*M**2 - 4*A*H*M*cos(theta1) + H**2 + H*M*cos(theta1))**4 + 2*H*M*gamma**6*mu0**6*(2*A**2*M**2 - 4*A*H*M*cos(theta1) + H**2 + H*M*cos(theta1))**4*cos(theta1) - gamma**6*mu0**6*(2*A**2*M**2 - 4*A*H*M*cos(theta1) + H**2 + H*M*cos(theta1))**6"
      ]
     },
     "execution_count": 8,
     "metadata": {},
     "output_type": "execute_result"
    }
   ],
   "source": [
    "%%space verification\n",
    "determ.subs({w: g*mu0*(H**2+2*A**2*M**2+H*M*sym.cos(tet1)-4*A*H*M*sym.cos(tet1))})"
   ]
  },
  {
   "cell_type": "code",
   "execution_count": 33,
   "id": "joint-theory",
   "metadata": {},
   "outputs": [
    {
     "data": {
      "text/plain": [
       "4.0"
      ]
     },
     "execution_count": 33,
     "metadata": {},
     "output_type": "execute_result"
    }
   ],
   "source": [
    "import numpy as np\n",
    "gamma = 1.76e11\n",
    "mu0 = 1.2566370621219e-6\n",
    "H = 110e-3/mu0\n",
    "M = 1042e3\n",
    "tet = np.deg2rad(0)\n",
    "t=5e-9\n",
    "J = 2.7e-3\n",
    "ct = mu0*H*M*t/(2*J)\n",
    "fa = gamma*mu0/(2.0*np.pi)*np.sqrt(H*(H+M*ct))\n",
    "fa*1e-9\n",
    "np.linalg.norm([4,0,0])"
   ]
  },
  {
   "cell_type": "code",
   "execution_count": 13,
   "id": "after-arnold",
   "metadata": {},
   "outputs": [
    {
     "data": {
      "text/latex": [
       "$\\displaystyle A \\sin{\\left(\\theta_{1} \\right)} - J \\sin{\\left(\\theta_{1} - \\theta_{2} \\right)}$"
      ],
      "text/plain": [
       "A*sin(theta1) - J*sin(theta1 - theta2)"
      ]
     },
     "metadata": {},
     "output_type": "display_data"
    },
    {
     "data": {
      "text/latex": [
       "$\\displaystyle A \\sin{\\left(\\theta_{2} \\right)} + J \\sin{\\left(\\theta_{1} - \\theta_{2} \\right)}$"
      ],
      "text/plain": [
       "A*sin(theta2) + J*sin(theta1 - theta2)"
      ]
     },
     "metadata": {},
     "output_type": "display_data"
    },
    {
     "data": {
      "text/latex": [
       "$\\displaystyle \\sin{\\left(\\theta_{2} \\right)} + \\cos{\\left(\\theta_{1} \\right)}$"
      ],
      "text/plain": [
       "sin(theta2) + cos(theta1)"
      ]
     },
     "execution_count": 13,
     "metadata": {},
     "output_type": "execute_result"
    }
   ],
   "source": [
    "from IPython.display import display\n",
    "import sympy as sym\n",
    "A, tet1, tet2, J = sym.symbols('A theta1 theta2 J')\n",
    "E = J*sym.cos(tet1-tet2)-A*(sym.cos(tet1)+sym.cos(tet2))\n",
    "\n",
    "#sym.solve([E.diff(tet1), E.diff(tet2)], [sym.cos(tet1), sym.cos(tet2)])\n",
    "\n",
    "display(E.diff(tet1))\n",
    "display(E.diff(tet2))\n",
    "(sym.sin(tet1) + sym.cos(tet1)).subs({sym.sin(tet1): sym.sin(tet2)})"
   ]
  },
  {
   "cell_type": "code",
   "execution_count": 17,
   "id": "selective-veteran",
   "metadata": {
    "scrolled": true
   },
   "outputs": [
    {
     "data": {
      "text/latex": [
       "$\\displaystyle \\left[\\begin{matrix}0\\\\H \\gamma m_{z} \\mu_{0} + i m_{y} w\\\\- H \\gamma m_{y} \\mu_{0} + i m_{z} w\\end{matrix}\\right]$"
      ],
      "text/plain": [
       "Matrix([\n",
       "[                         0],\n",
       "[ H*gamma*m_z*mu0 + I*m_y*w],\n",
       "[-H*gamma*m_y*mu0 + I*m_z*w]])"
      ]
     },
     "execution_count": 17,
     "metadata": {},
     "output_type": "execute_result"
    },
    {
     "data": {
      "text/plain": [
       "{m_z: 0, m_y: 0}"
      ]
     },
     "execution_count": 17,
     "metadata": {},
     "output_type": "execute_result"
    }
   ],
   "source": [
    "%%space simple_precession\n",
    "from IPython.display import display\n",
    "import sympy as sym\n",
    "from sympy import symbols, simplify\n",
    "from sympy.vector import CoordSys3D, matrix_to_vector\n",
    "\n",
    "S = CoordSys3D('S')\n",
    "\n",
    "M = symbols(\"M\", real=True)\n",
    "mx, my, mz = symbols(\"m_x m_y m_z\", real = True)\n",
    "m = my*S.j + mz*S.k\n",
    "MS = M*S.i\n",
    "\n",
    "M_vec = MS + m\n",
    "\n",
    "H = symbols(\"H\", real=True)\n",
    "\n",
    "HZ = H*S.i\n",
    "\n",
    "\n",
    "mu0, g = symbols(\"mu0 gamma\", real=True)\n",
    "\n",
    "Heff = HZ\n",
    "\n",
    "w = symbols(\"w\", real=True)\n",
    "jw = sym.I*w\n",
    "\n",
    "dmdt = jw*m\n",
    "\n",
    "eq = (dmdt + g*mu0*(M_vec.cross(Heff))).to_matrix(S)\n",
    "eq\n",
    "#sol = sym.solve(M, m2.to_matrix(S).row_insert(0, m1.to_matrix(S)))\n",
    "\n",
    "sol = sym.solve((eq/(g*mu0)).expand(), [mx, my, mz])\n",
    "sol"
   ]
  },
  {
   "cell_type": "code",
   "execution_count": 19,
   "id": "interracial-trinidad",
   "metadata": {},
   "outputs": [
    {
     "data": {
      "text/plain": [
       "3.081239698259094"
      ]
     },
     "execution_count": 19,
     "metadata": {},
     "output_type": "execute_result"
    }
   ],
   "source": [
    "import numpy as np\n",
    "mu0 = 1.2566370621219e-6\n",
    "gamma=1.76e11\n",
    "H = 110e-3/mu0\n",
    "f = (gamma*mu0)*np.sqrt(H*(H+M))/(2*np.pi)\n",
    "f*1e-9"
   ]
  },
  {
   "cell_type": "code",
   "execution_count": 27,
   "id": "contrary-rapid",
   "metadata": {},
   "outputs": [
    {
     "data": {
      "text/latex": [
       "$\\displaystyle a \\left(b + 2\\right) + b \\left(d + 2\\right) + 3 c$"
      ],
      "text/plain": [
       "a*(b + 2) + b*(d + 2) + 3*c"
      ]
     },
     "execution_count": 27,
     "metadata": {},
     "output_type": "execute_result"
    }
   ],
   "source": [
    "import sympy as sym\n",
    "\n",
    "a, b, c, d = sym.symbols(\"a b c d\")\n",
    "expr = 2*a + a*b + 2*b + c*3 + d*b\n",
    "expr.collect((a, b))"
   ]
  },
  {
   "cell_type": "code",
   "execution_count": null,
   "id": "potential-acoustic",
   "metadata": {},
   "outputs": [],
   "source": []
  }
 ],
 "metadata": {
  "kernelspec": {
   "display_name": "Python 3",
   "language": "python",
   "name": "python3"
  },
  "language_info": {
   "codemirror_mode": {
    "name": "ipython",
    "version": 3
   },
   "file_extension": ".py",
   "mimetype": "text/x-python",
   "name": "python",
   "nbconvert_exporter": "python",
   "pygments_lexer": "ipython3",
   "version": "3.8.5"
  }
 },
 "nbformat": 4,
 "nbformat_minor": 5
}
