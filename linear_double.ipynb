{
 "cells": [
  {
   "cell_type": "code",
   "execution_count": 227,
   "id": "powerful-netscape",
   "metadata": {},
   "outputs": [],
   "source": [
    "import numpy as np\n",
    "import pandas as pd\n",
    "import sympy as sym\n",
    "from sympy import symbols, simplify, trigsimp, expand\n",
    "from matplotlib import pyplot as plt\n",
    "\n",
    "\n",
    "from Calculation.geometry_util import pol2cart, cart2pol, r_ort, tet_ort, phi_ort\n",
    "from Calculation.material import StaticMaterial, Material, LayeredFilm, Hk2KuJ, print_Hext_parameters"
   ]
  },
  {
   "cell_type": "code",
   "execution_count": 235,
   "id": "religious-barbados",
   "metadata": {},
   "outputs": [],
   "source": [
    "from Calculation.StationaryState import StationaryState   \n",
    "        \n",
    "st_state = StationaryState()"
   ]
  },
  {
   "cell_type": "code",
   "execution_count": 263,
   "id": "italian-liabilities",
   "metadata": {},
   "outputs": [
    {
     "name": "stdout",
     "output_type": "stream",
     "text": [
      "single layered\n",
      "---------------------------------------------------\n",
      "sample parametrs:\n",
      "\tJ = 0.00\n",
      "\n",
      "\tlayer1 parameters:\n",
      "\tPdFe\n",
      "\t\tKu_1ord = 2.73e+06\n",
      "\t\tKu_2ord = 1.01e+06\n",
      "\t\tMs = 620.00\n",
      "\t\tt = 1.20e-06\n",
      "\t\tgamma = 1.86e+07\n",
      "\t\talpha = 0.1000\n",
      "\n",
      "\tlayer2 parameters:\n",
      "\tPdFe\n",
      "\t\tKu_1ord = 2.73e+06\n",
      "\t\tKu_2ord = 1.01e+06\n",
      "\t\tMs = 620.00\n",
      "\t\tt = 1.20e-06\n",
      "\t\tgamma = 1.86e+07\n",
      "\t\talpha = 0.1000\n",
      "---------------------------------------------------\n",
      "double layered\n",
      "---------------------------------------------------\n",
      "sample parametrs:\n",
      "\tJ = 1.86\n",
      "\n",
      "\tlayer1 parameters:\n",
      "\tPdFe\n",
      "\t\tKu_1ord = 2.73e+06\n",
      "\t\tKu_2ord = 1.01e+06\n",
      "\t\tMs = 620.00\n",
      "\t\tt = 1.20e-06\n",
      "\t\tgamma = 1.86e+07\n",
      "\t\talpha = 0.1000\n",
      "\n",
      "\tlayer2 parameters:\n",
      "\tPdFe\n",
      "\t\tKu_1ord = 2.73e+06\n",
      "\t\tKu_2ord = 1.01e+06\n",
      "\t\tMs = 620.00\n",
      "\t\tt = 1.20e-06\n",
      "\t\tgamma = 1.86e+07\n",
      "\t\talpha = 0.1000\n",
      "---------------------------------------------------\n"
     ]
    }
   ],
   "source": [
    "H1k1_hyst = 7.5e3\n",
    "H1k2_hyst = 6.5e3\n",
    "H2k_hyst = 12.5e3\n",
    "\n",
    "thickness = 12e-7\n",
    "Ms_hyst = 620.\n",
    "\n",
    "Ku_1ord, Ku_2ord, J_hyst = Hk2KuJ(H1k1_hyst, H1k2_hyst, H2k_hyst, Ms_hyst, thickness)\n",
    "\n",
    "#setting up film parameters\n",
    "film_inst_single = LayeredFilm.from_file('default_single')\n",
    "film_inst_double = LayeredFilm.from_file('default_double')\n",
    "\n",
    "film_inst_single.update_with_Hk(H1k1_hyst, H1k2_hyst, H2k_hyst, Ms_hyst, zeroJ=True)\n",
    "film_inst_double.update_with_Hk(H1k1_hyst, H1k2_hyst, H2k_hyst, Ms_hyst, zeroJ=False)\n",
    "\n",
    "\n",
    "print(\"single layered\")\n",
    "film_inst_single.print()\n",
    "print(\"double layered\")\n",
    "film_inst_double.print()"
   ]
  },
  {
   "cell_type": "code",
   "execution_count": 318,
   "id": "continuing-congress",
   "metadata": {},
   "outputs": [],
   "source": [
    "H = symbols(\"H\", real=True, positive=True)\n",
    "Htet, Hphi = symbols(\"theta_H phi_H\", real=True)\n",
    "Ms = symbols(\"Ms\", real=True, positive=True)\n",
    "Mtet = symbols(\"theta_M1 theta_M2\", real=True)\n",
    "Mphi = symbols(\"phi_M1 phi_M2\", real=True)\n",
    "A, Ku2, gamma, alpha = symbols(\"A K_u2 gamma alpha\", real=True, positive=True)\n",
    "J = symbols(\"J\", real=True)\n",
    "Hk1, Hk2, H2k = symbols(\"H_k1 H_k2 H2_k\", real=True, positive=True)\n",
    "t = symbols(\"t\", real=True, positive=True)"
   ]
  },
  {
   "cell_type": "code",
   "execution_count": 64,
   "id": "corresponding-monaco",
   "metadata": {},
   "outputs": [],
   "source": [
    "Ev1 = -Ms * H * (sym.sin(Htet) * sym.sin(Mtet[0]) * sym.cos(Hphi - Mphi[0]) +\n",
    "                 sym.cos(Htet) * sym.cos(Mtet[0])) + \\\n",
    "      A * (sym.sin(Mtet[0]) ** 2) + \\\n",
    "      Ku2 * (sym.sin(Mtet[0]) ** 4)\n",
    "\n",
    "Ev2 = -Ms * H * (sym.sin(Htet) * sym.sin(Mtet[1]) * sym.cos(Hphi - Mphi[1]) +\n",
    "                 sym.cos(Htet) * sym.cos(Mtet[1])) + \\\n",
    "      A * (sym.sin(Mtet[1]) ** 2) + \\\n",
    "      Ku2 * (sym.sin(Mtet[1]) ** 4)\n",
    "\n",
    "Es = t * Ev1 + t * Ev2 + \\\n",
    "     J * (sym.sin(Mtet[0]) * sym.sin(Mtet[1]) * sym.cos(Mphi[1] - Mphi[0]) +\n",
    "          sym.cos(Mtet[0]) * sym.cos(Mtet[1]))"
   ]
  },
  {
   "cell_type": "code",
   "execution_count": 65,
   "id": "drawn-rocket",
   "metadata": {},
   "outputs": [],
   "source": [
    "sys_mat = np.zeros((4,4), dtype=sym.Add)\n",
    "\n",
    "sys_vars = [Mtet[0], Mphi[0], Mtet[1], Mphi[1]]\n",
    "diff_vars = [Mphi[0], Mtet[0], Mphi[1], Mtet[1]]\n",
    "for i in range(4):\n",
    "    for j in range(4):\n",
    "        sys_mat[i][j] = (gamma / Ms) * (1 / t) * Es.diff(diff_vars[i], sys_vars[j])\n",
    "        if i%2==1:\n",
    "            sys_mat[i][j] = -sys_mat[i][j]\n",
    "\n",
    "lamb = symbols(\"lambda\", complex=True)\n",
    "\n",
    "for i in range(2):\n",
    "    sys_mat[i][i] += lamb*sym.sin(Mtet[0])\n",
    "    \n",
    "for i in range(2, 4):\n",
    "    sys_mat[i][i] += lamb*sym.sin(Mtet[1])\n",
    "\n",
    "sys_mat[0][1] += alpha*lamb*sym.sin(Mtet[0])**2\n",
    "sys_mat[2][3] += alpha*lamb*sym.sin(Mtet[1])**2\n",
    "\n",
    "sys_mat[1][0] += -alpha*lamb\n",
    "sys_mat[3][2] += -alpha*lamb\n",
    "    \n",
    "sys_mat = sym.Matrix(sys_mat)\n",
    "\n",
    "# subs for PMA\n",
    "sys_mat = sys_mat.subs({\n",
    "    Hphi: 0, Mphi[0]: 0, Mphi[1]: 0\n",
    "})\n",
    "sys_mat = sys_mat.subs({\n",
    "    Ku2: Ms * Hk2 / 4,\n",
    "    A: Ms * (Hk1 - Hk2) / 2,\n",
    "    J: (t / 2) * Ms * (H2k - Hk1)\n",
    "})\n",
    "sys_mat.simplify()"
   ]
  },
  {
   "cell_type": "code",
   "execution_count": 66,
   "id": "transparent-safety",
   "metadata": {},
   "outputs": [
    {
     "data": {
      "text/latex": [
       "$\\displaystyle \\left[\\begin{matrix}\\lambda \\sin{\\left(\\theta_{M1} \\right)} & H \\gamma \\sin{\\left(\\theta_{H} \\right)} \\sin{\\left(\\theta_{M1} \\right)} - \\frac{H_{2 k} \\gamma \\sin{\\left(\\theta_{M1} \\right)} \\sin{\\left(\\theta_{M2} \\right)}}{2} + \\frac{H_{k1} \\gamma \\sin{\\left(\\theta_{M1} \\right)} \\sin{\\left(\\theta_{M2} \\right)}}{2} + \\alpha \\lambda \\sin^{2}{\\left(\\theta_{M1} \\right)} & 0 & \\frac{H_{2 k} \\gamma \\sin{\\left(\\theta_{M1} \\right)} \\sin{\\left(\\theta_{M2} \\right)}}{2} - \\frac{H_{k1} \\gamma \\sin{\\left(\\theta_{M1} \\right)} \\sin{\\left(\\theta_{M2} \\right)}}{2}\\\\- H \\gamma \\cos{\\left(\\theta_{H} - \\theta_{M1} \\right)} + \\frac{H_{2 k} \\gamma \\cos{\\left(\\theta_{M1} - \\theta_{M2} \\right)}}{2} + 2 H_{k1} \\gamma \\sin^{2}{\\left(\\theta_{M1} \\right)} - \\frac{H_{k1} \\gamma \\cos{\\left(\\theta_{M1} - \\theta_{M2} \\right)}}{2} - H_{k1} \\gamma + 4 H_{k2} \\gamma \\sin^{4}{\\left(\\theta_{M1} \\right)} - 5 H_{k2} \\gamma \\sin^{2}{\\left(\\theta_{M1} \\right)} + H_{k2} \\gamma - \\alpha \\lambda & \\lambda \\sin{\\left(\\theta_{M1} \\right)} & - \\frac{H_{2 k} \\gamma \\cos{\\left(\\theta_{M1} - \\theta_{M2} \\right)}}{2} + \\frac{H_{k1} \\gamma \\cos{\\left(\\theta_{M1} - \\theta_{M2} \\right)}}{2} & 0\\\\0 & \\frac{H_{2 k} \\gamma \\sin{\\left(\\theta_{M1} \\right)} \\sin{\\left(\\theta_{M2} \\right)}}{2} - \\frac{H_{k1} \\gamma \\sin{\\left(\\theta_{M1} \\right)} \\sin{\\left(\\theta_{M2} \\right)}}{2} & \\lambda \\sin{\\left(\\theta_{M2} \\right)} & H \\gamma \\sin{\\left(\\theta_{H} \\right)} \\sin{\\left(\\theta_{M2} \\right)} - \\frac{H_{2 k} \\gamma \\sin{\\left(\\theta_{M1} \\right)} \\sin{\\left(\\theta_{M2} \\right)}}{2} + \\frac{H_{k1} \\gamma \\sin{\\left(\\theta_{M1} \\right)} \\sin{\\left(\\theta_{M2} \\right)}}{2} + \\alpha \\lambda \\sin^{2}{\\left(\\theta_{M2} \\right)}\\\\- \\frac{H_{2 k} \\gamma \\cos{\\left(\\theta_{M1} - \\theta_{M2} \\right)}}{2} + \\frac{H_{k1} \\gamma \\cos{\\left(\\theta_{M1} - \\theta_{M2} \\right)}}{2} & 0 & - H \\gamma \\cos{\\left(\\theta_{H} - \\theta_{M2} \\right)} + \\frac{H_{2 k} \\gamma \\cos{\\left(\\theta_{M1} - \\theta_{M2} \\right)}}{2} + 2 H_{k1} \\gamma \\sin^{2}{\\left(\\theta_{M2} \\right)} - \\frac{H_{k1} \\gamma \\cos{\\left(\\theta_{M1} - \\theta_{M2} \\right)}}{2} - H_{k1} \\gamma + 4 H_{k2} \\gamma \\sin^{4}{\\left(\\theta_{M2} \\right)} - 5 H_{k2} \\gamma \\sin^{2}{\\left(\\theta_{M2} \\right)} + H_{k2} \\gamma - \\alpha \\lambda & \\lambda \\sin{\\left(\\theta_{M2} \\right)}\\end{matrix}\\right]$"
      ],
      "text/plain": [
       "Matrix([\n",
       "[                                                                                                                                                                                                                                     lambda*sin(theta_M1), H*gamma*sin(theta_H)*sin(theta_M1) - H2_k*gamma*sin(theta_M1)*sin(theta_M2)/2 + H_k1*gamma*sin(theta_M1)*sin(theta_M2)/2 + alpha*lambda*sin(theta_M1)**2,                                                                                                                                                                                                                                                         0,                                                                      H2_k*gamma*sin(theta_M1)*sin(theta_M2)/2 - H_k1*gamma*sin(theta_M1)*sin(theta_M2)/2],\n",
       "[-H*gamma*cos(theta_H - theta_M1) + H2_k*gamma*cos(theta_M1 - theta_M2)/2 + 2*H_k1*gamma*sin(theta_M1)**2 - H_k1*gamma*cos(theta_M1 - theta_M2)/2 - H_k1*gamma + 4*H_k2*gamma*sin(theta_M1)**4 - 5*H_k2*gamma*sin(theta_M1)**2 + H_k2*gamma - alpha*lambda,                                                                                                                                     lambda*sin(theta_M1),                                                                                                                                                                            -H2_k*gamma*cos(theta_M1 - theta_M2)/2 + H_k1*gamma*cos(theta_M1 - theta_M2)/2,                                                                                                                                                        0],\n",
       "[                                                                                                                                                                                                                                                        0,                                                                      H2_k*gamma*sin(theta_M1)*sin(theta_M2)/2 - H_k1*gamma*sin(theta_M1)*sin(theta_M2)/2,                                                                                                                                                                                                                                      lambda*sin(theta_M2), H*gamma*sin(theta_H)*sin(theta_M2) - H2_k*gamma*sin(theta_M1)*sin(theta_M2)/2 + H_k1*gamma*sin(theta_M1)*sin(theta_M2)/2 + alpha*lambda*sin(theta_M2)**2],\n",
       "[                                                                                                                                                                           -H2_k*gamma*cos(theta_M1 - theta_M2)/2 + H_k1*gamma*cos(theta_M1 - theta_M2)/2,                                                                                                                                                        0, -H*gamma*cos(theta_H - theta_M2) + H2_k*gamma*cos(theta_M1 - theta_M2)/2 + 2*H_k1*gamma*sin(theta_M2)**2 - H_k1*gamma*cos(theta_M1 - theta_M2)/2 - H_k1*gamma + 4*H_k2*gamma*sin(theta_M2)**4 - 5*H_k2*gamma*sin(theta_M2)**2 + H_k2*gamma - alpha*lambda,                                                                                                                                     lambda*sin(theta_M2)]])"
      ]
     },
     "execution_count": 66,
     "metadata": {},
     "output_type": "execute_result"
    }
   ],
   "source": [
    "sym.factor(sym.expand(sys_mat))"
   ]
  },
  {
   "cell_type": "code",
   "execution_count": 67,
   "id": "native-breath",
   "metadata": {},
   "outputs": [],
   "source": [
    "sys_det = sys_mat.det(method='berkowitz')\n",
    "sys_det_collected = sym.collect(sym.expand(sys_det), lamb)\n",
    "pows = []\n",
    "for i in range(5):\n",
    "    pows.append(sys_det_collected.coeff(lamb, i))"
   ]
  },
  {
   "cell_type": "code",
   "execution_count": 162,
   "id": "professional-scale",
   "metadata": {},
   "outputs": [],
   "source": [
    "p4 = sym.factor(pows[4]).subs({alpha**2: 0})"
   ]
  },
  {
   "cell_type": "code",
   "execution_count": 343,
   "id": "collect-execution",
   "metadata": {},
   "outputs": [],
   "source": [
    "#p4"
   ]
  },
  {
   "cell_type": "code",
   "execution_count": 294,
   "id": "athletic-intake",
   "metadata": {},
   "outputs": [],
   "source": [
    "p3 = sym.collect(sym.expand(pows[3]), gamma)\n",
    "p3 = sym.factor(sym.collect(p3, alpha)).subs({1+alpha**2: 1})\n",
    "p3 = sym.expand(sym.expand_trig(p3))\n",
    "p3 = sym.simplify(sym.factor(p3))"
   ]
  },
  {
   "cell_type": "code",
   "execution_count": 345,
   "id": "binary-scope",
   "metadata": {},
   "outputs": [],
   "source": [
    "#p3"
   ]
  },
  {
   "cell_type": "code",
   "execution_count": 177,
   "id": "applied-mailing",
   "metadata": {},
   "outputs": [],
   "source": [
    "p2 = sym.collect(sym.expand(pows[2]), gamma)\n",
    "p2 = sym.collect(p2, alpha).subs({alpha**2: 0})\n",
    "p2 = sym.expand(sym.expand_trig(p2))\n",
    "p2 = sym.simplify(sym.factor(p2))"
   ]
  },
  {
   "cell_type": "code",
   "execution_count": 347,
   "id": "australian-coast",
   "metadata": {},
   "outputs": [],
   "source": [
    "#p2"
   ]
  },
  {
   "cell_type": "code",
   "execution_count": 307,
   "id": "dramatic-sunrise",
   "metadata": {},
   "outputs": [],
   "source": [
    "p1 = sym.collect(sym.expand(pows[1]), gamma)\n",
    "p1 = sym.collect(p1, alpha)\n",
    "p1 = sym.expand(sym.expand_trig(p1))\n",
    "p1 = sym.factor(p1)"
   ]
  },
  {
   "cell_type": "code",
   "execution_count": 349,
   "id": "outstanding-plant",
   "metadata": {},
   "outputs": [],
   "source": [
    "#p1"
   ]
  },
  {
   "cell_type": "code",
   "execution_count": 175,
   "id": "guided-strand",
   "metadata": {},
   "outputs": [],
   "source": [
    "p0 = sym.collect(sym.expand(pows[0]), gamma)\n",
    "p0 = simplify(sym.factor(sym.expand_trig(p0)))"
   ]
  },
  {
   "cell_type": "code",
   "execution_count": 353,
   "id": "million-center",
   "metadata": {},
   "outputs": [],
   "source": [
    "#p0"
   ]
  },
  {
   "cell_type": "code",
   "execution_count": 272,
   "id": "radio-stevens",
   "metadata": {},
   "outputs": [],
   "source": [
    "p0_sym, p1_sym, p2_sym, p3_sym, p4_sym = symbols(\"p_0 p_1 p_2 p_3 p_4\", real=True)\n",
    "p_syms = [p0_sym, p1_sym, p2_sym, p3_sym, p4_sym]\n",
    "w_sym = symbols(\"w\", real=True)\n",
    "\n",
    "w_sol = sym.solve(p4_sym*(w_sym**4) - p2_sym*(w_sym**2) + p0_sym, w_sym)\n",
    "\n",
    "for i in range(4):\n",
    "    w_sol[i] = w_sol[i].subs({\n",
    "        p4_sym: p4,\n",
    "        p2_sym: p2,\n",
    "        p0_sym: p0\n",
    "    })"
   ]
  },
  {
   "cell_type": "code",
   "execution_count": 273,
   "id": "settled-fantasy",
   "metadata": {},
   "outputs": [
    {
     "data": {
      "text/latex": [
       "$\\displaystyle \\frac{\\sqrt{2} \\sqrt{\\frac{\\gamma^{2} \\left(8 H^{2} \\sin^{2}{\\left(\\theta_{H} \\right)} \\sin{\\left(\\theta_{M1} \\right)} \\sin{\\left(\\theta_{M2} \\right)} + 4 H^{2} \\sin{\\left(\\theta_{H} \\right)} \\sin{\\left(\\theta_{M1} + \\theta_{M2} \\right)} \\cos{\\left(\\theta_{H} \\right)} - 4 H H_{2 k} \\sin{\\left(\\theta_{H} \\right)} \\sin^{2}{\\left(\\theta_{M1} \\right)} \\sin{\\left(\\theta_{M2} \\right)} - 4 H H_{2 k} \\sin{\\left(\\theta_{H} \\right)} \\sin{\\left(\\theta_{M1} \\right)} \\sin^{2}{\\left(\\theta_{M2} \\right)} - 2 H H_{2 k} \\sin{\\left(\\theta_{M1} \\right)} \\sin{\\left(\\theta_{H} + \\theta_{M1} \\right)} \\cos{\\left(\\theta_{M2} \\right)} - 2 H H_{2 k} \\sin{\\left(\\theta_{M2} \\right)} \\sin{\\left(\\theta_{H} + \\theta_{M2} \\right)} \\cos{\\left(\\theta_{M1} \\right)} - 4 H H_{k1} \\sin{\\left(\\theta_{H} \\right)} \\sin^{2}{\\left(\\theta_{M1} \\right)} \\sin{\\left(\\theta_{M2} \\right)} - 4 H H_{k1} \\sin{\\left(\\theta_{H} \\right)} \\sin{\\left(\\theta_{M1} \\right)} \\sin^{2}{\\left(\\theta_{M2} \\right)} + 4 H H_{k1} \\sin{\\left(\\theta_{H} \\right)} \\sin{\\left(\\theta_{M1} \\right)} + 4 H H_{k1} \\sin{\\left(\\theta_{H} \\right)} \\sin{\\left(\\theta_{M2} \\right)} + 2 H H_{k1} \\sin{\\left(\\theta_{M1} \\right)} \\sin{\\left(\\theta_{H} + \\theta_{M1} \\right)} \\cos{\\left(\\theta_{M2} \\right)} + 2 H H_{k1} \\sin{\\left(\\theta_{M2} \\right)} \\sin{\\left(\\theta_{H} + \\theta_{M2} \\right)} \\cos{\\left(\\theta_{M1} \\right)} - 16 H H_{k2} \\sin{\\left(\\theta_{H} \\right)} \\sin^{4}{\\left(\\theta_{M1} \\right)} \\sin{\\left(\\theta_{M2} \\right)} + 20 H H_{k2} \\sin{\\left(\\theta_{H} \\right)} \\sin^{2}{\\left(\\theta_{M1} \\right)} \\sin{\\left(\\theta_{M2} \\right)} - 16 H H_{k2} \\sin{\\left(\\theta_{H} \\right)} \\sin{\\left(\\theta_{M1} \\right)} \\sin^{4}{\\left(\\theta_{M2} \\right)} + 20 H H_{k2} \\sin{\\left(\\theta_{H} \\right)} \\sin{\\left(\\theta_{M1} \\right)} \\sin^{2}{\\left(\\theta_{M2} \\right)} - 4 H H_{k2} \\sin{\\left(\\theta_{H} \\right)} \\sin{\\left(\\theta_{M1} \\right)} - 4 H H_{k2} \\sin{\\left(\\theta_{H} \\right)} \\sin{\\left(\\theta_{M2} \\right)} + H_{2 k}^{2} \\sin^{2}{\\left(\\theta_{M1} \\right)} \\cos{\\left(\\theta_{M1} - \\theta_{M2} \\right)} + 2 H_{2 k}^{2} \\sin{\\left(\\theta_{M1} \\right)} \\sin{\\left(\\theta_{M2} \\right)} \\cos{\\left(\\theta_{M1} - \\theta_{M2} \\right)} + H_{2 k}^{2} \\sin^{2}{\\left(\\theta_{M2} \\right)} \\cos{\\left(\\theta_{M1} - \\theta_{M2} \\right)} - 2 H_{2 k} H_{k1} \\sin^{2}{\\left(\\theta_{M1} \\right)} \\cos{\\left(\\theta_{M1} - \\theta_{M2} \\right)} - 2 H_{2 k} H_{k1} \\sin^{2}{\\left(\\theta_{M1} \\right)} - 4 H_{2 k} H_{k1} \\sin{\\left(\\theta_{M1} \\right)} \\sin{\\left(\\theta_{M2} \\right)} \\cos{\\left(\\theta_{M1} + \\theta_{M2} \\right)} - 2 H_{2 k} H_{k1} \\sin^{2}{\\left(\\theta_{M2} \\right)} \\cos{\\left(\\theta_{M1} - \\theta_{M2} \\right)} - 2 H_{2 k} H_{k1} \\sin^{2}{\\left(\\theta_{M2} \\right)} + 8 H_{2 k} H_{k2} \\sin^{4}{\\left(\\theta_{M1} \\right)} \\sin^{2}{\\left(\\theta_{M2} \\right)} + 8 H_{2 k} H_{k2} \\sin^{2}{\\left(\\theta_{M1} \\right)} \\sin^{4}{\\left(\\theta_{M2} \\right)} - 20 H_{2 k} H_{k2} \\sin^{2}{\\left(\\theta_{M1} \\right)} \\sin^{2}{\\left(\\theta_{M2} \\right)} + 2 H_{2 k} H_{k2} \\sin^{2}{\\left(\\theta_{M1} \\right)} + 2 H_{2 k} H_{k2} \\sin^{2}{\\left(\\theta_{M2} \\right)} - 6 H_{k1}^{2} \\sin^{2}{\\left(\\theta_{M1} \\right)} \\sin^{2}{\\left(\\theta_{M2} \\right)} + H_{k1}^{2} \\sin^{2}{\\left(\\theta_{M1} \\right)} \\cos{\\left(\\theta_{M1} - \\theta_{M2} \\right)} + 2 H_{k1}^{2} \\sin^{2}{\\left(\\theta_{M1} \\right)} + 2 H_{k1}^{2} \\sin{\\left(\\theta_{M1} \\right)} \\sin{\\left(\\theta_{M2} \\right)} \\cos{\\left(\\theta_{M1} \\right)} \\cos{\\left(\\theta_{M2} \\right)} + H_{k1}^{2} \\sin^{2}{\\left(\\theta_{M2} \\right)} \\cos{\\left(\\theta_{M1} - \\theta_{M2} \\right)} + 2 H_{k1}^{2} \\sin^{2}{\\left(\\theta_{M2} \\right)} - 8 H_{k1} H_{k2} \\sin^{4}{\\left(\\theta_{M1} \\right)} \\sin^{2}{\\left(\\theta_{M2} \\right)} - 8 H_{k1} H_{k2} \\sin^{2}{\\left(\\theta_{M1} \\right)} \\sin^{4}{\\left(\\theta_{M2} \\right)} + 20 H_{k1} H_{k2} \\sin^{2}{\\left(\\theta_{M1} \\right)} \\sin^{2}{\\left(\\theta_{M2} \\right)} - 2 H_{k1} H_{k2} \\sin^{2}{\\left(\\theta_{M1} \\right)} - 2 H_{k1} H_{k2} \\sin^{2}{\\left(\\theta_{M2} \\right)}\\right)}{4 \\sin{\\left(\\theta_{M1} \\right)} \\sin{\\left(\\theta_{M2} \\right)}} - \\frac{\\sqrt{H \\gamma^{4} \\left(2 H \\sin{\\left(\\theta_{H} \\right)} - H_{2 k} \\sin{\\left(\\theta_{M1} \\right)} - H_{2 k} \\sin{\\left(\\theta_{M2} \\right)} + H_{k1} \\sin{\\left(\\theta_{M1} \\right)} + H_{k1} \\sin{\\left(\\theta_{M2} \\right)}\\right) \\left(- 2 H^{2} \\sin{\\left(\\theta_{H} \\right)} \\sin{\\left(- \\theta_{H} + \\theta_{M1} + \\theta_{M2} \\right)} - 2 H^{2} \\cos{\\left(\\theta_{M1} \\right)} \\cos{\\left(\\theta_{M2} \\right)} + H H_{2 k} \\sin{\\left(\\theta_{M1} \\right)} \\sin{\\left(\\theta_{H} - \\theta_{M1} + \\theta_{M2} \\right)} + H H_{2 k} \\sin{\\left(\\theta_{M2} \\right)} \\sin{\\left(\\theta_{H} + \\theta_{M1} - \\theta_{M2} \\right)} + H H_{2 k} \\cos{\\left(\\theta_{H} \\right)} \\cos{\\left(\\theta_{M1} \\right)} + H H_{2 k} \\cos{\\left(\\theta_{H} \\right)} \\cos{\\left(\\theta_{M2} \\right)} + 3 H H_{k1} \\sin{\\left(\\theta_{H} \\right)} \\sin^{2}{\\left(\\theta_{M1} \\right)} \\sin{\\left(\\theta_{M2} \\right)} + 3 H H_{k1} \\sin{\\left(\\theta_{H} \\right)} \\sin{\\left(\\theta_{M1} \\right)} \\sin^{2}{\\left(\\theta_{M2} \\right)} - 2 H H_{k1} \\sin{\\left(\\theta_{H} \\right)} \\sin{\\left(\\theta_{M1} \\right)} - 2 H H_{k1} \\sin{\\left(\\theta_{H} \\right)} \\sin{\\left(\\theta_{M2} \\right)} + 5 H H_{k1} \\sin^{2}{\\left(\\theta_{M1} \\right)} \\cos{\\left(\\theta_{H} \\right)} \\cos{\\left(\\theta_{M2} \\right)} - H H_{k1} \\sin{\\left(\\theta_{M1} \\right)} \\sin{\\left(\\theta_{H} + \\theta_{M2} \\right)} \\cos{\\left(\\theta_{M1} \\right)} + 5 H H_{k1} \\sin^{2}{\\left(\\theta_{M2} \\right)} \\cos{\\left(\\theta_{H} \\right)} \\cos{\\left(\\theta_{M1} \\right)} - H H_{k1} \\sin{\\left(\\theta_{M2} \\right)} \\sin{\\left(\\theta_{H} + \\theta_{M1} \\right)} \\cos{\\left(\\theta_{M2} \\right)} - 3 H H_{k1} \\cos{\\left(\\theta_{H} \\right)} \\cos{\\left(\\theta_{M1} \\right)} - 3 H H_{k1} \\cos{\\left(\\theta_{H} \\right)} \\cos{\\left(\\theta_{M2} \\right)} + 8 H H_{k2} \\sin^{4}{\\left(\\theta_{M1} \\right)} \\cos{\\left(\\theta_{H} - \\theta_{M2} \\right)} - 10 H H_{k2} \\sin^{2}{\\left(\\theta_{M1} \\right)} \\cos{\\left(\\theta_{H} - \\theta_{M2} \\right)} + 8 H H_{k2} \\sin^{4}{\\left(\\theta_{M2} \\right)} \\cos{\\left(\\theta_{H} - \\theta_{M1} \\right)} - 10 H H_{k2} \\sin^{2}{\\left(\\theta_{M2} \\right)} \\cos{\\left(\\theta_{H} - \\theta_{M1} \\right)} + 2 H H_{k2} \\cos{\\left(\\theta_{H} - \\theta_{M1} \\right)} + 2 H H_{k2} \\cos{\\left(\\theta_{H} - \\theta_{M2} \\right)} - 2 H_{2 k} H_{k1} \\sin^{2}{\\left(\\theta_{M1} \\right)} \\cos{\\left(\\theta_{M1} - \\theta_{M2} \\right)} - 2 H_{2 k} H_{k1} \\sin^{2}{\\left(\\theta_{M2} \\right)} \\cos{\\left(\\theta_{M1} - \\theta_{M2} \\right)} + 2 H_{2 k} H_{k1} \\cos{\\left(\\theta_{M1} - \\theta_{M2} \\right)} - 4 H_{2 k} H_{k2} \\sin^{4}{\\left(\\theta_{M1} \\right)} \\cos{\\left(\\theta_{M1} - \\theta_{M2} \\right)} + 5 H_{2 k} H_{k2} \\sin^{2}{\\left(\\theta_{M1} \\right)} \\cos{\\left(\\theta_{M1} - \\theta_{M2} \\right)} - 4 H_{2 k} H_{k2} \\sin^{4}{\\left(\\theta_{M2} \\right)} \\cos{\\left(\\theta_{M1} - \\theta_{M2} \\right)} + 5 H_{2 k} H_{k2} \\sin^{2}{\\left(\\theta_{M2} \\right)} \\cos{\\left(\\theta_{M1} - \\theta_{M2} \\right)} - 2 H_{2 k} H_{k2} \\cos{\\left(\\theta_{M1} - \\theta_{M2} \\right)} - 8 H_{k1}^{2} \\sin^{2}{\\left(\\theta_{M1} \\right)} \\sin^{2}{\\left(\\theta_{M2} \\right)} + 2 H_{k1}^{2} \\sin^{2}{\\left(\\theta_{M1} \\right)} \\cos{\\left(\\theta_{M1} - \\theta_{M2} \\right)} + 4 H_{k1}^{2} \\sin^{2}{\\left(\\theta_{M1} \\right)} + 2 H_{k1}^{2} \\sin^{2}{\\left(\\theta_{M2} \\right)} \\cos{\\left(\\theta_{M1} - \\theta_{M2} \\right)} + 4 H_{k1}^{2} \\sin^{2}{\\left(\\theta_{M2} \\right)} - 2 H_{k1}^{2} \\cos{\\left(\\theta_{M1} - \\theta_{M2} \\right)} - 2 H_{k1}^{2} - 16 H_{k1} H_{k2} \\sin^{4}{\\left(\\theta_{M1} \\right)} \\sin^{2}{\\left(\\theta_{M2} \\right)} + 4 H_{k1} H_{k2} \\sin^{4}{\\left(\\theta_{M1} \\right)} \\cos{\\left(\\theta_{M1} - \\theta_{M2} \\right)} + 8 H_{k1} H_{k2} \\sin^{4}{\\left(\\theta_{M1} \\right)} - 16 H_{k1} H_{k2} \\sin^{2}{\\left(\\theta_{M1} \\right)} \\sin^{4}{\\left(\\theta_{M2} \\right)} + 40 H_{k1} H_{k2} \\sin^{2}{\\left(\\theta_{M1} \\right)} \\sin^{2}{\\left(\\theta_{M2} \\right)} - 5 H_{k1} H_{k2} \\sin^{2}{\\left(\\theta_{M1} \\right)} \\cos{\\left(\\theta_{M1} - \\theta_{M2} \\right)} - 14 H_{k1} H_{k2} \\sin^{2}{\\left(\\theta_{M1} \\right)} + 4 H_{k1} H_{k2} \\sin^{4}{\\left(\\theta_{M2} \\right)} \\cos{\\left(\\theta_{M1} - \\theta_{M2} \\right)} + 8 H_{k1} H_{k2} \\sin^{4}{\\left(\\theta_{M2} \\right)} - 5 H_{k1} H_{k2} \\sin^{2}{\\left(\\theta_{M2} \\right)} \\cos{\\left(\\theta_{M1} - \\theta_{M2} \\right)} - 14 H_{k1} H_{k2} \\sin^{2}{\\left(\\theta_{M2} \\right)} + 2 H_{k1} H_{k2} \\cos{\\left(\\theta_{M1} - \\theta_{M2} \\right)} + 4 H_{k1} H_{k2} - 32 H_{k2}^{2} \\sin^{4}{\\left(\\theta_{M1} \\right)} \\sin^{4}{\\left(\\theta_{M2} \\right)} + 40 H_{k2}^{2} \\sin^{4}{\\left(\\theta_{M1} \\right)} \\sin^{2}{\\left(\\theta_{M2} \\right)} - 8 H_{k2}^{2} \\sin^{4}{\\left(\\theta_{M1} \\right)} + 40 H_{k2}^{2} \\sin^{2}{\\left(\\theta_{M1} \\right)} \\sin^{4}{\\left(\\theta_{M2} \\right)} - 50 H_{k2}^{2} \\sin^{2}{\\left(\\theta_{M1} \\right)} \\sin^{2}{\\left(\\theta_{M2} \\right)} + 10 H_{k2}^{2} \\sin^{2}{\\left(\\theta_{M1} \\right)} - 8 H_{k2}^{2} \\sin^{4}{\\left(\\theta_{M2} \\right)} + 10 H_{k2}^{2} \\sin^{2}{\\left(\\theta_{M2} \\right)} - 2 H_{k2}^{2}\\right) \\sin{\\left(\\theta_{H} \\right)} \\sin^{3}{\\left(\\theta_{M1} \\right)} \\sin^{3}{\\left(\\theta_{M2} \\right)} + \\frac{\\gamma^{4} \\left(8 H^{2} \\sin^{2}{\\left(\\theta_{H} \\right)} \\sin{\\left(\\theta_{M1} \\right)} \\sin{\\left(\\theta_{M2} \\right)} + 4 H^{2} \\sin{\\left(\\theta_{H} \\right)} \\sin{\\left(\\theta_{M1} + \\theta_{M2} \\right)} \\cos{\\left(\\theta_{H} \\right)} - 4 H H_{2 k} \\sin{\\left(\\theta_{H} \\right)} \\sin^{2}{\\left(\\theta_{M1} \\right)} \\sin{\\left(\\theta_{M2} \\right)} - 4 H H_{2 k} \\sin{\\left(\\theta_{H} \\right)} \\sin{\\left(\\theta_{M1} \\right)} \\sin^{2}{\\left(\\theta_{M2} \\right)} - 2 H H_{2 k} \\sin{\\left(\\theta_{M1} \\right)} \\sin{\\left(\\theta_{H} + \\theta_{M1} \\right)} \\cos{\\left(\\theta_{M2} \\right)} - 2 H H_{2 k} \\sin{\\left(\\theta_{M2} \\right)} \\sin{\\left(\\theta_{H} + \\theta_{M2} \\right)} \\cos{\\left(\\theta_{M1} \\right)} - 4 H H_{k1} \\sin{\\left(\\theta_{H} \\right)} \\sin^{2}{\\left(\\theta_{M1} \\right)} \\sin{\\left(\\theta_{M2} \\right)} - 4 H H_{k1} \\sin{\\left(\\theta_{H} \\right)} \\sin{\\left(\\theta_{M1} \\right)} \\sin^{2}{\\left(\\theta_{M2} \\right)} + 4 H H_{k1} \\sin{\\left(\\theta_{H} \\right)} \\sin{\\left(\\theta_{M1} \\right)} + 4 H H_{k1} \\sin{\\left(\\theta_{H} \\right)} \\sin{\\left(\\theta_{M2} \\right)} + 2 H H_{k1} \\sin{\\left(\\theta_{M1} \\right)} \\sin{\\left(\\theta_{H} + \\theta_{M1} \\right)} \\cos{\\left(\\theta_{M2} \\right)} + 2 H H_{k1} \\sin{\\left(\\theta_{M2} \\right)} \\sin{\\left(\\theta_{H} + \\theta_{M2} \\right)} \\cos{\\left(\\theta_{M1} \\right)} - 16 H H_{k2} \\sin{\\left(\\theta_{H} \\right)} \\sin^{4}{\\left(\\theta_{M1} \\right)} \\sin{\\left(\\theta_{M2} \\right)} + 20 H H_{k2} \\sin{\\left(\\theta_{H} \\right)} \\sin^{2}{\\left(\\theta_{M1} \\right)} \\sin{\\left(\\theta_{M2} \\right)} - 16 H H_{k2} \\sin{\\left(\\theta_{H} \\right)} \\sin{\\left(\\theta_{M1} \\right)} \\sin^{4}{\\left(\\theta_{M2} \\right)} + 20 H H_{k2} \\sin{\\left(\\theta_{H} \\right)} \\sin{\\left(\\theta_{M1} \\right)} \\sin^{2}{\\left(\\theta_{M2} \\right)} - 4 H H_{k2} \\sin{\\left(\\theta_{H} \\right)} \\sin{\\left(\\theta_{M1} \\right)} - 4 H H_{k2} \\sin{\\left(\\theta_{H} \\right)} \\sin{\\left(\\theta_{M2} \\right)} + H_{2 k}^{2} \\sin^{2}{\\left(\\theta_{M1} \\right)} \\cos{\\left(\\theta_{M1} - \\theta_{M2} \\right)} + 2 H_{2 k}^{2} \\sin{\\left(\\theta_{M1} \\right)} \\sin{\\left(\\theta_{M2} \\right)} \\cos{\\left(\\theta_{M1} - \\theta_{M2} \\right)} + H_{2 k}^{2} \\sin^{2}{\\left(\\theta_{M2} \\right)} \\cos{\\left(\\theta_{M1} - \\theta_{M2} \\right)} - 2 H_{2 k} H_{k1} \\sin^{2}{\\left(\\theta_{M1} \\right)} \\cos{\\left(\\theta_{M1} - \\theta_{M2} \\right)} - 2 H_{2 k} H_{k1} \\sin^{2}{\\left(\\theta_{M1} \\right)} - 4 H_{2 k} H_{k1} \\sin{\\left(\\theta_{M1} \\right)} \\sin{\\left(\\theta_{M2} \\right)} \\cos{\\left(\\theta_{M1} + \\theta_{M2} \\right)} - 2 H_{2 k} H_{k1} \\sin^{2}{\\left(\\theta_{M2} \\right)} \\cos{\\left(\\theta_{M1} - \\theta_{M2} \\right)} - 2 H_{2 k} H_{k1} \\sin^{2}{\\left(\\theta_{M2} \\right)} + 8 H_{2 k} H_{k2} \\sin^{4}{\\left(\\theta_{M1} \\right)} \\sin^{2}{\\left(\\theta_{M2} \\right)} + 8 H_{2 k} H_{k2} \\sin^{2}{\\left(\\theta_{M1} \\right)} \\sin^{4}{\\left(\\theta_{M2} \\right)} - 20 H_{2 k} H_{k2} \\sin^{2}{\\left(\\theta_{M1} \\right)} \\sin^{2}{\\left(\\theta_{M2} \\right)} + 2 H_{2 k} H_{k2} \\sin^{2}{\\left(\\theta_{M1} \\right)} + 2 H_{2 k} H_{k2} \\sin^{2}{\\left(\\theta_{M2} \\right)} - 6 H_{k1}^{2} \\sin^{2}{\\left(\\theta_{M1} \\right)} \\sin^{2}{\\left(\\theta_{M2} \\right)} + H_{k1}^{2} \\sin^{2}{\\left(\\theta_{M1} \\right)} \\cos{\\left(\\theta_{M1} - \\theta_{M2} \\right)} + 2 H_{k1}^{2} \\sin^{2}{\\left(\\theta_{M1} \\right)} + 2 H_{k1}^{2} \\sin{\\left(\\theta_{M1} \\right)} \\sin{\\left(\\theta_{M2} \\right)} \\cos{\\left(\\theta_{M1} \\right)} \\cos{\\left(\\theta_{M2} \\right)} + H_{k1}^{2} \\sin^{2}{\\left(\\theta_{M2} \\right)} \\cos{\\left(\\theta_{M1} - \\theta_{M2} \\right)} + 2 H_{k1}^{2} \\sin^{2}{\\left(\\theta_{M2} \\right)} - 8 H_{k1} H_{k2} \\sin^{4}{\\left(\\theta_{M1} \\right)} \\sin^{2}{\\left(\\theta_{M2} \\right)} - 8 H_{k1} H_{k2} \\sin^{2}{\\left(\\theta_{M1} \\right)} \\sin^{4}{\\left(\\theta_{M2} \\right)} + 20 H_{k1} H_{k2} \\sin^{2}{\\left(\\theta_{M1} \\right)} \\sin^{2}{\\left(\\theta_{M2} \\right)} - 2 H_{k1} H_{k2} \\sin^{2}{\\left(\\theta_{M1} \\right)} - 2 H_{k1} H_{k2} \\sin^{2}{\\left(\\theta_{M2} \\right)}\\right)^{2} \\sin^{2}{\\left(\\theta_{M1} \\right)} \\sin^{2}{\\left(\\theta_{M2} \\right)}}{16}}}{\\sin^{2}{\\left(\\theta_{M1} \\right)} \\sin^{2}{\\left(\\theta_{M2} \\right)}}}}{2}$"
      ],
      "text/plain": [
       "sqrt(2)*sqrt(gamma**2*(8*H**2*sin(theta_H)**2*sin(theta_M1)*sin(theta_M2) + 4*H**2*sin(theta_H)*sin(theta_M1 + theta_M2)*cos(theta_H) - 4*H*H2_k*sin(theta_H)*sin(theta_M1)**2*sin(theta_M2) - 4*H*H2_k*sin(theta_H)*sin(theta_M1)*sin(theta_M2)**2 - 2*H*H2_k*sin(theta_M1)*sin(theta_H + theta_M1)*cos(theta_M2) - 2*H*H2_k*sin(theta_M2)*sin(theta_H + theta_M2)*cos(theta_M1) - 4*H*H_k1*sin(theta_H)*sin(theta_M1)**2*sin(theta_M2) - 4*H*H_k1*sin(theta_H)*sin(theta_M1)*sin(theta_M2)**2 + 4*H*H_k1*sin(theta_H)*sin(theta_M1) + 4*H*H_k1*sin(theta_H)*sin(theta_M2) + 2*H*H_k1*sin(theta_M1)*sin(theta_H + theta_M1)*cos(theta_M2) + 2*H*H_k1*sin(theta_M2)*sin(theta_H + theta_M2)*cos(theta_M1) - 16*H*H_k2*sin(theta_H)*sin(theta_M1)**4*sin(theta_M2) + 20*H*H_k2*sin(theta_H)*sin(theta_M1)**2*sin(theta_M2) - 16*H*H_k2*sin(theta_H)*sin(theta_M1)*sin(theta_M2)**4 + 20*H*H_k2*sin(theta_H)*sin(theta_M1)*sin(theta_M2)**2 - 4*H*H_k2*sin(theta_H)*sin(theta_M1) - 4*H*H_k2*sin(theta_H)*sin(theta_M2) + H2_k**2*sin(theta_M1)**2*cos(theta_M1 - theta_M2) + 2*H2_k**2*sin(theta_M1)*sin(theta_M2)*cos(theta_M1 - theta_M2) + H2_k**2*sin(theta_M2)**2*cos(theta_M1 - theta_M2) - 2*H2_k*H_k1*sin(theta_M1)**2*cos(theta_M1 - theta_M2) - 2*H2_k*H_k1*sin(theta_M1)**2 - 4*H2_k*H_k1*sin(theta_M1)*sin(theta_M2)*cos(theta_M1 + theta_M2) - 2*H2_k*H_k1*sin(theta_M2)**2*cos(theta_M1 - theta_M2) - 2*H2_k*H_k1*sin(theta_M2)**2 + 8*H2_k*H_k2*sin(theta_M1)**4*sin(theta_M2)**2 + 8*H2_k*H_k2*sin(theta_M1)**2*sin(theta_M2)**4 - 20*H2_k*H_k2*sin(theta_M1)**2*sin(theta_M2)**2 + 2*H2_k*H_k2*sin(theta_M1)**2 + 2*H2_k*H_k2*sin(theta_M2)**2 - 6*H_k1**2*sin(theta_M1)**2*sin(theta_M2)**2 + H_k1**2*sin(theta_M1)**2*cos(theta_M1 - theta_M2) + 2*H_k1**2*sin(theta_M1)**2 + 2*H_k1**2*sin(theta_M1)*sin(theta_M2)*cos(theta_M1)*cos(theta_M2) + H_k1**2*sin(theta_M2)**2*cos(theta_M1 - theta_M2) + 2*H_k1**2*sin(theta_M2)**2 - 8*H_k1*H_k2*sin(theta_M1)**4*sin(theta_M2)**2 - 8*H_k1*H_k2*sin(theta_M1)**2*sin(theta_M2)**4 + 20*H_k1*H_k2*sin(theta_M1)**2*sin(theta_M2)**2 - 2*H_k1*H_k2*sin(theta_M1)**2 - 2*H_k1*H_k2*sin(theta_M2)**2)/(4*sin(theta_M1)*sin(theta_M2)) - sqrt(H*gamma**4*(2*H*sin(theta_H) - H2_k*sin(theta_M1) - H2_k*sin(theta_M2) + H_k1*sin(theta_M1) + H_k1*sin(theta_M2))*(-2*H**2*sin(theta_H)*sin(-theta_H + theta_M1 + theta_M2) - 2*H**2*cos(theta_M1)*cos(theta_M2) + H*H2_k*sin(theta_M1)*sin(theta_H - theta_M1 + theta_M2) + H*H2_k*sin(theta_M2)*sin(theta_H + theta_M1 - theta_M2) + H*H2_k*cos(theta_H)*cos(theta_M1) + H*H2_k*cos(theta_H)*cos(theta_M2) + 3*H*H_k1*sin(theta_H)*sin(theta_M1)**2*sin(theta_M2) + 3*H*H_k1*sin(theta_H)*sin(theta_M1)*sin(theta_M2)**2 - 2*H*H_k1*sin(theta_H)*sin(theta_M1) - 2*H*H_k1*sin(theta_H)*sin(theta_M2) + 5*H*H_k1*sin(theta_M1)**2*cos(theta_H)*cos(theta_M2) - H*H_k1*sin(theta_M1)*sin(theta_H + theta_M2)*cos(theta_M1) + 5*H*H_k1*sin(theta_M2)**2*cos(theta_H)*cos(theta_M1) - H*H_k1*sin(theta_M2)*sin(theta_H + theta_M1)*cos(theta_M2) - 3*H*H_k1*cos(theta_H)*cos(theta_M1) - 3*H*H_k1*cos(theta_H)*cos(theta_M2) + 8*H*H_k2*sin(theta_M1)**4*cos(theta_H - theta_M2) - 10*H*H_k2*sin(theta_M1)**2*cos(theta_H - theta_M2) + 8*H*H_k2*sin(theta_M2)**4*cos(theta_H - theta_M1) - 10*H*H_k2*sin(theta_M2)**2*cos(theta_H - theta_M1) + 2*H*H_k2*cos(theta_H - theta_M1) + 2*H*H_k2*cos(theta_H - theta_M2) - 2*H2_k*H_k1*sin(theta_M1)**2*cos(theta_M1 - theta_M2) - 2*H2_k*H_k1*sin(theta_M2)**2*cos(theta_M1 - theta_M2) + 2*H2_k*H_k1*cos(theta_M1 - theta_M2) - 4*H2_k*H_k2*sin(theta_M1)**4*cos(theta_M1 - theta_M2) + 5*H2_k*H_k2*sin(theta_M1)**2*cos(theta_M1 - theta_M2) - 4*H2_k*H_k2*sin(theta_M2)**4*cos(theta_M1 - theta_M2) + 5*H2_k*H_k2*sin(theta_M2)**2*cos(theta_M1 - theta_M2) - 2*H2_k*H_k2*cos(theta_M1 - theta_M2) - 8*H_k1**2*sin(theta_M1)**2*sin(theta_M2)**2 + 2*H_k1**2*sin(theta_M1)**2*cos(theta_M1 - theta_M2) + 4*H_k1**2*sin(theta_M1)**2 + 2*H_k1**2*sin(theta_M2)**2*cos(theta_M1 - theta_M2) + 4*H_k1**2*sin(theta_M2)**2 - 2*H_k1**2*cos(theta_M1 - theta_M2) - 2*H_k1**2 - 16*H_k1*H_k2*sin(theta_M1)**4*sin(theta_M2)**2 + 4*H_k1*H_k2*sin(theta_M1)**4*cos(theta_M1 - theta_M2) + 8*H_k1*H_k2*sin(theta_M1)**4 - 16*H_k1*H_k2*sin(theta_M1)**2*sin(theta_M2)**4 + 40*H_k1*H_k2*sin(theta_M1)**2*sin(theta_M2)**2 - 5*H_k1*H_k2*sin(theta_M1)**2*cos(theta_M1 - theta_M2) - 14*H_k1*H_k2*sin(theta_M1)**2 + 4*H_k1*H_k2*sin(theta_M2)**4*cos(theta_M1 - theta_M2) + 8*H_k1*H_k2*sin(theta_M2)**4 - 5*H_k1*H_k2*sin(theta_M2)**2*cos(theta_M1 - theta_M2) - 14*H_k1*H_k2*sin(theta_M2)**2 + 2*H_k1*H_k2*cos(theta_M1 - theta_M2) + 4*H_k1*H_k2 - 32*H_k2**2*sin(theta_M1)**4*sin(theta_M2)**4 + 40*H_k2**2*sin(theta_M1)**4*sin(theta_M2)**2 - 8*H_k2**2*sin(theta_M1)**4 + 40*H_k2**2*sin(theta_M1)**2*sin(theta_M2)**4 - 50*H_k2**2*sin(theta_M1)**2*sin(theta_M2)**2 + 10*H_k2**2*sin(theta_M1)**2 - 8*H_k2**2*sin(theta_M2)**4 + 10*H_k2**2*sin(theta_M2)**2 - 2*H_k2**2)*sin(theta_H)*sin(theta_M1)**3*sin(theta_M2)**3 + gamma**4*(8*H**2*sin(theta_H)**2*sin(theta_M1)*sin(theta_M2) + 4*H**2*sin(theta_H)*sin(theta_M1 + theta_M2)*cos(theta_H) - 4*H*H2_k*sin(theta_H)*sin(theta_M1)**2*sin(theta_M2) - 4*H*H2_k*sin(theta_H)*sin(theta_M1)*sin(theta_M2)**2 - 2*H*H2_k*sin(theta_M1)*sin(theta_H + theta_M1)*cos(theta_M2) - 2*H*H2_k*sin(theta_M2)*sin(theta_H + theta_M2)*cos(theta_M1) - 4*H*H_k1*sin(theta_H)*sin(theta_M1)**2*sin(theta_M2) - 4*H*H_k1*sin(theta_H)*sin(theta_M1)*sin(theta_M2)**2 + 4*H*H_k1*sin(theta_H)*sin(theta_M1) + 4*H*H_k1*sin(theta_H)*sin(theta_M2) + 2*H*H_k1*sin(theta_M1)*sin(theta_H + theta_M1)*cos(theta_M2) + 2*H*H_k1*sin(theta_M2)*sin(theta_H + theta_M2)*cos(theta_M1) - 16*H*H_k2*sin(theta_H)*sin(theta_M1)**4*sin(theta_M2) + 20*H*H_k2*sin(theta_H)*sin(theta_M1)**2*sin(theta_M2) - 16*H*H_k2*sin(theta_H)*sin(theta_M1)*sin(theta_M2)**4 + 20*H*H_k2*sin(theta_H)*sin(theta_M1)*sin(theta_M2)**2 - 4*H*H_k2*sin(theta_H)*sin(theta_M1) - 4*H*H_k2*sin(theta_H)*sin(theta_M2) + H2_k**2*sin(theta_M1)**2*cos(theta_M1 - theta_M2) + 2*H2_k**2*sin(theta_M1)*sin(theta_M2)*cos(theta_M1 - theta_M2) + H2_k**2*sin(theta_M2)**2*cos(theta_M1 - theta_M2) - 2*H2_k*H_k1*sin(theta_M1)**2*cos(theta_M1 - theta_M2) - 2*H2_k*H_k1*sin(theta_M1)**2 - 4*H2_k*H_k1*sin(theta_M1)*sin(theta_M2)*cos(theta_M1 + theta_M2) - 2*H2_k*H_k1*sin(theta_M2)**2*cos(theta_M1 - theta_M2) - 2*H2_k*H_k1*sin(theta_M2)**2 + 8*H2_k*H_k2*sin(theta_M1)**4*sin(theta_M2)**2 + 8*H2_k*H_k2*sin(theta_M1)**2*sin(theta_M2)**4 - 20*H2_k*H_k2*sin(theta_M1)**2*sin(theta_M2)**2 + 2*H2_k*H_k2*sin(theta_M1)**2 + 2*H2_k*H_k2*sin(theta_M2)**2 - 6*H_k1**2*sin(theta_M1)**2*sin(theta_M2)**2 + H_k1**2*sin(theta_M1)**2*cos(theta_M1 - theta_M2) + 2*H_k1**2*sin(theta_M1)**2 + 2*H_k1**2*sin(theta_M1)*sin(theta_M2)*cos(theta_M1)*cos(theta_M2) + H_k1**2*sin(theta_M2)**2*cos(theta_M1 - theta_M2) + 2*H_k1**2*sin(theta_M2)**2 - 8*H_k1*H_k2*sin(theta_M1)**4*sin(theta_M2)**2 - 8*H_k1*H_k2*sin(theta_M1)**2*sin(theta_M2)**4 + 20*H_k1*H_k2*sin(theta_M1)**2*sin(theta_M2)**2 - 2*H_k1*H_k2*sin(theta_M1)**2 - 2*H_k1*H_k2*sin(theta_M2)**2)**2*sin(theta_M1)**2*sin(theta_M2)**2/16)/(sin(theta_M1)**2*sin(theta_M2)**2))/2"
      ]
     },
     "execution_count": 273,
     "metadata": {},
     "output_type": "execute_result"
    }
   ],
   "source": [
    "w_sol[1]"
   ]
  },
  {
   "cell_type": "code",
   "execution_count": 277,
   "id": "moving-trust",
   "metadata": {},
   "outputs": [],
   "source": [
    "varset = (\n",
    "    H, Htet,\n",
    "    Ms, Mtet[0], Mtet[1],\n",
    "    Hk1, Hk2, H2k,\n",
    "    t,\n",
    "    gamma\n",
    ")\n",
    "\n",
    "f_sol_lamb = []\n",
    "for eq in w_sol:\n",
    "    f_sol_lamb.append(sym.lambdify(varset, eq/(2*sym.pi), 'numpy'))"
   ]
  },
  {
   "cell_type": "code",
   "execution_count": 278,
   "id": "industrial-cattle",
   "metadata": {},
   "outputs": [],
   "source": [
    "class LinearDoubleResults:\n",
    "    def __init__(self, film_inst):\n",
    "        Htet = np.deg2rad(63.)\n",
    "        Habses = np.linspace(1e3, 6e3, 100)\n",
    "        self.Hax = Habses\n",
    "        \n",
    "        self.res_freq = []\n",
    "        \n",
    "        for f_lamb in (f_sol_lamb[1],):\n",
    "            res_freq_tmp = []\n",
    "            for Habs in Habses:\n",
    "                Hext = pol2cart(Habs, Htet, 0.)\n",
    "                \n",
    "                angles = st_state.get_angles_optimize(\n",
    "                    film_inst,\n",
    "                    Hext,\n",
    "                    tol=1e-8\n",
    "                )\n",
    "                \n",
    "                res_freq_tmp.append(\n",
    "                    f_lamb(\n",
    "                        Habs, Htet,\n",
    "                        film_inst.l1.st.Ms, angles[0], angles[2],\n",
    "                        H1k1_hyst, H1k2_hyst, H2k_hyst,\n",
    "                        film_inst.l1.st.t,\n",
    "                        film_inst.l1.st.gamma\n",
    "                    )\n",
    "                )\n",
    "            self.res_freq.append(res_freq_tmp)\n",
    "            \n",
    "        \n",
    "results_double = LinearDoubleResults(film_inst_double)"
   ]
  },
  {
   "cell_type": "code",
   "execution_count": 279,
   "id": "intellectual-decrease",
   "metadata": {},
   "outputs": [
    {
     "data": {
      "text/plain": [
       "[<matplotlib.lines.Line2D at 0x20b2a9faca0>]"
      ]
     },
     "execution_count": 279,
     "metadata": {},
     "output_type": "execute_result"
    },
    {
     "data": {
      "image/png": "[encoded data removed]",
      "text/plain": [
       "<Figure size 432x288 with 1 Axes>"
      ]
     },
     "metadata": {
      "needs_background": "light"
     },
     "output_type": "display_data"
    }
   ],
   "source": [
    "plt.plot(results_double.Hax, np.array(results_double.res_freq[0])*1e-9)\n",
    "#results_double.res_freq[0]"
   ]
  },
  {
   "cell_type": "code",
   "execution_count": 193,
   "id": "joint-satellite",
   "metadata": {},
   "outputs": [],
   "source": [
    "beta_sym = symbols('beta', real=True)"
   ]
  },
  {
   "cell_type": "code",
   "execution_count": 205,
   "id": "prerequisite-consumer",
   "metadata": {},
   "outputs": [
    {
     "data": {
      "text/plain": [
       "0"
      ]
     },
     "metadata": {},
     "output_type": "display_data"
    },
    {
     "data": {
      "text/latex": [
       "$\\displaystyle 1$"
      ],
      "text/plain": [
       "1"
      ]
     },
     "metadata": {},
     "output_type": "display_data"
    },
    {
     "data": {
      "text/latex": [
       "$\\displaystyle - 2 \\beta$"
      ],
      "text/plain": [
       "-2*beta"
      ]
     },
     "metadata": {},
     "output_type": "display_data"
    },
    {
     "data": {
      "text/latex": [
       "$\\displaystyle 3 \\beta^{2} - w^{2}$"
      ],
      "text/plain": [
       "3*beta**2 - w**2"
      ]
     },
     "metadata": {},
     "output_type": "display_data"
    },
    {
     "data": {
      "text/latex": [
       "$\\displaystyle - 4 \\beta^{3} + 4 \\beta w^{2}$"
      ],
      "text/plain": [
       "-4*beta**3 + 4*beta*w**2"
      ]
     },
     "metadata": {},
     "output_type": "display_data"
    }
   ],
   "source": [
    "lamb_im = []\n",
    "lamb_im.append(0)\n",
    "\n",
    "for i in range(1, 5):\n",
    "    tmp = sym.expand((sym.I*w_sym-beta_sym)**i)\n",
    "    lamb_im.append(sym.cancel(sym.im(tmp)/w_sym))\n",
    "\n",
    "for im in lamb_im:\n",
    "    display(im)"
   ]
  },
  {
   "cell_type": "code",
   "execution_count": 329,
   "id": "hazardous-museum",
   "metadata": {},
   "outputs": [
    {
     "data": {
      "text/latex": [
       "$\\displaystyle - 4 \\beta^{3} p_{4} + 3 \\beta^{2} p_{3} + \\beta \\left(- 2 p_{2} + 4 p_{4} w^{2}\\right) + p_{1} - p_{3} w^{2}$"
      ],
      "text/plain": [
       "-4*beta**3*p_4 + 3*beta**2*p_3 + beta*(-2*p_2 + 4*p_4*w**2) + p_1 - p_3*w**2"
      ]
     },
     "execution_count": 329,
     "metadata": {},
     "output_type": "execute_result"
    }
   ],
   "source": [
    "eq = sym.Rational(0, 1)\n",
    "for i in range(5):\n",
    "    eq+=lamb_im[i]*p_syms[i]\n",
    "\n",
    "eq = sym.collect(sym.expand(eq), beta_sym)\n",
    "eq"
   ]
  },
  {
   "cell_type": "code",
   "execution_count": 330,
   "id": "smoking-omaha",
   "metadata": {},
   "outputs": [],
   "source": [
    "b_sol = sym.solve(eq, beta_sym)"
   ]
  },
  {
   "cell_type": "code",
   "execution_count": 331,
   "id": "fitting-outreach",
   "metadata": {},
   "outputs": [],
   "source": [
    "for i in range(len(b_sol)):\n",
    "    b_sol[i] = b_sol[i].subs({\n",
    "        p4_sym: p4,\n",
    "        p3_sym: p3,\n",
    "        p2_sym: p2,\n",
    "        p1_sym: p1,\n",
    "        p0_sym: p0\n",
    "    })"
   ]
  },
  {
   "cell_type": "code",
   "execution_count": 332,
   "id": "backed-correction",
   "metadata": {},
   "outputs": [],
   "source": [
    "varset = (\n",
    "    H, Htet,\n",
    "    Ms, Mtet[0], Mtet[1],\n",
    "    Hk1, Hk2, H2k,\n",
    "    t,\n",
    "    gamma, alpha, w_sym\n",
    ")\n",
    "\n",
    "b_sol_lamb = []\n",
    "for eq in b_sol:\n",
    "    b_sol_lamb.append(sym.lambdify(varset, eq, 'numpy'))"
   ]
  },
  {
   "cell_type": "code",
   "execution_count": 333,
   "id": "proud-electron",
   "metadata": {},
   "outputs": [],
   "source": [
    "class BetaResults:\n",
    "    def __init__(self, film_inst):\n",
    "        Htet = np.deg2rad(63.)\n",
    "        Habses = np.linspace(1e3, 6e3, 100)\n",
    "        self.Hax = Habses\n",
    "        \n",
    "        self.res_beta = []\n",
    "        \n",
    "        for b_lamb in (b_sol_lamb):\n",
    "            res_beta_tmp = []\n",
    "            for Habs in Habses:\n",
    "                Hext = pol2cart(Habs, Htet, 0.)\n",
    "                \n",
    "                angles = st_state.get_angles_optimize(\n",
    "                    film_inst,\n",
    "                    Hext,\n",
    "                    tol=1e-8\n",
    "                )\n",
    "                \n",
    "                cur_freq = f_sol_lamb[1](\n",
    "                    Habs, Htet,\n",
    "                    film_inst.l1.st.Ms, angles[0], angles[2],\n",
    "                    H1k1_hyst, H1k2_hyst, H2k_hyst,\n",
    "                    film_inst.l1.st.t,\n",
    "                    film_inst.l1.st.gamma\n",
    "                )\n",
    "                \n",
    "                res_beta_tmp.append(\n",
    "                    b_lamb(\n",
    "                        Habs, Htet,\n",
    "                        film_inst.l1.st.Ms, angles[0], angles[2],\n",
    "                        H1k1_hyst, H1k2_hyst, H2k_hyst,\n",
    "                        film_inst.l1.st.t,\n",
    "                        film_inst.l1.st.gamma,\n",
    "                        film_inst.l1.st.alpha,\n",
    "                        2*np.pi*cur_freq\n",
    "                    )\n",
    "                )\n",
    "            self.res_beta.append(res_beta_tmp)\n",
    "            \n",
    "        \n",
    "results_beta = BetaResults(film_inst_double)"
   ]
  },
  {
   "cell_type": "code",
   "execution_count": 359,
   "id": "suitable-edwards",
   "metadata": {},
   "outputs": [
    {
     "data": {
      "text/plain": [
       "<matplotlib.legend.Legend at 0x20b2ba23a00>"
      ]
     },
     "execution_count": 359,
     "metadata": {},
     "output_type": "execute_result"
    },
    {
     "data": {
      "image/png": "[encoded data removed]",
      "text/plain": [
       "<Figure size 432x288 with 1 Axes>"
      ]
     },
     "metadata": {
      "needs_background": "light"
     },
     "output_type": "display_data"
    }
   ],
   "source": [
    "plt.plot(results_beta.Hax, 1e12/np.array(results_beta.res_beta[0]), label='линейный 2')\n",
    "#plt.plot(results_beta.Hax, 1e12/np.array(results_beta.res_beta[1]), label='линейный 2')# getting complex values\n",
    "#plt.plot(results_beta.Hax, 1e12/np.array(results_beta.res_beta[2]), label='линейный 2')# getting complex values\n",
    "plt.plot(H_xl * 1e3, tau_num_d, 'bo', label='числ. 2')\n",
    "plt.plot(H_xl * 1e3, tau_exp_d, 'bs', label='эксп. 2')\n",
    "plt.grid(True)\n",
    "plt.legend()\n",
    "#results_double.res_freq[0]"
   ]
  },
  {
   "cell_type": "code",
   "execution_count": 340,
   "id": "naval-digest",
   "metadata": {},
   "outputs": [],
   "source": [
    "H_xl = np.array([\n",
    "    1.5,\n",
    "    2.3,\n",
    "    3,\n",
    "    3.8,\n",
    "    4.6\n",
    "])\n",
    "\n",
    "\n",
    "tau_num_s = np.array([\n",
    "    109.8,\n",
    "    84.0,\n",
    "    76.6,\n",
    "    71.2,\n",
    "    64.9\n",
    "])\n",
    "\n",
    "tau_exp_s = np.array([\n",
    "    88,\n",
    "    77,\n",
    "    79,\n",
    "    85,\n",
    "    94\n",
    "])\n",
    "\n",
    "tau_num_d = np.array([\n",
    "    110.2,\n",
    "    89.7,\n",
    "    85.5,\n",
    "    87.1,\n",
    "    92.2\n",
    "])\n",
    "\n",
    "tau_exp_d = np.array([\n",
    "    100,\n",
    "    100,\n",
    "    91,\n",
    "    60,\n",
    "    63\n",
    "])"
   ]
  },
  {
   "cell_type": "code",
   "execution_count": 225,
   "id": "tracked-galaxy",
   "metadata": {},
   "outputs": [
    {
     "data": {
      "image/png": "[encoded data removed]",
      "text/plain": [
       "<Figure size 432x288 with 1 Axes>"
      ]
     },
     "metadata": {
      "needs_background": "light"
     },
     "output_type": "display_data"
    },
    {
     "data": {
      "text/plain": [
       "<sympy.plotting.plot.Plot at 0x20b2ea1be20>"
      ]
     },
     "execution_count": 225,
     "metadata": {},
     "output_type": "execute_result"
    }
   ],
   "source": [
    "x = symbols(\"x\", real = True)\n",
    "tmpf = p0_sym*x + p1_sym*x**2\n",
    "plot(tmpf.subs({\n",
    "    p0_sym: 0,\n",
    "    p1_sym: 1\n",
    "}))"
   ]
  }
 ],
 "metadata": {
  "kernelspec": {
   "display_name": "Python 3",
   "language": "python",
   "name": "python3"
  },
  "language_info": {
   "codemirror_mode": {
    "name": "ipython",
    "version": 3
   },
   "file_extension": ".py",
   "mimetype": "text/x-python",
   "name": "python",
   "nbconvert_exporter": "python",
   "pygments_lexer": "ipython3",
   "version": "3.8.5"
  }
 },
 "nbformat": 4,
 "nbformat_minor": 5
}
